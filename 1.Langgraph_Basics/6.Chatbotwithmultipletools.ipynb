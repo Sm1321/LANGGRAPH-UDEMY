{
 "cells": [
  {
   "cell_type": "markdown",
   "id": "31a328fc",
   "metadata": {},
   "source": [
    "### Building Chatbot with Multiple Tools using Langgraph\n",
    "\n",
    "\n",
    "### Aim:- \n",
    "Create a chabot with tool with capabilities from arxiv,wikipedia search and some functions"
   ]
  },
  {
   "cell_type": "code",
   "execution_count": 1,
   "id": "668df06b",
   "metadata": {},
   "outputs": [],
   "source": [
    "from langchain_community.tools import ArxivQueryRun,WikipediaQueryRun\n",
    "from langchain_community.utilities import WikipediaAPIWrapper,ArxivAPIWrapper "
   ]
  },
  {
   "cell_type": "code",
   "execution_count": 3,
   "id": "a56ea5fc",
   "metadata": {},
   "outputs": [
    {
     "name": "stdout",
     "output_type": "stream",
     "text": [
      "arxiv\n"
     ]
    }
   ],
   "source": [
    "api_wrapper_arxiv = ArxivAPIWrapper(top_k_results = 2, doc_content_chars_max = 500)\n",
    "arxiv = ArxivQueryRun(api_wrapper = api_wrapper_arxiv)\n",
    "print(arxiv.name)"
   ]
  },
  {
   "cell_type": "code",
   "execution_count": 4,
   "id": "e08f9250",
   "metadata": {},
   "outputs": [
    {
     "name": "stderr",
     "output_type": "stream",
     "text": [
      "C:\\Users\\Mohan\\AppData\\Local\\Temp\\ipykernel_16020\\2935370944.py:1: LangChainDeprecationWarning: The method `BaseTool.__call__` was deprecated in langchain-core 0.1.47 and will be removed in 1.0. Use :meth:`~invoke` instead.\n",
      "  arxiv(\"Attention is all you need\")\n"
     ]
    },
    {
     "data": {
      "text/plain": [
       "\"Published: 2024-07-22\\nTitle: Attention Is All You Need But You Don't Need All Of It For Inference of Large Language Models\\nAuthors: Georgy Tyukin, Gbetondji J-S Dovonon, Jean Kaddour, Pasquale Minervini\\nSummary: The inference demand for LLMs has skyrocketed in recent months, and serving\\nmodels with low latencies remains challenging due to the quadratic input length\\ncomplexity of the attention layers. In this work, we investigate the effect of\\ndropping MLP and attention layers at inference time o\""
      ]
     },
     "execution_count": 4,
     "metadata": {},
     "output_type": "execute_result"
    }
   ],
   "source": [
    "arxiv(\"Attention is all you need\")"
   ]
  },
  {
   "cell_type": "code",
   "execution_count": 5,
   "id": "28c0074f",
   "metadata": {},
   "outputs": [
    {
     "name": "stdout",
     "output_type": "stream",
     "text": [
      "wikipedia\n"
     ]
    }
   ],
   "source": [
    "api_wrapper_wiki = WikipediaAPIWrapper(top_k_results = 2, doc_content_chars_max = 500)\n",
    "wiki = WikipediaQueryRun(api_wrapper = api_wrapper_wiki)\n",
    "print(wiki.name)"
   ]
  },
  {
   "cell_type": "code",
   "execution_count": 6,
   "id": "e5bfbc35",
   "metadata": {},
   "outputs": [
    {
     "data": {
      "text/plain": [
       "'Page: Machine learning\\nSummary: Machine learning (ML) is a field of study in artificial intelligence concerned with the development and study of statistical algorithms that can learn from data and generalise to unseen data, and thus perform tasks without explicit instructions. Within a subdiscipline in machine learning, advances in the field of deep learning have allowed neural networks, a class of statistical algorithms, to surpass many previous machine learning approaches in performance.\\nML fi'"
      ]
     },
     "execution_count": 6,
     "metadata": {},
     "output_type": "execute_result"
    }
   ],
   "source": [
    "wiki.invoke(\"What us Machine Learning?\" )"
   ]
  },
  {
   "cell_type": "code",
   "execution_count": null,
   "id": "8f46e517",
   "metadata": {},
   "outputs": [],
   "source": [
    "from dotenv import load_dotenv\n",
    "load_dotenv()\n",
    "\n",
    "\n",
    "import os \n",
    "os.environ['TAVILY_API_KEY'] = os.getenv(\"TAVILY_API_KEY\")\n",
    "os.environ[\"GROQ_API_KEY\"] = os.getenv(\"GROQ_API_KEY\")"
   ]
  },
  {
   "cell_type": "code",
   "execution_count": 9,
   "id": "47db5bef",
   "metadata": {},
   "outputs": [],
   "source": [
    "### Tavily Search Tool\n",
    "from langchain_community.tools.tavily_search import TavilySearchResults\n",
    "tavily = TavilySearchResults()"
   ]
  },
  {
   "cell_type": "code",
   "execution_count": 12,
   "id": "2d3180c0",
   "metadata": {},
   "outputs": [
    {
     "data": {
      "text/plain": [
       "[{'title': 'Latest AI Breakthroughs and News: April- May 2025 - Crescendo.ai',\n",
       "  'url': 'https://www.crescendo.ai/news/latest-ai-news-and-updates',\n",
       "  'content': \"Date: May 2, 2025Summary: Recent research reveals a significant uptick in the adoption of artificial intelligence across manufacturing sectors. The study indicates that AI technologies are being increasingly utilized to optimize production processes, enhance quality control, and improve supply chain management, signaling a transformative shift in industrial operations.Source: PES Media\\n\\nUK Music Industry Expresses Concern Over AI Training Concessions [...] The Fresh and Interesting Artificial Intelligence News\\n\\nHere are all the impactful and latest AI breakthroughs that are shaping the world around us.Â\\n\\nUS Tech Giants Face New Challenge as Alibaba's Qwen3 Narrows the AI Gap\\n\\nDate: May 5, 2025Summary: Alibabaâ\\x80\\x99s latest AI model, Qwen3, significantly narrows the technology gap with leading US firms. Qwen3's advancements in cost efficiency and multilingual capabilities position it as a competitive alternative for global enterprises.Source: TechHQ [...] Date: May 2, 2025Summary: Apple released new AI-driven updates across its ecosystem. The enhancements include advanced AI photo editing, predictive text improvements, and intelligent health features, emphasizing user convenience and productivity.Source: BizzBuzz\\n\\nNew Research Highlights AI Adoption in Manufacturing Sectors\",\n",
       "  'score': 0.9132521},\n",
       " {'title': 'AI Update, May 9, 2025: AI News and Views From the Past Week',\n",
       "  'url': 'https://www.marketingprofs.com/opinions/2025/53126/ai-update-may-9-2025-ai-news-and-views-from-the-past-week',\n",
       "  'content': 'Mistral triples revenue after enterprise chatbot rollout. Mistral AI launched the enterprise version of its chatbot, Le Chat, which integrates with tools like SharePoint and Google Drive. The French startup, now valued at $6B, reported tripled revenue over 100 days, with growth driven especially by markets outside the US Le Chat can be deployed on customers\\' own cloud infrastructure. CEO Arthur Mensch says Mistral is cutting its reliance on US cloud services, which may appeal to European [...] Google scientist says politeness may improve AI response quality. DeepMind scientist Murray Shanahan suggests that saying \"please\" and \"thank you\" to AI models can yield better responses due to how models mimic human behavior. While OpenAI\\'s Sam Altman claims such politeness increases compute costs, Shanahan frames it as helpful reinforcement. This behavior could influence how users interact with AI in the future. Importance for marketers: Reinforces the subtle dynamics of human-AI interaction [...] OpenAI confirms nonprofit will retain control amid backlash. OpenAI reversed plans to transition fully to a for-profit model, stating its nonprofit will maintain control and become the largest shareholder in a new public benefit corporation. The decision follows regulatory scrutiny and public criticism, including a lawsuit from Elon Musk. CEO Sam Altman says OpenAI may need \"trillions\" to meet its mission. Importance for marketers: Reinforces questions around ethical governance and transparency',\n",
       "  'score': 0.8967681},\n",
       " {'title': 'AI News: Thurs May 15, 2025 - $600 Billion in Middle East AI Deals ...',\n",
       "  'url': 'https://www.youtube.com/watch?v=PdvBqC4HZfE',\n",
       "  'content': 'https://techcrunch.com/2025/05/14/soundcloud-backtracks-on-ai-related-terms-of-use-updates/\\nhttps://x.com/coderabbitai/status/1922642534750163184\\nhttps://x.com/LTXStudio/status/1922676336583234047?utm_source=futuretools.io&utm_medium=newspage\\nhttps://venturebeat.com/ai/sakana-introduces-new-ai-architecture-continuous-thought-machines-to-make-models-reason-with-less-guidance-like-human-brains/\\nhttps://arxiv.org/pdf/2505.05522 [...] https://techcrunch.com/2025/05/14/openai-brings-its-gpt-4-1-models-to-chatgpt/\\nhttps://techcrunch.com/2025/05/14/openai-pledges-to-publish-ai-safety-test-results-more-often/\\nhttps://openai.com/safety/evaluations-hub/\\nhttps://archive.is/5X8Gc\\nhttps://venturebeat.com/ai/beyond-detection-why-automatically-correcting-hallucinations-could-transform-enterprise-ai-adoption/\\nhttps://www.vectara.com/ [...] https://news.mit.edu/2025/study-shows-vision-language-models-cant-handle-negation-words-queries-0514\\nhttps://arxiv.org/pdf/2501.09425\\nhttps://techcrunch.com/2025/05/13/xais-promised-safety-report-is-mia/\\nhttps://archive.is/qKlS0\\nhttps://techcrunch.com/2025/05/13/audible-is-expanding-its-ai-narrated-audiobook-library/\\nhttps://techcrunch.com/2025/05/13/spotifys-ai-dj-now-lets-you-use-voice-commands-to-personalize-your-tunes/',\n",
       "  'score': 0.8936907},\n",
       " {'title': 'Artificial Intelligence - Latest AI News and Analysis - WSJ.com',\n",
       "  'url': 'https://www.wsj.com/tech/ai',\n",
       "  'content': 'Databricks to Buy Startup Neon for $1 Billion · Belle Lin. May 14, 2025 ; Cisco Enters AI Partnership With Saudi Arabia · Kelly Cloonan. May 13, 2025 ; AI Startup',\n",
       "  'score': 0.8652358}]"
      ]
     },
     "execution_count": 12,
     "metadata": {},
     "output_type": "execute_result"
    }
   ],
   "source": [
    "tavily.invoke(\"Provide me the  recent AI news May 2025\")"
   ]
  },
  {
   "cell_type": "code",
   "execution_count": 13,
   "id": "2ffd0d33",
   "metadata": {},
   "outputs": [],
   "source": [
    "### Combine all the tools in the list\n",
    "tools = [arxiv,wiki,tavily]"
   ]
  },
  {
   "cell_type": "code",
   "execution_count": 29,
   "id": "8f6ab1a5",
   "metadata": {},
   "outputs": [],
   "source": [
    "## Intialize my LLM Model\n",
    "from langchain_groq import ChatGroq\n",
    "llm = ChatGroq(model=\"qwen-qwq-32b\")\n",
    "llm_with_tools = llm.bind_tools(tools)"
   ]
  },
  {
   "cell_type": "code",
   "execution_count": 30,
   "id": "c2a54d3d",
   "metadata": {},
   "outputs": [
    {
     "data": {
      "text/plain": [
       "[{'name': 'tavily_search_results_json',\n",
       "  'args': {'query': 'recent AI news'},\n",
       "  'id': 'call_amed',\n",
       "  'type': 'tool_call'}]"
      ]
     },
     "execution_count": 30,
     "metadata": {},
     "output_type": "execute_result"
    }
   ],
   "source": [
    "from pprint import pprint\n",
    "from langchain_core.messages import AIMessage,HumanMessage\n",
    "\n",
    "llm_with_tools.invoke([HumanMessage(content = f\"what is the recent AI news\")]).tool_calls"
   ]
  },
  {
   "cell_type": "code",
   "execution_count": 48,
   "id": "fc1030fc",
   "metadata": {},
   "outputs": [],
   "source": [
    "### State Schema \n",
    "from typing_extensions import TypedDict\n",
    "from langchain_core.messages import AnyMessage\n",
    "from typing import Annotated\n",
    "from langgraph.graph.message import add_messages\n",
    "\n",
    "class State(TypedDict):\n",
    "    messages:Annotated[list[AnyMessage],add_messages]"
   ]
  },
  {
   "cell_type": "code",
   "execution_count": null,
   "id": "3faf4507",
   "metadata": {},
   "outputs": [],
   "source": [
    "### Entire Chatbot with LangGraph\n",
    "from IPython.display import Image,display\n",
    "from langgraph.graph import StateGraph,START,END \n",
    "from langgraph.prebuilt import ToolNode\n",
    "from langgraph.prebuilt import tools_condition\n",
    "\n",
    "\n",
    "\n",
    "##Node Defination\n",
    "def tool_calling_llm(state:State):\n",
    "    return {\"messages\":[llm_with_tools.invoke(state[\"messages\"])]} "
   ]
  },
  {
   "cell_type": "code",
   "execution_count": null,
   "id": "80634e64",
   "metadata": {},
   "outputs": [],
   "source": [
    "### Build Graph\n",
    "builder  = StateGraph(State)\n",
    "builder.add_node(\"tool_calling_llm\",tool_calling_llm)\n",
    "builder.add_node(\"tools\",ToolNode(tools))\n",
    "\n",
    "\n",
    "## Add Edge\n",
    "builder.add_edge(START,\"tool_calling_llm\")\n",
    "\n",
    "builder.add_conditional_edges(\n",
    "    \"tool_calling_llm\",\n",
    "    # If the latest message (result) from assistant is a tool call -> tools_condition routes to tools\n",
    "    # If the latest message (result) from assistant is a not a tool call -> tools_condition routes to END\n",
    "    tools_condition\n",
    ")\n",
    "builder.add_edge(\"tools\",END)\n",
    "\n",
    "\n",
    "graph = builder.compile()"
   ]
  },
  {
   "cell_type": "code",
   "execution_count": 51,
   "id": "ff13629c",
   "metadata": {},
   "outputs": [
    {
     "data": {
      "image/png": "[encoded data removed]",
      "text/plain": [
       "<IPython.core.display.Image object>"
      ]
     },
     "metadata": {},
     "output_type": "display_data"
    }
   ],
   "source": [
    "display(Image(graph.get_graph().draw_mermaid_png()))"
   ]
  },
  {
   "cell_type": "code",
   "execution_count": 52,
   "id": "962507e6",
   "metadata": {},
   "outputs": [
    {
     "name": "stdout",
     "output_type": "stream",
     "text": [
      "================================\u001b[1m Human Message \u001b[0m=================================\n",
      "\n",
      "1706.03762\n",
      "==================================\u001b[1m Ai Message \u001b[0m==================================\n",
      "Tool Calls:\n",
      "  arxiv (call_ymhm)\n",
      " Call ID: call_ymhm\n",
      "  Args:\n",
      "    query: 1706.03762\n",
      "=================================\u001b[1m Tool Message \u001b[0m=================================\n",
      "Name: arxiv\n",
      "\n",
      "Published: 2023-08-02\n",
      "Title: Attention Is All You Need\n",
      "Authors: Ashish Vaswani, Noam Shazeer, Niki Parmar, Jakob Uszkoreit, Llion Jones, Aidan N. Gomez, Lukasz Kaiser, Illia Polosukhin\n",
      "Summary: The dominant sequence transduction models are based on complex recurrent or\n",
      "convolutional neural networks in an encoder-decoder configuration. The best\n",
      "performing models also connect the encoder and decoder through an attention\n",
      "mechanism. We propose a new simple network architecture, the Transformer, base\n"
     ]
    }
   ],
   "source": [
    "messages = graph.invoke({\"messages\":HumanMessage(content = \"1706.03762\")})\n",
    "\n",
    "\n",
    "for m in messages['messages']:\n",
    "    m.pretty_print()"
   ]
  },
  {
   "cell_type": "code",
   "execution_count": 53,
   "id": "6b126067",
   "metadata": {},
   "outputs": [
    {
     "name": "stdout",
     "output_type": "stream",
     "text": [
      "================================\u001b[1m Human Message \u001b[0m=================================\n",
      "\n",
      "Provide me current News ?\n",
      "==================================\u001b[1m Ai Message \u001b[0m==================================\n",
      "Tool Calls:\n",
      "  tavily_search_results_json (call_8pxa)\n",
      " Call ID: call_8pxa\n",
      "  Args:\n",
      "    query: current news\n",
      "=================================\u001b[1m Tool Message \u001b[0m=================================\n",
      "Name: tavily_search_results_json\n",
      "\n",
      "[{\"title\": \"CNN: Breaking News, Latest News and Videos\", \"url\": \"https://www.cnn.com/\", \"content\": \"View the latest news and breaking news today for U.S., world, weather, entertainment, politics and health at CNN.com.\", \"score\": 0.98532}, {\"title\": \"Fox News - Breaking News Updates | Latest News Headlines ...\", \"url\": \"https://www.foxnews.com/\", \"content\": \"Latest Breaking News Today from Fox News · FBI head Kash Patel issues fiery warning after mass shooting plot foiled - Fox News · Education secretary pours cold\", \"score\": 0.98448}, {\"title\": \"NBC News - Breaking News & Top Stories - Latest World, US ...\", \"url\": \"https://www.nbcnews.com/\", \"content\": \"Go to NBCNews.com for breaking news, videos, and the latest top stories in world news, business, politics, health and pop culture.\", \"score\": 0.97797}, {\"title\": \"Google News\", \"url\": \"https://news.google.com/\", \"content\": \"Top stories ; Rubio: Trump-Putin meeting 'only way' to end war in Ukraine. By Laura Kelly. The Hill. 15h ; Trump visits mosque in Abu Dhabi, an apparent first for\", \"score\": 0.97288}, {\"title\": \"Associated Press News: Breaking News, Latest Headlines and ...\", \"url\": \"https://apnews.com/\", \"content\": \"Read the latest headlines, breaking news, and videos at APNews.com, the definitive source for independent journalism from every corner of the globe.\", \"score\": 0.96829}]\n"
     ]
    }
   ],
   "source": [
    "messages = graph.invoke({\"messages\":HumanMessage(content = \"Provide me current News ?\")})\n",
    "\n",
    "\n",
    "for m in messages['messages']:\n",
    "    m.pretty_print()"
   ]
  },
  {
   "cell_type": "code",
   "execution_count": 54,
   "id": "2e42faa9",
   "metadata": {},
   "outputs": [
    {
     "name": "stdout",
     "output_type": "stream",
     "text": [
      "================================\u001b[1m Human Message \u001b[0m=================================\n",
      "\n",
      "Provide me current News about the IPL ?\n",
      "==================================\u001b[1m Ai Message \u001b[0m==================================\n",
      "Tool Calls:\n",
      "  tavily_search_results_json (call_d81b)\n",
      " Call ID: call_d81b\n",
      "  Args:\n",
      "    query: latest news about IPL\n",
      "=================================\u001b[1m Tool Message \u001b[0m=================================\n",
      "Name: tavily_search_results_json\n",
      "\n",
      "[{\"title\": \"IPL 2025 Latest News, Live Updates - NDTV Sports\", \"url\": \"https://sports.ndtv.com/ipl-2025/news\", \"content\": \"IPL 2025 News\\n\\nAfter a week-long suspension due to escalating tensions between Indian Premier League (IPL) 2025 is set to resume on May 17.\\n\\nRCB skipper Rajat Patidar was left \\\"sad\\\" and \\\"angry\\\" after being ignored by the franchise ahead of the IPL 2022 season despite assurances, only to be called up later as an injury replacement.\\n\\nRumours of Rajasthan Royals batter Vaibhav Suryavanshi failing the 10th standard board exams went viral on social media. But, it is far from the truth. [...] Brought to a halt by the recent India-Pakistan border tensions, the IPL will resume on Saturday with Royal Challengers Bengaluru taking on Kolkata Knight Riders in a high-stakes contest\\n\\nAustralian players' availability for the remainder of the IPL 2025 season has become an issue due to the World Test Championship final.\\n\\nIPL 2025 is all set to resume from Saturday with Royal Challengers Bengaluru hosting Kolkata Knight Riders at the M Chinnaswamy Stadium. [...] The Jail Premier League began in April 2025. Two groups comprising four teams each were formed, in which a total of 12 league matches\\n\\nFranchises with South African stars have been dealt a massive blow ahead of the IPL 2025 restart.\\n\\nThe BCCI and IPL franchises, according to a report by new agency PTI, have ramped up pressure on foreign boards to ensure that their players return for the league's resumption on May 17\", \"score\": 0.7978881}, {\"title\": \"IPL 2025 News | Latest Updates & Match Reports | IPLT20\", \"url\": \"https://www.iplt20.com/news\", \"content\": \"News\\n\\nPBKS, GT, and LSG announce replacements\\n\\n15 May, 2025\\n\\nDC sign Mustafizur Rahman as replacement for Jake Fraser-McGurk\\n\\n14 May, 2025\\n\\nRemainder of IPL 2025 to be held at six venues\\n\\n12 May, 2025\\n\\nTATA IPL 2025 suspended for one week\\n\\n09 May, 2025\\n\\nTATA IPL Match No. 61 shifted to Ahmedabad from Dharamshala\\n\\n08 May, 2025\\n\\nLatest News\\n\\n15 May, 2025\\n\\n14 May, 2025\\n\\n12 May, 2025\\n\\n09 May, 2025\\n\\n08 May, 2025\\n\\n08 May, 2025\\n\\n08 May, 2025\\n\\n07 May, 2025\\n\\n07 May, 2025\\n\\n07 May, 2025\\n\\n07 May, 2025 [...] 07 May, 2025\\n\\nAnnouncements\\n\\n15 May, 2025\\n\\n14 May, 2025\\n\\n12 May, 2025\\n\\n09 May, 2025\\n\\n08 May, 2025\\n\\n08 May, 2025\\n\\n08 May, 2025\\n\\n07 May, 2025\\n\\n07 May, 2025\\n\\n07 May, 2025\\n\\n07 May, 2025\\n\\n05 May, 2025\\n\\nMatch Reports\\n\\n07 May, 2025\\n\\n06 May, 2025\\n\\n05 May, 2025\\n\\n04 May, 2025\\n\\n04 May, 2025\\n\\n03 May, 2025\\n\\n02 May, 2025\\n\\n01 May, 2025\\n\\n30 Apr, 2025\\n\\n29 Apr, 2025\\n\\n28 Apr, 2025\\n\\n27 Apr, 2025\\n\\nTEAM\\n\\nABOUT\\n\\nGUIDELINES\\n\\nCONTACT\\n\\nCopyright © IPL 2025 All Rights Reserved. [...] We and selected third parties use cookies or similar technologies for technical purposes and, with your consent, for other purposes as specified in the cookie policy.\", \"score\": 0.776708}, {\"title\": \"IPL 2025 Announcements | Player Updates & News | IPLT20\", \"url\": \"https://www.iplt20.com/news/announcements\", \"content\": \"News\\n\\nPBKS, GT, and LSG announce replacements\\n\\n15 May, 2025\\n\\nDC sign Mustafizur Rahman as replacement for Jake Fraser-McGurk\\n\\n14 May, 2025\\n\\nRemainder of IPL 2025 to be held at six venues\\n\\n12 May, 2025\\n\\nTATA IPL 2025 suspended for one week\\n\\n09 May, 2025\\n\\nTATA IPL Match No. 61 shifted to Ahmedabad from Dharamshala\\n\\n08 May, 2025\\n\\nAnnouncements\\n\\n15 May, 2025\\n\\n14 May, 2025\\n\\n12 May, 2025\\n\\n09 May, 2025\\n\\n08 May, 2025\\n\\n08 May, 2025\\n\\n08 May, 2025\\n\\n07 May, 2025\\n\\n07 May, 2025\\n\\n07 May, 2025\\n\\n07 May, 2025 [...] 05 May, 2025\\n\\n05 May, 2025\\n\\n03 May, 2025\\n\\n01 May, 2025\\n\\n01 May, 2025\\n\\n27 Apr, 2025\\n\\n19 Apr, 2025\\n\\n18 Apr, 2025\\n\\n17 Apr, 2025\\n\\n17 Apr, 2025\\n\\nNo Data Found\\n\\nTEAM\\n\\nABOUT\\n\\nGUIDELINES\\n\\nCONTACT\\n\\nCopyright © IPL 2025 All Rights Reserved.\\n\\nWe and selected third parties use cookies or similar technologies for technical purposes and, with your consent, for other purposes as specified in the cookie policy.\", \"score\": 0.7382357}, {\"title\": \"More from IPL News - Sportstar\", \"url\": \"https://sportstar.thehindu.com/cricket/ipl/ipl-news/\", \"content\": \"PREMIUM\\n\\nPLAYGROUNDS\\n\\nMULTIMEDIA\\n\\nON STAGE\\n\\nPREMIUM\\n\\nPLAYGROUNDS\\n\\nMULTIMEDIA\\n\\nON STAGE\\n\\nSubscribers Only Have you subscribed yet?\\n\\nBuy Print\\n\\nMore from IPL News\\n\\nIPL 2025: Will Jacks returns for Mumbai Indians, Stoinis set to fly back to join Punjab Kings\\n\\nIPL 2025: Delhi Capitals’ Mitchell Starc opts out of remainder of season - Reports\\n\\nIPL 2025: GT replaces Jos Buttler with Kusal Mendis for Playoffs, PBKS signs Jamieson\\n\\nIPL 2025: Big boost for RCB as skipper Patidar sweats in the nets [...] IPL 2025: South African players return ahead of final phase with WTC final looming\\n\\nIPL 2025: Pat Cummins set to rejoin SRH ahead of league resumption\\n\\nJosh Hazlewood to rejoin RCB as IPL 2025 prepares for resumption\\n\\nIPL 2025: Chennai Super Kings waits for clarity on Rachin Ravindra’s availability after Overton pulls out\\n\\nIPL 2025 resumption: New rules for temporary replacement players explained\\n\\nIPL 2025: Delhi Capitals signs Mustafizur Rahman as replacement for Fraser-McGurk [...] IPL 2025: Mitch Owen joins camp as Punjab Kings practice in Jaipur ahead of Royals clash\\n\\nF1 Imola Grand Prix: Colapinto says his five-race deal with Alpine may not be enough to rid the rust\\n\\nIPL 2025: Delhi Capitals waiting for clarity on Mitchell Starc’s availability\\n\\nIPL 2025: LSG signs Will O’Rourke as replacement for injured Mayank Yadav\\n\\nIPL 2025: Eight South African players to miss Playoffs after BCCI asks teams to release them by May 26 ahead of WTC final\", \"score\": 0.7318455}, {\"title\": \"IPL 2025 - Hindustan Times\", \"url\": \"https://www.hindustantimes.com/cricket/ipl\", \"content\": \"Subscribe Now! Get features like\\n\\nIPL Latest News\\n\\nRCB were quite keen 'to send players back' after suspension: ‘…IND-PAK conflict’\\n\\nBiggest stars who will not return for IPL 2025 — Starc, Archer lead the way\\n\\nIPL resumes with the RCB vs KKR face-off; Virat Kohli's outing in focus\\n\\nIPL 2025 fan guide: Playoff scenarios, key matches — everything you need to know\\n\\nMitchell Johnson urges overseas players to skip remainder of IPL due to safety concerns [...] Lucknow Super Giants and Royal Challengers Bengaluru clash in Match 59 of IPL 2025 in Lucknow, with the game scheduled to start at 7:30pm.\\n\\nSunrisers Hyderabad and Kolkata Knight Riders clash in Match 60 of IPL 2025 in Hyderabad on Saturday.\\n\\nIPL 2025 begins on March 22, 2025 and the final is scheduled for May 25, 2025.\\n\\nIPL 2025 edition will span 65 days, featuring 74 matches across different venues. [...] PBKS vs LSG, IPL 2025: Prabhsimran, Iyer, Arshdeep sink LSG - Action in Images\\n\\nKKR vs RR, IPL 2025: Kolkata keep playoff hopes alive - Action in images\\n\\nRCB vs CSK, IPL 2025: Patidar and co. seal narrow 2-run - Action in images\\n\\nRR vs MI, IPL 2025: MI go top of table after wrecking RR by 100 runs in Jaipur\\n\\nDC vs KKR, IPL 2025: Sunil Narine masterclass powers KKR to 14-run win\\n\\nRR vs GT, IPL 2025: Suryavanshi makes chasing 210 look like child's play\", \"score\": 0.70726365}]\n"
     ]
    }
   ],
   "source": [
    "messages = graph.invoke({\"messages\":HumanMessage(content = \"Provide me current News about the IPL ?\")})\n",
    "\n",
    "\n",
    "for m in messages['messages']:\n",
    "    m.pretty_print()"
   ]
  },
  {
   "cell_type": "code",
   "execution_count": null,
   "id": "1bd61a69",
   "metadata": {},
   "outputs": [],
   "source": []
  },
  {
   "cell_type": "code",
   "execution_count": null,
   "id": "284f7fa0",
   "metadata": {},
   "outputs": [],
   "source": []
  }
 ],
 "metadata": {
  "kernelspec": {
   "display_name": "Python 3",
   "language": "python",
   "name": "python3"
  },
  "language_info": {
   "codemirror_mode": {
    "name": "ipython",
    "version": 3
   },
   "file_extension": ".py",
   "mimetype": "text/x-python",
   "name": "python",
   "nbconvert_exporter": "python",
   "pygments_lexer": "ipython3",
   "version": "3.12.0"
  }
 },
 "nbformat": 4,
 "nbformat_minor": 5
}
