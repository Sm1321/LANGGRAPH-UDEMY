{
 "cells": [
  {
   "cell_type": "markdown",
   "id": "27bf1263",
   "metadata": {},
   "source": [
    "## ReAct agent Architecture\n",
    "\n",
    "### AIM\n",
    "\n",
    "#### This is the intution behind ReAct , a general agent architecture.\n",
    "\n",
    "1. `act` - let the model call specific tools\n",
    "2. `observe` - pass the tool output back to the model\n",
    "3. `Reason` - let the model reason about the tool output to decide what to do next(eg:- call another tool or just respond directly)"
   ]
  },
  {
   "cell_type": "code",
   "execution_count": 2,
   "id": "018909b0",
   "metadata": {},
   "outputs": [],
   "source": [
    "from langchain_community.tools import ArxivQueryRun,WikipediaQueryRun\n",
    "from langchain_community.utilities import WikipediaAPIWrapper,ArxivAPIWrapper "
   ]
  },
  {
   "cell_type": "code",
   "execution_count": 3,
   "id": "bbd1a779",
   "metadata": {},
   "outputs": [
    {
     "name": "stdout",
     "output_type": "stream",
     "text": [
      "arxiv\n"
     ]
    }
   ],
   "source": [
    "api_wrapper_arxiv = ArxivAPIWrapper(top_k_results = 2, doc_content_chars_max = 500)\n",
    "arxiv = ArxivQueryRun(api_wrapper = api_wrapper_arxiv)\n",
    "print(arxiv.name)"
   ]
  },
  {
   "cell_type": "code",
   "execution_count": 4,
   "id": "01a3865e",
   "metadata": {},
   "outputs": [
    {
     "data": {
      "text/plain": [
       "\"Published: 2024-07-22\\nTitle: Attention Is All You Need But You Don't Need All Of It For Inference of Large Language Models\\nAuthors: Georgy Tyukin, Gbetondji J-S Dovonon, Jean Kaddour, Pasquale Minervini\\nSummary: The inference demand for LLMs has skyrocketed in recent months, and serving\\nmodels with low latencies remains challenging due to the quadratic input length\\ncomplexity of the attention layers. In this work, we investigate the effect of\\ndropping MLP and attention layers at inference time o\""
      ]
     },
     "execution_count": 4,
     "metadata": {},
     "output_type": "execute_result"
    }
   ],
   "source": [
    "arxiv.invoke(\"Attention is all you need\")"
   ]
  },
  {
   "cell_type": "code",
   "execution_count": 5,
   "id": "e25a9468",
   "metadata": {},
   "outputs": [
    {
     "name": "stdout",
     "output_type": "stream",
     "text": [
      "wikipedia\n"
     ]
    }
   ],
   "source": [
    "api_wrapper_wiki = WikipediaAPIWrapper(top_k_results = 2, doc_content_chars_max = 500)\n",
    "wiki = WikipediaQueryRun(api_wrapper = api_wrapper_wiki)\n",
    "print(wiki.name)"
   ]
  },
  {
   "cell_type": "code",
   "execution_count": 6,
   "id": "7fd2acda",
   "metadata": {},
   "outputs": [
    {
     "data": {
      "text/plain": [
       "'Page: Machine learning\\nSummary: Machine learning (ML) is a field of study in artificial intelligence concerned with the development and study of statistical algorithms that can learn from data and generalise to unseen data, and thus perform tasks without explicit instructions. Within a subdiscipline in machine learning, advances in the field of deep learning have allowed neural networks, a class of statistical algorithms, to surpass many previous machine learning approaches in performance.\\nML fi'"
      ]
     },
     "execution_count": 6,
     "metadata": {},
     "output_type": "execute_result"
    }
   ],
   "source": [
    "wiki.invoke(\"What us Machine Learning?\" )"
   ]
  },
  {
   "cell_type": "code",
   "execution_count": 7,
   "id": "ab29ba7a",
   "metadata": {},
   "outputs": [],
   "source": [
    "from dotenv import load_dotenv\n",
    "load_dotenv()\n",
    "\n",
    "\n",
    "import os \n",
    "os.environ['TAVILY_API_KEY'] = os.getenv(\"TAVILY_API_KEY\")\n",
    "os.environ[\"GROQ_API_KEY\"] = os.getenv(\"GROQ_API_KEY\")\n",
    "os.environ[\"LANGCHAIN_API_KEY\"]  = os.getenv(\"LANGCHAIN_API_KEY\")\n",
    "os.environ[\"LANGSMITH_TRACING_V2\"]  =\"true\"\n",
    "os.environ[\"LANGCHAIN_PROJECT\"] = \"React-Agent\""
   ]
  },
  {
   "cell_type": "code",
   "execution_count": 8,
   "id": "80f1e6c3",
   "metadata": {},
   "outputs": [],
   "source": [
    "### Tavily Search Tool\n",
    "from langchain_community.tools.tavily_search import TavilySearchResults\n",
    "tavily = TavilySearchResults()"
   ]
  },
  {
   "cell_type": "code",
   "execution_count": 9,
   "id": "e790a376",
   "metadata": {},
   "outputs": [
    {
     "data": {
      "text/plain": [
       "[{'title': 'Latest AI Breakthroughs and News: April- May 2025 - Crescendo.ai',\n",
       "  'url': 'https://www.crescendo.ai/news/latest-ai-news-and-updates',\n",
       "  'content': \"Date: May 2, 2025Summary: Recent research reveals a significant uptick in the adoption of artificial intelligence across manufacturing sectors. The study indicates that AI technologies are being increasingly utilized to optimize production processes, enhance quality control, and improve supply chain management, signaling a transformative shift in industrial operations.Source: PES Media\\n\\nUK Music Industry Expresses Concern Over AI Training Concessions [...] The Fresh and Interesting Artificial Intelligence News\\n\\nHere are all the impactful and latest AI breakthroughs that are shaping the world around us.Â\\n\\nUS Tech Giants Face New Challenge as Alibaba's Qwen3 Narrows the AI Gap\\n\\nDate: May 5, 2025Summary: Alibabaâ\\x80\\x99s latest AI model, Qwen3, significantly narrows the technology gap with leading US firms. Qwen3's advancements in cost efficiency and multilingual capabilities position it as a competitive alternative for global enterprises.Source: TechHQ [...] Date: May 2, 2025Summary: Apple released new AI-driven updates across its ecosystem. The enhancements include advanced AI photo editing, predictive text improvements, and intelligent health features, emphasizing user convenience and productivity.Source: BizzBuzz\\n\\nNew Research Highlights AI Adoption in Manufacturing Sectors\",\n",
       "  'score': 0.9132521},\n",
       " {'title': '50 NEW Artificial Intelligence Statistics (May 2025) - Exploding Topics',\n",
       "  'url': 'https://explodingtopics.com/blog/ai-statistics',\n",
       "  'content': \"Data shows that the top voice assistant by accuracy is Google Assistant (Loup Ventures)\\n\\n\\n\\nGoogle Assistant outranks its voice assistant competitors, such as Apple's Siri and Microsoft's Cortana, with an accuracy record of 98% in navigation.\\n\\nType of question | Google Assistant | Siri | Alexa\\nLocal | 93% | 89% | 85%\\nCommerce | 92% | 68% | 71%\\nNavigation | 98% | 86% | 72%\\nInformation | 96% | 76% | 93%\\nCommand | 86% | 93% | 69%\\n93%\\n\\n89%\\n\\n85%\\n\\n92%\\n\\n68%\\n\\n71%\\n\\n98%\\n\\n86%\\n\\n72%\\n\\n96%\\n\\n76%\\n\\n93%\\n\\n86%\\n\\n93% [...] Worldwide AI chip revenue will surpass $80 billion in the next couple of years (The Insight Partners)\\n\\nThe latest data shows that global AI chip revenue is set to reach $83.25 billion by 2027.\\n\\nAlmost 100 million people are working in the AI space (Search Logistics)\\n\\nIf the projections about growth in the AI space come to fruition, further manpower will be required.\\n\\nBy the end of 2025, approximately 97 million people will be needed to fill the work demands of the surging industry. [...] Blog > 50 NEW Artificial Intelligence Statistics (May 2025)\\n\\n50 NEW Artificial Intelligence Statistics (May 2025)\\n\\nContents:\\n\\nShare:\\n\\nThis is a list of up-to-date artificial intelligence stats for 2025.\\n\\nFrom ChatGPT to autonomous vehicles, AI is one of the most exciting (and controversial)\\xa0technology trends in the 21st century.\\n\\nBut how big is the AI space? And how quickly is it growing?\",\n",
       "  'score': 0.9039154},\n",
       " {'title': 'AI Update, May 9, 2025: AI News and Views From the Past Week',\n",
       "  'url': 'https://www.marketingprofs.com/opinions/2025/53126/ai-update-may-9-2025-ai-news-and-views-from-the-past-week',\n",
       "  'content': 'Mistral triples revenue after enterprise chatbot rollout. Mistral AI launched the enterprise version of its chatbot, Le Chat, which integrates with tools like SharePoint and Google Drive. The French startup, now valued at $6B, reported tripled revenue over 100 days, with growth driven especially by markets outside the US Le Chat can be deployed on customers\\' own cloud infrastructure. CEO Arthur Mensch says Mistral is cutting its reliance on US cloud services, which may appeal to European [...] Google scientist says politeness may improve AI response quality. DeepMind scientist Murray Shanahan suggests that saying \"please\" and \"thank you\" to AI models can yield better responses due to how models mimic human behavior. While OpenAI\\'s Sam Altman claims such politeness increases compute costs, Shanahan frames it as helpful reinforcement. This behavior could influence how users interact with AI in the future. Importance for marketers: Reinforces the subtle dynamics of human-AI interaction [...] OpenAI confirms nonprofit will retain control amid backlash. OpenAI reversed plans to transition fully to a for-profit model, stating its nonprofit will maintain control and become the largest shareholder in a new public benefit corporation. The decision follows regulatory scrutiny and public criticism, including a lawsuit from Elon Musk. CEO Sam Altman says OpenAI may need \"trillions\" to meet its mission. Importance for marketers: Reinforces questions around ethical governance and transparency',\n",
       "  'score': 0.8967681},\n",
       " {'title': 'UAE and US Presidents attend the unveiling of Phase 1 of new 5GW ...',\n",
       "  'url': 'https://www.commerce.gov/news/press-releases/2025/05/uae-and-us-presidents-attend-unveiling-phase-1-new-5gw-ai-campus-abu',\n",
       "  'content': 'Abu Dhabi, UAE; May 15, 2025: A new, comprehensive 5GW UAE-US AI Campus in Abu Dhabi was unveiled today at Qasr Al Watan in the presence of His Highness Sheikh Mohamed bin Zayed Al Nahyan, President of the United Arab Emirates, and President Donald J. Trump, 47th President of the United States. The new AI campus, the largest outside of the US, will be home to US hyperscalers and large enterprises that can leverage the capacity for regional compute with the ability to serve the Global South.',\n",
       "  'score': 0.8773195}]"
      ]
     },
     "execution_count": 9,
     "metadata": {},
     "output_type": "execute_result"
    }
   ],
   "source": [
    "tavily.invoke(\"Provide me the  recent AI news May 2025\")"
   ]
  },
  {
   "cell_type": "code",
   "execution_count": 22,
   "id": "5556d391",
   "metadata": {},
   "outputs": [],
   "source": [
    "## Custom Functions\n",
    "def multiply(a:int,b:int)-> int:\n",
    "    \"\"\"Multiply a and b\n",
    "    Args:\n",
    "        a : first int\n",
    "        b : second int\n",
    "\"\"\" \n",
    "\n",
    "    return a * b\n",
    "\n",
    "\n",
    "### This will be tool\n",
    "def add(a:int,b:int)-> int:\n",
    "    \"\"\"Add a and b\n",
    "    Args:\n",
    "        a : first int\n",
    "        b : second int\n",
    "\"\"\" \n",
    "\n",
    "    return a + b\n",
    "\n",
    "\n",
    "\n",
    "def divide(a:int,b:int)-> int:\n",
    "    \"\"\"Divide a and b\n",
    "    Args:\n",
    "        a : first int\n",
    "        b : second int\n",
    "\"\"\" \n",
    "\n",
    "    return a / b\n",
    "\n",
    "\n",
    "\n",
    "## Combine all the tools in the list\n",
    "tools = [arxiv,wiki,tavily,multiply,divide]"
   ]
  },
  {
   "cell_type": "code",
   "execution_count": 23,
   "id": "4d680b2b",
   "metadata": {},
   "outputs": [],
   "source": [
    "### Intialize my LLM Model \n",
    "from langchain_groq import ChatGroq\n",
    "\n",
    "llm = ChatGroq(model = \"qwen-qwq-32b\")\n",
    "llm_with_tools= llm.bind_tools(tools)"
   ]
  },
  {
   "cell_type": "code",
   "execution_count": 24,
   "id": "da1b3b1e",
   "metadata": {},
   "outputs": [
    {
     "data": {
      "text/plain": [
       "AIMessage(content='', additional_kwargs={'tool_calls': [{'id': 'call_eqgn', 'function': {'arguments': '{\"query\": \"recent AI news\"}', 'name': 'tavily_search_results_json'}, 'type': 'function'}]}, response_metadata={'token_usage': {'completion_tokens': 214, 'prompt_tokens': 563, 'total_tokens': 777, 'completion_time': 0.53261286, 'prompt_time': 0.030167621, 'queue_time': 0.25203833800000003, 'total_time': 0.562780481}, 'model_name': 'qwen-qwq-32b', 'system_fingerprint': 'fp_1e88ca32eb', 'finish_reason': 'tool_calls', 'logprobs': None}, id='run--c5031bdf-02df-4606-a703-c8c9708c75e8-0', tool_calls=[{'name': 'tavily_search_results_json', 'args': {'query': 'recent AI news'}, 'id': 'call_eqgn', 'type': 'tool_call'}], usage_metadata={'input_tokens': 563, 'output_tokens': 214, 'total_tokens': 777})"
      ]
     },
     "execution_count": 24,
     "metadata": {},
     "output_type": "execute_result"
    }
   ],
   "source": [
    "from pprint import pprint \n",
    "from langchain_core.messages import AIMessage,HumanMessage\n",
    "\n",
    "llm_with_tools.invoke([HumanMessage(content = f\"What is the recent AI  News\")])\n"
   ]
  },
  {
   "cell_type": "code",
   "execution_count": 25,
   "id": "9986a9c3",
   "metadata": {},
   "outputs": [
    {
     "data": {
      "text/plain": [
       "[{'name': 'tavily_search_results_json',\n",
       "  'args': {'query': 'recent cricket news'},\n",
       "  'id': 'call_5edw',\n",
       "  'type': 'tool_call'}]"
      ]
     },
     "execution_count": 25,
     "metadata": {},
     "output_type": "execute_result"
    }
   ],
   "source": [
    "llm_with_tools.invoke([HumanMessage(content = f\"What is the recent about Cricket\")]).tool_calls\n"
   ]
  },
  {
   "cell_type": "code",
   "execution_count": 26,
   "id": "d0b9d3f6",
   "metadata": {},
   "outputs": [],
   "source": [
    "## State Schma\n",
    "from typing_extensions import TypedDict \n",
    "from langchain_core.messages import AnyMessage\n",
    "from typing import Annotated\n",
    "from langgraph.graph.message import add_messages\n",
    "\n",
    "\n",
    "class State(TypedDict):\n",
    "    messages:Annotated[list[AnyMessage],add_messages]\n"
   ]
  },
  {
   "cell_type": "code",
   "execution_count": 27,
   "id": "86e021ca",
   "metadata": {},
   "outputs": [],
   "source": [
    "### Entire Chatbot with Langgraph\n",
    "from IPython.display import Image,display\n",
    "from langgraph.graph import StateGraph,START,END \n",
    "from langgraph.prebuilt import ToolNode \n",
    "from langgraph.prebuilt import tools_condition \n",
    "\n",
    "\n",
    "### Node definiation\n",
    "def tool_calling_llm(state:State):\n",
    "    return {\"messages\":[llm_with_tools.invoke(state[\"messages\"])]}\n"
   ]
  },
  {
   "cell_type": "code",
   "execution_count": 28,
   "id": "154e489b",
   "metadata": {},
   "outputs": [],
   "source": [
    "### Build Graph\n",
    "builder  = StateGraph(State)\n",
    "builder.add_node(\"tool_calling_llm\",tool_calling_llm)\n",
    "builder.add_node(\"tools\",ToolNode(tools))\n",
    "\n",
    "\n",
    "## Add Edge\n",
    "builder.add_edge(START,\"tool_calling_llm\")\n",
    "\n",
    "builder.add_conditional_edges(\n",
    "    \"tool_calling_llm\",\n",
    "    # If the latest message (result) from assistant is a tool call -> tools_condition routes to tools\n",
    "    # If the latest message (result) from assistant is a not a tool call -> tools_condition routes to END\n",
    "    tools_condition\n",
    ")\n",
    "builder.add_edge(\"tools\",\"tool_calling_llm\")\n",
    "# builder.add_edge(\"tools\",END)\n",
    "\n",
    "\n",
    "graph = builder.compile()"
   ]
  },
  {
   "cell_type": "code",
   "execution_count": 29,
   "id": "bf340f9b",
   "metadata": {},
   "outputs": [
    {
     "data": {
      "image/png": "[encoded data removed]",
      "text/plain": [
       "<IPython.core.display.Image object>"
      ]
     },
     "metadata": {},
     "output_type": "display_data"
    }
   ],
   "source": [
    "display(Image(graph.get_graph().draw_mermaid_png()))"
   ]
  },
  {
   "cell_type": "code",
   "execution_count": 32,
   "id": "89a7a5da",
   "metadata": {},
   "outputs": [
    {
     "name": "stdout",
     "output_type": "stream",
     "text": [
      "================================\u001b[1m Human Message \u001b[0m=================================\n",
      "\n",
      " Provide me the Top AI news from the May 2025 ,  \n",
      "add 5 plus 5  and then multiply  3 and 10\n",
      "\n",
      "==================================\u001b[1m Ai Message \u001b[0m==================================\n",
      "Tool Calls:\n",
      "  tavily_search_results_json (call_56mm)\n",
      " Call ID: call_56mm\n",
      "  Args:\n",
      "    query: Top AI news May 2025\n",
      "  multiply (call_wkg9)\n",
      " Call ID: call_wkg9\n",
      "  Args:\n",
      "    a: 3\n",
      "    b: 10\n",
      "=================================\u001b[1m Tool Message \u001b[0m=================================\n",
      "Name: tavily_search_results_json\n",
      "\n",
      "[{\"title\": \"AI News | Latest AI News, Analysis & Events\", \"url\": \"https://www.artificialintelligence-news.com/\", \"content\": \"[AGI](https://www.artificialintelligence-news.com/categories/agi/)\\n\\nMay 14, 2025\\n\\n# [US slams brakes on AI Diffusion Rule, hardens chip export curbs](https://www.artificialintelligence-news.com/news/us-slams-brakes-ai-diffusion-rule-hardens-chip-export-curbs/)\\n\\n![Saudi Arabia moves to build its own AI future with HUMAIN and NVIDIA](https://www.artificialintelligence-news.com/wp-content/uploads/2025/05/Saudi-Arabia-moves-to-build-its-own-AI-future-with-HUMAIN-and-NVIDIA-1024x576.jpg) [...] [Artificial Intelligence](https://www.artificialintelligence-news.com/categories/artificial-intelligence/)\\n\\nMay 14, 2025\\n\\n# [Saudi Arabia moves to build its AI future with HUMAIN and NVIDIA](https://www.artificialintelligence-news.com/news/saudi-arabia-moves-to-build-its-ai-future-humain-and-nvidia/)\\n\\n![Photo by Çağlar Oskay/Unsplash](https://www.artificialintelligence-news.com/wp-content/uploads/2025/05/caglar-oskay-ED_4-IQyqqE-unsplash-1024x683.jpg) [...] [Artificial Intelligence](https://www.artificialintelligence-news.com/categories/artificial-intelligence/)\\n\\nMay 14, 2025\\n\\n# [FDA AI deployment: Innovation vs oversight in drug regulation](https://www.artificialintelligence-news.com/news/fda-ai-deployment-innovation-vs-oversight-drug-regulation/)\\n\\n![](https://www.artificialintelligence-news.com/wp-content/uploads/2025/05/google-ai-futures-fund-1024x683.jpg)\\n\\n[Amazon](https://www.artificialintelligence-news.com/categories/ai-companies/amazon/)\", \"score\": 0.945243}, {\"title\": \"AI news and funding updates from the last 24 hours(16th May 2025)\", \"url\": \"https://www.linkedin.com/pulse/ai-news-funding-updates-from-last-24-hours16th-may-2025-anshuman-jha-9xq2c\", \"content\": \"AI startup Cohere has doubled annualized revenue to $100 million by May 2025.\\nGrowth fueled by demand for secure, customized AI from enterprises in regulated sectors.\\nStrategic pivot in late 2024 toward private deployments and tailored models now represents 85% of its business, delivering high margins.\\nLaunched “North,” a ChatGPT-style app for knowledge workers, currently in testing.\\n\\n\\nOther News [...] Attributed its Grok chatbot’s repeated “white genocide in South Africa” references to an unauthorized system-prompt modification by an employee.\\nThis marks the second such incident; previously, Grok suffered censorship issues and produced inappropriate content.\\nIn response, xAI will publish system prompts on GitHub, enforce stricter reviews, and institute 24/7 monitoring.\\nHighlights ongoing safety and risk-management challenges; a nonprofit ranks xAI poorly in this area.\\n\\n\\nG42&iGenius [...] Routematic Funding: Raised $40 million in Series C, led by Fullerton Carbon Action Fund and Shift4Good, with Ostara…\\n 23   1 Comment   \\n*   AI news and funding updates from the last 24 hours(06th May 2025) May 6, 2025 \\nAI news and funding updates from the last 24 hours(06th May 2025)\\nOpenAI Windsurf Acquisition: OpenAI will acquire AI-enabled coding platform Windsurf for $3 billion, positioning it…\\n 30     \\nShow more \\nSee all articles\\nSign in\\nStay updated on your professional world\\nSign in\", \"score\": 0.9296516}, {\"title\": \"Latest AI Breakthroughs and News: April- May 2025 - Crescendo.ai\", \"url\": \"https://www.crescendo.ai/news/latest-ai-news-and-updates\", \"content\": \"Here are all the impactful and latest AI breakthroughs that are shaping the world around us.\\nUS Tech Giants Face New Challenge as Alibaba's Qwen3 Narrows the AI Gap\\nDate: May 5, 2025\\nSummary: Alibaba’s latest AI model, Qwen3, significantly narrows the technology gap with leading US firms. Qwen3's advancements in cost efficiency and multilingual capabilities position it as a competitive alternative for global enterprises.\\nSource:TechHQ [...] AI-generated Image of Trump as Pope Sparks White House Controversy\\nDate: May 4, 2025\\nSummary: A viral, AI-generated image portraying Donald Trump as the Pope triggered controversy within the White House. The incident renewed debate around misinformation, deepfakes, and the ethical implications of AI-generated content in politics.\\nSource:Al Jazeera\\nTrump Advocates for AI Education Starting in Kindergarten\\nDate: May 2, 2025 [...] AI News ### New AI Technologies, Breakthroughs, Innovations - 2025 Discover latest AI breakthroughs, technologies and innovations transforming business, healthcare, content creation & more in 2025 May 13, 2025\\nAI News ### Latest Customer Service Industry News: 2025 Stay updated on the latest customer service industry news, AI advancements, layoffs, and CX trends from top companies like Intercom, Shopify, AT&T, and more. May 5, 2025\", \"score\": 0.9253988}, {\"title\": \"AI News May 2025: In-Depth and Concise - The AI Track\", \"url\": \"https://theaitrack.com/ai-news-may-2025-in-depth-and-concise/\", \"content\": \"This page features AI News for May 2025. At the end, you will find links to our archives for previous months\\nMay 2025\\nSummaries presented here were created in collaboration with ChatGPT.\\nAI NEWS May 2025\\n\\nApple and Anthropic Join Forces to Build AI Coding Tool for Xcode\\n2 May 2025\\nApple embeds Claude Sonnet into Xcode with Anthropic, enabling AI-powered vibe coding for automated code writing, testing, and bug fixes.\\nRead More » [...] OpenAI Launches New Reasoning Models o3 and o4-mini with Image Understanding\\nxAI Introduces Memory and Grok Studio to Compete with ChatGPT and Gemini\\nOpenAI Debuts Codex CLI with 3 Autonomy Modes and $1M Developer Fund\\nAnthropic Adds Autonomous Research to Claude AI Assistant\", \"score\": 0.92074}, {\"title\": \"AI News Highlights from 8th of May, 2025 - LinkedIn\", \"url\": \"https://www.linkedin.com/pulse/ai-news-highlights-from-8th-may-2025-grok-ai-zxhoe\", \"content\": \"Efficient Code Search with LoRA Fine-Tuning A new fine-tuning approach reduces code search model parameters below 2%, while improving retrieval accuracy by over 9% on Code2Code benchmarks.\\n\\nhttps://arxiv.org/abs/2503.05315\\n\\nIDInit: Stable Neural Network Initialization IDInit introduces identity-preserving transitions across both main and sub-stem layers, ensuring more stable convergence in deep neural networks.\\n\\nhttps://arxiv.org/abs/2503.04626\\n\\n🌐 Industry Highlights [...] Claude Adds Web Search API for Developers Anthropic has upgraded Claude with a web search API, allowing developers to build applications that access real-time, up-to-date internet information.\\n\\nhttps://www.anthropic.com/news/web-search-api\\n\\nAmazon Debuts Vulcan: A Touch-Sensitive Robot Amazon’s Vulcan, its first physical AI robot, features a sense of touch, enabling precise object handling and marking a new era of physical AI systems. [...] DINOv2 Boosts Pathology AI at Mahmood Lab The Mahmood Lab has used Meta’s DINOv2 to develop open-source pathology models, significantly advancing disease detection and diagnostic capabilities.\\n\\nhttps://ai.meta.com/blog/mahmood-lab-human-pathology-dinov2/\\n\\nCan O3 Beat a GeoGuessr Master? A head-to-head between AI agent O3 and a human GeoGuessr expert showed impressive geographic inference from the AI, though it still fell short of consistently outperforming top human players.\", \"score\": 0.9125066}]\n",
      "=================================\u001b[1m Tool Message \u001b[0m=================================\n",
      "Name: multiply\n",
      "\n",
      "30\n",
      "==================================\u001b[1m Ai Message \u001b[0m==================================\n",
      "\n",
      "**Top AI News from May 2025:**  \n",
      "1. **US Restricts AI Diffusion Rules & Chip Exports**: The U.S. imposed stricter controls on AI technology exports and semiconductor exports to curb China's tech advancements.  \n",
      "2. **Saudi Arabia's AI Push**: Launched **HUMAIN**, a national AI initiative partnered with NVIDIA to accelerate AI adoption.  \n",
      "3. **FDA AI Regulations**: The FDA proposed new frameworks balancing innovation and oversight in AI-driven drug development.  \n",
      "4. **Cohere's Growth**: The startup doubled annual revenue to $100M by May 2025, focusing on enterprise AI solutions.  \n",
      "5. **Apple-Anthropic Partnership**: Integrated Claude Sonnet into Xcode for AI-powered coding tools.  \n",
      "\n",
      "**Calculations:**  \n",
      "- **5 + 5 = 10**  \n",
      "- **3 × 10 = 30**  \n",
      "\n",
      "Let me know if you need further details!\n"
     ]
    }
   ],
   "source": [
    "messages = graph.invoke({\"messages\": HumanMessage(content = \n",
    "\"\"\" Provide me the Top AI news from the May 2025 ,  \n",
    "add 5 plus 5  and then multiply  3 and 10\n",
    "\"\"\")})\n",
    "\n",
    "\n",
    "### print resulst\n",
    "for m in messages['messages']:\n",
    "    m.pretty_print()"
   ]
  },
  {
   "cell_type": "code",
   "execution_count": 33,
   "id": "7caef755",
   "metadata": {},
   "outputs": [
    {
     "name": "stdout",
     "output_type": "stream",
     "text": [
      "================================\u001b[1m Human Message \u001b[0m=================================\n",
      "\n",
      "What is IPL  and what are the teams in IPL?\n",
      "==================================\u001b[1m Ai Message \u001b[0m==================================\n",
      "Tool Calls:\n",
      "  wikipedia (call_am1g)\n",
      " Call ID: call_am1g\n",
      "  Args:\n",
      "    query: Indian Premier League\n",
      "=================================\u001b[1m Tool Message \u001b[0m=================================\n",
      "Name: wikipedia\n",
      "\n",
      "Page: Indian Premier League\n",
      "Summary: The Indian Premier League (IPL) is a professional Twenty20 cricket league in India organised by the Board of Control for Cricket in India (BCCI). Founded in 2007, the league features ten state-based or city-based franchise teams. The IPL is the most popular and richest cricket league in the world and is held between March and May. It has an exclusive window in the Future Tours Programme of the International Cricket Council (ICC), resulting in fewer internatio\n",
      "==================================\u001b[1m Ai Message \u001b[0m==================================\n",
      "Tool Calls:\n",
      "  tavily_search_results_json (call_wmsx)\n",
      " Call ID: call_wmsx\n",
      "  Args:\n",
      "    query: IPL teams 2024 list\n",
      "=================================\u001b[1m Tool Message \u001b[0m=================================\n",
      "Name: tavily_search_results_json\n",
      "\n",
      "[{\"title\": \"Indian Premier League 2024 - Teams - ESPNcricinfo\", \"url\": \"https://www.espncricinfo.com/series/indian-premier-league-2024-1410320/teams\", \"content\": \"Indian Premier League 2024 - Teams. Chennai Super Kings · Delhi Capitals · Gujarat Titans · Kolkata Knight Riders · Lucknow Super Giants.\", \"score\": 0.92176014}, {\"title\": \"2024 Indian Premier League - Wikipedia\", \"url\": \"https://en.wikipedia.org/wiki/2024_Indian_Premier_League\", \"content\": \"|\\nThe 2024 Indian Premier League (also known as IPL 17 and branded as TATA IPL 2024) was the 17th edition of the Indian Premier League. The tournament featured ten teams competing in 74 matches from 22 March to 26 May 2024. It was held across 13 cities in India, with Chennai hosting the opening ceremony and the final as the defending champions.\\nIn the final, Kolkata Knight Riders defeated Sunrisers Hyderabad by 8 wickets to win their third IPL title.\\nBackground [...] 2024 Indian Premier LeagueDates22 March – 26 May 2024Administrator(s)Board of Control for Cricket in India (BCCI)Cricket formatTwenty20Tournament format(s)Group stage and PlayoffsChampionsKolkata Knight Riders (3rd title)Runners-upSunrisers HyderabadParticipants10Matches74Most valuable playerSunil Narine (Kolkata Knight Riders)Most runsVirat Kohli (Royal Challengers Bengaluru) (741)Most wicketsHarshal Patel (Punjab Kings) (24)Official websiteiplt20.com← 20232025 →\\n| Teams |\\n| --- |\\n| Group A | [...] Sunrisers Hyderabad\\nRoyal Challengers Bengaluru\\nPunjab Kings\\nGujarat Titans\\nChennai Super Kings\\n\\n\\n\\n|\\n| Note: Teams are listed per the playing order.  \\n\\nview\\ntalk\\nedit\", \"score\": 0.90849644}, {\"title\": \"IPL 2024 Auction | Players Bought, Top Bids & Team Spending\", \"url\": \"https://www.iplt20.com/auction/2024\", \"content\": \"Chennai Super Kings · Delhi Capitals · Gujarat Titans · Kolkata Knight Riders · Lucknow Super Giants · Mumbai Indians · Punjab Kings · Rajasthan Royals.\", \"score\": 0.88178825}, {\"title\": \"Indian Premier League - Wikipedia\", \"url\": \"https://en.wikipedia.org/wiki/Indian_Premier_League\", \"content\": \"The reigning champions are the Kolkata Knight Riders, who defeated the Sunrisers Hyderabad by eight wickets in the 2024 IPL final to secure their third title.\\nNumber of titles\\n| Team | Seasons won | Seasons runner-up | No. of\\nplayoffs played | No. of seasons\\nplayed |\\n| --- | --- | --- | --- | --- |\\n| Chennai Super Kings | 5 (2010, 2011, 2018, 2021, 2023) | 5 (2008, 2012, 2013, 2015, 2019) | 12 | 15 |\\n| Mumbai Indians | 5 (2013, 2015, 2017, 2019, 2020) | 1 (2010) | 10 | 17 |\", \"score\": 0.8793233}, {\"title\": \"IPL 2024 teams: Full list of IPL teams and squad details | Goal.com US\", \"url\": \"https://www.goal.com/en-us/lists/ipl-cricket-teams-list/blt04abb894aebf2dca\", \"content\": \"Sunrisers Hyderabad · Pat Cummins · Akash Singh · Shahbaz Ahamad · Bhuvneshwar Kumar · Fazalhaq Farooqi · Jaydev Unadkat · T Natarajan · Umran\", \"score\": 0.8690161}]\n",
      "==================================\u001b[1m Ai Message \u001b[0m==================================\n",
      "\n",
      "The **Indian Premier League (IPL)** is a professional Twenty20 (T20) cricket league in India, founded in 2007. It features **10 franchise-based teams** that compete in a tournament typically held between March and May. The IPL is known for its global star players, large viewership, and high revenue.\n",
      "\n",
      "### **IPL 2024 Teams**:\n",
      "1. **Chennai Super Kings (CSK)**  \n",
      "2. **Delhi Capitals (DC)**  \n",
      "3. **Gujarat Titans (GT)**  \n",
      "4. **Kolkata Knight Riders (KKR)**  \n",
      "5. **Lucknow Super Giants (LSG)**  \n",
      "6. **Mumbai Indians (MI)**  \n",
      "7. **Punjab Kings (PBKS)**  \n",
      "8. **Rajasthan Royals (RR)**  \n",
      "9. **Royal Challengers Bangalore (RCB)**  \n",
      "10. **Sunrisers Hyderabad (SRH)**  \n",
      "\n",
      "### Key Details:\n",
      "- **Defending Champions (2024)**: Kolkata Knight Riders (3rd title).  \n",
      "- **Format**: Teams play a mix of group-stage matches and playoffs.  \n",
      "- **Venues**: Games are held across multiple cities in India.  \n",
      "\n",
      "The list is confirmed from the latest 2024 IPL data, with all teams competing in the 2024 edition.\n"
     ]
    }
   ],
   "source": [
    "messages = graph.invoke({\"messages\": HumanMessage(content = \"What is IPL  and what are the teams in IPL?\")})\n",
    "\n",
    "\n",
    "### print resulst\n",
    "for m in messages['messages']:\n",
    "    m.pretty_print()"
   ]
  },
  {
   "cell_type": "markdown",
   "id": "e63ca674",
   "metadata": {},
   "source": [
    "### Agent memeory\n",
    "\n",
    "##### Aim\n",
    "######  Let's introduce Agent with memory "
   ]
  },
  {
   "cell_type": "code",
   "execution_count": 34,
   "id": "ae5d3b63",
   "metadata": {},
   "outputs": [
    {
     "name": "stdout",
     "output_type": "stream",
     "text": [
      "================================\u001b[1m Human Message \u001b[0m=================================\n",
      "\n",
      "what us 5 Plus 8\n",
      "==================================\u001b[1m Ai Message \u001b[0m==================================\n",
      "\n",
      "The result of 5 plus 8 is **13**.\n"
     ]
    }
   ],
   "source": [
    "messages = graph.invoke({\"messages\": HumanMessage(content = \"what us 5 Plus 8\")})\n",
    "\n",
    "\n",
    "### print resulst\n",
    "for m in messages['messages']:\n",
    "    m.pretty_print()"
   ]
  },
  {
   "cell_type": "code",
   "execution_count": 36,
   "id": "2b23efb5",
   "metadata": {},
   "outputs": [
    {
     "name": "stdout",
     "output_type": "stream",
     "text": [
      "================================\u001b[1m Human Message \u001b[0m=================================\n",
      "\n",
      "Divide that by 5\n",
      "==================================\u001b[1m Ai Message \u001b[0m==================================\n",
      "\n",
      "The instruction says to \"Divide that by 5,\" but it's unclear what \"that\" refers to. Could you please specify the number you want to divide by 5?\n"
     ]
    }
   ],
   "source": [
    "messages = graph.invoke({\"messages\": HumanMessage(content = \"Divide that by 5\")})\n",
    "\n",
    "\n",
    "### print resulst\n",
    "for m in messages['messages']:\n",
    "    m.pretty_print()"
   ]
  },
  {
   "cell_type": "markdown",
   "id": "59f86ae1",
   "metadata": {},
   "source": [
    "### 🧠 MemorySaver (LangGraph Checkpointer)\n",
    "- LangGraph can automatically save graph state after each step using a checkpointer.\n",
    "\n",
    "- This enables persistence—allowing the graph to resume from the last saved state.\n",
    "\n",
    "- MemorySaver is a built-in, in-memory key-value store checkpointer.\n",
    "\n",
    "- It's one of the simplest ways to add memory to a graph.\n",
    "\n",
    "- ✅ To use it: compile the graph with a checkpointer, and memory is enabled."
   ]
  },
  {
   "cell_type": "markdown",
   "id": "ebdfe70a",
   "metadata": {},
   "source": [
    "### MemorySaver\n",
    "\n",
    "LangGraph can use a checkpointer to automatically save the graph state after each step.\n",
    "\n",
    "This built-in persistence layer gives us memory, allowing LangGraph to pick up from the last state update.\n",
    "\n",
    "One of the easiest checkpointers to use is the MemorySaver, an in-memory key-value store for Graph state.\n",
    "\n",
    "All we need to do is simply compile the graph with a checkpointer, and our graph has memory!\n"
   ]
  },
  {
   "cell_type": "code",
   "execution_count": null,
   "id": "f96114a9",
   "metadata": {},
   "outputs": [],
   "source": []
  },
  {
   "cell_type": "code",
   "execution_count": null,
   "id": "15ddf246",
   "metadata": {},
   "outputs": [],
   "source": []
  },
  {
   "cell_type": "code",
   "execution_count": null,
   "id": "134bfc4e",
   "metadata": {},
   "outputs": [],
   "source": []
  },
  {
   "cell_type": "code",
   "execution_count": null,
   "id": "97a4ba61",
   "metadata": {},
   "outputs": [],
   "source": []
  },
  {
   "cell_type": "code",
   "execution_count": null,
   "id": "7eef9499",
   "metadata": {},
   "outputs": [],
   "source": []
  },
  {
   "cell_type": "code",
   "execution_count": null,
   "id": "b3a4fa03",
   "metadata": {},
   "outputs": [],
   "source": []
  }
 ],
 "metadata": {
  "kernelspec": {
   "display_name": "Python 3",
   "language": "python",
   "name": "python3"
  },
  "language_info": {
   "codemirror_mode": {
    "name": "ipython",
    "version": 3
   },
   "file_extension": ".py",
   "mimetype": "text/x-python",
   "name": "python",
   "nbconvert_exporter": "python",
   "pygments_lexer": "ipython3",
   "version": "3.12.0"
  }
 },
 "nbformat": 4,
 "nbformat_minor": 5
}
