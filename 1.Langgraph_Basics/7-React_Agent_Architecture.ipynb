{
 "cells": [
  {
   "cell_type": "markdown",
   "id": "27bf1263",
   "metadata": {},
   "source": [
    "## ReAct agent Architecture\n",
    "\n",
    "### AIM\n",
    "\n",
    "#### This is the intution behind ReAct , a general agent architecture.\n",
    "\n",
    "1. `act` - let the model call specific tools\n",
    "2. `observe` - pass the tool output back to the model\n",
    "3. `Reason` - let the model reason about the tool output to decide what to do next(eg:- call another tool or just respond directly)"
   ]
  },
  {
   "cell_type": "code",
   "execution_count": 1,
   "id": "018909b0",
   "metadata": {},
   "outputs": [],
   "source": [
    "from langchain_community.tools import ArxivQueryRun,WikipediaQueryRun\n",
    "from langchain_community.utilities import WikipediaAPIWrapper,ArxivAPIWrapper "
   ]
  },
  {
   "cell_type": "code",
   "execution_count": 2,
   "id": "bbd1a779",
   "metadata": {},
   "outputs": [
    {
     "name": "stdout",
     "output_type": "stream",
     "text": [
      "arxiv\n"
     ]
    }
   ],
   "source": [
    "api_wrapper_arxiv = ArxivAPIWrapper(top_k_results = 2, doc_content_chars_max = 500)\n",
    "arxiv = ArxivQueryRun(api_wrapper = api_wrapper_arxiv)\n",
    "print(arxiv.name)"
   ]
  },
  {
   "cell_type": "code",
   "execution_count": 3,
   "id": "01a3865e",
   "metadata": {},
   "outputs": [
    {
     "data": {
      "text/plain": [
       "\"Published: 2024-07-22\\nTitle: Attention Is All You Need But You Don't Need All Of It For Inference of Large Language Models\\nAuthors: Georgy Tyukin, Gbetondji J-S Dovonon, Jean Kaddour, Pasquale Minervini\\nSummary: The inference demand for LLMs has skyrocketed in recent months, and serving\\nmodels with low latencies remains challenging due to the quadratic input length\\ncomplexity of the attention layers. In this work, we investigate the effect of\\ndropping MLP and attention layers at inference time o\""
      ]
     },
     "execution_count": 3,
     "metadata": {},
     "output_type": "execute_result"
    }
   ],
   "source": [
    "arxiv.invoke(\"Attention is all you need\")"
   ]
  },
  {
   "cell_type": "code",
   "execution_count": 4,
   "id": "e25a9468",
   "metadata": {},
   "outputs": [
    {
     "name": "stdout",
     "output_type": "stream",
     "text": [
      "wikipedia\n"
     ]
    }
   ],
   "source": [
    "api_wrapper_wiki = WikipediaAPIWrapper(top_k_results = 2, doc_content_chars_max = 500)\n",
    "wiki = WikipediaQueryRun(api_wrapper = api_wrapper_wiki)\n",
    "print(wiki.name)"
   ]
  },
  {
   "cell_type": "code",
   "execution_count": 5,
   "id": "7fd2acda",
   "metadata": {},
   "outputs": [
    {
     "data": {
      "text/plain": [
       "'Page: Machine learning\\nSummary: Machine learning (ML) is a field of study in artificial intelligence concerned with the development and study of statistical algorithms that can learn from data and generalise to unseen data, and thus perform tasks without explicit instructions. Within a subdiscipline in machine learning, advances in the field of deep learning have allowed neural networks, a class of statistical algorithms, to surpass many previous machine learning approaches in performance.\\nML fi'"
      ]
     },
     "execution_count": 5,
     "metadata": {},
     "output_type": "execute_result"
    }
   ],
   "source": [
    "wiki.invoke(\"What us Machine Learning?\" )"
   ]
  },
  {
   "cell_type": "code",
   "execution_count": 8,
   "id": "ab29ba7a",
   "metadata": {},
   "outputs": [],
   "source": [
    "from dotenv import load_dotenv\n",
    "load_dotenv()\n",
    "\n",
    "\n",
    "import os \n",
    "os.environ['TAVILY_API_KEY'] = os.getenv(\"TAVILY_API_KEY\")\n",
    "os.environ[\"GROQ_API_KEY\"] = os.getenv(\"GROQ_API_KEY\")\n",
    "os.environ[\"LANGCHAIN_API_KEY\"]  = os.getenv(\"LANGCHAIN_API_KEY\")\n",
    "os.environ[\"LANGSMITH_TRACING_V2\"]  =\"true\"\n",
    "os.environ[\"LANGCHAIN_PROJECT\"] = \"React-Agent\""
   ]
  },
  {
   "cell_type": "code",
   "execution_count": 9,
   "id": "80f1e6c3",
   "metadata": {},
   "outputs": [
    {
     "name": "stderr",
     "output_type": "stream",
     "text": [
      "C:\\Users\\Mohan\\AppData\\Local\\Temp\\ipykernel_21312\\637379855.py:3: LangChainDeprecationWarning: The class `TavilySearchResults` was deprecated in LangChain 0.3.25 and will be removed in 1.0. An updated version of the class exists in the :class:`~langchain-tavily package and should be used instead. To use it run `pip install -U :class:`~langchain-tavily` and import as `from :class:`~langchain_tavily import TavilySearch``.\n",
      "  tavily = TavilySearchResults()\n"
     ]
    }
   ],
   "source": [
    "### Tavily Search Tool\n",
    "from langchain_community.tools.tavily_search import TavilySearchResults\n",
    "tavily = TavilySearchResults()"
   ]
  },
  {
   "cell_type": "code",
   "execution_count": 10,
   "id": "e790a376",
   "metadata": {},
   "outputs": [
    {
     "data": {
      "text/plain": [
       "[{'title': 'Latest AI Breakthroughs and News: May-June 2025 - Crescendo.ai',\n",
       "  'url': 'https://www.crescendo.ai/news/latest-ai-news-and-updates',\n",
       "  'content': '**Date:** May 30, 2025  \\n**Summary:** Nvidia CEO Jensen Huang issued a bold warning about the rapid evolution of AI, emphasizing that people who fail to adopt AI in their workflow risk being replaced by those who do. His comments underline the urgency for upskilling in a transforming job market. [...] **Date:** May 31, 2025  \\n**Summary:** Monash University has announced a landmark investment in an AI supercomputer, becoming the first higher education institute in Australia to do so. The system will significantly accelerate national research across AI, medicine, and engineering fields. [...] **Date:** May 31, 2025  \\n**Summary:** Internet analyst Mary Meekerâ\\x80\\x99s new AI trends report highlights India and China as key innovation hubs, while also exploring the intensifying divide between open-source and closed AI ecosystems. The report suggests that collaboration and transparency will shape global AI leadership.  \\n**Source:** [NDTV](https://www.ndtv.com/india-news/mary-meekers-ai-trends-report-highlights-india-china-and-battle-between-open-and-closed-models-8566751)',\n",
       "  'score': 0.95618236},\n",
       " {'title': 'The latest AI news we announced in May - Google Blog',\n",
       "  'url': 'https://blog.google/technology/ai/google-ai-updates-may-2025/',\n",
       "  'content': '# The latest AI news we announced in May\\n\\nJun 05, 2025\\n\\n[[read-time]] min read\\n\\nHere’s a recap of some of our biggest AI updates from May, including the releases at I/O and Google Marketing Live, news about AI Mode, new capabilities in the Gemini app and our new AI-powered filmmaking tool, Flow.\\n\\n![SuperG](https://storage.googleapis.com/gweb-uniblog-publish-prod/images/superG_v3.max-244x184.format-webp.webp)\\n\\n## General summary',\n",
       "  'score': 0.9174287},\n",
       " {'title': \"The New News in AI: 5/19/25 Edition - Mimir's Well\",\n",
       "  'url': 'https://markmcneilly.substack.com/p/the-new-news-in-ai-51925-edition',\n",
       "  'content': '### **[White House announces AI data center campus partnership with the UAE](https://www.cnbc.com/2025/05/15/white-house-announces-ai-data-campus-partnership-with-the-uae.html)**\\n\\nThe U.S. and United Arab Emirates are partnering on a massive artificial intelligence campus.\\n\\nThe Abu Dhabi data center will be built by the Emirate firm G42, which will partner with several U.S. companies on the facility.',\n",
       "  'score': 0.9132521}]"
      ]
     },
     "execution_count": 10,
     "metadata": {},
     "output_type": "execute_result"
    }
   ],
   "source": [
    "tavily.invoke(\"Provide me the  recent AI news May 2025\")"
   ]
  },
  {
   "cell_type": "code",
   "execution_count": null,
   "id": "5556d391",
   "metadata": {},
   "outputs": [],
   "source": [
    "## Custom Functions\n",
    "def multiply(a:int,b:int)-> int:\n",
    "    \"\"\" Multiply a and b\n",
    "    Args:\n",
    "        a : first int\n",
    "        b : second int\n",
    "    \"\"\" \n",
    "    return a * b\n",
    "\n",
    "\n",
    "### This will be tool\n",
    "def add(a:int,b:int)-> int:\n",
    "    \"\"\" Add a and b\n",
    "    Args:\n",
    "        a : first int\n",
    "        b : second int\n",
    "    \"\"\" \n",
    "    return a + b\n",
    "\n",
    "\n",
    "\n",
    "def divide(a:int,b:int)-> int:\n",
    "    \"\"\"Divide a and b\n",
    "    Args:\n",
    "        a : first int\n",
    "        b : second int\n",
    "    \"\"\" \n",
    "    return a / b\n",
    "\n",
    "\n",
    "\n",
    "## Combine all the tools in the list\n",
    "tools = [arxiv,wiki,tavily,multiply,divide]"
   ]
  },
  {
   "cell_type": "code",
   "execution_count": null,
   "id": "4d680b2b",
   "metadata": {},
   "outputs": [],
   "source": [
    "### Intialize my LLM Model \n",
    "from langchain_groq import ChatGroq\n",
    "\n",
    "llm = ChatGroq(model = \"qwen-qwq-32b\")\n",
    "llm_with_tools  = llm.bind_tools(tools)"
   ]
  },
  {
   "cell_type": "code",
   "execution_count": 13,
   "id": "da1b3b1e",
   "metadata": {},
   "outputs": [
    {
     "data": {
      "text/plain": [
       "AIMessage(content='', additional_kwargs={'tool_calls': [{'id': 'n4a3b6gf9', 'function': {'arguments': '{\"query\":\"recent AI news\"}', 'name': 'tavily_search_results_json'}, 'type': 'function'}]}, response_metadata={'token_usage': {'completion_tokens': 185, 'prompt_tokens': 381, 'total_tokens': 566, 'completion_time': 0.454960879, 'prompt_time': 0.024126074, 'queue_time': 0.248126556, 'total_time': 0.479086953}, 'model_name': 'qwen-qwq-32b', 'system_fingerprint': 'fp_98b01f25b2', 'finish_reason': 'tool_calls', 'logprobs': None}, id='run--73f39cb5-f8ea-4d20-9224-22b8357b04ee-0', tool_calls=[{'name': 'tavily_search_results_json', 'args': {'query': 'recent AI news'}, 'id': 'n4a3b6gf9', 'type': 'tool_call'}], usage_metadata={'input_tokens': 381, 'output_tokens': 185, 'total_tokens': 566})"
      ]
     },
     "execution_count": 13,
     "metadata": {},
     "output_type": "execute_result"
    }
   ],
   "source": [
    "from pprint import pprint \n",
    "from langchain_core.messages import AIMessage,HumanMessage\n",
    "\n",
    "llm_with_tools.invoke([HumanMessage(content = f\"What is the recent AI  News\")])\n"
   ]
  },
  {
   "cell_type": "code",
   "execution_count": null,
   "id": "9986a9c3",
   "metadata": {},
   "outputs": [
    {
     "data": {
      "text/plain": [
       "[{'name': 'tavily_search_results_json',\n",
       "  'args': {'query': 'latest cricket news and updates 2023'},\n",
       "  'id': 'fts3jp1bw',\n",
       "  'type': 'tool_call'}]"
      ]
     },
     "execution_count": 14,
     "metadata": {},
     "output_type": "execute_result"
    }
   ],
   "source": [
    "llm_with_tools.invoke([HumanMessage(content = f\"What is the recent about Cricket\")]).tool_calls"
   ]
  },
  {
   "cell_type": "code",
   "execution_count": 15,
   "id": "d0b9d3f6",
   "metadata": {},
   "outputs": [],
   "source": [
    "## State Schma\n",
    "from typing_extensions import TypedDict \n",
    "from langchain_core.messages import AnyMessage\n",
    "from typing import Annotated\n",
    "from langgraph.graph.message import add_messages\n",
    "\n",
    "\n",
    "class State(TypedDict):\n",
    "    messages:Annotated[list[AnyMessage],add_messages]\n"
   ]
  },
  {
   "cell_type": "code",
   "execution_count": 16,
   "id": "86e021ca",
   "metadata": {},
   "outputs": [],
   "source": [
    "### Entire Chatbot with Langgraph\n",
    "from IPython.display import Image,display\n",
    "from langgraph.graph import StateGraph,START,END \n",
    "from langgraph.prebuilt import ToolNode \n",
    "from langgraph.prebuilt import tools_condition \n",
    "\n",
    "\n",
    "### Node definiation\n",
    "def tool_calling_llm(state:State):\n",
    "    return {\"messages\":[llm_with_tools.invoke(state[\"messages\"])]}\n"
   ]
  },
  {
   "cell_type": "code",
   "execution_count": 17,
   "id": "154e489b",
   "metadata": {},
   "outputs": [],
   "source": [
    "### Build Graph\n",
    "builder  = StateGraph(State)\n",
    "builder.add_node(\"tool_calling_llm\",tool_calling_llm)\n",
    "builder.add_node(\"tools\",ToolNode(tools))\n",
    "\n",
    "\n",
    "## Add Edge\n",
    "builder.add_edge(START,\"tool_calling_llm\")\n",
    "\n",
    "builder.add_conditional_edges(\n",
    "    \"tool_calling_llm\",\n",
    "    # If the latest message (result) from assistant is a tool call -> tools_condition routes to tools\n",
    "    # If the latest message (result) from assistant is a not a tool call -> tools_condition routes to END\n",
    "    tools_condition\n",
    ")\n",
    "builder.add_edge(\"tools\",\"tool_calling_llm\")\n",
    "# builder.add_edge(\"tools\",END)\n",
    "\n",
    "\n",
    "graph = builder.compile()"
   ]
  },
  {
   "cell_type": "code",
   "execution_count": 18,
   "id": "bf340f9b",
   "metadata": {},
   "outputs": [
    {
     "data": {
      "image/png": "[encoded data removed]",
      "text/plain": [
       "<IPython.core.display.Image object>"
      ]
     },
     "metadata": {},
     "output_type": "display_data"
    }
   ],
   "source": [
    "display(Image(graph.get_graph().draw_mermaid_png()))"
   ]
  },
  {
   "cell_type": "code",
   "execution_count": 19,
   "id": "89a7a5da",
   "metadata": {},
   "outputs": [
    {
     "name": "stdout",
     "output_type": "stream",
     "text": [
      "================================\u001b[1m Human Message \u001b[0m=================================\n",
      "\n",
      " Provide me the Top AI news from the May 2025 ,  \n",
      "add 5 plus 5  and then multiply  3 and 10\n",
      "\n",
      "==================================\u001b[1m Ai Message \u001b[0m==================================\n",
      "Tool Calls:\n",
      "  tavily_search_results_json (xzq8smcn2)\n",
      " Call ID: xzq8smcn2\n",
      "  Args:\n",
      "    query: Top AI news from May 2025\n",
      "  multiply (qndseby2r)\n",
      " Call ID: qndseby2r\n",
      "  Args:\n",
      "    a: 3\n",
      "    b: 10\n",
      "=================================\u001b[1m Tool Message \u001b[0m=================================\n",
      "Name: tavily_search_results_json\n",
      "\n",
      "[{\"title\": \"AI by AI Weekly Top 5: 05.19-25, 2025 - Champaign Magazine\", \"url\": \"https://champaignmagazine.com/2025/05/25/ai-by-ai-weekly-top-5-05-19-25-2025/\", \"content\": \"This week, from May 19 to May 25, 2025, the AI industry saw a mix of technological advancements, ethical debates, and strategic global partnerships. OpenAI introduced Codex, a new tool for software development, while xAI faced scrutiny over its Grok chatbot’s controversial content. Major AI deals between the U.S. and Middle Eastern countries underscored the global race for AI dominance, and Microsoft’s research on efficient AI training pushed boundaries. Large companies also explored ways to [...] This week, from May 19 to May 25, 2025, the AI industry saw a blend of groundbreaking innovations, ethical dilemmas, and strategic global partnerships. OpenAI unveiled Codex, a multi-agent tool for software development, showcasing the potential of AI to revolutionize coding. Meanwhile, xAI faced scrutiny over its Grok chatbot, which introduced controversial content, raising questions about AI governance. On the global stage, the U.S. announced massive AI deals with Saudi Arabia and the UAE, [...] This report provides an in-depth examination of the major AI news stories from May 19 to May 25, 2025, ensuring all information is within the specified date range and sourced from authoritative reports. The analysis covers technological innovations, ethical issues, global partnerships, research breakthroughs, and business strategies, reflecting the week’s complexity and global impact in the AI landscape.\\n\\n#### Key Points and Context\", \"score\": 0.9716744}, {\"title\": \"Top AI News from May 18th to May 24th, 2025 - LinkedIn\", \"url\": \"https://www.linkedin.com/pulse/top-ai-news-from-may-18th-24th-2025-groundbreaking-lozovsky-mba-wcjgc\", \"content\": \"### Conclusion\\n\\nThe third week of May 2025 will likely be remembered as a pivotal moment in the evolution of artificial intelligence. The announcements from Google I/O, Microsoft Build, NVIDIA at COMPUTEX, and various AI research organizations demonstrate that we're moving rapidly toward a world where AI is not just a tool but fundamental infrastructure. [...] It's been an incredibly busy week in artificial intelligence, with major announcements from industry titans like Google, Microsoft, NVIDIA, and OpenAI that are reshaping the future of AI. From groundbreaking models to revolutionary new applications, this week has shown just how rapidly the AI landscape is evolving. I've followed these developments closely, and here's my comprehensive breakdown of everything you need to know from the past seven days. [...] \\\"Major tech companies and payment services are betting that artificial intelligence will reshape how people shop online. Shoppers can use AI chatbots to help them find products, compare options, and even complete purchases,\\\" reports the Los Angeles Times. [Los Angeles Times](https://www.latimes.com/business/story/2025-05-24/google-openai-and-perplexity-want-you-to-use-ai-to-shop-will-consumers-buy-in?trk=article-ssr-frontend-pulse_little-text-block)\\n\\n### Flow and Advanced Media Generation\", \"score\": 0.9676099}, {\"title\": \"Latest AI Breakthroughs and News: May-June 2025 - Crescendo.ai\", \"url\": \"https://www.crescendo.ai/news/latest-ai-news-and-updates\", \"content\": \"**Date:** May 30, 2025\\n\\n**Summary:** Nvidia CEO Jensen Huang issued a bold warning about the rapid evolution of AI, emphasizing that people who fail to adopt AI in their workflow risk being replaced by those who do. His comments underline the urgency for upskilling in a transforming job market. [...] ### **Global AI Scam Surge Hits $12.4B with Deepfakes and Voice Cloning**\\n\\n**Date:** May 31, 2025\\n\\n**Summary:** A new report warns of an alarming rise in global fraud, with $12.4 billion lost due to AI-driven scams including deepfakes, fake crypto platforms, and voice cloning. Experts urge stronger regulation and verification tools to tackle this new wave of digital crime. [...] ### **Diagnostics.ai Launches Transparent ML for Real-Time PCR Diagnostics**\\n\\n**Date:** May 31, 2025\\n\\n**Summary:** Diagnostics.ai has unveiled a fully transparent machine learning platform designed for real-time PCR diagnostics. The tool aims to enhance trust in AI-powered diagnostics by offering interpretability and traceability for every clinical decision.\", \"score\": 0.96162415}]\n",
      "=================================\u001b[1m Tool Message \u001b[0m=================================\n",
      "Name: multiply\n",
      "\n",
      "30\n",
      "==================================\u001b[1m Ai Message \u001b[0m==================================\n",
      "\n",
      "Here's the information you requested:\n",
      "\n",
      "**Top AI News from May 2025 (Summarized):**\n",
      "1. **NVIDIA & Microsoft Breakthroughs (May 2025)**  \n",
      "   - *Key Points*: NVIDIA's CEO warned about the risks of not adopting AI, while Microsoft announced advancements in efficient AI training. Major AI partnerships between the U.S., Saudi Arabia, and UAE were also reported.\n",
      "\n",
      "2. **AI in E-Commerce (Mid-May 2025)**  \n",
      "   - *Key Points*: Google, OpenAI, and Perplexity are integrating AI chatbots to streamline online shopping, allowing users to find products and complete purchases via AI assistants.\n",
      "\n",
      "3. **AI Ethics & Risks (Late May 2025)**  \n",
      "   - *Key Points*: A report highlighted a $12.4B surge in AI-driven scams (deepfakes, crypto fraud), prompting calls for stricter regulations. OpenAI’s Codex and xAI’s Grok chatbot faced scrutiny over ethical concerns.\n",
      "\n",
      "**Math Calculations:**  \n",
      "- **5 + 5 = 10**  \n",
      "- **3 × 10 = 30**  \n",
      "\n",
      "Let me know if you need further details!\n"
     ]
    }
   ],
   "source": [
    "messages = graph.invoke({\"messages\": HumanMessage(content = \n",
    "\"\"\" Provide me the Top AI news from the May 2025 ,  \n",
    "add 5 plus 5  and then multiply  3 and 10\n",
    "\"\"\")})\n",
    "\n",
    "\n",
    "### print resulst\n",
    "for m in messages['messages']:\n",
    "    m.pretty_print()"
   ]
  },
  {
   "cell_type": "code",
   "execution_count": 20,
   "id": "7caef755",
   "metadata": {},
   "outputs": [
    {
     "name": "stdout",
     "output_type": "stream",
     "text": [
      "================================\u001b[1m Human Message \u001b[0m=================================\n",
      "\n",
      "What is IPL  and what are the teams in IPL?\n",
      "==================================\u001b[1m Ai Message \u001b[0m==================================\n",
      "Tool Calls:\n",
      "  wikipedia (00yzstd8x)\n",
      " Call ID: 00yzstd8x\n",
      "  Args:\n",
      "    query: Indian Premier League\n",
      "=================================\u001b[1m Tool Message \u001b[0m=================================\n",
      "Name: wikipedia\n",
      "\n",
      "Page: Indian Premier League\n",
      "Summary: The Indian Premier League (IPL) is a professional Twenty20 (T20) cricket league in India, organised by the Board of Control for Cricket in India (BCCI). Founded in 2007, it features ten city-based franchise teams. The IPL is the most popular and richest cricket league, and the second-richest sports league in the world. It is held annually between March and May. It has an exclusive window in the Future Tours Programme of the International Cricket Council, resu\n",
      "==================================\u001b[1m Ai Message \u001b[0m==================================\n",
      "\n",
      "The Indian Premier League (IPL) is a premier professional Twenty20 (T20) cricket league in India, founded in 2007. It features **10 city-based franchise teams** that compete annually between March and May. The IPL is known for its high-profile players and large global audience.\n",
      "\n",
      "### Current IPL Teams (2024):\n",
      "1. **Chennai Super Kings (CSK)** – Based in Chennai  \n",
      "2. **Mumbai Indians (MI)** – Based in Mumbai  \n",
      "3. **Royal Challengers Bangalore (RCB)** – Based in Bengaluru  \n",
      "4. **Kolkata Knight Riders (KKR)** – Based in Kolkata  \n",
      "5. **Rajasthan Royals (RR)** – Based in Jaipur  \n",
      "6. **Delhi Capitals (DC)** – Based in Delhi  \n",
      "7. **Gujarat Titans (GT)** – Based in Gujarat  \n",
      "8. **Lucknow Super Giants (LSG)** – Based in Lucknow  \n",
      "9. **Punjab Kings (PBKS)** – Based in Punjab  \n",
      "10. **Sunrisers Hyderabad (SRH)** – Based in Hyderabad  \n",
      "\n",
      "Each team represents a different city in India and has a dedicated fan base. The league continues to evolve, so check official sources for the latest updates.\n"
     ]
    }
   ],
   "source": [
    "messages = graph.invoke({\"messages\": HumanMessage(content = \"What is IPL  and what are the teams in IPL?\")})\n",
    "\n",
    "\n",
    "### print resulst\n",
    "for m in messages['messages']:\n",
    "    m.pretty_print()"
   ]
  },
  {
   "cell_type": "markdown",
   "id": "e63ca674",
   "metadata": {},
   "source": [
    "### Agent memory\n",
    "\n",
    "##### Aim\n",
    "######  Let's introduce Agent with memory "
   ]
  },
  {
   "cell_type": "code",
   "execution_count": 21,
   "id": "ae5d3b63",
   "metadata": {},
   "outputs": [
    {
     "name": "stdout",
     "output_type": "stream",
     "text": [
      "================================\u001b[1m Human Message \u001b[0m=================================\n",
      "\n",
      "what us 5 Plus 8\n",
      "==================================\u001b[1m Ai Message \u001b[0m==================================\n",
      "\n",
      "The result of 5 plus 8 is 13. Since there's no \"add\" function available, I calculated it directly. Let me know if you need further help!\n"
     ]
    }
   ],
   "source": [
    "messages = graph.invoke({\"messages\": HumanMessage(content = \"what us 5 Plus 8\")})\n",
    "\n",
    "\n",
    "### print resulst\n",
    "for m in messages['messages']:\n",
    "    m.pretty_print()"
   ]
  },
  {
   "cell_type": "code",
   "execution_count": 22,
   "id": "2b23efb5",
   "metadata": {},
   "outputs": [
    {
     "name": "stdout",
     "output_type": "stream",
     "text": [
      "================================\u001b[1m Human Message \u001b[0m=================================\n",
      "\n",
      "Divide that by 5\n",
      "==================================\u001b[1m Ai Message \u001b[0m==================================\n",
      "\n",
      "I need to know which number you want to divide by 5. Please provide the value or expression you'd like to use.\n"
     ]
    }
   ],
   "source": [
    "messages = graph.invoke({\"messages\": HumanMessage(content = \"Divide that by 5\")})\n",
    "\n",
    "\n",
    "### print resulst\n",
    "for m in messages['messages']:\n",
    "    m.pretty_print()"
   ]
  },
  {
   "cell_type": "markdown",
   "id": "59f86ae1",
   "metadata": {},
   "source": [
    "### 🧠 MemorySaver (LangGraph Checkpointer)\n",
    "- LangGraph can automatically save graph state after each step using a checkpointer.\n",
    "\n",
    "- This enables persistence—allowing the graph to resume from the last saved state.\n",
    "\n",
    "- MemorySaver is a built-in, in-memory key-value store checkpointer.\n",
    "\n",
    "- It's one of the simplest ways to add memory to a graph.\n",
    "\n",
    "- ✅ To use it: compile the graph with a checkpointer, and memory is enabled."
   ]
  },
  {
   "cell_type": "markdown",
   "id": "ebdfe70a",
   "metadata": {},
   "source": [
    "### MemorySaver\n",
    "\n",
    "LangGraph can use a checkpointer to automatically save the graph state after each step.\n",
    "\n",
    "This built-in persistence layer gives us memory, allowing LangGraph to pick up from the last state update.\n",
    "\n",
    "One of the easiest checkpointers to use is the MemorySaver, an in-memory key-value store for Graph state.\n",
    "\n",
    "All we need to do is simply compile the graph with a checkpointer, and our graph has memory!\n"
   ]
  },
  {
   "cell_type": "code",
   "execution_count": 23,
   "id": "f96114a9",
   "metadata": {},
   "outputs": [
    {
     "data": {
      "image/png": "[encoded data removed]",
      "text/plain": [
       "<IPython.core.display.Image object>"
      ]
     },
     "metadata": {},
     "output_type": "display_data"
    }
   ],
   "source": [
    "from langgraph.checkpoint.memory import MemorySaver \n",
    "memory = MemorySaver()\n",
    "## Checkpointer\n",
    "graph_memory =  builder.compile(checkpointer = memory)\n",
    "\n",
    "\n",
    "## view \n",
    "display(Image(graph.get_graph().draw_mermaid_png()))"
   ]
  },
  {
   "cell_type": "code",
   "execution_count": 24,
   "id": "15ddf246",
   "metadata": {},
   "outputs": [
    {
     "name": "stdout",
     "output_type": "stream",
     "text": [
      "================================\u001b[1m Human Message \u001b[0m=================================\n",
      "\n",
      "Add 12 and 13\n",
      "==================================\u001b[1m Ai Message \u001b[0m==================================\n",
      "Tool Calls:\n",
      "  tavily_search_results_json (b52v7j0k4)\n",
      " Call ID: b52v7j0k4\n",
      "  Args:\n",
      "    query: 12 + 13\n",
      "=================================\u001b[1m Tool Message \u001b[0m=================================\n",
      "Name: tavily_search_results_json\n",
      "\n",
      "[{\"title\": \"Learn Multiplication Table of 12 and 13 in English - YouTube\", \"url\": \"https://www.youtube.com/watch?v=kbGjHn85QLg\", \"content\": \"Learn Table of 12 and 13 in English | Table of 12 | Table of 13 | 12 ka Table | Table #tableof12 #tableof13 #table #tables #kidsvideo #kids\", \"score\": 0.5174983}, {\"title\": \"Multiply 12*13 - Mathway\", \"url\": \"https://www.mathway.com/popular-problems/Basic%20Math/30190\", \"content\": \"|  |  |  |\\n| --- | --- | --- |\\n|  |  |  |\\n|  |  |  |\\n|  |  |  |\\n|  |  |  |\\n|  |  |  |\\n|  |  |  |\\n\\n|  |  |  |\\n| --- | --- | --- |\\n|  |  |  |\\n|  |  |  |\\n|  |  |  |\\n|  |  |  |\\n|  |  |  |\\n|  |  |  |\\n\\n|  |  |  |\\n| --- | --- | --- |\\n|  |  |  |\\n|  |  |  |\\n|  |  |  |\\n|  |  |  |\\n|  |  |  |\\n|  |  |  |\\n\\n|  |\\n| --- |\\n|  |\\n\\nPlease ensure that your password is at least 8 characters and contains each of the following: [...] # Basic Math Examples\\n\\n|  |  |  |\\n| --- | --- | --- |\\n|  |  |  |\\n|  |  |  |\\n|  |  |  |\\n|  |  |  |\\n\\n|  |  |  |\\n| --- | --- | --- |\\n|  |  |  |\\n|  |  |  |\\n|  |  |  |\\n|  |  |  |\\n\\n|  |  |  |\\n| --- | --- | --- |\\n|  |  |  |\\n|  |  |  |\\n|  |  |  |\\n|  |  |  |\\n|  |  |  |\\n\\n|  |  |  |\\n| --- | --- | --- |\\n|  |  |  |\\n|  |  |  |\\n|  |  |  |\\n|  |  |  |\\n|  |  |  |\\n\\n|  |  |  |\\n| --- | --- | --- |\\n|  |  |  |\\n|  |  |  |\\n|  |  |  |\\n|  |  |  |\\n|  |  |  |\\n|  |  |  |\", \"score\": 0.4948006}, {\"title\": \"Numbers 12:13 - Sefaria\", \"url\": \"https://www.sefaria.org/Numbers.12.13\", \"content\": \"אַל־נָ֥א תְהִ֖י כַּמֵּ֑ת אֲשֶׁ֤ר בְּצֵאתוֹ֙ מֵרֶ֣חֶם אִמּ֔וֹ וַיֵּאָכֵ֖ל חֲצִ֥י בְשָׂרֽוֹ׃ Let her not be like a stillbirth which emerges from its mother's womb with half its flesh eaten away!” 13.\", \"score\": 0.4069804}, {\"title\": \"Learn Table of 12, 13 and 14 - YouTube\", \"url\": \"https://www.youtube.com/watch?v=5fJO0s6dn7g\", \"content\": \"Learn Table of 12, 13 and 14 | Table of 12 | Table of 13 | Table of 14 | Maths Tables | Part2 | RSGauri Hello Friends, Welcome to our\", \"score\": 0.35851082}, {\"title\": \"Ecclesiastes 12:13 NIV - Now all has been heard - Bible Gateway\", \"url\": \"https://www.biblegateway.com/passage/?search=Ecclesiastes%2012%3A13&version=NIV\", \"content\": \"Holy Bible, New International Version®, NIV® Copyright ©1973, 1978, 1984, 2011 by [Biblica, Inc.®](http://www.biblica.com/) Used by permission. All rights reserved worldwide.\\n\\nNIV Reverse Interlinear Bible: English to Hebrew and English to Greek. Copyright © 2019 by Zondervan.\\n\\n![July Summer Surge](https://staticu.bgcdn.com/pub-bug-images/BiblicaJanFeb160x90.jpg)\\n\\n### More on the NIV\\n\\n#### Bible Gateway Recommends [...] ![NIV, The Woman's Study Bible, Full-Color, Red Letter: Receiving God's Truth for Balance, Hope, and Transformation](https://cdn.shopify.com/s/files/1/0044/1309/6047/products/9780785212379.jpg?v=1740689631)\\n![NIV, Artisan Collection Bible, Gilded Edges, Red Letter Edition, Comfort Print](https://cdn.shopify.com/s/files/1/0044/1309/6047/products/9780310454229.jpg?v=1717017749) [...] ![NIV, Lucado Encouraging Word Bible, Comfort Print: Holy Bible, New International Version](https://cdn.shopify.com/s/files/1/0044/1309/6047/products/9780718075453.jpg?v=1659560990)\\n![NIV, Cultural Backgrounds Study Bible, Red Letter Edition: Bringing to Life the Ancient World of Scripture](https://cdn.shopify.com/s/files/1/0044/1309/6047/products/431583.jpg?v=1660758265)\", \"score\": 0.25881788}]\n",
      "==================================\u001b[1m Ai Message \u001b[0m==================================\n",
      "\n",
      "The sum of 12 and 13 is **25**. \n",
      "\n",
      "Since the tools provided didn't directly compute arithmetic, I calculated it manually:  \n",
      "12 + 13 = 25. Let me know if you need further help!\n"
     ]
    }
   ],
   "source": [
    "##Specify the thread\n",
    "config = {\"configurable\":{\"thread_id\":\"1\"}}\n",
    "##specify an input\n",
    "messages = [HumanMessage(content = f\"Add 12 and 13\" )]\n",
    "\n",
    "messages = graph_memory.invoke({'messages':messages},config = config)\n",
    "\n",
    "\n",
    "###\n",
    "for m in messages['messages']:\n",
    "    m.pretty_print()"
   ]
  },
  {
   "cell_type": "code",
   "execution_count": 25,
   "id": "134bfc4e",
   "metadata": {},
   "outputs": [
    {
     "name": "stdout",
     "output_type": "stream",
     "text": [
      "================================\u001b[1m Human Message \u001b[0m=================================\n",
      "\n",
      "Add 12 and 13\n",
      "==================================\u001b[1m Ai Message \u001b[0m==================================\n",
      "Tool Calls:\n",
      "  tavily_search_results_json (b52v7j0k4)\n",
      " Call ID: b52v7j0k4\n",
      "  Args:\n",
      "    query: 12 + 13\n",
      "=================================\u001b[1m Tool Message \u001b[0m=================================\n",
      "Name: tavily_search_results_json\n",
      "\n",
      "[{\"title\": \"Learn Multiplication Table of 12 and 13 in English - YouTube\", \"url\": \"https://www.youtube.com/watch?v=kbGjHn85QLg\", \"content\": \"Learn Table of 12 and 13 in English | Table of 12 | Table of 13 | 12 ka Table | Table #tableof12 #tableof13 #table #tables #kidsvideo #kids\", \"score\": 0.5174983}, {\"title\": \"Multiply 12*13 - Mathway\", \"url\": \"https://www.mathway.com/popular-problems/Basic%20Math/30190\", \"content\": \"|  |  |  |\\n| --- | --- | --- |\\n|  |  |  |\\n|  |  |  |\\n|  |  |  |\\n|  |  |  |\\n|  |  |  |\\n|  |  |  |\\n\\n|  |  |  |\\n| --- | --- | --- |\\n|  |  |  |\\n|  |  |  |\\n|  |  |  |\\n|  |  |  |\\n|  |  |  |\\n|  |  |  |\\n\\n|  |  |  |\\n| --- | --- | --- |\\n|  |  |  |\\n|  |  |  |\\n|  |  |  |\\n|  |  |  |\\n|  |  |  |\\n|  |  |  |\\n\\n|  |\\n| --- |\\n|  |\\n\\nPlease ensure that your password is at least 8 characters and contains each of the following: [...] # Basic Math Examples\\n\\n|  |  |  |\\n| --- | --- | --- |\\n|  |  |  |\\n|  |  |  |\\n|  |  |  |\\n|  |  |  |\\n\\n|  |  |  |\\n| --- | --- | --- |\\n|  |  |  |\\n|  |  |  |\\n|  |  |  |\\n|  |  |  |\\n\\n|  |  |  |\\n| --- | --- | --- |\\n|  |  |  |\\n|  |  |  |\\n|  |  |  |\\n|  |  |  |\\n|  |  |  |\\n\\n|  |  |  |\\n| --- | --- | --- |\\n|  |  |  |\\n|  |  |  |\\n|  |  |  |\\n|  |  |  |\\n|  |  |  |\\n\\n|  |  |  |\\n| --- | --- | --- |\\n|  |  |  |\\n|  |  |  |\\n|  |  |  |\\n|  |  |  |\\n|  |  |  |\\n|  |  |  |\", \"score\": 0.4948006}, {\"title\": \"Numbers 12:13 - Sefaria\", \"url\": \"https://www.sefaria.org/Numbers.12.13\", \"content\": \"אַל־נָ֥א תְהִ֖י כַּמֵּ֑ת אֲשֶׁ֤ר בְּצֵאתוֹ֙ מֵרֶ֣חֶם אִמּ֔וֹ וַיֵּאָכֵ֖ל חֲצִ֥י בְשָׂרֽוֹ׃ Let her not be like a stillbirth which emerges from its mother's womb with half its flesh eaten away!” 13.\", \"score\": 0.4069804}, {\"title\": \"Learn Table of 12, 13 and 14 - YouTube\", \"url\": \"https://www.youtube.com/watch?v=5fJO0s6dn7g\", \"content\": \"Learn Table of 12, 13 and 14 | Table of 12 | Table of 13 | Table of 14 | Maths Tables | Part2 | RSGauri Hello Friends, Welcome to our\", \"score\": 0.35851082}, {\"title\": \"Ecclesiastes 12:13 NIV - Now all has been heard - Bible Gateway\", \"url\": \"https://www.biblegateway.com/passage/?search=Ecclesiastes%2012%3A13&version=NIV\", \"content\": \"Holy Bible, New International Version®, NIV® Copyright ©1973, 1978, 1984, 2011 by [Biblica, Inc.®](http://www.biblica.com/) Used by permission. All rights reserved worldwide.\\n\\nNIV Reverse Interlinear Bible: English to Hebrew and English to Greek. Copyright © 2019 by Zondervan.\\n\\n![July Summer Surge](https://staticu.bgcdn.com/pub-bug-images/BiblicaJanFeb160x90.jpg)\\n\\n### More on the NIV\\n\\n#### Bible Gateway Recommends [...] ![NIV, The Woman's Study Bible, Full-Color, Red Letter: Receiving God's Truth for Balance, Hope, and Transformation](https://cdn.shopify.com/s/files/1/0044/1309/6047/products/9780785212379.jpg?v=1740689631)\\n![NIV, Artisan Collection Bible, Gilded Edges, Red Letter Edition, Comfort Print](https://cdn.shopify.com/s/files/1/0044/1309/6047/products/9780310454229.jpg?v=1717017749) [...] ![NIV, Lucado Encouraging Word Bible, Comfort Print: Holy Bible, New International Version](https://cdn.shopify.com/s/files/1/0044/1309/6047/products/9780718075453.jpg?v=1659560990)\\n![NIV, Cultural Backgrounds Study Bible, Red Letter Edition: Bringing to Life the Ancient World of Scripture](https://cdn.shopify.com/s/files/1/0044/1309/6047/products/431583.jpg?v=1660758265)\", \"score\": 0.25881788}]\n",
      "==================================\u001b[1m Ai Message \u001b[0m==================================\n",
      "\n",
      "The sum of 12 and 13 is **25**. \n",
      "\n",
      "Since the tools provided didn't directly compute arithmetic, I calculated it manually:  \n",
      "12 + 13 = 25. Let me know if you need further help!\n",
      "================================\u001b[1m Human Message \u001b[0m=================================\n",
      "\n",
      "Add that number to 25\n",
      "==================================\u001b[1m Ai Message \u001b[0m==================================\n",
      "\n",
      "The result of adding 25 (the previous total) to 25 is **50**.  \n",
      "\n",
      "Since this is straightforward arithmetic, I computed it directly without needing external tools. Let me know if you have other calculations!\n"
     ]
    }
   ],
   "source": [
    "### continue \n",
    "messages = [HumanMessage(content = f\"Add that number to 25\" )]\n",
    "\n",
    "messages = graph_memory.invoke({'messages':messages},config = config)\n",
    "\n",
    "\n",
    "###\n",
    "for m in messages['messages']:\n",
    "    m.pretty_print()"
   ]
  },
  {
   "cell_type": "code",
   "execution_count": 26,
   "id": "97a4ba61",
   "metadata": {},
   "outputs": [
    {
     "name": "stdout",
     "output_type": "stream",
     "text": [
      "================================\u001b[1m Human Message \u001b[0m=================================\n",
      "\n",
      "Add 12 and 13\n",
      "==================================\u001b[1m Ai Message \u001b[0m==================================\n",
      "Tool Calls:\n",
      "  tavily_search_results_json (b52v7j0k4)\n",
      " Call ID: b52v7j0k4\n",
      "  Args:\n",
      "    query: 12 + 13\n",
      "=================================\u001b[1m Tool Message \u001b[0m=================================\n",
      "Name: tavily_search_results_json\n",
      "\n",
      "[{\"title\": \"Learn Multiplication Table of 12 and 13 in English - YouTube\", \"url\": \"https://www.youtube.com/watch?v=kbGjHn85QLg\", \"content\": \"Learn Table of 12 and 13 in English | Table of 12 | Table of 13 | 12 ka Table | Table #tableof12 #tableof13 #table #tables #kidsvideo #kids\", \"score\": 0.5174983}, {\"title\": \"Multiply 12*13 - Mathway\", \"url\": \"https://www.mathway.com/popular-problems/Basic%20Math/30190\", \"content\": \"|  |  |  |\\n| --- | --- | --- |\\n|  |  |  |\\n|  |  |  |\\n|  |  |  |\\n|  |  |  |\\n|  |  |  |\\n|  |  |  |\\n\\n|  |  |  |\\n| --- | --- | --- |\\n|  |  |  |\\n|  |  |  |\\n|  |  |  |\\n|  |  |  |\\n|  |  |  |\\n|  |  |  |\\n\\n|  |  |  |\\n| --- | --- | --- |\\n|  |  |  |\\n|  |  |  |\\n|  |  |  |\\n|  |  |  |\\n|  |  |  |\\n|  |  |  |\\n\\n|  |\\n| --- |\\n|  |\\n\\nPlease ensure that your password is at least 8 characters and contains each of the following: [...] # Basic Math Examples\\n\\n|  |  |  |\\n| --- | --- | --- |\\n|  |  |  |\\n|  |  |  |\\n|  |  |  |\\n|  |  |  |\\n\\n|  |  |  |\\n| --- | --- | --- |\\n|  |  |  |\\n|  |  |  |\\n|  |  |  |\\n|  |  |  |\\n\\n|  |  |  |\\n| --- | --- | --- |\\n|  |  |  |\\n|  |  |  |\\n|  |  |  |\\n|  |  |  |\\n|  |  |  |\\n\\n|  |  |  |\\n| --- | --- | --- |\\n|  |  |  |\\n|  |  |  |\\n|  |  |  |\\n|  |  |  |\\n|  |  |  |\\n\\n|  |  |  |\\n| --- | --- | --- |\\n|  |  |  |\\n|  |  |  |\\n|  |  |  |\\n|  |  |  |\\n|  |  |  |\\n|  |  |  |\", \"score\": 0.4948006}, {\"title\": \"Numbers 12:13 - Sefaria\", \"url\": \"https://www.sefaria.org/Numbers.12.13\", \"content\": \"אַל־נָ֥א תְהִ֖י כַּמֵּ֑ת אֲשֶׁ֤ר בְּצֵאתוֹ֙ מֵרֶ֣חֶם אִמּ֔וֹ וַיֵּאָכֵ֖ל חֲצִ֥י בְשָׂרֽוֹ׃ Let her not be like a stillbirth which emerges from its mother's womb with half its flesh eaten away!” 13.\", \"score\": 0.4069804}, {\"title\": \"Learn Table of 12, 13 and 14 - YouTube\", \"url\": \"https://www.youtube.com/watch?v=5fJO0s6dn7g\", \"content\": \"Learn Table of 12, 13 and 14 | Table of 12 | Table of 13 | Table of 14 | Maths Tables | Part2 | RSGauri Hello Friends, Welcome to our\", \"score\": 0.35851082}, {\"title\": \"Ecclesiastes 12:13 NIV - Now all has been heard - Bible Gateway\", \"url\": \"https://www.biblegateway.com/passage/?search=Ecclesiastes%2012%3A13&version=NIV\", \"content\": \"Holy Bible, New International Version®, NIV® Copyright ©1973, 1978, 1984, 2011 by [Biblica, Inc.®](http://www.biblica.com/) Used by permission. All rights reserved worldwide.\\n\\nNIV Reverse Interlinear Bible: English to Hebrew and English to Greek. Copyright © 2019 by Zondervan.\\n\\n![July Summer Surge](https://staticu.bgcdn.com/pub-bug-images/BiblicaJanFeb160x90.jpg)\\n\\n### More on the NIV\\n\\n#### Bible Gateway Recommends [...] ![NIV, The Woman's Study Bible, Full-Color, Red Letter: Receiving God's Truth for Balance, Hope, and Transformation](https://cdn.shopify.com/s/files/1/0044/1309/6047/products/9780785212379.jpg?v=1740689631)\\n![NIV, Artisan Collection Bible, Gilded Edges, Red Letter Edition, Comfort Print](https://cdn.shopify.com/s/files/1/0044/1309/6047/products/9780310454229.jpg?v=1717017749) [...] ![NIV, Lucado Encouraging Word Bible, Comfort Print: Holy Bible, New International Version](https://cdn.shopify.com/s/files/1/0044/1309/6047/products/9780718075453.jpg?v=1659560990)\\n![NIV, Cultural Backgrounds Study Bible, Red Letter Edition: Bringing to Life the Ancient World of Scripture](https://cdn.shopify.com/s/files/1/0044/1309/6047/products/431583.jpg?v=1660758265)\", \"score\": 0.25881788}]\n",
      "==================================\u001b[1m Ai Message \u001b[0m==================================\n",
      "\n",
      "The sum of 12 and 13 is **25**. \n",
      "\n",
      "Since the tools provided didn't directly compute arithmetic, I calculated it manually:  \n",
      "12 + 13 = 25. Let me know if you need further help!\n",
      "================================\u001b[1m Human Message \u001b[0m=================================\n",
      "\n",
      "Add that number to 25\n",
      "==================================\u001b[1m Ai Message \u001b[0m==================================\n",
      "\n",
      "The result of adding 25 (the previous total) to 25 is **50**.  \n",
      "\n",
      "Since this is straightforward arithmetic, I computed it directly without needing external tools. Let me know if you have other calculations!\n",
      "================================\u001b[1m Human Message \u001b[0m=================================\n",
      "\n",
      "Multiply the number by 2\n",
      "==================================\u001b[1m Ai Message \u001b[0m==================================\n",
      "Tool Calls:\n",
      "  multiply (nv69tz83g)\n",
      " Call ID: nv69tz83g\n",
      "  Args:\n",
      "    a: 50\n",
      "    b: 2\n",
      "=================================\u001b[1m Tool Message \u001b[0m=================================\n",
      "Name: multiply\n",
      "\n",
      "100\n",
      "==================================\u001b[1m Ai Message \u001b[0m==================================\n",
      "\n",
      "The result of multiplying the previous total (100) by 2 is **200**.  \n",
      "\n",
      "Here's the full progression:  \n",
      "12 + 13 = 25  \n",
      "25 + 25 = 50  \n",
      "50 × 2 = 100  \n",
      "100 × 2 = **200**  \n",
      "\n",
      "Let me know if you want to continue or try something else!\n"
     ]
    }
   ],
   "source": [
    "### continue \n",
    "messages = [HumanMessage(content = f\"Multiply the number by 2\" )]\n",
    "\n",
    "messages = graph_memory.invoke({'messages':messages},config = config)\n",
    "\n",
    "\n",
    "###\n",
    "for m in messages['messages']:\n",
    "    m.pretty_print()"
   ]
  },
  {
   "cell_type": "code",
   "execution_count": null,
   "id": "7eef9499",
   "metadata": {},
   "outputs": [],
   "source": []
  },
  {
   "cell_type": "code",
   "execution_count": null,
   "id": "b3a4fa03",
   "metadata": {},
   "outputs": [],
   "source": []
  },
  {
   "cell_type": "code",
   "execution_count": null,
   "id": "63cbc99a",
   "metadata": {},
   "outputs": [],
   "source": []
  }
 ],
 "metadata": {
  "kernelspec": {
   "display_name": "Python 3",
   "language": "python",
   "name": "python3"
  },
  "language_info": {
   "codemirror_mode": {
    "name": "ipython",
    "version": 3
   },
   "file_extension": ".py",
   "mimetype": "text/x-python",
   "name": "python",
   "nbconvert_exporter": "python",
   "pygments_lexer": "ipython3",
   "version": "3.12.11"
  }
 },
 "nbformat": 4,
 "nbformat_minor": 5
}
