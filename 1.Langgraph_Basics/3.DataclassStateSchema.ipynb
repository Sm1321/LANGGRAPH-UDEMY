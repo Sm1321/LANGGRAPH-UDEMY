{
 "cells": [
  {
   "cell_type": "markdown",
   "id": "7b4a0bac",
   "metadata": {},
   "source": [
    "### State Schema with DataClass\n",
    "- when we define a Langchain StateGraph , we use a state Schema\n",
    "\n",
    "- The State Schema represents the structure and types of data that our graph will use.\n",
    "\n",
    "- All nodes are expected to commmunicate with that schema\n",
    "- Langgraph offers flexibility in how your state schema , accomodating various python types and validation approches! "
   ]
  },
  {
   "cell_type": "markdown",
   "id": "3fb83435",
   "metadata": {},
   "source": [
    "### TypedDict\n",
    "- We can use the typedDict class from the Python's typing module\n",
    "- It allows you to specify keys and their corresponding values types\n",
    "- But,note that these are type hints\n",
    "- They can be used by static type checkers(like mypy) or IDE'S to cattch poetential type-related errors before the code is run\n",
    "- but , they are not enforced at runtime"
   ]
  },
  {
   "cell_type": "code",
   "execution_count": 58,
   "id": "448c5636",
   "metadata": {},
   "outputs": [],
   "source": [
    "from typing_extensions import TypedDict\n",
    "from typing import Literal,Annotated\n",
    "\n",
    "\n",
    "class TypedDictState(TypedDict):\n",
    "    name : Annotated[str,\"give the name\"]\n",
    "    game:Literal[\"Cricket\",\"Badminton\"]"
   ]
  },
  {
   "cell_type": "code",
   "execution_count": 59,
   "id": "bc321343",
   "metadata": {},
   "outputs": [],
   "source": [
    "def play_game(state:TypedDictState):\n",
    "    print(\"---Play Game Node has been called---\")\n",
    "    return {\"name\":state['name'] + \" Want to play \"}\n",
    "\n",
    "def cricket(state:TypedDictState):\n",
    "    print(\"-- Cricket Node has been called--\")\n",
    "    # return {\"game\":\"Cricket\"}   \n",
    "    return {\"name\":state['name']+\"cricket\" ,\"game\":\"Cricket\"}\n",
    "\n",
    "\n",
    "def badminton(state:TypedDictState):\n",
    "    print(\"-- badminton Node has been called--\")\n",
    "    # return {\"game\":\"Badminton\"}    \n",
    "    return {\"name\":state['name']+\"cricket\" ,\"game\":\"Badminton\"}\n"
   ]
  },
  {
   "cell_type": "code",
   "execution_count": 60,
   "id": "9d8d128a",
   "metadata": {},
   "outputs": [],
   "source": [
    "import random \n",
    "def decide_play(state:TypedDictState)->Literal[\"cricket\",\"badminton\"]:\n",
    "    #Here, let's jusr do 50/50 split between nodes 2,3\n",
    "    if random.random() > 0.5:\n",
    "        return \"cricket\" \n",
    "    else:\n",
    "        return \"badminton\""
   ]
  },
  {
   "cell_type": "code",
   "execution_count": 61,
   "id": "2cdb4107",
   "metadata": {},
   "outputs": [
    {
     "data": {
      "image/png": "[encoded data removed]",
      "text/plain": [
       "<IPython.core.display.Image object>"
      ]
     },
     "metadata": {},
     "output_type": "display_data"
    }
   ],
   "source": [
    "import random\n",
    "from IPython.display import Image,display\n",
    "from langgraph.graph import StateGraph,START,END \n",
    "\n",
    "\n",
    "builder = StateGraph(TypedDictState)\n",
    "builder.add_node(\"playgame\",play_game)\n",
    "builder.add_node(\"cricket\",cricket)\n",
    "builder.add_node(\"badminton\",badminton)\n",
    "\n",
    "\n",
    "## Flow  of the Grapg\n",
    "builder.add_edge(START,\"playgame\")\n",
    "builder.add_conditional_edges(\"playgame\",decide_play)\n",
    "builder.add_edge(\"cricket\",END)\n",
    "builder.add_edge(\"badminton\",END)\n",
    "\n",
    "#add\n",
    "graph = builder.compile()\n",
    "\n",
    "#disply\n",
    "display(Image(graph.get_graph().draw_mermaid_png()))\n"
   ]
  },
  {
   "cell_type": "code",
   "execution_count": 62,
   "id": "92158496",
   "metadata": {},
   "outputs": [
    {
     "name": "stdout",
     "output_type": "stream",
     "text": [
      "---Play Game Node has been called---\n",
      "-- Cricket Node has been called--\n"
     ]
    },
    {
     "data": {
      "text/plain": [
       "{'name': 'Mohan Want to play cricket', 'game': 'Cricket'}"
      ]
     },
     "execution_count": 62,
     "metadata": {},
     "output_type": "execute_result"
    }
   ],
   "source": [
    "graph.invoke({'name':\"Mohan\"})"
   ]
  },
  {
   "cell_type": "code",
   "execution_count": 63,
   "id": "aa951542",
   "metadata": {},
   "outputs": [
    {
     "name": "stdout",
     "output_type": "stream",
     "text": [
      "---Play Game Node has been called---\n",
      "-- Cricket Node has been called--\n"
     ]
    },
    {
     "data": {
      "text/plain": [
       "{'name': 'Ram Want to play cricket', 'game': 'Cricket'}"
      ]
     },
     "execution_count": 63,
     "metadata": {},
     "output_type": "execute_result"
    }
   ],
   "source": [
    "graph.invoke({'name':\"Ram\"})"
   ]
  },
  {
   "cell_type": "code",
   "execution_count": 49,
   "id": "7f133569",
   "metadata": {},
   "outputs": [
    {
     "name": "stdout",
     "output_type": "stream",
     "text": [
      "---Play Game Node has been called---\n",
      "-- Cricket Node has been called--\n"
     ]
    },
    {
     "data": {
      "text/plain": [
       "{'name': 'Mohan Want to play ', 'game': 'Cricket'}"
      ]
     },
     "execution_count": 49,
     "metadata": {},
     "output_type": "execute_result"
    }
   ],
   "source": [
    "graph.invoke({'name':\"Mohan\"})"
   ]
  },
  {
   "cell_type": "markdown",
   "id": "c8db4c90",
   "metadata": {},
   "source": [
    "### Dataclasses\n",
    "- Python's Dataclasses provide another way to define structures data.\n",
    "- Dataclasses offer a concise syntax for creating classes that are primarily used to store data. "
   ]
  },
  {
   "cell_type": "code",
   "execution_count": 65,
   "id": "d8d330e3",
   "metadata": {},
   "outputs": [],
   "source": [
    "### DataClasses\n",
    "\n",
    "from dataclasses import dataclass\n",
    "\n",
    "\n",
    "\n",
    "@dataclass\n",
    "class DataClassState:\n",
    "    name : str \n",
    "    game:Literal[\"badmintion\",\"cricket\"]\n",
    "\n",
    "    "
   ]
  },
  {
   "cell_type": "code",
   "execution_count": 66,
   "id": "face295b",
   "metadata": {},
   "outputs": [],
   "source": [
    "def play_game(state:DataClassState):\n",
    "    print(\"---Play Game Node has been called---\")\n",
    "    return {\"name\":state.name + \" Want to play \"}\n",
    "\n",
    "def cricket(state:DataClassState):\n",
    "    print(\"-- Cricket Node has been called--\")\n",
    "    # return {\"game\":\"Cricket\"}   \n",
    "    return {\"name\":state.name+\"cricket\" ,\"game\":\"Cricket\"}\n",
    "\n",
    "\n",
    "def badminton(state:DataClassState):\n",
    "    print(\"-- badminton Node has been called--\")\n",
    "    # return {\"game\":\"Badminton\"}    \n",
    "    return {\"name\":state.name+\"cricket\" ,\"game\":\"Badminton\"}\n"
   ]
  },
  {
   "cell_type": "code",
   "execution_count": 67,
   "id": "836e0f31",
   "metadata": {},
   "outputs": [
    {
     "data": {
      "image/png": "[encoded data removed]",
      "text/plain": [
       "<IPython.core.display.Image object>"
      ]
     },
     "metadata": {},
     "output_type": "display_data"
    }
   ],
   "source": [
    "import random\n",
    "from IPython.display import Image,display\n",
    "from langgraph.graph import StateGraph,START,END \n",
    "\n",
    "\n",
    "builder = StateGraph(DataClassState)\n",
    "builder.add_node(\"playgame\",play_game)\n",
    "builder.add_node(\"cricket\",cricket)\n",
    "builder.add_node(\"badminton\",badminton)\n",
    "\n",
    "\n",
    "## Flow  of the Grapg\n",
    "builder.add_edge(START,\"playgame\")\n",
    "builder.add_conditional_edges(\"playgame\",decide_play)\n",
    "builder.add_edge(\"cricket\",END)\n",
    "builder.add_edge(\"badminton\",END)\n",
    "\n",
    "#add\n",
    "graph = builder.compile()\n",
    "\n",
    "#disply\n",
    "display(Image(graph.get_graph().draw_mermaid_png()))\n"
   ]
  },
  {
   "cell_type": "code",
   "execution_count": 68,
   "id": "2081e5cb",
   "metadata": {},
   "outputs": [
    {
     "name": "stdout",
     "output_type": "stream",
     "text": [
      "---Play Game Node has been called---\n",
      "-- Cricket Node has been called--\n"
     ]
    },
    {
     "data": {
      "text/plain": [
       "{'name': 'Mohan Want to play cricket', 'game': 'Cricket'}"
      ]
     },
     "execution_count": 68,
     "metadata": {},
     "output_type": "execute_result"
    }
   ],
   "source": [
    "graph.invoke(DataClassState(name = \"Mohan\",game = \"cricket\"))"
   ]
  },
  {
   "cell_type": "code",
   "execution_count": null,
   "id": "c4be5550",
   "metadata": {},
   "outputs": [],
   "source": []
  },
  {
   "cell_type": "code",
   "execution_count": null,
   "id": "c426e631",
   "metadata": {},
   "outputs": [],
   "source": []
  }
 ],
 "metadata": {
  "kernelspec": {
   "display_name": "Python 3",
   "language": "python",
   "name": "python3"
  },
  "language_info": {
   "codemirror_mode": {
    "name": "ipython",
    "version": 3
   },
   "file_extension": ".py",
   "mimetype": "text/x-python",
   "name": "python",
   "nbconvert_exporter": "python",
   "pygments_lexer": "ipython3",
   "version": "3.12.0"
  }
 },
 "nbformat": 4,
 "nbformat_minor": 5
}
