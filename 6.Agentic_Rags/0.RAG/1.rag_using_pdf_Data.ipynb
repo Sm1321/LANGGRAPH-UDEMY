{
 "cells": [
  {
   "cell_type": "code",
   "execution_count": 24,
   "id": "745d8e57",
   "metadata": {},
   "outputs": [],
   "source": [
    "import os"
   ]
  },
  {
   "cell_type": "code",
   "execution_count": null,
   "id": "924214c4",
   "metadata": {},
   "outputs": [],
   "source": [
    "! pip install langchain_huggingface -q\n",
    "! pip install unstructured -q\n",
    "! pip install  unstructured[pdf] -q"
   ]
  },
  {
   "cell_type": "code",
   "execution_count": 26,
   "id": "4ca740b9",
   "metadata": {},
   "outputs": [],
   "source": [
    "import os\n",
    "import logging\n",
    "from langchain_community.vectorstores import FAISS\n",
    "from langchain_community.document_loaders import DirectoryLoader\n",
    "from langchain.text_splitter import RecursiveCharacterTextSplitter\n",
    "from langchain_huggingface import HuggingFaceEmbeddings\n",
    "from langchain_groq import ChatGroq\n",
    "from langchain_community.llms import HuggingFaceHub\n",
    "from langchain.chains import create_retrieval_chain\n",
    "from langchain.chains.combine_documents import create_stuff_documents_chain\n",
    "from langchain_core.prompts import ChatPromptTemplate\n",
    "\n",
    "# === CONFIG ===\n",
    "DATA_PATH = \"data\"\n",
    "DB_FAISS_PATH = \"vectorstore/faiss_index\"\n",
    "HUGGINGFACE_REPO_ID = \"google/flan-t5-base\"\n",
    "HF_TOKEN = os.getenv(\"HF_TOKEN\")\n",
    "CHUNK_SIZE = 1000\n",
    "CHUNK_OVERLAP = 200"
   ]
  },
  {
   "cell_type": "code",
   "execution_count": null,
   "id": "2684b27a",
   "metadata": {},
   "outputs": [],
   "source": [
    "\n",
    "# === LOGGER ===\n",
    "logging.basicConfig(level=logging.INFO)\n",
    "logger = logging.getLogger(__name__)"
   ]
  },
  {
   "cell_type": "code",
   "execution_count": 28,
   "id": "4f24ea70",
   "metadata": {},
   "outputs": [],
   "source": [
    "# === CORE FUNCTIONS ===\n",
    "def get_embedding_model():\n",
    "    return HuggingFaceEmbeddings(model_name=\"sentence-transformers/all-MiniLM-L6-v2\")\n",
    "\n",
    "def load_pdfs():\n",
    "    if not os.path.exists(DATA_PATH):\n",
    "        raise FileNotFoundError(\"PDF data path not found.\")\n",
    "    return DirectoryLoader(DATA_PATH, glob=\"*.pdf\").load()\n",
    "\n",
    "def build_vectorstore():\n",
    "    docs = load_pdfs()\n",
    "    chunks = RecursiveCharacterTextSplitter(\n",
    "        chunk_size=CHUNK_SIZE, chunk_overlap=CHUNK_OVERLAP\n",
    "    ).split_documents(docs)\n",
    "\n",
    "    db = FAISS.from_documents(chunks, get_embedding_model())\n",
    "    os.makedirs(os.path.dirname(DB_FAISS_PATH), exist_ok=True)\n",
    "    db.save_local(DB_FAISS_PATH)\n",
    "    logger.info(\"Vectorstore saved successfully.\")\n",
    "\n",
    "def load_vectorstore():\n",
    "    if not os.path.exists(DB_FAISS_PATH):\n",
    "        raise FileNotFoundError(\"Vectorstore path not found.\")\n",
    "    return FAISS.load_local(DB_FAISS_PATH, get_embedding_model(), allow_dangerous_deserialization=True)\n",
    "\n",
    "def create_qa_chain():\n",
    "    retriever = load_vectorstore().as_retriever(search_kwargs={\"k\": 1})\n",
    "    # llm = HuggingFaceHub(\n",
    "    #     repo_id = HUGGINGFACE_REPO_ID,\n",
    "    #     huggingfacehub_api_token = HF_TOKEN,\n",
    "    #     model_kwargs = {\"temperature\": 0.5, \"max_length\": 512}\n",
    "    # )\n",
    "    \n",
    "    llm = ChatGroq(\n",
    "        model = ChatGroq(model = \"llama-3.1-8b-instant\")\n",
    "    )\n",
    "\n",
    "    prompt = ChatPromptTemplate.from_messages([\n",
    "        (\"system\", \"Answer the medical question using only the given context in 2-3 sentences. If unsure, say 'I don't know'.\\nContext: {context}\"),\n",
    "        (\"human\", \"{input}\")\n",
    "    ])\n",
    "\n",
    "    combine_docs_chain = create_stuff_documents_chain(llm, prompt)\n",
    "    return create_retrieval_chain(retriever, combine_docs_chain)\n"
   ]
  },
  {
   "cell_type": "code",
   "execution_count": 29,
   "id": "795a58b3",
   "metadata": {},
   "outputs": [
    {
     "name": "stderr",
     "output_type": "stream",
     "text": [
      "ERROR:langchain_community.document_loaders.directory:Error loading file data\\The_GALE_ENCYCLOPEDIA_of_MEDICINE_SECOND.pdf\n",
      "ERROR:__main__:Error: partition_pdf() is not available because one or more dependencies are not installed. Use: pip install \"unstructured[pdf]\" (including quotes) to install the required dependencies\n"
     ]
    }
   ],
   "source": [
    "# === MAIN ===\n",
    "if __name__ == \"__main__\":\n",
    "    try:\n",
    "        build_vectorstore()\n",
    "        qa_chain = create_qa_chain()\n",
    "        question = \"What are the symptoms of diabetes?\"\n",
    "        answer = qa_chain.invoke({\"input\": question})\n",
    "        print(\"\\nAnswer:\", answer.get(\"answer\", \"No answer returned.\"))\n",
    "    except Exception as e:\n",
    "        logger.error(f\"Error: {e}\")"
   ]
  },
  {
   "cell_type": "code",
   "execution_count": null,
   "id": "a64bcc76",
   "metadata": {},
   "outputs": [],
   "source": []
  }
 ],
 "metadata": {
  "kernelspec": {
   "display_name": "Python 3",
   "language": "python",
   "name": "python3"
  },
  "language_info": {
   "codemirror_mode": {
    "name": "ipython",
    "version": 3
   },
   "file_extension": ".py",
   "mimetype": "text/x-python",
   "name": "python",
   "nbconvert_exporter": "python",
   "pygments_lexer": "ipython3",
   "version": "3.12.11"
  }
 },
 "nbformat": 4,
 "nbformat_minor": 5
}
