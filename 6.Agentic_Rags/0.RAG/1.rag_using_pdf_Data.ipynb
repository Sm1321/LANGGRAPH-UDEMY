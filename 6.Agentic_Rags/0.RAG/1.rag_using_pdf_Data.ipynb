{
 "cells": [
  {
   "cell_type": "code",
   "execution_count": null,
   "id": "5caa7b81",
   "metadata": {},
   "outputs": [],
   "source": [
    "! pip install langchain_huggingface -q\n",
    "! pip install sentence-transformers -q\n",
    "! pip install ipywidgets -q\n",
    "! pip install unstructured[pdf] -q"
   ]
  },
  {
   "cell_type": "code",
   "execution_count": 42,
   "id": "4ca740b9",
   "metadata": {},
   "outputs": [],
   "source": [
    "import os\n",
    "from dotenv import load_dotenv\n",
    "load_dotenv()\n",
    "\n",
    "from langchain_groq.chat_models import ChatGroq\n",
    "from langchain_huggingface.embeddings import HuggingFaceEmbeddings\n",
    "from langchain_community.document_loaders import TextLoader, DirectoryLoader\n",
    "from langchain_community.document_loaders import PyPDFLoader\n",
    "from pathlib import Path\n",
    "from langchain.text_splitter import RecursiveCharacterTextSplitter\n",
    "from langchain_community.vectorstores import FAISS\n",
    "from langchain.prompts import PromptTemplate\n",
    "from langchain_core.runnables import RunnableParallel, RunnablePassthrough\n",
    "from langchain_core.output_parsers import StrOutputParser\n",
    "import pickle\n",
    "from langchain_community.document_loaders import UnstructuredPDFLoader\n",
    "\n",
    "\n",
    "\n",
    "\n",
    "# === CONFIG ===\n",
    "DATA_PATH = \"data\"\n",
    "DB_FAISS_PATH = \"vectorstore/faiss_index\"\n",
    "HUGGINGFACE_REPO_ID = \"google/flan-t5-base\"\n",
    "HF_TOKEN = os.getenv(\"HF_TOKEN\")\n",
    "CHUNK_SIZE = 1000\n",
    "CHUNK_OVERLAP = 200"
   ]
  },
  {
   "cell_type": "code",
   "execution_count": 47,
   "id": "47332c6a",
   "metadata": {},
   "outputs": [
    {
     "name": "stderr",
     "output_type": "stream",
     "text": [
      "INFO:sentence_transformers.SentenceTransformer:Use pytorch device_name: cpu\n",
      "INFO:sentence_transformers.SentenceTransformer:Load pretrained SentenceTransformer: sentence-transformers/all-MiniLM-L6-v2\n",
      "INFO:httpx:HTTP Request: POST https://api.groq.com/openai/v1/chat/completions \"HTTP/1.1 200 OK\"\n"
     ]
    },
    {
     "name": "stdout",
     "output_type": "stream",
     "text": [
      "Based on the provided context, Llama 2 appears to be a large language model (LLM) developed by Meta. Here are 2 important points about Llama 2:\n",
      "\n",
      "1. **Improvements in Safety**: After fine-tuning, Llama 2-Chat shows significant improvements in terms of toxicity and truthfulness. It achieves the lowest toxicity level among compared models, with a toxicity percentage of 0% for all model sizes.\n",
      "2. **Performance in Safety Datasets**: In the evaluation of fine-tuned LLMs on different safety datasets (Table 14), Llama 2-Chat demonstrates excellent performance in terms of truthfulness and toxicity. For example, it achieves a truthfulness percentage of 64.14% and a toxicity percentage of 0.01% for the 70B model.\n"
     ]
    }
   ],
   "source": [
    "### LLM and Embeddings ###\n",
    "llm =  ChatGroq(model = \"llama-3.1-8b-instant\")\n",
    "embeddings = HuggingFaceEmbeddings(model_name=\"sentence-transformers/all-MiniLM-L6-v2\")\n",
    "\n",
    "### Step 1: Load Text Files ###\n",
    "loader = DirectoryLoader('./data', glob=\"*.pdf\", loader_cls = PyPDFLoader)\n",
    "docs = loader.load()\n",
    "\n",
    "### Step 2: Split into Chunks ###\n",
    "text_splitter = RecursiveCharacterTextSplitter(\n",
    "    chunk_size = CHUNK_SIZE,\n",
    "    chunk_overlap = CHUNK_OVERLAP\n",
    ")\n",
    "split_docs = text_splitter.split_documents(docs)\n",
    "\n",
    "### Step 3: Create or Load FAISS Vector DB ###\n",
    "DB_FAISS_PATH = \"./faiss_index\"\n",
    "\n",
    "if os.path.exists(DB_FAISS_PATH):\n",
    "    # Load FAISS index from disk\n",
    "    faiss_index = FAISS.load_local(DB_FAISS_PATH, embeddings, allow_dangerous_deserialization=True)\n",
    "else:\n",
    "    # Create FAISS index from documents\n",
    "    faiss_index = FAISS.from_documents(split_docs, embeddings)\n",
    "    faiss_index.save_local(DB_FAISS_PATH)  # Save FAISS index locally\n",
    "\n",
    "retriever = faiss_index.as_retriever(search_type=\"similarity\", search_kwargs={\"k\": 4})\n",
    "\n",
    "\n",
    "### Step 4: RAG Prompt Template ###\n",
    "template = \"\"\"Answer the question based only on the following context:\n",
    "{context}\n",
    "\n",
    "Question: {question}\n",
    "\"\"\"\n",
    "prompt = PromptTemplate.from_template(template)\n",
    "\n",
    "### Step 5: Retrieval + Generation Chain ###\n",
    "retrieval_chain = (\n",
    "    RunnableParallel({\n",
    "        \"context\": retriever,\n",
    "        \"question\": RunnablePassthrough()\n",
    "    })\n",
    "    | prompt\n",
    "    | llm\n",
    "    | StrOutputParser()\n",
    ")\n",
    "\n",
    "### Step 6: Run Query ###\n",
    "question = \"what is llama2? can you highlight 2 important points?\"\n",
    "print(retrieval_chain.invoke(question))"
   ]
  },
  {
   "cell_type": "code",
   "execution_count": null,
   "id": "697e9f93",
   "metadata": {},
   "outputs": [
    {
     "name": "stdout",
     "output_type": "stream",
     "text": [
      "Loaded 77 PDF documents.\n"
     ]
    }
   ],
   "source": [
    "from langchain_community.document_loaders import PyPDFLoader\n",
    "from pathlib import Path\n",
    "\n",
    "# Collect all PDFs\n",
    "pdf_paths = list(Path(\"data\").glob(\"*.pdf\"))\n",
    "\n",
    "docs = []\n",
    "for path in pdf_paths:\n",
    "    loader = PyPDFLoader(str(path))\n",
    "    docs.extend(loader.load())\n",
    "\n",
    "print(f\"Loaded {len(docs)} PDF documents.\")\n",
    "#It is loaded the 77 Pages"
   ]
  },
  {
   "cell_type": "code",
   "execution_count": 46,
   "id": "f7be1208",
   "metadata": {},
   "outputs": [
    {
     "data": {
      "text/plain": [
       "[WindowsPath('data/llama2.pdf')]"
      ]
     },
     "execution_count": 46,
     "metadata": {},
     "output_type": "execute_result"
    }
   ],
   "source": [
    "pdf_paths "
   ]
  },
  {
   "cell_type": "code",
   "execution_count": null,
   "id": "a64bcc76",
   "metadata": {},
   "outputs": [],
   "source": []
  }
 ],
 "metadata": {
  "kernelspec": {
   "display_name": "Python 3",
   "language": "python",
   "name": "python3"
  },
  "language_info": {
   "codemirror_mode": {
    "name": "ipython",
    "version": 3
   },
   "file_extension": ".py",
   "mimetype": "text/x-python",
   "name": "python",
   "nbconvert_exporter": "python",
   "pygments_lexer": "ipython3",
   "version": "3.12.11"
  }
 },
 "nbformat": 4,
 "nbformat_minor": 5
}
