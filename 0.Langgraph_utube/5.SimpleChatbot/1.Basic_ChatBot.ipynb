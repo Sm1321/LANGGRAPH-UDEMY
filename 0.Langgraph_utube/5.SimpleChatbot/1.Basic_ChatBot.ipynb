{
 "cells": [
  {
   "cell_type": "code",
   "execution_count": 38,
   "id": "ac156478",
   "metadata": {},
   "outputs": [
    {
     "data": {
      "text/plain": [
       "True"
      ]
     },
     "execution_count": 38,
     "metadata": {},
     "output_type": "execute_result"
    }
   ],
   "source": [
    "import os\n",
    "from dotenv import load_dotenv\n",
    "load_dotenv()"
   ]
  },
  {
   "cell_type": "code",
   "execution_count": 39,
   "id": "cccd6e97",
   "metadata": {},
   "outputs": [],
   "source": [
    "\n",
    "from langgraph.graph import StateGraph, START, END\n",
    "from typing import TypedDict, Annotated\n",
    "from langchain_core.messages import BaseMessage, HumanMessage\n",
    "from langchain_openai import ChatOpenAI\n",
    "from langgraph.checkpoint.memory import MemorySaver"
   ]
  },
  {
   "cell_type": "code",
   "execution_count": 40,
   "id": "2f5d2b2d",
   "metadata": {},
   "outputs": [],
   "source": [
    "from langgraph.graph.message import add_messages\n",
    "#add messages is the reducer functions to add all the messages\n",
    "class ChatState(TypedDict):\n",
    "    messages: Annotated[list[BaseMessage], add_messages]"
   ]
  },
  {
   "cell_type": "code",
   "execution_count": 41,
   "id": "025b2cf1",
   "metadata": {},
   "outputs": [],
   "source": [
    "llm = ChatOpenAI()\n",
    "\n",
    "\n",
    "def chat_node(state : ChatState):\n",
    "    #Take the user Query\n",
    "    messages = state['messages']\n",
    "\n",
    "\n",
    "    #Send the llm\n",
    "    response = llm.invoke(messages)\n",
    "\n",
    "\n",
    "    # Responde store State\n",
    "    return {'messages':[response]}"
   ]
  },
  {
   "cell_type": "code",
   "execution_count": 42,
   "id": "cf850de1",
   "metadata": {},
   "outputs": [],
   "source": [
    "checkpointer = MemorySaver()\n",
    "\n",
    "graph = StateGraph(ChatState)\n",
    "\n",
    "#Add Nodes\n",
    "graph.add_node('chat_node',chat_node)\n",
    "\n",
    "#Add the Edge\n",
    "graph.add_edge(START,'chat_node')\n",
    "graph.add_edge('chat_node',END)\n",
    "\n",
    "chatbot = graph.compile(checkpointer = checkpointer)"
   ]
  },
  {
   "cell_type": "code",
   "execution_count": 43,
   "id": "84af650d",
   "metadata": {},
   "outputs": [
    {
     "data": {
      "image/png": "[encoded data removed]",
      "text/plain": [
       "<langgraph.graph.state.CompiledStateGraph object at 0x00000110EA4DBD70>"
      ]
     },
     "execution_count": 43,
     "metadata": {},
     "output_type": "execute_result"
    }
   ],
   "source": [
    "chatbot"
   ]
  },
  {
   "cell_type": "code",
   "execution_count": 44,
   "id": "7e294028",
   "metadata": {},
   "outputs": [],
   "source": [
    "thread_id  = '2'\n",
    "config = {'configurable':{'thread_id':thread_id}}\n",
    "\n",
    "\n",
    "initial_state = {\n",
    "    'messages' : [HumanMessage(content = 'What is the Capitial of india')]\n",
    "}\n",
    "\n",
    "response = chatbot.invoke(initial_state,config = config)\n",
    "last_message_content = response['messages'][-1].content"
   ]
  },
  {
   "cell_type": "code",
   "execution_count": 45,
   "id": "8d64371e",
   "metadata": {},
   "outputs": [
    {
     "name": "stdout",
     "output_type": "stream",
     "text": [
      "AI: Hello! How can I help you today?\n",
      "AI: Hello Sm1321! Nice to meet you. Is there anything specific you'd like to talk about or ask me?\n",
      "AI: \"Langgraph\" does not appear to be a widely known term or concept. It may be a specific term used in a particular field or context. If you could provide more information or context, I would be happy to try to help further.\n",
      "AI: IPL stands for the Indian Premier League, which is a professional Twenty20 cricket league in India. It is one of the most popular and competitive cricket leagues in the world.\n",
      "\n",
      "The current captains for the Rajasthan Royals (RR) and Chennai Super Kings (CSK) teams in the IPL are as follows:\n",
      "- Rajasthan Royals: Sanju Samson\n",
      "- Chennai Super Kings: MS Dhoni\n",
      "AI: Your name is Sm1321.\n",
      "AI: You asked about the IPL (Indian Premier League) and the captains of the RR (Rajasthan Royals) and CSK (Chennai Super Kings) teams.\n",
      "AI: The player who has scored the most centuries in international cricket is Sachin Tendulkar from India, with a total of 100 international centuries (51 in Tests and 49 in One Day Internationals).\n",
      "AI: Your name is Sm1321.\n",
      "AI: CSK stands for Chennai Super Kings, which is a franchise cricket team based in Chennai, Tamil Nadu, India. The current captain of the Chennai Super Kings is Mahendra Singh Dhoni, a former Indian international cricketer and one of the most successful captains in IPL history.\n",
      "AI: You asked about the team CSK (Chennai Super Kings) and who their captain is.\n",
      "AI: Yes, you asked about the Rajasthan Royals (RR) team and who their captain is.\n",
      "AI: Your name is Sm1321.\n"
     ]
    }
   ],
   "source": [
    "thread_id  = '1'\n",
    "\n",
    "while True:\n",
    "    user_query = input('TypeHere: ')\n",
    "\n",
    "    if user_query.strip().lower() in ['exit','quit','bye']:\n",
    "        break\n",
    "\n",
    "    config = {'configurable':{'thread_id':thread_id}}\n",
    "\n",
    "    response = chatbot.invoke({\n",
    "    'messages' : [HumanMessage(content = user_query)]\n",
    "        },config = config)\n",
    "\n",
    "    print('AI:',response['messages'][-1].content)"
   ]
  },
  {
   "cell_type": "code",
   "execution_count": 46,
   "id": "9fb1e28d",
   "metadata": {},
   "outputs": [
    {
     "data": {
      "text/plain": [
       "StateSnapshot(values={'messages': [HumanMessage(content='hi', additional_kwargs={}, response_metadata={}, id='d56235c0-703b-47ef-a12a-4cac4a014dd4'), AIMessage(content='Hello! How can I help you today?', additional_kwargs={'refusal': None}, response_metadata={'token_usage': {'completion_tokens': 9, 'prompt_tokens': 8, 'total_tokens': 17, 'completion_tokens_details': {'accepted_prediction_tokens': 0, 'audio_tokens': 0, 'reasoning_tokens': 0, 'rejected_prediction_tokens': 0}, 'prompt_tokens_details': {'audio_tokens': 0, 'cached_tokens': 0}}, 'model_name': 'gpt-3.5-turbo-0125', 'system_fingerprint': None, 'id': 'chatcmpl-BxTqAsg8IIkW6lPl7uFRpfQiIBu19', 'service_tier': 'default', 'finish_reason': 'stop', 'logprobs': None}, id='run--36b2d5b1-35ec-46a4-b63e-06dd5b60d6b0-0', usage_metadata={'input_tokens': 8, 'output_tokens': 9, 'total_tokens': 17, 'input_token_details': {'audio': 0, 'cache_read': 0}, 'output_token_details': {'audio': 0, 'reasoning': 0}}), HumanMessage(content='my name is Sm1321', additional_kwargs={}, response_metadata={}, id='703510ca-ad3e-4880-bf80-a7343f275934'), AIMessage(content=\"Hello Sm1321! Nice to meet you. Is there anything specific you'd like to talk about or ask me?\", additional_kwargs={'refusal': None}, response_metadata={'token_usage': {'completion_tokens': 24, 'prompt_tokens': 31, 'total_tokens': 55, 'completion_tokens_details': {'accepted_prediction_tokens': 0, 'audio_tokens': 0, 'reasoning_tokens': 0, 'rejected_prediction_tokens': 0}, 'prompt_tokens_details': {'audio_tokens': 0, 'cached_tokens': 0}}, 'model_name': 'gpt-3.5-turbo-0125', 'system_fingerprint': None, 'id': 'chatcmpl-BxTqFMwnKDLyzXF1kazB6gflQVT3u', 'service_tier': 'default', 'finish_reason': 'stop', 'logprobs': None}, id='run--d6198903-a0c1-4f12-8773-fee9ec436e4a-0', usage_metadata={'input_tokens': 31, 'output_tokens': 24, 'total_tokens': 55, 'input_token_details': {'audio': 0, 'cache_read': 0}, 'output_token_details': {'audio': 0, 'reasoning': 0}}), HumanMessage(content='What is Langgraph?', additional_kwargs={}, response_metadata={}, id='98216ad3-45d5-4677-838a-3723064954f3'), AIMessage(content='\"Langgraph\" does not appear to be a widely known term or concept. It may be a specific term used in a particular field or context. If you could provide more information or context, I would be happy to try to help further.', additional_kwargs={'refusal': None}, response_metadata={'token_usage': {'completion_tokens': 49, 'prompt_tokens': 68, 'total_tokens': 117, 'completion_tokens_details': {'accepted_prediction_tokens': 0, 'audio_tokens': 0, 'reasoning_tokens': 0, 'rejected_prediction_tokens': 0}, 'prompt_tokens_details': {'audio_tokens': 0, 'cached_tokens': 0}}, 'model_name': 'gpt-3.5-turbo-0125', 'system_fingerprint': None, 'id': 'chatcmpl-BxTqQmobpeyLJ4kebdVfzXHPzvEEs', 'service_tier': 'default', 'finish_reason': 'stop', 'logprobs': None}, id='run--02ad83e3-aac2-4722-9b6f-f9804f27caef-0', usage_metadata={'input_tokens': 68, 'output_tokens': 49, 'total_tokens': 117, 'input_token_details': {'audio': 0, 'cache_read': 0}, 'output_token_details': {'audio': 0, 'reasoning': 0}}), HumanMessage(content='what is IPL and who is caption of RR and CSK Team?', additional_kwargs={}, response_metadata={}, id='0e52cb17-2e4f-4115-ae24-4ef7608fc06e'), AIMessage(content='IPL stands for the Indian Premier League, which is a professional Twenty20 cricket league in India. It is one of the most popular and competitive cricket leagues in the world.\\n\\nThe current captains for the Rajasthan Royals (RR) and Chennai Super Kings (CSK) teams in the IPL are as follows:\\n- Rajasthan Royals: Sanju Samson\\n- Chennai Super Kings: MS Dhoni', additional_kwargs={'refusal': None}, response_metadata={'token_usage': {'completion_tokens': 78, 'prompt_tokens': 139, 'total_tokens': 217, 'completion_tokens_details': {'accepted_prediction_tokens': 0, 'audio_tokens': 0, 'reasoning_tokens': 0, 'rejected_prediction_tokens': 0}, 'prompt_tokens_details': {'audio_tokens': 0, 'cached_tokens': 0}}, 'model_name': 'gpt-3.5-turbo-0125', 'system_fingerprint': None, 'id': 'chatcmpl-BxTqlkZ4IJSoTg1absui7ekEDjlZp', 'service_tier': 'default', 'finish_reason': 'stop', 'logprobs': None}, id='run--305dac75-e60f-4eb2-a8cc-457ba7553a85-0', usage_metadata={'input_tokens': 139, 'output_tokens': 78, 'total_tokens': 217, 'input_token_details': {'audio': 0, 'cache_read': 0}, 'output_token_details': {'audio': 0, 'reasoning': 0}}), HumanMessage(content='what is my name?', additional_kwargs={}, response_metadata={}, id='dfc1694a-b8d3-4046-bd0d-385e7796269c'), AIMessage(content='Your name is Sm1321.', additional_kwargs={'refusal': None}, response_metadata={'token_usage': {'completion_tokens': 7, 'prompt_tokens': 230, 'total_tokens': 237, 'completion_tokens_details': {'accepted_prediction_tokens': 0, 'audio_tokens': 0, 'reasoning_tokens': 0, 'rejected_prediction_tokens': 0}, 'prompt_tokens_details': {'audio_tokens': 0, 'cached_tokens': 0}}, 'model_name': 'gpt-3.5-turbo-0125', 'system_fingerprint': None, 'id': 'chatcmpl-BxTr8X0QUaSvrSuWxqapu2UH9PXyN', 'service_tier': 'default', 'finish_reason': 'stop', 'logprobs': None}, id='run--5249d221-eaca-4bb7-a634-e21306a6de4e-0', usage_metadata={'input_tokens': 230, 'output_tokens': 7, 'total_tokens': 237, 'input_token_details': {'audio': 0, 'cache_read': 0}, 'output_token_details': {'audio': 0, 'reasoning': 0}}), HumanMessage(content='what question i asked regraing cricket?', additional_kwargs={}, response_metadata={}, id='4394e410-93b6-4f23-a755-8165fdd939ae'), AIMessage(content='You asked about the IPL (Indian Premier League) and the captains of the RR (Rajasthan Royals) and CSK (Chennai Super Kings) teams.', additional_kwargs={'refusal': None}, response_metadata={'token_usage': {'completion_tokens': 33, 'prompt_tokens': 254, 'total_tokens': 287, 'completion_tokens_details': {'accepted_prediction_tokens': 0, 'audio_tokens': 0, 'reasoning_tokens': 0, 'rejected_prediction_tokens': 0}, 'prompt_tokens_details': {'audio_tokens': 0, 'cached_tokens': 0}}, 'model_name': 'gpt-3.5-turbo-0125', 'system_fingerprint': None, 'id': 'chatcmpl-BxTrOu36ACBFfa777lrC5cRV9xKjg', 'service_tier': 'default', 'finish_reason': 'stop', 'logprobs': None}, id='run--86a9b580-ed4c-4895-9cb8-850a2dd8c0b5-0', usage_metadata={'input_tokens': 254, 'output_tokens': 33, 'total_tokens': 287, 'input_token_details': {'audio': 0, 'cache_read': 0}, 'output_token_details': {'audio': 0, 'reasoning': 0}}), HumanMessage(content='who scored maost centuries in cricket', additional_kwargs={}, response_metadata={}, id='f152a4f7-5187-4305-bb10-c932cceb1a4b'), AIMessage(content='The player who has scored the most centuries in international cricket is Sachin Tendulkar from India, with a total of 100 international centuries (51 in Tests and 49 in One Day Internationals).', additional_kwargs={'refusal': None}, response_metadata={'token_usage': {'completion_tokens': 43, 'prompt_tokens': 302, 'total_tokens': 345, 'completion_tokens_details': {'accepted_prediction_tokens': 0, 'audio_tokens': 0, 'reasoning_tokens': 0, 'rejected_prediction_tokens': 0}, 'prompt_tokens_details': {'audio_tokens': 0, 'cached_tokens': 0}}, 'model_name': 'gpt-3.5-turbo-0125', 'system_fingerprint': None, 'id': 'chatcmpl-BxTriiZinJ051koGhO6tcm8ScAQJO', 'service_tier': 'default', 'finish_reason': 'stop', 'logprobs': None}, id='run--6ebcf633-21e2-407e-8dc6-8bc14668cfde-0', usage_metadata={'input_tokens': 302, 'output_tokens': 43, 'total_tokens': 345, 'input_token_details': {'audio': 0, 'cache_read': 0}, 'output_token_details': {'audio': 0, 'reasoning': 0}}), HumanMessage(content='what is my name?', additional_kwargs={}, response_metadata={}, id='b462c359-b759-4286-bc28-6d8500e9f1a9'), AIMessage(content='Your name is Sm1321.', additional_kwargs={'refusal': None}, response_metadata={'token_usage': {'completion_tokens': 7, 'prompt_tokens': 358, 'total_tokens': 365, 'completion_tokens_details': {'accepted_prediction_tokens': 0, 'audio_tokens': 0, 'reasoning_tokens': 0, 'rejected_prediction_tokens': 0}, 'prompt_tokens_details': {'audio_tokens': 0, 'cached_tokens': 0}}, 'model_name': 'gpt-3.5-turbo-0125', 'system_fingerprint': None, 'id': 'chatcmpl-BxTrxQLXHLfBluYrZIHhEQM94T1Az', 'service_tier': 'default', 'finish_reason': 'stop', 'logprobs': None}, id='run--f3167953-8121-40d9-9cd6-a1ecb46c5772-0', usage_metadata={'input_tokens': 358, 'output_tokens': 7, 'total_tokens': 365, 'input_token_details': {'audio': 0, 'cache_read': 0}, 'output_token_details': {'audio': 0, 'reasoning': 0}}), HumanMessage(content='what is CSK? who is captain ', additional_kwargs={}, response_metadata={}, id='41945df2-5e52-4c26-b700-91f46f74323a'), AIMessage(content='CSK stands for Chennai Super Kings, which is a franchise cricket team based in Chennai, Tamil Nadu, India. The current captain of the Chennai Super Kings is Mahendra Singh Dhoni, a former Indian international cricketer and one of the most successful captains in IPL history.', additional_kwargs={'refusal': None}, response_metadata={'token_usage': {'completion_tokens': 56, 'prompt_tokens': 382, 'total_tokens': 438, 'completion_tokens_details': {'accepted_prediction_tokens': 0, 'audio_tokens': 0, 'reasoning_tokens': 0, 'rejected_prediction_tokens': 0}, 'prompt_tokens_details': {'audio_tokens': 0, 'cached_tokens': 0}}, 'model_name': 'gpt-3.5-turbo-0125', 'system_fingerprint': None, 'id': 'chatcmpl-BxTsFNzkZnnxoJ4UbjWJhSw4RsiMF', 'service_tier': 'default', 'finish_reason': 'stop', 'logprobs': None}, id='run--b150d500-8753-47fa-acb4-22460f1494f5-0', usage_metadata={'input_tokens': 382, 'output_tokens': 56, 'total_tokens': 438, 'input_token_details': {'audio': 0, 'cache_read': 0}, 'output_token_details': {'audio': 0, 'reasoning': 0}}), HumanMessage(content='what cricket question i aksed?', additional_kwargs={}, response_metadata={}, id='165abe78-d36e-4f95-a198-4db9f9f50d6c'), AIMessage(content='You asked about the team CSK (Chennai Super Kings) and who their captain is.', additional_kwargs={'refusal': None}, response_metadata={'token_usage': {'completion_tokens': 19, 'prompt_tokens': 454, 'total_tokens': 473, 'completion_tokens_details': {'accepted_prediction_tokens': 0, 'audio_tokens': 0, 'reasoning_tokens': 0, 'rejected_prediction_tokens': 0}, 'prompt_tokens_details': {'audio_tokens': 0, 'cached_tokens': 0}}, 'model_name': 'gpt-3.5-turbo-0125', 'system_fingerprint': None, 'id': 'chatcmpl-BxTsSJNcGFewgcxwMrKYxZ6VyTYCp', 'service_tier': 'default', 'finish_reason': 'stop', 'logprobs': None}, id='run--ff98179d-20ab-40e3-9c67-6e15d1a3a2c3-0', usage_metadata={'input_tokens': 454, 'output_tokens': 19, 'total_tokens': 473, 'input_token_details': {'audio': 0, 'cache_read': 0}, 'output_token_details': {'audio': 0, 'reasoning': 0}}), HumanMessage(content='did i asked any question about the RR ?', additional_kwargs={}, response_metadata={}, id='257a1d18-f6d4-422a-95dd-f5932d3f50a4'), AIMessage(content='Yes, you asked about the Rajasthan Royals (RR) team and who their captain is.', additional_kwargs={'refusal': None}, response_metadata={'token_usage': {'completion_tokens': 18, 'prompt_tokens': 490, 'total_tokens': 508, 'completion_tokens_details': {'accepted_prediction_tokens': 0, 'audio_tokens': 0, 'reasoning_tokens': 0, 'rejected_prediction_tokens': 0}, 'prompt_tokens_details': {'audio_tokens': 0, 'cached_tokens': 0}}, 'model_name': 'gpt-3.5-turbo-0125', 'system_fingerprint': None, 'id': 'chatcmpl-BxTslUpqvYdsXOihP22D9A3eBLIy3', 'service_tier': 'default', 'finish_reason': 'stop', 'logprobs': None}, id='run--c3f769bd-2285-4be5-ac8f-fbeee13f13f4-0', usage_metadata={'input_tokens': 490, 'output_tokens': 18, 'total_tokens': 508, 'input_token_details': {'audio': 0, 'cache_read': 0}, 'output_token_details': {'audio': 0, 'reasoning': 0}}), HumanMessage(content='what is My name?', additional_kwargs={}, response_metadata={}, id='66ceab0b-4ca5-46f7-b831-e544b2477b32'), AIMessage(content='Your name is Sm1321.', additional_kwargs={'refusal': None}, response_metadata={'token_usage': {'completion_tokens': 7, 'prompt_tokens': 521, 'total_tokens': 528, 'completion_tokens_details': {'accepted_prediction_tokens': 0, 'audio_tokens': 0, 'reasoning_tokens': 0, 'rejected_prediction_tokens': 0}, 'prompt_tokens_details': {'audio_tokens': 0, 'cached_tokens': 0}}, 'model_name': 'gpt-3.5-turbo-0125', 'system_fingerprint': None, 'id': 'chatcmpl-BxTsrqy2my7Kzuf2cJjQMENGjOBhx', 'service_tier': 'default', 'finish_reason': 'stop', 'logprobs': None}, id='run--af996186-b3cf-4720-bcaf-1b5f5a70b6e0-0', usage_metadata={'input_tokens': 521, 'output_tokens': 7, 'total_tokens': 528, 'input_token_details': {'audio': 0, 'cache_read': 0}, 'output_token_details': {'audio': 0, 'reasoning': 0}})]}, next=(), config={'configurable': {'thread_id': '1', 'checkpoint_ns': '', 'checkpoint_id': '1f069f47-eeba-67e9-8022-34e1cf677414'}}, metadata={'source': 'loop', 'writes': {'chat_node': {'messages': [AIMessage(content='Your name is Sm1321.', additional_kwargs={'refusal': None}, response_metadata={'token_usage': {'completion_tokens': 7, 'prompt_tokens': 521, 'total_tokens': 528, 'completion_tokens_details': {'accepted_prediction_tokens': 0, 'audio_tokens': 0, 'reasoning_tokens': 0, 'rejected_prediction_tokens': 0}, 'prompt_tokens_details': {'audio_tokens': 0, 'cached_tokens': 0}}, 'model_name': 'gpt-3.5-turbo-0125', 'system_fingerprint': None, 'id': 'chatcmpl-BxTsrqy2my7Kzuf2cJjQMENGjOBhx', 'service_tier': 'default', 'finish_reason': 'stop', 'logprobs': None}, id='run--af996186-b3cf-4720-bcaf-1b5f5a70b6e0-0', usage_metadata={'input_tokens': 521, 'output_tokens': 7, 'total_tokens': 528, 'input_token_details': {'audio': 0, 'cache_read': 0}, 'output_token_details': {'audio': 0, 'reasoning': 0}})]}}, 'step': 34, 'parents': {}, 'thread_id': '1'}, created_at='2025-07-26T07:45:27.079524+00:00', parent_config={'configurable': {'thread_id': '1', 'checkpoint_ns': '', 'checkpoint_id': '1f069f47-e8b0-66d9-8021-afd2b95b5fc9'}}, tasks=(), interrupts=())"
      ]
     },
     "execution_count": 46,
     "metadata": {},
     "output_type": "execute_result"
    }
   ],
   "source": [
    "chatbot.get_state(config = config)"
   ]
  },
  {
   "cell_type": "code",
   "execution_count": null,
   "id": "0de284c2",
   "metadata": {},
   "outputs": [],
   "source": []
  },
  {
   "cell_type": "code",
   "execution_count": null,
   "id": "c482fc82",
   "metadata": {},
   "outputs": [],
   "source": []
  },
  {
   "cell_type": "code",
   "execution_count": null,
   "id": "3417d21b",
   "metadata": {},
   "outputs": [],
   "source": []
  },
  {
   "cell_type": "code",
   "execution_count": null,
   "id": "ba559e00",
   "metadata": {},
   "outputs": [],
   "source": []
  },
  {
   "cell_type": "code",
   "execution_count": null,
   "id": "e1209baf",
   "metadata": {},
   "outputs": [],
   "source": []
  },
  {
   "cell_type": "code",
   "execution_count": null,
   "id": "0d11f947",
   "metadata": {},
   "outputs": [],
   "source": []
  }
 ],
 "metadata": {
  "kernelspec": {
   "display_name": "U_agentic_ai",
   "language": "python",
   "name": "python3"
  },
  "language_info": {
   "codemirror_mode": {
    "name": "ipython",
    "version": 3
   },
   "file_extension": ".py",
   "mimetype": "text/x-python",
   "name": "python",
   "nbconvert_exporter": "python",
   "pygments_lexer": "ipython3",
   "version": "3.12.11"
  }
 },
 "nbformat": 4,
 "nbformat_minor": 5
}
