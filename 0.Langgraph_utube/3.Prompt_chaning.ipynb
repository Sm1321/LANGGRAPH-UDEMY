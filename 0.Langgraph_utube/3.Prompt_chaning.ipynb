{
 "cells": [
  {
   "cell_type": "code",
   "execution_count": 2,
   "id": "5c2cdaaa",
   "metadata": {},
   "outputs": [
    {
     "data": {
      "text/plain": [
       "True"
      ]
     },
     "execution_count": 2,
     "metadata": {},
     "output_type": "execute_result"
    }
   ],
   "source": [
    "import os\n",
    "from dotenv import load_dotenv\n",
    "load_dotenv()"
   ]
  },
  {
   "cell_type": "code",
   "execution_count": 3,
   "id": "4f565ee7",
   "metadata": {},
   "outputs": [],
   "source": [
    "from langgraph.graph import StateGraph,START,END\n",
    "from typing import TypedDict\n",
    "from langchain_openai import ChatOpenAI"
   ]
  },
  {
   "cell_type": "code",
   "execution_count": 4,
   "id": "861cf9bf",
   "metadata": {},
   "outputs": [
    {
     "data": {
      "text/plain": [
       "AIMessage(content=\"Changes in the language graph can occur for various reasons, such as cultural shifts, technological advancements, migration patterns, and societal developments. These changes can manifest in the form of new words and expressions entering the language, old words falling out of use, shifts in grammar rules, and changes in language usage and pronunciation. In today's digital age, the language graph is evolving rapidly due to the widespread use of social media, the internet, and other communication technologies. As a result, languages are constantly adapting and evolving to meet the needs and preferences of their speakers. It is important for linguists, educators, and language enthusiasts to stay informed about these changes in order to better understand and appreciate the dynamic nature of language.\", additional_kwargs={'refusal': None}, response_metadata={'token_usage': {'completion_tokens': 142, 'prompt_tokens': 15, 'total_tokens': 157, 'completion_tokens_details': {'accepted_prediction_tokens': 0, 'audio_tokens': 0, 'reasoning_tokens': 0, 'rejected_prediction_tokens': 0}, 'prompt_tokens_details': {'audio_tokens': 0, 'cached_tokens': 0}}, 'model_name': 'gpt-3.5-turbo-0125', 'system_fingerprint': None, 'id': 'chatcmpl-BsNtSGJOpknfZXxvolJZIjAlcIp6d', 'service_tier': 'default', 'finish_reason': 'stop', 'logprobs': None}, id='run--6d7b6bb7-ab16-4c2d-8ede-9c6f13d00b6f-0', usage_metadata={'input_tokens': 15, 'output_tokens': 142, 'total_tokens': 157, 'input_token_details': {'audio': 0, 'cache_read': 0}, 'output_token_details': {'audio': 0, 'reasoning': 0}})"
      ]
     },
     "execution_count": 4,
     "metadata": {},
     "output_type": "execute_result"
    }
   ],
   "source": [
    "model = ChatOpenAI()\n",
    "model .invoke(\"Prompt chaning in the Langgraph?\")"
   ]
  },
  {
   "cell_type": "code",
   "execution_count": null,
   "id": "6c295fb6",
   "metadata": {},
   "outputs": [],
   "source": [
    "class BlogState(TypedDict):\n",
    "    title : str \n",
    "    outline : str \n",
    "    content : str\n",
    "    "
   ]
  },
  {
   "cell_type": "code",
   "execution_count": 6,
   "id": "fdea8ab6",
   "metadata": {},
   "outputs": [],
   "source": [
    "def create_outline(state:BlogState):\n",
    "    #fetch the title\n",
    "    title = state[\"title\"]\n",
    "\n",
    "    #Call the LLM Outline\n",
    "    prompt = f'Generate a Detailed Outline for a Blog on the topic-{title}'\n",
    "    outline = model.invoke(prompt).content\n",
    "    \n",
    "    #Update the State \n",
    "    state['outline'] = outline\n",
    "    \n",
    "    return state"
   ]
  },
  {
   "cell_type": "code",
   "execution_count": 7,
   "id": "d9f2b898",
   "metadata": {},
   "outputs": [],
   "source": [
    "def create_blog(state:BlogState):\n",
    "    title = state['title']\n",
    "    outline = state['outline']\n",
    "\n",
    "    prompt = f'write a deatiled blog on the title-{title} using the following outline\\n{outline}'\n",
    "    content = model.invoke(prompt).content\n",
    "    #update in the State\n",
    "    state['content'] = content\n",
    "\n",
    "    return state"
   ]
  },
  {
   "cell_type": "code",
   "execution_count": 9,
   "id": "5d7fecee",
   "metadata": {},
   "outputs": [],
   "source": [
    "graph = StateGraph(BlogState)\n",
    "#Add the Nodes\n",
    "graph.add_node('create_outline',create_outline)\n",
    "graph.add_node('create_blog',create_blog)\n",
    "\n",
    "#Edges\n",
    "graph.add_edge(START,'create_outline')\n",
    "graph.add_edge('create_outline','create_blog')\n",
    "graph.add_edge('create_blog',END)\n",
    "\n",
    "#Compile\n",
    "workflow = graph.compile()"
   ]
  },
  {
   "cell_type": "code",
   "execution_count": 10,
   "id": "d4a5a6e7",
   "metadata": {},
   "outputs": [
    {
     "data": {
      "image/png": "[encoded data removed]",
      "text/plain": [
       "<IPython.core.display.Image object>"
      ]
     },
     "metadata": {},
     "output_type": "display_data"
    }
   ],
   "source": [
    "from IPython.display import Image, display\n",
    "\n",
    "try:\n",
    "    display(Image(workflow.get_graph().draw_mermaid_png()))\n",
    "except Exception:\n",
    "    # This requires some extra dependencies and is optional\n",
    "    pass"
   ]
  },
  {
   "cell_type": "code",
   "execution_count": 12,
   "id": "8d933f43",
   "metadata": {},
   "outputs": [
    {
     "data": {
      "text/plain": [
       "{'title': 'Rise of AI in Software?',\n",
       " 'outline': 'I. Introduction\\nA. Definition of AI in software\\nB. Brief history of AI in software\\nC. Importance of AI in software development\\n\\nII. Applications of AI in Software\\nA. Automation of repetitive tasks \\nB. Personalization of user experience\\nC. Enhancing data analysis capabilities\\nD. Improving security measures\\nE. Facilitating decision-making processes\\n\\nIII. Impact of AI on Software Development\\nA. Increased efficiency and productivity\\nB. Reduction in human error\\nC. Creation of new job opportunities\\nD. Concerns about job displacement\\nE. Ethical considerations in AI development\\n\\nIV. Challenges and Limitations of AI in Software\\nA. Data privacy and security concerns\\nB. Bias and discrimination in AI algorithms\\nC. Technical limitations and scalability issues\\nD. Need for continuous learning and improvement\\nE. Potential societal impacts of widespread AI implementation\\n\\nV. Future Trends in AI Software Development\\nA. Integration of AI with other technologies \\nB. Evolution of natural language processing \\nC. Expansion of AI applications in different industries\\nD. Emphasis on explainable AI and transparency\\nE. Continued advancements in AI research and development\\n\\nVI. Conclusion\\nA. Summary of key points discussed\\nB. Importance of embracing AI in software development\\nC. Potential benefits and challenges of AI integration\\nD. Call to action for continued exploration and innovation in AI technology.',\n",
       " 'content': 'The Rise of AI in Software\\n\\nI. Introduction\\n\\nA. Definition of AI in software\\nArtificial Intelligence (AI) in software refers to the development of intelligent systems that can perform tasks that typically require human intelligence, such as decision-making, problem-solving, and language processing.\\n\\nB. Brief history of AI in software\\nAI has its roots in the 1950s, with early pioneers like Alan Turing and John McCarthy laying the groundwork for intelligent machines. Over the years, advancements in computing power and algorithms have led to the widespread adoption of AI in various software applications.\\n\\nC. Importance of AI in software development\\nAI has revolutionized the software industry by enabling developers to create smarter, more efficient systems that can automate tasks, analyze data, and provide personalized user experiences. The integration of AI in software has the potential to streamline processes, increase productivity, and improve decision-making capabilities.\\n\\nII. Applications of AI in Software\\n\\nA. Automation of repetitive tasks\\nOne of the key benefits of AI in software is its ability to automate repetitive tasks, such as data entry, customer support, and software testing. By delegating these mundane tasks to AI systems, developers can focus on more complex and strategic aspects of software development.\\n\\nB. Personalization of user experience\\nAI-powered software can analyze user data and behavior to personalize interfaces, recommendations, and interactions. This level of personalization can enhance user engagement, satisfaction, and retention.\\n\\nC. Enhancing data analysis capabilities\\nAI algorithms can process large volumes of data quickly and accurately, enabling software to extract valuable insights, trends, and patterns. This data-driven approach can inform strategic decision-making and optimize business processes.\\n\\nD. Improving security measures\\nAI software can detect and respond to security threats in real-time, enhancing the protection of sensitive data and infrastructure. By leveraging AI for threat detection, software developers can strengthen cybersecurity measures and mitigate risks.\\n\\nE. Facilitating decision-making processes\\nAI systems can analyze complex data sets, simulate scenarios, and generate insights to support decision-making processes. By providing decision-makers with accurate and timely information, AI software can enhance strategic planning and operational efficiency.\\n\\nIII. Impact of AI on Software Development\\n\\nA. Increased efficiency and productivity\\nAI-driven automation and optimization can streamline software development processes, reducing time-to-market and increasing productivity. By eliminating manual tasks and bottlenecks, developers can focus on innovation and quality improvement.\\n\\nB. Reduction in human error\\nAI algorithms are designed to minimize errors and inconsistencies in software development, leading to higher quality products and improved user experiences. By leveraging AI for error detection and correction, developers can enhance software reliability and performance.\\n\\nC. Creation of new job opportunities\\nThe integration of AI in software development has created new job roles and skill requirements, such as AI engineers, data scientists, and machine learning specialists. As the demand for AI expertise grows, opportunities for career advancement and specialization in AI technology will continue to expand.\\n\\nD. Concerns about job displacement\\nDespite the potential for job creation, there are concerns about the impact of AI on traditional roles and employment opportunities. As AI systems automate routine tasks and processes, some job functions may become redundant, leading to workforce displacement and restructuring.\\n\\nE. Ethical considerations in AI development\\nThe ethical implications of AI in software development, such as privacy, bias, accountability, and transparency, are critical considerations for developers and organizations. By promoting ethical AI practices and standards, developers can build trust with users and ensure responsible AI deployment.\\n\\nIV. Challenges and Limitations of AI in Software\\n\\nA. Data privacy and security concerns\\nThe collection and analysis of large amounts of user data by AI systems raise concerns about data privacy, security, and compliance. Developers must design AI software with privacy by design principles and implement robust security measures to protect user information.\\n\\nB. Bias and discrimination in AI algorithms\\nAI algorithms can unintentionally reflect biases and prejudices present in the training data, leading to discriminatory outcomes and unfair decisions. To address bias in AI systems, developers must implement bias detection and mitigation strategies and promote diversity and inclusivity in AI development.\\n\\nC. Technical limitations and scalability issues\\nAI systems may face challenges in scalability, interoperability, and performance optimization, impacting the scalability and integration of AI software. Developers must address technical limitations through continuous learning, experimentation, and innovation in AI technology.\\n\\nD. Need for continuous learning and improvement\\nAI technologies are constantly evolving, requiring developers to stay current on advancements in AI research, algorithms, and techniques. By investing in ongoing learning and skills development, developers can enhance their expertise and capabilities in AI software development.\\n\\nE. Potential societal impacts of widespread AI implementation\\nThe widespread adoption of AI in software may have broader societal implications, such as job displacement, economic inequality, and ethical dilemmas. By considering the social impacts of AI integration, developers can develop responsible AI solutions that benefit individuals, communities, and society at large.\\n\\nV. Future Trends in AI Software Development\\n\\nA. Integration of AI with other technologies\\nAI is increasingly being integrated with other technologies, such as machine learning, IoT, and cloud computing, to create more powerful and interconnected systems. By combining AI with complementary technologies, developers can unlock new opportunities for innovation and collaboration.\\n\\nB. Evolution of natural language processing\\nAdvancements in natural language processing (NLP) are driving the development of AI-powered voice assistants, chatbots, and language translation tools. By improving NLP capabilities, developers can enhance user interactions, accessibility, and communication in software applications.\\n\\nC. Expansion of AI applications in different industries\\nAI software is expanding into various industries, such as healthcare, finance, retail, and transportation, transforming business operations, customer experiences, and service delivery. By exploring AI applications in diverse sectors, developers can address industry-specific challenges and opportunities.\\n\\nD. Emphasis on explainable AI and transparency\\nExplainable AI is gaining traction as developers seek to understand, interpret, and explain the decisions and behaviors of AI systems. By promoting transparency and explainability in AI algorithms, developers can build trust, accountability, and ethical standards in AI software development.\\n\\nE. Continued advancements in AI research and development\\nThe ongoing advancements in AI research, innovation, and collaboration are driving the development of more sophisticated and intelligent systems. By investing in AI R&D, developers can push the boundaries of AI technology, explore new frontiers, and shape the future of AI in software.\\n\\nVI. Conclusion\\n\\nA. Summary of key points discussed\\nThe rise of AI in software has transformed the way developers design, build, and deploy intelligent systems that enhance efficiency, productivity, and user experiences. From automation and personalization to data analysis and security, AI has revolutionized software development and opened new possibilities for innovation and growth.\\n\\nB. Importance of embracing AI in software development\\nEmbracing AI in software development is essential for staying competitive, adapting to market trends, and meeting user expectations. By incorporating AI technologies into software applications, developers can drive digital transformation, differentiate their products, and create value for customers.\\n\\nC. Potential benefits and challenges of AI integration\\nWhile AI offers tremendous benefits in software development, it also poses challenges and risks that developers must address. By addressing concerns around privacy, bias, scalability, and societal impacts, developers can build responsible AI solutions that deliver value, trust, and ethical standards.\\n\\nD. Call to action for continued exploration and innovation in AI technology\\nAs AI technology continues to evolve and shape the future of software development, developers must remain curious, progressive, and collaborative in their exploration of AI possibilities. By embracing a culture of innovation, learning, and experimentation, developers can drive AI advancements, drive positive change, and shape a better future for AI in software.'}"
      ]
     },
     "execution_count": 12,
     "metadata": {},
     "output_type": "execute_result"
    }
   ],
   "source": [
    "### Exceute the graph\n",
    "input_state =  workflow.invoke({'title':\"Rise of AI in Software?\"})\n",
    "input_state "
   ]
  },
  {
   "cell_type": "code",
   "execution_count": 13,
   "id": "a0e75988",
   "metadata": {},
   "outputs": [
    {
     "name": "stdout",
     "output_type": "stream",
     "text": [
      "The Rise of AI in Software\n",
      "\n",
      "I. Introduction\n",
      "\n",
      "A. Definition of AI in software\n",
      "Artificial Intelligence (AI) in software refers to the development of intelligent systems that can perform tasks that typically require human intelligence, such as decision-making, problem-solving, and language processing.\n",
      "\n",
      "B. Brief history of AI in software\n",
      "AI has its roots in the 1950s, with early pioneers like Alan Turing and John McCarthy laying the groundwork for intelligent machines. Over the years, advancements in computing power and algorithms have led to the widespread adoption of AI in various software applications.\n",
      "\n",
      "C. Importance of AI in software development\n",
      "AI has revolutionized the software industry by enabling developers to create smarter, more efficient systems that can automate tasks, analyze data, and provide personalized user experiences. The integration of AI in software has the potential to streamline processes, increase productivity, and improve decision-making capabilities.\n",
      "\n",
      "II. Applications of AI in Software\n",
      "\n",
      "A. Automation of repetitive tasks\n",
      "One of the key benefits of AI in software is its ability to automate repetitive tasks, such as data entry, customer support, and software testing. By delegating these mundane tasks to AI systems, developers can focus on more complex and strategic aspects of software development.\n",
      "\n",
      "B. Personalization of user experience\n",
      "AI-powered software can analyze user data and behavior to personalize interfaces, recommendations, and interactions. This level of personalization can enhance user engagement, satisfaction, and retention.\n",
      "\n",
      "C. Enhancing data analysis capabilities\n",
      "AI algorithms can process large volumes of data quickly and accurately, enabling software to extract valuable insights, trends, and patterns. This data-driven approach can inform strategic decision-making and optimize business processes.\n",
      "\n",
      "D. Improving security measures\n",
      "AI software can detect and respond to security threats in real-time, enhancing the protection of sensitive data and infrastructure. By leveraging AI for threat detection, software developers can strengthen cybersecurity measures and mitigate risks.\n",
      "\n",
      "E. Facilitating decision-making processes\n",
      "AI systems can analyze complex data sets, simulate scenarios, and generate insights to support decision-making processes. By providing decision-makers with accurate and timely information, AI software can enhance strategic planning and operational efficiency.\n",
      "\n",
      "III. Impact of AI on Software Development\n",
      "\n",
      "A. Increased efficiency and productivity\n",
      "AI-driven automation and optimization can streamline software development processes, reducing time-to-market and increasing productivity. By eliminating manual tasks and bottlenecks, developers can focus on innovation and quality improvement.\n",
      "\n",
      "B. Reduction in human error\n",
      "AI algorithms are designed to minimize errors and inconsistencies in software development, leading to higher quality products and improved user experiences. By leveraging AI for error detection and correction, developers can enhance software reliability and performance.\n",
      "\n",
      "C. Creation of new job opportunities\n",
      "The integration of AI in software development has created new job roles and skill requirements, such as AI engineers, data scientists, and machine learning specialists. As the demand for AI expertise grows, opportunities for career advancement and specialization in AI technology will continue to expand.\n",
      "\n",
      "D. Concerns about job displacement\n",
      "Despite the potential for job creation, there are concerns about the impact of AI on traditional roles and employment opportunities. As AI systems automate routine tasks and processes, some job functions may become redundant, leading to workforce displacement and restructuring.\n",
      "\n",
      "E. Ethical considerations in AI development\n",
      "The ethical implications of AI in software development, such as privacy, bias, accountability, and transparency, are critical considerations for developers and organizations. By promoting ethical AI practices and standards, developers can build trust with users and ensure responsible AI deployment.\n",
      "\n",
      "IV. Challenges and Limitations of AI in Software\n",
      "\n",
      "A. Data privacy and security concerns\n",
      "The collection and analysis of large amounts of user data by AI systems raise concerns about data privacy, security, and compliance. Developers must design AI software with privacy by design principles and implement robust security measures to protect user information.\n",
      "\n",
      "B. Bias and discrimination in AI algorithms\n",
      "AI algorithms can unintentionally reflect biases and prejudices present in the training data, leading to discriminatory outcomes and unfair decisions. To address bias in AI systems, developers must implement bias detection and mitigation strategies and promote diversity and inclusivity in AI development.\n",
      "\n",
      "C. Technical limitations and scalability issues\n",
      "AI systems may face challenges in scalability, interoperability, and performance optimization, impacting the scalability and integration of AI software. Developers must address technical limitations through continuous learning, experimentation, and innovation in AI technology.\n",
      "\n",
      "D. Need for continuous learning and improvement\n",
      "AI technologies are constantly evolving, requiring developers to stay current on advancements in AI research, algorithms, and techniques. By investing in ongoing learning and skills development, developers can enhance their expertise and capabilities in AI software development.\n",
      "\n",
      "E. Potential societal impacts of widespread AI implementation\n",
      "The widespread adoption of AI in software may have broader societal implications, such as job displacement, economic inequality, and ethical dilemmas. By considering the social impacts of AI integration, developers can develop responsible AI solutions that benefit individuals, communities, and society at large.\n",
      "\n",
      "V. Future Trends in AI Software Development\n",
      "\n",
      "A. Integration of AI with other technologies\n",
      "AI is increasingly being integrated with other technologies, such as machine learning, IoT, and cloud computing, to create more powerful and interconnected systems. By combining AI with complementary technologies, developers can unlock new opportunities for innovation and collaboration.\n",
      "\n",
      "B. Evolution of natural language processing\n",
      "Advancements in natural language processing (NLP) are driving the development of AI-powered voice assistants, chatbots, and language translation tools. By improving NLP capabilities, developers can enhance user interactions, accessibility, and communication in software applications.\n",
      "\n",
      "C. Expansion of AI applications in different industries\n",
      "AI software is expanding into various industries, such as healthcare, finance, retail, and transportation, transforming business operations, customer experiences, and service delivery. By exploring AI applications in diverse sectors, developers can address industry-specific challenges and opportunities.\n",
      "\n",
      "D. Emphasis on explainable AI and transparency\n",
      "Explainable AI is gaining traction as developers seek to understand, interpret, and explain the decisions and behaviors of AI systems. By promoting transparency and explainability in AI algorithms, developers can build trust, accountability, and ethical standards in AI software development.\n",
      "\n",
      "E. Continued advancements in AI research and development\n",
      "The ongoing advancements in AI research, innovation, and collaboration are driving the development of more sophisticated and intelligent systems. By investing in AI R&D, developers can push the boundaries of AI technology, explore new frontiers, and shape the future of AI in software.\n",
      "\n",
      "VI. Conclusion\n",
      "\n",
      "A. Summary of key points discussed\n",
      "The rise of AI in software has transformed the way developers design, build, and deploy intelligent systems that enhance efficiency, productivity, and user experiences. From automation and personalization to data analysis and security, AI has revolutionized software development and opened new possibilities for innovation and growth.\n",
      "\n",
      "B. Importance of embracing AI in software development\n",
      "Embracing AI in software development is essential for staying competitive, adapting to market trends, and meeting user expectations. By incorporating AI technologies into software applications, developers can drive digital transformation, differentiate their products, and create value for customers.\n",
      "\n",
      "C. Potential benefits and challenges of AI integration\n",
      "While AI offers tremendous benefits in software development, it also poses challenges and risks that developers must address. By addressing concerns around privacy, bias, scalability, and societal impacts, developers can build responsible AI solutions that deliver value, trust, and ethical standards.\n",
      "\n",
      "D. Call to action for continued exploration and innovation in AI technology\n",
      "As AI technology continues to evolve and shape the future of software development, developers must remain curious, progressive, and collaborative in their exploration of AI possibilities. By embracing a culture of innovation, learning, and experimentation, developers can drive AI advancements, drive positive change, and shape a better future for AI in software.\n"
     ]
    }
   ],
   "source": [
    "print(input_state ['content'])"
   ]
  },
  {
   "cell_type": "code",
   "execution_count": 14,
   "id": "c7152089",
   "metadata": {},
   "outputs": [
    {
     "data": {
      "text/plain": [
       "{'title': 'Traditional Machine Learning and Deep Learning Vs Generative and Agentic AI',\n",
       " 'outline': 'I. Introduction\\nA. Explanation of traditional machine learning and deep learning\\nB. Definition of generative and agentic AI\\nC. Importance of understanding the differences between the two types of AI\\n\\nII. Traditional Machine Learning vs Generative AI\\nA. Overview of traditional machine learning\\n1. Explanation of supervised and unsupervised learning\\n2. Examples of traditional machine learning algorithms\\nB. Overview of generative AI\\n1. Explanation of how generative AI creates new data\\n2. Examples of generative AI applications\\n\\nIII. Deep Learning vs Agentic AI\\nA. Overview of deep learning\\n1. Explanation of neural networks and deep learning models\\n2. Examples of deep learning applications\\nB. Overview of agentic AI\\n1. Explanation of how agentic AI can act autonomously\\n2. Examples of agentic AI applications\\n\\nIV. Comparison of Traditional Machine Learning and Deep Learning to Generative and Agentic AI\\nA. Differences in how data is processed and used\\nB. Differences in capabilities and potential applications\\nC. Potential benefits and drawbacks of each type of AI\\n\\nV. Real-World Examples of Traditional Machine Learning, Deep Learning, Generative AI, and Agentic AI\\nA. Case studies of companies using traditional machine learning and deep learning\\nB. Case studies of companies using generative AI\\nC. Case studies of companies using agentic AI\\n\\nVI. Future Trends and Implications\\nA. Discussion of the future of AI technology and the potential impact of generative and agentic AI\\nB. Ethical considerations and societal implications of advancing AI technology\\n\\nVII. Conclusion\\nA. Recap of key points discussed in the blog\\nB. Final thoughts on the importance of understanding the differences between traditional machine learning and deep learning vs generative and agentic AI.',\n",
       " 'content': 'In the rapidly evolving field of artificial intelligence (AI), two distinct categories have emerged: traditional machine learning and deep learning on one hand, and generative and agentic AI on the other. Understanding the differences between these types of AI is crucial for businesses and organizations looking to leverage AI technology effectively. In this blog, we will explore the characteristics of traditional machine learning and deep learning compared to generative and agentic AI, as well as their real-world applications and future implications.\\n\\nTraditional machine learning, which includes supervised and unsupervised learning methods, involves training algorithms to make predictions or decisions based on input data. Supervised learning requires labeled data for training, while unsupervised learning aims to find patterns and relationships in data without predefined labels. Examples of traditional machine learning algorithms include linear regression, decision trees, and clustering algorithms such as k-means.\\n\\nIn contrast, generative AI focuses on creating new data by learning and generating new outputs based on existing data. Generative AI can be used to create images, text, and even music that mimic the style of the input data. Examples of generative AI applications include deep generative models like Generative Adversarial Networks (GANs) and Variational Autoencoders (VAEs).\\n\\nDeep learning, a subset of machine learning that uses neural networks to model high-level abstractions in data, has gained popularity for its ability to handle large and complex datasets. Deep learning models, such as convolutional neural networks (CNN) and recurrent neural networks (RNN), are widely used in image and speech recognition, natural language processing, and autonomous driving.\\n\\nOn the other hand, agentic AI refers to AI systems that can act autonomously and make decisions without human intervention. These systems have the ability to understand the environment, plan actions, and execute tasks independently. Examples of agentic AI applications include autonomous vehicles, robotic manufacturing systems, and virtual assistants like Siri and Alexa.\\n\\nWhen comparing traditional machine learning and deep learning to generative and agentic AI, it becomes clear that each type has its own unique strengths and capabilities. Traditional machine learning and deep learning excel at processing and analyzing data to make predictions or decisions, while generative and agentic AI focus on creating new data and acting autonomously in dynamic environments.\\n\\nIn the real world, companies are leveraging AI technology in various ways to enhance their products and services. For example, companies like Netflix and Amazon use recommendation algorithms based on traditional machine learning to personalize user experiences. Similarly, companies like Google and Facebook employ deep learning models for image and speech recognition tasks.\\n\\nGenerative AI is also being used by companies like Adobe and NVIDIA to create realistic images and videos, while agentic AI is powering autonomous vehicles developed by companies like Tesla and Uber. These real-world examples demonstrate the diverse applications and potential benefits of AI technology across different industries.\\n\\nLooking towards the future, the implications of advancing AI technology are vast and far-reaching. Ethical considerations, such as data privacy, transparency, and bias, must be carefully addressed as AI systems become more sophisticated and autonomous. Understanding the differences between traditional machine learning and deep learning versus generative and agentic AI is essential for navigating the evolving landscape of AI technology and its impact on society.\\n\\nIn conclusion, traditional machine learning and deep learning represent valuable tools for data analysis and decision-making, while generative and agentic AI offer new possibilities for creativity and autonomy. By exploring the capabilities and applications of these different types of AI, businesses and organizations can harness the power of AI technology to drive innovation and growth in the digital age.'}"
      ]
     },
     "execution_count": 14,
     "metadata": {},
     "output_type": "execute_result"
    }
   ],
   "source": [
    "### Exceute the graph\n",
    "input_state =  workflow.invoke({'title':\"Traditional Machine Learning and Deep Learning Vs Generative and Agentic AI\"})\n",
    "input_state "
   ]
  },
  {
   "cell_type": "code",
   "execution_count": 15,
   "id": "76c75a1a",
   "metadata": {},
   "outputs": [
    {
     "name": "stdout",
     "output_type": "stream",
     "text": [
      "In the rapidly evolving field of artificial intelligence (AI), two distinct categories have emerged: traditional machine learning and deep learning on one hand, and generative and agentic AI on the other. Understanding the differences between these types of AI is crucial for businesses and organizations looking to leverage AI technology effectively. In this blog, we will explore the characteristics of traditional machine learning and deep learning compared to generative and agentic AI, as well as their real-world applications and future implications.\n",
      "\n",
      "Traditional machine learning, which includes supervised and unsupervised learning methods, involves training algorithms to make predictions or decisions based on input data. Supervised learning requires labeled data for training, while unsupervised learning aims to find patterns and relationships in data without predefined labels. Examples of traditional machine learning algorithms include linear regression, decision trees, and clustering algorithms such as k-means.\n",
      "\n",
      "In contrast, generative AI focuses on creating new data by learning and generating new outputs based on existing data. Generative AI can be used to create images, text, and even music that mimic the style of the input data. Examples of generative AI applications include deep generative models like Generative Adversarial Networks (GANs) and Variational Autoencoders (VAEs).\n",
      "\n",
      "Deep learning, a subset of machine learning that uses neural networks to model high-level abstractions in data, has gained popularity for its ability to handle large and complex datasets. Deep learning models, such as convolutional neural networks (CNN) and recurrent neural networks (RNN), are widely used in image and speech recognition, natural language processing, and autonomous driving.\n",
      "\n",
      "On the other hand, agentic AI refers to AI systems that can act autonomously and make decisions without human intervention. These systems have the ability to understand the environment, plan actions, and execute tasks independently. Examples of agentic AI applications include autonomous vehicles, robotic manufacturing systems, and virtual assistants like Siri and Alexa.\n",
      "\n",
      "When comparing traditional machine learning and deep learning to generative and agentic AI, it becomes clear that each type has its own unique strengths and capabilities. Traditional machine learning and deep learning excel at processing and analyzing data to make predictions or decisions, while generative and agentic AI focus on creating new data and acting autonomously in dynamic environments.\n",
      "\n",
      "In the real world, companies are leveraging AI technology in various ways to enhance their products and services. For example, companies like Netflix and Amazon use recommendation algorithms based on traditional machine learning to personalize user experiences. Similarly, companies like Google and Facebook employ deep learning models for image and speech recognition tasks.\n",
      "\n",
      "Generative AI is also being used by companies like Adobe and NVIDIA to create realistic images and videos, while agentic AI is powering autonomous vehicles developed by companies like Tesla and Uber. These real-world examples demonstrate the diverse applications and potential benefits of AI technology across different industries.\n",
      "\n",
      "Looking towards the future, the implications of advancing AI technology are vast and far-reaching. Ethical considerations, such as data privacy, transparency, and bias, must be carefully addressed as AI systems become more sophisticated and autonomous. Understanding the differences between traditional machine learning and deep learning versus generative and agentic AI is essential for navigating the evolving landscape of AI technology and its impact on society.\n",
      "\n",
      "In conclusion, traditional machine learning and deep learning represent valuable tools for data analysis and decision-making, while generative and agentic AI offer new possibilities for creativity and autonomy. By exploring the capabilities and applications of these different types of AI, businesses and organizations can harness the power of AI technology to drive innovation and growth in the digital age.\n"
     ]
    }
   ],
   "source": [
    "print(input_state ['content'])"
   ]
  },
  {
   "cell_type": "code",
   "execution_count": null,
   "id": "2050afc8",
   "metadata": {},
   "outputs": [],
   "source": []
  },
  {
   "cell_type": "code",
   "execution_count": null,
   "id": "0cc37717",
   "metadata": {},
   "outputs": [],
   "source": []
  },
  {
   "cell_type": "code",
   "execution_count": null,
   "id": "1fed0e6b",
   "metadata": {},
   "outputs": [],
   "source": []
  }
 ],
 "metadata": {
  "kernelspec": {
   "display_name": "Python 3",
   "language": "python",
   "name": "python3"
  },
  "language_info": {
   "codemirror_mode": {
    "name": "ipython",
    "version": 3
   },
   "file_extension": ".py",
   "mimetype": "text/x-python",
   "name": "python",
   "nbconvert_exporter": "python",
   "pygments_lexer": "ipython3",
   "version": "3.12.11"
  }
 },
 "nbformat": 4,
 "nbformat_minor": 5
}
