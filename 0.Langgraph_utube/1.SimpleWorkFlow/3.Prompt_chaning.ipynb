{
 "cells": [
  {
   "cell_type": "code",
   "execution_count": 22,
   "id": "5c2cdaaa",
   "metadata": {},
   "outputs": [
    {
     "data": {
      "text/plain": [
       "True"
      ]
     },
     "execution_count": 22,
     "metadata": {},
     "output_type": "execute_result"
    }
   ],
   "source": [
    "import os\n",
    "from dotenv import load_dotenv\n",
    "load_dotenv()"
   ]
  },
  {
   "cell_type": "code",
   "execution_count": 23,
   "id": "4f565ee7",
   "metadata": {},
   "outputs": [],
   "source": [
    "from langgraph.graph import StateGraph,START,END\n",
    "from typing import TypedDict\n",
    "from langchain_openai import ChatOpenAI"
   ]
  },
  {
   "cell_type": "code",
   "execution_count": 24,
   "id": "861cf9bf",
   "metadata": {},
   "outputs": [
    {
     "data": {
      "text/plain": [
       "AIMessage(content='Change in the Langgraph has been a continuous process since its inception. Over time, new features have been added, existing features have been improved, and the overall user experience has been refined. Some notable changes in the Langgraph include:\\n\\n1. Addition of new languages: The Langgraph has continuously expanded its language offerings to include more languages from around the world, allowing users to learn and practice a wider range of languages.\\n\\n2. Improvements in language learning tools: The Langgraph has introduced new tools and resources to aid language learners in their studies, such as interactive exercises, flashcards, and pronunciation guides.\\n\\n3. User interface updates: The Langgraph has undergone several redesigns to improve usability and make it easier for users to navigate the platform and access resources.\\n\\n4. Community features: The Langgraph has added features that encourage interaction and collaboration among users, such as language exchange forums, group study sessions, and virtual language clubs.\\n\\n5. Integration of artificial intelligence: The Langgraph has started using AI technology to personalize learning experiences, provide feedback, and help users track their progress.\\n\\nOverall, the changes in the Langgraph have been aimed at providing a more engaging, effective, and user-friendly language learning platform for users around the world.', additional_kwargs={'refusal': None}, response_metadata={'token_usage': {'completion_tokens': 248, 'prompt_tokens': 15, 'total_tokens': 263, 'completion_tokens_details': {'accepted_prediction_tokens': 0, 'audio_tokens': 0, 'reasoning_tokens': 0, 'rejected_prediction_tokens': 0}, 'prompt_tokens_details': {'audio_tokens': 0, 'cached_tokens': 0}}, 'model_name': 'gpt-3.5-turbo-0125', 'system_fingerprint': None, 'id': 'chatcmpl-BsO1RBowVju5hNzbj4zTwb3U8r1Fm', 'service_tier': 'default', 'finish_reason': 'stop', 'logprobs': None}, id='run--8caf9d83-8f07-4f56-aed3-7be2f63bd956-0', usage_metadata={'input_tokens': 15, 'output_tokens': 248, 'total_tokens': 263, 'input_token_details': {'audio': 0, 'cache_read': 0}, 'output_token_details': {'audio': 0, 'reasoning': 0}})"
      ]
     },
     "execution_count": 24,
     "metadata": {},
     "output_type": "execute_result"
    }
   ],
   "source": [
    "model = ChatOpenAI()\n",
    "model .invoke(\"Prompt chaning in the Langgraph?\")"
   ]
  },
  {
   "cell_type": "code",
   "execution_count": 25,
   "id": "6c295fb6",
   "metadata": {},
   "outputs": [],
   "source": [
    "class BlogState(TypedDict):\n",
    "    title : str \n",
    "    outline : str \n",
    "    content : str\n",
    "    "
   ]
  },
  {
   "cell_type": "code",
   "execution_count": 26,
   "id": "fdea8ab6",
   "metadata": {},
   "outputs": [],
   "source": [
    "def create_outline(state:BlogState):\n",
    "    #fetch the title\n",
    "    title = state[\"title\"]\n",
    "\n",
    "    #Call the LLM Outline\n",
    "    prompt = f'Generate a Detailed Outline for a Blog on the topic-{title}'\n",
    "    outline = model.invoke(prompt).content\n",
    "    \n",
    "    #Update the State \n",
    "    state['outline'] = outline\n",
    "    \n",
    "    return state"
   ]
  },
  {
   "cell_type": "code",
   "execution_count": 27,
   "id": "d9f2b898",
   "metadata": {},
   "outputs": [],
   "source": [
    "def create_blog(state:BlogState):\n",
    "    title = state['title']\n",
    "    outline = state['outline']\n",
    "\n",
    "    prompt = f'write a deatiled blog on the title-{title} using the following outline\\n{outline}'\n",
    "    content = model.invoke(prompt).content\n",
    "    #update in the State\n",
    "    state['content'] = content\n",
    "\n",
    "    return state"
   ]
  },
  {
   "cell_type": "code",
   "execution_count": 28,
   "id": "5d7fecee",
   "metadata": {},
   "outputs": [],
   "source": [
    "graph = StateGraph(BlogState)\n",
    "#Add the Nodes\n",
    "graph.add_node('create_outline',create_outline)\n",
    "graph.add_node('create_blog',create_blog)\n",
    "\n",
    "#Edges\n",
    "graph.add_edge(START,'create_outline')\n",
    "graph.add_edge('create_outline','create_blog')\n",
    "graph.add_edge('create_blog',END)\n",
    "\n",
    "#Compile\n",
    "workflow = graph.compile()"
   ]
  },
  {
   "cell_type": "code",
   "execution_count": 29,
   "id": "d4a5a6e7",
   "metadata": {},
   "outputs": [
    {
     "data": {
      "image/png": "[encoded data removed]",
      "text/plain": [
       "<IPython.core.display.Image object>"
      ]
     },
     "metadata": {},
     "output_type": "display_data"
    }
   ],
   "source": [
    "from IPython.display import Image, display\n",
    "\n",
    "try:\n",
    "    display(Image(workflow.get_graph().draw_mermaid_png()))\n",
    "except Exception:\n",
    "    # This requires some extra dependencies and is optional\n",
    "    pass"
   ]
  },
  {
   "cell_type": "code",
   "execution_count": 30,
   "id": "8d933f43",
   "metadata": {},
   "outputs": [
    {
     "data": {
      "text/plain": [
       "{'title': 'Rise of AI in Software?',\n",
       " 'outline': 'I. Introduction\\n    A. Explanation of AI in software\\n    B. Importance of AI in software development\\n    C. Overview of how AI is impacting the software industry\\n\\nII. Evolution of AI in Software\\n    A. Early developments in AI technology\\n    B. Rise of machine learning and deep learning algorithms\\n    C. Integration of AI into software development processes\\n\\nIII. Applications of AI in Software\\n    A. Automation of repetitive tasks\\n    B. Personalization of user experiences\\n    C. Predictive analytics and decision-making\\n    D. Improving software security and reliability\\n\\nIV. Challenges and Ethical Considerations\\n    A. Potential job displacement due to automation\\n    B. Bias and fairness in AI algorithms\\n    C. Data privacy and security concerns\\n    D. Transparency and accountability in AI systems\\n\\nV. Future Trends in AI and Software\\n    A. Expansion of AI capabilities in software development\\n    B. Increasing adoption of AI-powered tools and platforms\\n    C. Emergence of new AI-driven software applications\\n    D. Potential impact on the workforce and society\\n\\nVI. Conclusion\\n    A. Recap of key points discussed in the blog\\n    B. Importance of staying informed about AI in software development\\n    C. Call to action for exploring AI opportunities in the software industry.',\n",
       " 'content': \"In today's rapidly evolving technological landscape, the rise of artificial intelligence (AI) in software development is a trend that is impossible to ignore. AI has already begun to revolutionize the software industry, offering new and innovative solutions to complex problems. In this blog, we will explore the impact of AI in software, the evolution of AI technology, applications of AI in software, challenges and ethical considerations, future trends, and the importance of staying informed about AI in software development.\\n\\nI. Introduction\\n\\nA. Explanation of AI in software\\nArtificial intelligence in software refers to the use of algorithms and computer systems to perform tasks that typically require human intelligence. This can include tasks such as learning, reasoning, problem-solving, perception, and language understanding.\\n\\nB. Importance of AI in software development\\nAI in software development is crucial for enhancing efficiency, accuracy, and innovation. It can automate repetitive tasks, optimize processes, personalize user experiences, and make data-driven decisions.\\n\\nC. Overview of how AI is impacting the software industry\\nAI is reshaping the software industry by enabling the development of intelligent applications, enhancing user experiences, improving security and reliability, and driving efficiency in software development processes.\\n\\nII. Evolution of AI in Software\\n\\nA. Early developments in AI technology\\nThe concept of AI dates back to the 1950s, with early developments in areas such as rule-based systems, expert systems, and neural networks.\\n\\nB. Rise of machine learning and deep learning algorithms\\nMachine learning and deep learning algorithms have transformed AI technology, enabling computers to learn from data, recognize patterns, and make predictions without being explicitly programmed.\\n\\nC. Integration of AI into software development processes\\nAI is becoming an integral part of software development processes, with developers utilizing AI-powered tools and platforms to streamline workflows, automate tasks, and enhance productivity.\\n\\nIII. Applications of AI in Software\\n\\nA. Automation of repetitive tasks\\nAI can automate repetitive tasks such as testing, debugging, code generation, and deployment, saving developers time and effort.\\n\\nB. Personalization of user experiences\\nAI can analyze user behavior, preferences, and interactions to personalize software interfaces, content, and recommendations.\\n\\nC. Predictive analytics and decision-making\\nAI can analyze large datasets, identify trends, and make predictions to help businesses make informed decisions and optimize performance.\\n\\nD. Improving software security and reliability\\nAI can detect and mitigate security threats, identify vulnerabilities, and enhance the reliability of software systems.\\n\\nIV. Challenges and Ethical Considerations\\n\\nA. Potential job displacement due to automation\\nThe automation of tasks by AI can lead to job displacement in certain sectors, requiring upskilling and reskilling of the workforce.\\n\\nB. Bias and fairness in AI algorithms\\nAI algorithms can exhibit bias and discrimination if not properly designed and tested, raising ethical concerns about fairness and transparency.\\n\\nC. Data privacy and security concerns\\nThe use of AI in software raises concerns about data privacy, security, and the potential misuse of personal information.\\n\\nD. Transparency and accountability in AI systems\\nEnsuring transparency and accountability in AI systems is essential to build trust and address concerns about the impact of AI on society.\\n\\nV. Future Trends in AI and Software\\n\\nA. Expansion of AI capabilities in software development\\nAI capabilities in software development will continue to expand, enabling the creation of more intelligent and intuitive applications.\\n\\nB. Increasing adoption of AI-powered tools and platforms\\nThe adoption of AI-powered tools and platforms will increase, providing developers with new opportunities to enhance their productivity and creativity.\\n\\nC. Emergence of new AI-driven software applications\\nNew AI-driven software applications will emerge, offering innovative solutions to complex problems and improving user experiences.\\n\\nD. Potential impact on the workforce and society\\nAI's impact on the workforce and society will continue to evolve, creating new opportunities and challenges for individuals, businesses, and governments.\\n\\nVI. Conclusion\\n\\nA. Recap of key points discussed in the blog\\nAI in software is transforming the industry by enhancing efficiency, personalizing user experiences, improving security and reliability, and driving innovation.\\n\\nB. Importance of staying informed about AI in software development\\nStaying informed about AI in software development is crucial for developers, businesses, and consumers to understand the potential benefits and challenges of AI technology.\\n\\nC. Call to action for exploring AI opportunities in the software industry\\nAs AI continues to reshape the software industry, developers are encouraged to explore AI opportunities, enhance their skills, and leverage AI technologies to create innovative and intelligent software solutions.\"}"
      ]
     },
     "execution_count": 30,
     "metadata": {},
     "output_type": "execute_result"
    }
   ],
   "source": [
    "### Exceute the graph\n",
    "input_state =  workflow.invoke({'title':\"Rise of AI in Software?\"})\n",
    "input_state "
   ]
  },
  {
   "cell_type": "code",
   "execution_count": 31,
   "id": "a0e75988",
   "metadata": {},
   "outputs": [
    {
     "name": "stdout",
     "output_type": "stream",
     "text": [
      "In today's rapidly evolving technological landscape, the rise of artificial intelligence (AI) in software development is a trend that is impossible to ignore. AI has already begun to revolutionize the software industry, offering new and innovative solutions to complex problems. In this blog, we will explore the impact of AI in software, the evolution of AI technology, applications of AI in software, challenges and ethical considerations, future trends, and the importance of staying informed about AI in software development.\n",
      "\n",
      "I. Introduction\n",
      "\n",
      "A. Explanation of AI in software\n",
      "Artificial intelligence in software refers to the use of algorithms and computer systems to perform tasks that typically require human intelligence. This can include tasks such as learning, reasoning, problem-solving, perception, and language understanding.\n",
      "\n",
      "B. Importance of AI in software development\n",
      "AI in software development is crucial for enhancing efficiency, accuracy, and innovation. It can automate repetitive tasks, optimize processes, personalize user experiences, and make data-driven decisions.\n",
      "\n",
      "C. Overview of how AI is impacting the software industry\n",
      "AI is reshaping the software industry by enabling the development of intelligent applications, enhancing user experiences, improving security and reliability, and driving efficiency in software development processes.\n",
      "\n",
      "II. Evolution of AI in Software\n",
      "\n",
      "A. Early developments in AI technology\n",
      "The concept of AI dates back to the 1950s, with early developments in areas such as rule-based systems, expert systems, and neural networks.\n",
      "\n",
      "B. Rise of machine learning and deep learning algorithms\n",
      "Machine learning and deep learning algorithms have transformed AI technology, enabling computers to learn from data, recognize patterns, and make predictions without being explicitly programmed.\n",
      "\n",
      "C. Integration of AI into software development processes\n",
      "AI is becoming an integral part of software development processes, with developers utilizing AI-powered tools and platforms to streamline workflows, automate tasks, and enhance productivity.\n",
      "\n",
      "III. Applications of AI in Software\n",
      "\n",
      "A. Automation of repetitive tasks\n",
      "AI can automate repetitive tasks such as testing, debugging, code generation, and deployment, saving developers time and effort.\n",
      "\n",
      "B. Personalization of user experiences\n",
      "AI can analyze user behavior, preferences, and interactions to personalize software interfaces, content, and recommendations.\n",
      "\n",
      "C. Predictive analytics and decision-making\n",
      "AI can analyze large datasets, identify trends, and make predictions to help businesses make informed decisions and optimize performance.\n",
      "\n",
      "D. Improving software security and reliability\n",
      "AI can detect and mitigate security threats, identify vulnerabilities, and enhance the reliability of software systems.\n",
      "\n",
      "IV. Challenges and Ethical Considerations\n",
      "\n",
      "A. Potential job displacement due to automation\n",
      "The automation of tasks by AI can lead to job displacement in certain sectors, requiring upskilling and reskilling of the workforce.\n",
      "\n",
      "B. Bias and fairness in AI algorithms\n",
      "AI algorithms can exhibit bias and discrimination if not properly designed and tested, raising ethical concerns about fairness and transparency.\n",
      "\n",
      "C. Data privacy and security concerns\n",
      "The use of AI in software raises concerns about data privacy, security, and the potential misuse of personal information.\n",
      "\n",
      "D. Transparency and accountability in AI systems\n",
      "Ensuring transparency and accountability in AI systems is essential to build trust and address concerns about the impact of AI on society.\n",
      "\n",
      "V. Future Trends in AI and Software\n",
      "\n",
      "A. Expansion of AI capabilities in software development\n",
      "AI capabilities in software development will continue to expand, enabling the creation of more intelligent and intuitive applications.\n",
      "\n",
      "B. Increasing adoption of AI-powered tools and platforms\n",
      "The adoption of AI-powered tools and platforms will increase, providing developers with new opportunities to enhance their productivity and creativity.\n",
      "\n",
      "C. Emergence of new AI-driven software applications\n",
      "New AI-driven software applications will emerge, offering innovative solutions to complex problems and improving user experiences.\n",
      "\n",
      "D. Potential impact on the workforce and society\n",
      "AI's impact on the workforce and society will continue to evolve, creating new opportunities and challenges for individuals, businesses, and governments.\n",
      "\n",
      "VI. Conclusion\n",
      "\n",
      "A. Recap of key points discussed in the blog\n",
      "AI in software is transforming the industry by enhancing efficiency, personalizing user experiences, improving security and reliability, and driving innovation.\n",
      "\n",
      "B. Importance of staying informed about AI in software development\n",
      "Staying informed about AI in software development is crucial for developers, businesses, and consumers to understand the potential benefits and challenges of AI technology.\n",
      "\n",
      "C. Call to action for exploring AI opportunities in the software industry\n",
      "As AI continues to reshape the software industry, developers are encouraged to explore AI opportunities, enhance their skills, and leverage AI technologies to create innovative and intelligent software solutions.\n"
     ]
    }
   ],
   "source": [
    "print(input_state ['content'])"
   ]
  },
  {
   "cell_type": "code",
   "execution_count": 32,
   "id": "c7152089",
   "metadata": {},
   "outputs": [
    {
     "data": {
      "text/plain": [
       "{'title': 'Traditional Machine Learning and Deep Learning Vs Generative and Agentic AI',\n",
       " 'outline': 'Title: Traditional Machine Learning and Deep Learning Vs Generative and Agentic AI\\n\\nI. Introduction\\n    A. Brief overview of AI and its applications\\n    B. Explanation of traditional machine learning and deep learning\\n    C. Introduction to generative and agentic AI\\n    D. Overview of the blog structure\\n\\nII. Traditional Machine Learning\\n    A. Definition and examples of traditional machine learning algorithms\\n    B. Advantages and limitations of traditional machine learning\\n    C. Real-world applications of traditional machine learning\\n    D. Case studies demonstrating the effectiveness of traditional machine learning\\n\\nIII. Deep Learning\\n    A. Definition and examples of deep learning architectures\\n    B. Advantages and limitations of deep learning\\n    C. Comparison of deep learning with traditional machine learning\\n    D. Real-world applications of deep learning\\n    E. Case studies illustrating the power of deep learning\\n\\nIV. Generative AI\\n    A. Definition and examples of generative AI techniques\\n    B. Advantages and limitations of generative AI\\n    C. Comparison of generative AI with traditional machine learning and deep learning\\n    D. Real-world applications of generative AI\\n    E. Case studies showcasing the capabilities of generative AI\\n\\nV. Agentic AI\\n    A. Definition and examples of agentic AI\\n    B. Advantages and limitations of agentic AI\\n    C. Comparison of agentic AI with generative AI and deep learning\\n    D. Real-world applications of agentic AI\\n    E. Case studies demonstrating the potential of agentic AI\\n\\nVI. Conclusion\\n    A. Recap of the key points discussed in the blog\\n    B. Future trends and advancements in AI technologies\\n    C. Final thoughts on the importance of embracing different AI paradigms for solving complex problems\\n    D. Call to action for readers to learn more about the evolving field of AI\\n\\nVII. References\\n    A. List of sources cited in the blog\\n    B. Additional readings for readers interested in delving deeper into the topic.',\n",
       " 'content': \"\\n\\nI. Introduction\\n\\nArtificial Intelligence (AI) has revolutionized the way we interact with technology and has transformed various industries such as healthcare, finance, and transportation. Traditional machine learning and deep learning are two popular approaches within the field of AI that have been widely used for tasks such as image recognition, natural language processing, and recommendation systems. However, emerging paradigms like generative and agentic AI are pushing the boundaries of AI capabilities by enabling machines to create new content and interact with their environment in a more human-like manner.\\n\\nIn this blog, we will explore the differences between traditional machine learning and deep learning compared to generative and agentic AI. We will discuss the definitions, advantages, limitations, real-world applications, and provide case studies to highlight the effectiveness of each approach.\\n\\nII. Traditional Machine Learning\\n\\nTraditional machine learning algorithms, such as linear regression, decision trees, and support vector machines, have been the go-to methods for supervised and unsupervised learning tasks. These algorithms rely on large datasets to learn patterns and make predictions or classifications. While traditional machine learning has been successful in various domains like healthcare and finance, it has limitations in handling complex and unstructured data.\\n\\nReal-world applications of traditional machine learning include fraud detection in financial transactions, spam email detection, and customer segmentation for targeted marketing campaigns. Case studies have shown the effectiveness of traditional machine learning in improving business operations and customer experiences.\\n\\nIII. Deep Learning\\n\\nDeep learning, a subset of machine learning, utilizes neural networks with multiple layers to learn hierarchical representations of data. Convolutional neural networks (CNNs) and recurrent neural networks (RNNs) are popular deep learning architectures used for tasks such as image recognition, speech recognition, and natural language processing. Deep learning has shown remarkable results in complex tasks but requires large amounts of labeled data and computational resources.\\n\\nReal-world applications of deep learning include self-driving cars, facial recognition systems, and speech-to-text translation. Case studies have demonstrated the power of deep learning in achieving state-of-the-art performance in various AI tasks.\\n\\nIV. Generative AI\\n\\nGenerative AI techniques, such as generative adversarial networks (GANs) and variational autoencoders (VAEs), focus on generating new data samples from a given distribution. Generative AI enables machines to create realistic images, videos, and text, which have applications in creative industries like art and media. However, generative AI has limitations in controlling the output and ensuring its quality.\\n\\nReal-world applications of generative AI include image synthesis, text generation, and style transfer in artwork. Case studies have showcased the capabilities of generative AI in creating novel content and inspiring new forms of creativity.\\n\\nV. Agentic AI\\n\\nAgentic AI, also known as autonomous AI, refers to intelligent systems capable of independent decision-making and actions in dynamic environments. Agentic AI agents interact with their surroundings, learn from feedback, and adapt their behavior to achieve specific objectives. Agentic AI systems are used in autonomous vehicles, robotic surgery, and intelligent personal assistants like Siri and Alexa. However, agentic AI raises ethical concerns about accountability, transparency, and bias in decision-making.\\n\\nReal-world applications of agentic AI include autonomous drones for search and rescue missions, intelligent robots for manufacturing tasks, and virtual agents for customer service. Case studies have demonstrated the potential of agentic AI in enhancing productivity, efficiency, and safety in various industries.\\n\\nVI. Conclusion\\n\\nIn conclusion, traditional machine learning and deep learning have been foundational techniques in AI, driving advancements in various applications. Generative AI and agentic AI offer new possibilities for creating content and interacting with the environment in more human-like ways. It is essential for researchers, practitioners, and policymakers to consider the strengths and limitations of each AI paradigm and explore interdisciplinary approaches for addressing complex challenges.\\n\\nFuture trends in AI technologies will likely involve the integration of multiple AI paradigms to achieve more robust and adaptive systems. Embracing different AI approaches can lead to innovative solutions and transformative impacts on society. As AI continues to evolve, it is crucial for individuals to stay informed and engaged with the latest developments in the field.\\n\\nI encourage readers to explore additional resources and engage in discussions about the future of AI to contribute to advancements in technology and create a better future for all. Thank you for joining me on this journey through the landscape of AI paradigms and their applications in today's world.\\n\\nVII. References\\n\\n1. Goodfellow, I., Bengio, Y., & Courville, A. (2016). Deep learning. MIT Press.\\n2. LeCun, Y., Bengio, Y., & Hinton, G. (2015). Deep learning. Nature, 521(7553), 436-444.\\n3. Ian, G. (2017). Generative adversarial networks. O'Reilly Media.\\n4. Russell, S. J., Dewey, D., & Tegmark, M. (2015). Research priorities for robust and beneficial artificial intelligence. AI Magazine, 36(4), 105-114.\"}"
      ]
     },
     "execution_count": 32,
     "metadata": {},
     "output_type": "execute_result"
    }
   ],
   "source": [
    "### Exceute the graph\n",
    "input_state =  workflow.invoke({'title':\"Traditional Machine Learning and Deep Learning Vs Generative and Agentic AI\"})\n",
    "input_state "
   ]
  },
  {
   "cell_type": "code",
   "execution_count": 33,
   "id": "76c75a1a",
   "metadata": {},
   "outputs": [
    {
     "name": "stdout",
     "output_type": "stream",
     "text": [
      "\n",
      "\n",
      "I. Introduction\n",
      "\n",
      "Artificial Intelligence (AI) has revolutionized the way we interact with technology and has transformed various industries such as healthcare, finance, and transportation. Traditional machine learning and deep learning are two popular approaches within the field of AI that have been widely used for tasks such as image recognition, natural language processing, and recommendation systems. However, emerging paradigms like generative and agentic AI are pushing the boundaries of AI capabilities by enabling machines to create new content and interact with their environment in a more human-like manner.\n",
      "\n",
      "In this blog, we will explore the differences between traditional machine learning and deep learning compared to generative and agentic AI. We will discuss the definitions, advantages, limitations, real-world applications, and provide case studies to highlight the effectiveness of each approach.\n",
      "\n",
      "II. Traditional Machine Learning\n",
      "\n",
      "Traditional machine learning algorithms, such as linear regression, decision trees, and support vector machines, have been the go-to methods for supervised and unsupervised learning tasks. These algorithms rely on large datasets to learn patterns and make predictions or classifications. While traditional machine learning has been successful in various domains like healthcare and finance, it has limitations in handling complex and unstructured data.\n",
      "\n",
      "Real-world applications of traditional machine learning include fraud detection in financial transactions, spam email detection, and customer segmentation for targeted marketing campaigns. Case studies have shown the effectiveness of traditional machine learning in improving business operations and customer experiences.\n",
      "\n",
      "III. Deep Learning\n",
      "\n",
      "Deep learning, a subset of machine learning, utilizes neural networks with multiple layers to learn hierarchical representations of data. Convolutional neural networks (CNNs) and recurrent neural networks (RNNs) are popular deep learning architectures used for tasks such as image recognition, speech recognition, and natural language processing. Deep learning has shown remarkable results in complex tasks but requires large amounts of labeled data and computational resources.\n",
      "\n",
      "Real-world applications of deep learning include self-driving cars, facial recognition systems, and speech-to-text translation. Case studies have demonstrated the power of deep learning in achieving state-of-the-art performance in various AI tasks.\n",
      "\n",
      "IV. Generative AI\n",
      "\n",
      "Generative AI techniques, such as generative adversarial networks (GANs) and variational autoencoders (VAEs), focus on generating new data samples from a given distribution. Generative AI enables machines to create realistic images, videos, and text, which have applications in creative industries like art and media. However, generative AI has limitations in controlling the output and ensuring its quality.\n",
      "\n",
      "Real-world applications of generative AI include image synthesis, text generation, and style transfer in artwork. Case studies have showcased the capabilities of generative AI in creating novel content and inspiring new forms of creativity.\n",
      "\n",
      "V. Agentic AI\n",
      "\n",
      "Agentic AI, also known as autonomous AI, refers to intelligent systems capable of independent decision-making and actions in dynamic environments. Agentic AI agents interact with their surroundings, learn from feedback, and adapt their behavior to achieve specific objectives. Agentic AI systems are used in autonomous vehicles, robotic surgery, and intelligent personal assistants like Siri and Alexa. However, agentic AI raises ethical concerns about accountability, transparency, and bias in decision-making.\n",
      "\n",
      "Real-world applications of agentic AI include autonomous drones for search and rescue missions, intelligent robots for manufacturing tasks, and virtual agents for customer service. Case studies have demonstrated the potential of agentic AI in enhancing productivity, efficiency, and safety in various industries.\n",
      "\n",
      "VI. Conclusion\n",
      "\n",
      "In conclusion, traditional machine learning and deep learning have been foundational techniques in AI, driving advancements in various applications. Generative AI and agentic AI offer new possibilities for creating content and interacting with the environment in more human-like ways. It is essential for researchers, practitioners, and policymakers to consider the strengths and limitations of each AI paradigm and explore interdisciplinary approaches for addressing complex challenges.\n",
      "\n",
      "Future trends in AI technologies will likely involve the integration of multiple AI paradigms to achieve more robust and adaptive systems. Embracing different AI approaches can lead to innovative solutions and transformative impacts on society. As AI continues to evolve, it is crucial for individuals to stay informed and engaged with the latest developments in the field.\n",
      "\n",
      "I encourage readers to explore additional resources and engage in discussions about the future of AI to contribute to advancements in technology and create a better future for all. Thank you for joining me on this journey through the landscape of AI paradigms and their applications in today's world.\n",
      "\n",
      "VII. References\n",
      "\n",
      "1. Goodfellow, I., Bengio, Y., & Courville, A. (2016). Deep learning. MIT Press.\n",
      "2. LeCun, Y., Bengio, Y., & Hinton, G. (2015). Deep learning. Nature, 521(7553), 436-444.\n",
      "3. Ian, G. (2017). Generative adversarial networks. O'Reilly Media.\n",
      "4. Russell, S. J., Dewey, D., & Tegmark, M. (2015). Research priorities for robust and beneficial artificial intelligence. AI Magazine, 36(4), 105-114.\n"
     ]
    }
   ],
   "source": [
    "print(input_state ['content'])"
   ]
  },
  {
   "cell_type": "markdown",
   "id": "8ae14b25",
   "metadata": {},
   "source": [
    "### Adding the Evaluatro Parameter"
   ]
  },
  {
   "cell_type": "code",
   "execution_count": 34,
   "id": "2050afc8",
   "metadata": {},
   "outputs": [],
   "source": [
    "\n",
    "class BlogState(TypedDict):\n",
    "    title: str\n",
    "    outline: str\n",
    "    content: str\n",
    "    score: int  # New field for evaluation score (1-10)\n",
    "\n",
    "    "
   ]
  },
  {
   "cell_type": "code",
   "execution_count": null,
   "id": "0cc37717",
   "metadata": {},
   "outputs": [],
   "source": [
    "def evaluate_content(state: BlogState):\n",
    "    content = state['content']\n",
    "    title = state['title']\n",
    "    \n",
    "    prompt = f\"\"\"Evaluate how relevant this content is to the title '{title}'.\n",
    "    Content: {content}\n",
    "    \n",
    "    Provide a score from 1-10 where:\n",
    "    1 = Not relevant at all\n",
    "    5 = Somewhat relevant\n",
    "    10 = Perfectly relevant\n",
    "    \n",
    "    Return ONLY the number score, nothing else.\"\"\"\n",
    "    \n",
    "    score = int(model.invoke(prompt).content)\n",
    "    state['score'] = score #update the score\n",
    "    return state\n"
   ]
  },
  {
   "cell_type": "code",
   "execution_count": 36,
   "id": "1fed0e6b",
   "metadata": {},
   "outputs": [],
   "source": [
    "graph = StateGraph(BlogState)\n",
    "\n",
    "# Add the Nodes\n",
    "graph.add_node('create_outline', create_outline)\n",
    "graph.add_node('create_blog', create_blog)\n",
    "graph.add_node('evaluate_content', evaluate_content)  # New node\n",
    "\n",
    "# Edges\n",
    "graph.add_edge(START, 'create_outline')\n",
    "graph.add_edge('create_outline', 'create_blog')\n",
    "graph.add_edge('create_blog', 'evaluate_content')  # New edge\n",
    "graph.add_edge('evaluate_content', END)\n",
    "\n",
    "# Compile\n",
    "workflow = graph.compile()\n"
   ]
  },
  {
   "cell_type": "code",
   "execution_count": 37,
   "id": "11c36a0b",
   "metadata": {},
   "outputs": [
    {
     "name": "stdout",
     "output_type": "stream",
     "text": [
      "Content Score: 10/10\n",
      "Artificial Intelligence (AI) has been rapidly transforming the way software is developed and utilized in various industries. From automating repetitive tasks to predicting user behavior, AI has become an integral component in modern software development. In this blog, we will explore the rise of AI in software, its evolution, applications, benefits, challenges, future trends, and its potential impact on the future of software development.\n",
      "\n",
      "I. Introduction\n",
      "A. Definition of AI in software: AI refers to the simulation of human intelligence processes by machines, primarily computer systems. AI software can perform tasks such as learning, reasoning, problem-solving, perception, language understanding, and decision-making.\n",
      "B. Brief history of AI in software development: AI has its roots in the 1950s, with the development of early neural networks and expert systems. Over the years, AI has evolved significantly, thanks to advancements in machine learning algorithms, deep learning, and natural language processing.\n",
      "C. Importance of AI in software: AI has revolutionized software development by enabling applications to learn from data, adapt to new inputs, and perform tasks without explicit instructions. It enhances user experience, enables automation, and improves decision-making processes.\n",
      "\n",
      "II. The Evolution of AI in Software\n",
      "A. Early stages of AI in software development: Early AI applications focused on rule-based systems and expert systems to replicate human decision-making processes. These systems were limited in their capabilities and required manual input for problem-solving.\n",
      "B. Advancements in machine learning and neural networks: The development of machine learning algorithms and neural networks has fueled the growth of AI in software. These technologies enable software to learn from data, recognize patterns, and make predictions without explicit programming.\n",
      "C. Impact of AI in modern software development: AI has transformed modern software development by enabling automation of tasks, personalization of user experiences, and prediction of user behaviors. AI-powered applications like chatbots, recommendation engines, and autonomous vehicles have become increasingly common in today's digital landscape.\n",
      "\n",
      "III. Applications of AI in Software\n",
      "A. Natural language processing and chatbots: AI-powered chatbots use natural language processing to understand and respond to user queries in real-time, improving customer service and engagement.\n",
      "B. Predictive analytics and recommendation engines: AI algorithms analyze large datasets to predict future outcomes and provide personalized recommendations to users, increasing customer satisfaction and retention.\n",
      "C. Autonomous vehicles and robotics: AI enables autonomous vehicles and robots to navigate and perform tasks without human intervention, revolutionizing transportation and manufacturing industries.\n",
      "D. Virtual assistants and personalization: AI-powered virtual assistants like Siri and Alexa use machine learning to understand user preferences and provide personalized recommendations and assistance.\n",
      "\n",
      "IV. Benefits of AI in Software\n",
      "A. Increased efficiency and productivity: AI automates repetitive tasks, reducing manual labor and improving efficiency in software development.\n",
      "B. Improved user experience: AI enables personalization of user experiences, leading to higher user engagement and satisfaction.\n",
      "C. Enhanced decision-making capabilities: AI algorithms analyze data to provide insights and predictions, assisting users in making informed decisions.\n",
      "D. Cost savings and scalability: AI-powered software solutions can reduce operational costs, increase scalability, and improve overall business performance.\n",
      "\n",
      "V. Challenges and Limitations of AI in Software\n",
      "A. Ethical concerns and biases in AI algorithms: AI algorithms may exhibit biases based on the data they are trained on, leading to unfair decision-making and potential ethical issues.\n",
      "B. Data privacy and security issues: AI applications collect and analyze large amounts of user data, raising concerns about data privacy and security.\n",
      "C. Skills gap and workforce displacement: The rise of AI in software development may lead to job displacement for individuals whose roles can be automated by AI, highlighting the need for upskilling and reskilling in the workforce.\n",
      "\n",
      "VI. Future Trends in AI and Software Development\n",
      "A. Integration of AI into all aspects of software development: AI will continue to be integrated into various software applications, enhancing efficiency, user experience, and decision-making capabilities.\n",
      "B. Rise of AI-powered platforms and tools: AI-powered platforms and tools will enable developers to build, test, and deploy AI applications more efficiently, accelerating the development process.\n",
      "C. Continued advancements in deep learning and AI research: Ongoing research in deep learning and AI will lead to breakthroughs in AI capabilities, enabling more complex and autonomous software applications.\n",
      "\n",
      "VII. Conclusion\n",
      "The rise of AI in software development has revolutionized the industry, leading to more intelligent, efficient, and personalized software solutions. As AI continues to advance, the future of software development will likely be shaped by AI-powered technologies, leading to increased automation, personalization, and efficiency. It is essential for developers, businesses, and policymakers to address the challenges and ethical considerations associated with AI to ensure a responsible and sustainable future for AI in software development. AI is undoubtedly here to stay and will continue to transform the way software is developed, utilized, and experienced in the years to come.\n"
     ]
    }
   ],
   "source": [
    "# Execute and show results with score\n",
    "result = workflow.invoke({'title': \"Rise of AI in Software?\"})\n",
    "print(f\"Content Score: {result['score']}/10\")\n",
    "print(result['content'])\n"
   ]
  },
  {
   "cell_type": "code",
   "execution_count": 38,
   "id": "931b73e9",
   "metadata": {},
   "outputs": [
    {
     "name": "stdout",
     "output_type": "stream",
     "text": [
      "Content Score: 9/10\n"
     ]
    }
   ],
   "source": [
    "result = workflow.invoke({'title': \"Traditional ML vs Generative AI\"})\n",
    "print(f\"Content Score: {result['score']}/10\")"
   ]
  },
  {
   "cell_type": "code",
   "execution_count": 39,
   "id": "d060b01d",
   "metadata": {},
   "outputs": [
    {
     "name": "stdout",
     "output_type": "stream",
     "text": [
      "Machine learning (ML) and artificial intelligence (AI) have become integral parts of various industries, revolutionizing how businesses operate and how we interact with technology. Within the realm of machine learning, there are two main approaches that have gained significant traction in recent years: traditional ML and generative AI. While both methods aim to make sense of data and make predictions, they differ in their underlying principles and techniques.\n",
      "\n",
      "Traditional Machine Learning\n",
      "\n",
      "Traditional machine learning involves the use of algorithms and statistical models to perform specific tasks, such as classification, regression, or clustering. These algorithms learn from historical data to make predictions or decisions without being explicitly programmed to do so. Some common examples of traditional machine learning algorithms include logistic regression, support vector machines, decision trees, and k-nearest neighbors.\n",
      "\n",
      "One of the strengths of traditional machine learning is its ability to handle large amounts of structured data and make accurate predictions based on well-defined features. However, traditional ML approaches may struggle with complex and unstructured data, such as images, audio, or text.\n",
      "\n",
      "Generative AI\n",
      "\n",
      "Generative AI, on the other hand, focuses on creating new data samples that resemble the training data it has been given. This approach is typically used to generate images, text, or other content that is indistinguishable from human-generated data. Generative AI techniques include Generative Adversarial Networks (GANs), Variational Autoencoders (VAEs), and autoregressive models.\n",
      "\n",
      "Generative AI has found applications in various industries, such as healthcare (e.g., generating synthetic medical images for training models) and entertainment (e.g., creating deepfake videos). The ability of generative AI to create new and realistic data samples has opened up avenues for artists, researchers, and businesses to explore creative possibilities.\n",
      "\n",
      "Differences between Traditional ML and Generative AI\n",
      "\n",
      "The main difference between traditional machine learning and generative AI lies in their approach to learning and inference. Traditional ML focuses on making predictions based on historical data, while generative AI is geared towards creating new data samples that are similar to the training data. This distinction affects the data requirements and training processes for each approach, as well as their respective strengths and limitations.\n",
      "\n",
      "While traditional ML excels at making accurate predictions and classifications, generative AI allows for the creation of new and diverse data samples. The use cases for each approach vary depending on the goals of the project, with traditional ML being suited for structured data analysis and generative AI for creative content generation.\n",
      "\n",
      "Case Studies\n",
      "\n",
      "To illustrate the capabilities of traditional machine learning and generative AI, consider the following case studies. In the realm of traditional ML, companies like Netflix and Amazon use recommendation systems to personalize content for users based on their viewing history and preferences. These systems rely on algorithms that analyze user behavior and patterns to suggest relevant products or movies.\n",
      "\n",
      "Generative AI has been employed in the gaming industry to create realistic virtual environments and characters. For example, the video game industry uses generative AI techniques to generate lifelike animations and textures for characters in games like FIFA or Call of Duty. These advancements have elevated the gaming experience for players and pushed the boundaries of what is possible in virtual worlds.\n",
      "\n",
      "Future Trends\n",
      "\n",
      "As machine learning and AI technologies continue to evolve, we can expect to see advancements in traditional ML algorithms and generative AI techniques. Emerging technologies such as reinforcement learning and federated learning are reshaping how we approach complex tasks like autonomous driving and natural language processing.\n",
      "\n",
      "Generative AI research is also advancing rapidly, with breakthroughs in areas like text-to-image generation and style transfer. These developments hold great promise for the future of AI and its applications in diverse industries, from healthcare to entertainment.\n",
      "\n",
      "In the coming years, we may see synergies between traditional ML and generative AI approaches, leading to hybrid models that combine the strengths of both methods. By leveraging the power of predictive analytics and creative content generation, businesses and researchers can unlock new opportunities for innovation and problem-solving.\n",
      "\n",
      "Conclusion\n",
      "\n",
      "In conclusion, the comparison between traditional machine learning and generative AI highlights the diverse applications and capabilities of these approaches. While traditional ML is well-suited for making accurate predictions and classifications, generative AI opens up possibilities for creative content generation and data synthesis.\n",
      "\n",
      "As advancements in machine learning and AI technologies continue to accelerate, it is essential for researchers and practitioners to stay informed about the latest trends and developments in the field. By understanding the differences and strengths of traditional ML and generative AI, we can harness their potential to drive innovation and create meaningful impact in various industries.\n",
      "\n",
      "For further reading or research on this topic, consider exploring academic papers, industry reports, and online resources that delve into the intricacies of machine learning and AI. By staying informed and actively engaging with the evolving landscape of AI technologies, we can shape the future of intelligent systems and drive progress in the digital age.\n"
     ]
    }
   ],
   "source": [
    "print(result['content'])"
   ]
  },
  {
   "cell_type": "code",
   "execution_count": null,
   "id": "e9d6467f",
   "metadata": {},
   "outputs": [],
   "source": []
  }
 ],
 "metadata": {
  "kernelspec": {
   "display_name": "Python 3",
   "language": "python",
   "name": "python3"
  },
  "language_info": {
   "codemirror_mode": {
    "name": "ipython",
    "version": 3
   },
   "file_extension": ".py",
   "mimetype": "text/x-python",
   "name": "python",
   "nbconvert_exporter": "python",
   "pygments_lexer": "ipython3",
   "version": "3.12.11"
  }
 },
 "nbformat": 4,
 "nbformat_minor": 5
}
