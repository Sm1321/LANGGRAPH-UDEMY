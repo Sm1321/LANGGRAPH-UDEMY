{
 "cells": [
  {
   "cell_type": "code",
   "execution_count": 20,
   "id": "a23a7d35",
   "metadata": {},
   "outputs": [
    {
     "data": {
      "text/plain": [
       "True"
      ]
     },
     "execution_count": 20,
     "metadata": {},
     "output_type": "execute_result"
    }
   ],
   "source": [
    "import os\n",
    "from dotenv import load_dotenv\n",
    "load_dotenv()"
   ]
  },
  {
   "cell_type": "code",
   "execution_count": 21,
   "id": "bdc29028",
   "metadata": {},
   "outputs": [],
   "source": [
    "from langgraph.graph import StateGraph,START,END\n",
    "from typing import TypedDict\n",
    "from langchain_openai import ChatOpenAI"
   ]
  },
  {
   "cell_type": "code",
   "execution_count": 22,
   "id": "f76e3dc8",
   "metadata": {},
   "outputs": [
    {
     "data": {
      "text/plain": [
       "AIMessage(content='Hello! How can I assist you today?', additional_kwargs={'refusal': None}, response_metadata={'token_usage': {'completion_tokens': 9, 'prompt_tokens': 8, 'total_tokens': 17, 'completion_tokens_details': {'accepted_prediction_tokens': 0, 'audio_tokens': 0, 'reasoning_tokens': 0, 'rejected_prediction_tokens': 0}, 'prompt_tokens_details': {'audio_tokens': 0, 'cached_tokens': 0}}, 'model_name': 'gpt-3.5-turbo-0125', 'system_fingerprint': None, 'id': 'chatcmpl-BsNUIlBULhlc5lwUVMXVTJu3l7xJY', 'service_tier': 'default', 'finish_reason': 'stop', 'logprobs': None}, id='run--d4c17c1c-6e47-4ed8-9105-9dd4db052ad8-0', usage_metadata={'input_tokens': 8, 'output_tokens': 9, 'total_tokens': 17, 'input_token_details': {'audio': 0, 'cache_read': 0}, 'output_token_details': {'audio': 0, 'reasoning': 0}})"
      ]
     },
     "execution_count": 22,
     "metadata": {},
     "output_type": "execute_result"
    }
   ],
   "source": [
    "llm = ChatOpenAI()\n",
    "llm.invoke(\"Hi\")"
   ]
  },
  {
   "cell_type": "code",
   "execution_count": 23,
   "id": "2ac4f271",
   "metadata": {},
   "outputs": [],
   "source": [
    "### Create a State\n",
    "class LLMState(TypedDict):\n",
    "    question : str\n",
    "    answer : str \n",
    "    "
   ]
  },
  {
   "cell_type": "code",
   "execution_count": 24,
   "id": "ce266341",
   "metadata": {},
   "outputs": [],
   "source": [
    "def LLM_qa(state:LLMState):\n",
    "    ## Extract the question from the state\n",
    "    question = state['question'] \n",
    "\n",
    "    #form a prompt\n",
    "    prompt =  f'Answer the following question{question}'\n",
    "\n",
    "    #Ask the qquestion to LLM\n",
    "    answer = llm.invoke(prompt).content\n",
    "\n",
    "    #Update the Answer in the state\n",
    "    state['answer'] = answer\n",
    "\n",
    "    return state "
   ]
  },
  {
   "cell_type": "code",
   "execution_count": 25,
   "id": "392935a2",
   "metadata": {},
   "outputs": [],
   "source": [
    "## create a Graph\n",
    "graph = StateGraph(LLMState)\n",
    "\n",
    "## Add the Nodes\n",
    "graph.add_node(\"OpenAI_LLM\",LLM_qa)\n",
    "\n",
    "### Add the Edges\n",
    "graph.add_edge(START,\"OpenAI_LLM\")\n",
    "graph.add_edge(\"OpenAI_LLM\",END)\n",
    "#Compile the Graph\n",
    "workflow = graph.compile()"
   ]
  },
  {
   "cell_type": "code",
   "execution_count": 26,
   "id": "02a91d1d",
   "metadata": {},
   "outputs": [
    {
     "data": {
      "image/png": "[encoded data removed]",
      "text/plain": [
       "<IPython.core.display.Image object>"
      ]
     },
     "metadata": {},
     "output_type": "display_data"
    }
   ],
   "source": [
    "from IPython.display import Image, display\n",
    "\n",
    "try:\n",
    "    display(Image(workflow.get_graph().draw_mermaid_png()))\n",
    "except Exception:\n",
    "    # This requires some extra dependencies and is optional\n",
    "    pass"
   ]
  },
  {
   "cell_type": "code",
   "execution_count": null,
   "id": "dc000b65",
   "metadata": {},
   "outputs": [
    {
     "data": {
      "text/plain": [
       "{'question': 'What are diffrences between Langchain and Langgraph?\\n',\n",
       " 'answer': 'Langchain and Langgraph are two different concepts in the field of artificial intelligence and machine learning.\\n\\n1. Langchain:\\n- Langchain is a decentralized artificial intelligence platform that leverages blockchain technology to enable secure and transparent AI transactions.\\n- It aims to create a marketplace where AI models, data, and services can be exchanged among users in a secure and trustless manner.\\n- Langchain focuses on providing tools for building, training, and deploying machine learning models in a decentralized and collaborative environment.\\n\\n2. Langgraph:\\n- Langgraph is a graph-based approach to natural language processing that represents language data as interconnected nodes and edges.\\n- It focuses on capturing the semantic relationships between words and phrases in a text to enhance language understanding and processing.\\n- Langgraph utilizes graph neural networks and other graph-based algorithms to analyze and extract meaning from textual data.\\n\\nIn summary, Langchain is a platform for decentralized AI transactions, while Langgraph is a graph-based approach to natural language processing.'}"
      ]
     },
     "execution_count": 28,
     "metadata": {},
     "output_type": "execute_result"
    }
   ],
   "source": [
    "### Exceute the graph\n",
    "input_state =  workflow.invoke({'question':\"What are diffrences between Langchain and Langgraph?\"})\n",
    "input_state "
   ]
  },
  {
   "cell_type": "code",
   "execution_count": 29,
   "id": "4d0b2161",
   "metadata": {},
   "outputs": [
    {
     "data": {
      "text/plain": [
       "'Langchain and Langgraph are two different concepts in the field of artificial intelligence and machine learning.\\n\\n1. Langchain:\\n- Langchain is a decentralized artificial intelligence platform that leverages blockchain technology to enable secure and transparent AI transactions.\\n- It aims to create a marketplace where AI models, data, and services can be exchanged among users in a secure and trustless manner.\\n- Langchain focuses on providing tools for building, training, and deploying machine learning models in a decentralized and collaborative environment.\\n\\n2. Langgraph:\\n- Langgraph is a graph-based approach to natural language processing that represents language data as interconnected nodes and edges.\\n- It focuses on capturing the semantic relationships between words and phrases in a text to enhance language understanding and processing.\\n- Langgraph utilizes graph neural networks and other graph-based algorithms to analyze and extract meaning from textual data.\\n\\nIn summary, Langchain is a platform for decentralized AI transactions, while Langgraph is a graph-based approach to natural language processing.'"
      ]
     },
     "execution_count": 29,
     "metadata": {},
     "output_type": "execute_result"
    }
   ],
   "source": [
    "input_state ['answer']"
   ]
  },
  {
   "cell_type": "code",
   "execution_count": 30,
   "id": "b3169930",
   "metadata": {},
   "outputs": [
    {
     "data": {
      "text/plain": [
       "{'question': 'What are agents and how it is diffrent from Agentic AI?',\n",
       " 'answer': 'Agents are autonomous entities that can perceive their environment, make decisions, and take actions to achieve their goals. They can be software programs, robots, humans, or other entities that are capable of acting independently.\\n\\nAgentic AI, on the other hand, refers to artificial intelligence systems that are designed to act autonomously and make decisions without human intervention. These systems are typically used in applications such as self-driving cars, industrial automation, and financial trading.\\n\\nThe main difference between agents and Agentic AI is that agents can be any autonomous entity capable of making decisions and taking actions, while Agentic AI specifically refers to artificial intelligence systems that operate autonomously.'}"
      ]
     },
     "execution_count": 30,
     "metadata": {},
     "output_type": "execute_result"
    }
   ],
   "source": [
    "### Exceute the graph\n",
    "input_state =  workflow.invoke({'question':\"What are agents and how it is diffrent from Agentic AI?\"})\n",
    "input_state "
   ]
  },
  {
   "cell_type": "code",
   "execution_count": 31,
   "id": "40232ec1",
   "metadata": {},
   "outputs": [
    {
     "data": {
      "text/plain": [
       "'Agents are autonomous entities that can perceive their environment, make decisions, and take actions to achieve their goals. They can be software programs, robots, humans, or other entities that are capable of acting independently.\\n\\nAgentic AI, on the other hand, refers to artificial intelligence systems that are designed to act autonomously and make decisions without human intervention. These systems are typically used in applications such as self-driving cars, industrial automation, and financial trading.\\n\\nThe main difference between agents and Agentic AI is that agents can be any autonomous entity capable of making decisions and taking actions, while Agentic AI specifically refers to artificial intelligence systems that operate autonomously.'"
      ]
     },
     "execution_count": 31,
     "metadata": {},
     "output_type": "execute_result"
    }
   ],
   "source": [
    "input_state ['answer']"
   ]
  },
  {
   "cell_type": "code",
   "execution_count": 45,
   "id": "896ec8ef",
   "metadata": {},
   "outputs": [
    {
     "name": "stdout",
     "output_type": "stream",
     "text": [
      "Starting conversation...\n",
      "\n",
      "Question: What are agents and how is it different from Agentic AI?\n",
      "Answer: Agents are individuals or entities that can act autonomously, making decisions and taking actions towards goals. They are capable of perceiving their environment, reasoning, and interacting with other agents and their surroundings.\n",
      "\n",
      "Agentic AI, on the other hand, refers to artificial intelligence systems designed to act as agents. These systems are programmed to mimic human decision-making and problem-solving abilities, performing tasks that typically require human intelligence. While agents can be human or non-human entities, Agentic AI specifically refers to artificial agents.\n",
      "\n"
     ]
    }
   ],
   "source": [
    "# Print the full conversation stream\n",
    "print(\"Starting conversation...\")\n",
    "for event in workflow.stream({'question': \"What are agents and how is it different from Agentic AI?\"}):\n",
    "    for key, value in event.items():\n",
    "        if key == 'OpenAI_LLM':  # This is our node name\n",
    "            print(f\"\\nQuestion: {value['question']}\")\n",
    "            print(f\"Answer: {value['answer']}\\n\")\n"
   ]
  },
  {
   "cell_type": "code",
   "execution_count": null,
   "id": "1e9fb36f",
   "metadata": {},
   "outputs": [],
   "source": []
  }
 ],
 "metadata": {
  "kernelspec": {
   "display_name": "Python 3",
   "language": "python",
   "name": "python3"
  },
  "language_info": {
   "codemirror_mode": {
    "name": "ipython",
    "version": 3
   },
   "file_extension": ".py",
   "mimetype": "text/x-python",
   "name": "python",
   "nbconvert_exporter": "python",
   "pygments_lexer": "ipython3",
   "version": "3.12.11"
  }
 },
 "nbformat": 4,
 "nbformat_minor": 5
}
