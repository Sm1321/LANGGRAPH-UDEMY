{
 "cells": [
  {
   "cell_type": "code",
   "execution_count": 192,
   "id": "79cabf55",
   "metadata": {},
   "outputs": [
    {
     "data": {
      "text/plain": [
       "True"
      ]
     },
     "execution_count": 192,
     "metadata": {},
     "output_type": "execute_result"
    }
   ],
   "source": [
    "import os\n",
    "from dotenv import load_dotenv\n",
    "load_dotenv()"
   ]
  },
  {
   "cell_type": "code",
   "execution_count": 193,
   "id": "161d4759",
   "metadata": {},
   "outputs": [],
   "source": [
    "from langgraph.graph import StateGraph, START, END\n",
    "from typing import TypedDict\n",
    "from typing import Annotated, List\n",
    "from langgraph.graph import StateGraph"
   ]
  },
  {
   "cell_type": "code",
   "execution_count": 194,
   "id": "0b43f55c",
   "metadata": {},
   "outputs": [],
   "source": [
    "class BatsmanState(TypedDict):\n",
    "    runs : int \n",
    "    balls : int\n",
    "    fours: int\n",
    "    sixes : int \n",
    "    #These we will Calculate\n",
    "    sr : float \n",
    "    bpb: float \n",
    "    boundary_percent : float\n",
    "    summary:str"
   ]
  },
  {
   "cell_type": "code",
   "execution_count": 195,
   "id": "4372f0f5",
   "metadata": {},
   "outputs": [],
   "source": [
    "def calculate_sr(state : BatsmanState):\n",
    "    sr = (state['runs']/state['balls'])/100\n",
    "    return {'sr':sr}"
   ]
  },
  {
   "cell_type": "code",
   "execution_count": 196,
   "id": "2149af86",
   "metadata": {},
   "outputs": [],
   "source": [
    "def calculate_bpb(state : BatsmanState):\n",
    "    #Balls per Boundary\n",
    "    bpb = (state['balls'] / (state['fours'] + state['sixes']))\n",
    "    state['bpb'] = bpb\n",
    "    return state\n"
   ]
  },
  {
   "cell_type": "code",
   "execution_count": 197,
   "id": "1b6df92c",
   "metadata": {},
   "outputs": [],
   "source": [
    "def calculate_boundary_percent(state:BatsmanState):\n",
    "    #Boundary Percent Calculate it\n",
    "    boundary_percent = (((state['fours'] * 4) + (state['sixes'] * 6))/state['runs'])*100\n",
    "\n",
    "    return {'boundary_percent': boundary_percent}"
   ]
  },
  {
   "cell_type": "code",
   "execution_count": 198,
   "id": "da9b2a2b",
   "metadata": {},
   "outputs": [],
   "source": [
    "def summary(state: BatsmanState):\n",
    "\n",
    "    summary = f\"\"\"\n",
    "Strike Rate - {state['sr']} \\n\n",
    "Balls per boundary - {state['bpb']} \\n\n",
    "Boundary percent - {state['boundary_percent']}\n",
    "\"\"\"\n",
    "    \n",
    "    return {'summary': summary}"
   ]
  },
  {
   "cell_type": "code",
   "execution_count": 199,
   "id": "f10b286d",
   "metadata": {},
   "outputs": [],
   "source": [
    "##Start the Workflow\n",
    "graph = StateGraph(BatsmanState)\n",
    "###Add the Nodes\n",
    "graph.add_node(\"calculate_sr\",calculate_sr)\n",
    "graph.add_node(\"calculate_bpb\",calculate_bpb)\n",
    "graph.add_node(\"calculate_boundary_percent\",calculate_boundary_percent)\n",
    "graph.add_node(\"summary_node\",summary_node)\n",
    "##Add the Edges\n",
    "graph.add_edge(START,\"calculate_sr\")\n",
    "graph.add_edge(START,\"calculate_bpb\")\n",
    "graph.add_edge(START,\"calculate_boundary_percent\")\n",
    "\n",
    "graph.add_edge('calculate_sr','summary_node')\n",
    "graph.add_edge('calculate_bpb','summary_node')\n",
    "graph.add_edge('calculate_boundary_percent','summary_node')\n",
    "graph.add_edge('summary_node',END)\n",
    "\n",
    "workflow = graph.compile()"
   ]
  },
  {
   "cell_type": "code",
   "execution_count": 200,
   "id": "7d17e01c",
   "metadata": {},
   "outputs": [
    {
     "data": {
      "image/png": "[encoded data removed]",
      "text/plain": [
       "<IPython.core.display.Image object>"
      ]
     },
     "metadata": {},
     "output_type": "display_data"
    }
   ],
   "source": [
    "from IPython.display import Image, display\n",
    "\n",
    "try:\n",
    "    display(Image(workflow.get_graph().draw_mermaid_png()))\n",
    "except Exception:\n",
    "    # This requires some extra dependencies and is optional\n",
    "    pass"
   ]
  },
  {
   "cell_type": "code",
   "execution_count": null,
   "id": "da101f7a",
   "metadata": {},
   "outputs": [
    {
     "data": {
      "text/plain": [
       "{'runs': 100,\n",
       " 'balls': 50,\n",
       " 'fours': 6,\n",
       " 'sixes': 4,\n",
       " 'sr': 0.02,\n",
       " 'bpb': 5.0,\n",
       " 'boundary_percent': 48.0,\n",
       " 'summary': '\\nStrike Rate - 0.02 \\n\\nBalls per boundary - 5.0 \\n\\nBoundary percent - 48.0\\n'}"
      ]
     },
     "execution_count": 202,
     "metadata": {},
     "output_type": "execute_result"
    }
   ],
   "source": [
    "initial_state = {\n",
    "    'runs': 100,   \n",
    "    'balls': 50,\n",
    "    'fours': 6,\n",
    "    'sixes': 4\n",
    "}\n",
    "\n",
    "workflow.invoke(initial_state)"
   ]
  },
  {
   "cell_type": "code",
   "execution_count": null,
   "id": "0180889a",
   "metadata": {},
   "outputs": [],
   "source": []
  },
  {
   "cell_type": "markdown",
   "id": "deaeeb62",
   "metadata": {},
   "source": [
    "| Scenario                               | Should `'runs'` be a list? | Why                                          |\n",
    "| -------------------------------------- | -------------------------- | -------------------------------------------- |\n",
    "| Multiple nodes **writing to** `'runs'` | ✅ Yes                      | Prevents concurrent update error             |\n",
    "| Only reading from `'runs'` (your case) | ❌ No                       | No concurrent write, so single value is fine |\n"
   ]
  },
  {
   "cell_type": "markdown",
   "id": "ac4badba",
   "metadata": {},
   "source": []
  }
 ],
 "metadata": {
  "kernelspec": {
   "display_name": "Python 3",
   "language": "python",
   "name": "python3"
  },
  "language_info": {
   "codemirror_mode": {
    "name": "ipython",
    "version": 3
   },
   "file_extension": ".py",
   "mimetype": "text/x-python",
   "name": "python",
   "nbconvert_exporter": "python",
   "pygments_lexer": "ipython3",
   "version": "3.12.11"
  }
 },
 "nbformat": 4,
 "nbformat_minor": 5
}
