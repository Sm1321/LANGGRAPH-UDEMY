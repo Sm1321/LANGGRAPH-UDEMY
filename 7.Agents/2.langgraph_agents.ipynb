{
 "cells": [
  {
   "cell_type": "code",
   "execution_count": 67,
   "id": "e85f8c6e",
   "metadata": {},
   "outputs": [
    {
     "name": "stdout",
     "output_type": "stream",
     "text": [
      "ok\n"
     ]
    }
   ],
   "source": [
    "print(\"ok\")"
   ]
  },
  {
   "cell_type": "code",
   "execution_count": 68,
   "id": "478f35ba",
   "metadata": {},
   "outputs": [],
   "source": [
    "from langchain_openai import ChatOpenAI"
   ]
  },
  {
   "cell_type": "code",
   "execution_count": 69,
   "id": "d4f6e774",
   "metadata": {},
   "outputs": [],
   "source": [
    "from dotenv import load_dotenv"
   ]
  },
  {
   "cell_type": "code",
   "execution_count": 70,
   "id": "31e4cea3",
   "metadata": {},
   "outputs": [
    {
     "data": {
      "text/plain": [
       "True"
      ]
     },
     "execution_count": 70,
     "metadata": {},
     "output_type": "execute_result"
    }
   ],
   "source": [
    "load_dotenv()"
   ]
  },
  {
   "cell_type": "code",
   "execution_count": 71,
   "id": "0fd3bd4a",
   "metadata": {},
   "outputs": [],
   "source": [
    "import os\n",
    "OPENAI_API_KEY=os.getenv(\"OPENAI_API_KEY\")"
   ]
  },
  {
   "cell_type": "code",
   "execution_count": 72,
   "id": "e403ceb6",
   "metadata": {},
   "outputs": [],
   "source": [
    "os.environ[\"OPENAI_API_KEY\"]=OPENAI_API_KEY"
   ]
  },
  {
   "cell_type": "code",
   "execution_count": 73,
   "id": "856994ba",
   "metadata": {},
   "outputs": [],
   "source": [
    "openai_model=ChatOpenAI(model=\"gpt-4o\")"
   ]
  },
  {
   "cell_type": "code",
   "execution_count": 74,
   "id": "c175070d",
   "metadata": {},
   "outputs": [
    {
     "data": {
      "text/plain": [
       "AIMessage(content='Hello! How can I assist you today?', additional_kwargs={'refusal': None}, response_metadata={'token_usage': {'completion_tokens': 9, 'prompt_tokens': 8, 'total_tokens': 17, 'completion_tokens_details': {'accepted_prediction_tokens': 0, 'audio_tokens': 0, 'reasoning_tokens': 0, 'rejected_prediction_tokens': 0}, 'prompt_tokens_details': {'audio_tokens': 0, 'cached_tokens': 0}}, 'model_name': 'gpt-4o-2024-08-06', 'system_fingerprint': 'fp_07871e2ad8', 'id': 'chatcmpl-BudzFhYNqA2GEnrdkJLn0qw9BGuJs', 'service_tier': 'default', 'finish_reason': 'stop', 'logprobs': None}, id='run--1c6f9873-4fc9-417e-b4be-fafeb352487b-0', usage_metadata={'input_tokens': 8, 'output_tokens': 9, 'total_tokens': 17, 'input_token_details': {'audio': 0, 'cache_read': 0}, 'output_token_details': {'audio': 0, 'reasoning': 0}})"
      ]
     },
     "execution_count": 74,
     "metadata": {},
     "output_type": "execute_result"
    }
   ],
   "source": [
    "openai_model.invoke(\"hi\")"
   ]
  },
  {
   "cell_type": "code",
   "execution_count": 75,
   "id": "76abd31a",
   "metadata": {},
   "outputs": [
    {
     "data": {
      "text/plain": [
       "'Hello! How can I assist you today?'"
      ]
     },
     "execution_count": 75,
     "metadata": {},
     "output_type": "execute_result"
    }
   ],
   "source": [
    "openai_model.invoke(\"hi\").content"
   ]
  },
  {
   "cell_type": "code",
   "execution_count": 90,
   "id": "bb8831a3",
   "metadata": {},
   "outputs": [],
   "source": [
    "from langgraph.graph import StateGraph,MessagesState, START, END\n",
    "from langgraph.graph.message import add_messages\n",
    "from typing import Annotated, Literal, TypedDict\n",
    "from langchain_core.tools import tool\n",
    "from langchain_core.messages import HumanMessage\n",
    "from langgraph.checkpoint.memory import MemorySaver\n",
    "from langgraph.prebuilt import ToolNode\n",
    "from langchain_core.messages import AnyMessage"
   ]
  },
  {
   "cell_type": "code",
   "execution_count": 91,
   "id": "4d63ba09",
   "metadata": {},
   "outputs": [],
   "source": [
    "state={}"
   ]
  },
  {
   "cell_type": "code",
   "execution_count": 92,
   "id": "e96a5150",
   "metadata": {},
   "outputs": [],
   "source": [
    "state[\"messages\"] = []"
   ]
  },
  {
   "cell_type": "code",
   "execution_count": 93,
   "id": "a41d4f7c",
   "metadata": {},
   "outputs": [
    {
     "data": {
      "text/plain": [
       "{'messages': []}"
      ]
     },
     "execution_count": 93,
     "metadata": {},
     "output_type": "execute_result"
    }
   ],
   "source": [
    "state"
   ]
  },
  {
   "cell_type": "code",
   "execution_count": 94,
   "id": "4d162fea",
   "metadata": {},
   "outputs": [],
   "source": [
    "state[\"messages\"].append(\"hi\")"
   ]
  },
  {
   "cell_type": "code",
   "execution_count": 95,
   "id": "e80daffe",
   "metadata": {},
   "outputs": [
    {
     "data": {
      "text/plain": [
       "{'messages': ['hi']}"
      ]
     },
     "execution_count": 95,
     "metadata": {},
     "output_type": "execute_result"
    }
   ],
   "source": [
    "state"
   ]
  },
  {
   "cell_type": "code",
   "execution_count": 96,
   "id": "8d3ff228",
   "metadata": {},
   "outputs": [],
   "source": [
    "state[\"messages\"].append(\"how are you?\")"
   ]
  },
  {
   "cell_type": "code",
   "execution_count": 97,
   "id": "368a2a61",
   "metadata": {},
   "outputs": [
    {
     "data": {
      "text/plain": [
       "{'messages': ['hi', 'how are you?']}"
      ]
     },
     "execution_count": 97,
     "metadata": {},
     "output_type": "execute_result"
    }
   ],
   "source": [
    "state"
   ]
  },
  {
   "cell_type": "code",
   "execution_count": 98,
   "id": "8d15bf38",
   "metadata": {},
   "outputs": [],
   "source": [
    "state[\"messages\"].append(\"what going on?\")"
   ]
  },
  {
   "cell_type": "code",
   "execution_count": 99,
   "id": "3912c910",
   "metadata": {},
   "outputs": [],
   "source": [
    "class MessagesState(TypedDict):\n",
    "    messages: Annotated[list[AnyMessage], add_messages]"
   ]
  },
  {
   "cell_type": "code",
   "execution_count": 100,
   "id": "a8bd10a9",
   "metadata": {},
   "outputs": [
    {
     "data": {
      "text/plain": [
       "{'messages': ['hi', 'how are you?', 'what going on?']}"
      ]
     },
     "execution_count": 100,
     "metadata": {},
     "output_type": "execute_result"
    }
   ],
   "source": [
    "state"
   ]
  },
  {
   "cell_type": "code",
   "execution_count": 101,
   "id": "2126ba69",
   "metadata": {},
   "outputs": [
    {
     "data": {
      "text/plain": [
       "'hi'"
      ]
     },
     "execution_count": 101,
     "metadata": {},
     "output_type": "execute_result"
    }
   ],
   "source": [
    "state[\"messages\"][0]"
   ]
  },
  {
   "cell_type": "code",
   "execution_count": 102,
   "id": "09061815",
   "metadata": {},
   "outputs": [
    {
     "data": {
      "text/plain": [
       "'what going on?'"
      ]
     },
     "execution_count": 102,
     "metadata": {},
     "output_type": "execute_result"
    }
   ],
   "source": [
    "state[\"messages\"][-1]"
   ]
  },
  {
   "cell_type": "code",
   "execution_count": 103,
   "id": "a366713e",
   "metadata": {},
   "outputs": [],
   "source": [
    "## this state is a dict which containing the message as list and inside the list there could be n numbvers of messages\n",
    "\n",
    "## this state will be flowing across all the nodes(function) in langgraph"
   ]
  },
  {
   "cell_type": "code",
   "execution_count": 104,
   "id": "a5319fbd",
   "metadata": {},
   "outputs": [],
   "source": [
    "def call_model(state:MessagesState):\n",
    "    question = state[\"messages\"]\n",
    "    response = openai_model.invoke(question)\n",
    "    return {\"messages\":[response]}"
   ]
  },
  {
   "cell_type": "code",
   "execution_count": 105,
   "id": "ebc0a3ab",
   "metadata": {},
   "outputs": [],
   "source": [
    "## StateGraph\n",
    "workflow = StateGraph(MessagesState)\n",
    "workflow.add_node(\"chatbot\",call_model)\n",
    "workflow.add_edge(START,\"chatbot\")\n",
    "workflow.add_edge(\"chatbot\",END)\n",
    "app = workflow.compile()"
   ]
  },
  {
   "cell_type": "code",
   "execution_count": 106,
   "id": "bfa21563",
   "metadata": {},
   "outputs": [
    {
     "data": {
      "image/png": "[encoded data removed]",
      "text/plain": [
       "<IPython.core.display.Image object>"
      ]
     },
     "metadata": {},
     "output_type": "display_data"
    }
   ],
   "source": [
    "from IPython.display import Image,display\n",
    "display(Image(app.get_graph().draw_mermaid_png()))"
   ]
  },
  {
   "cell_type": "code",
   "execution_count": 107,
   "id": "110c0b0b",
   "metadata": {},
   "outputs": [],
   "source": [
    "input={\"messages\":[\"hi my name is sunny\"]}"
   ]
  },
  {
   "cell_type": "code",
   "execution_count": 108,
   "id": "4487276c",
   "metadata": {},
   "outputs": [],
   "source": [
    "response=app.invoke(input)"
   ]
  },
  {
   "cell_type": "code",
   "execution_count": 109,
   "id": "4a87894e",
   "metadata": {},
   "outputs": [
    {
     "data": {
      "text/plain": [
       "'Hello Sunny! How can I assist you today?'"
      ]
     },
     "execution_count": 109,
     "metadata": {},
     "output_type": "execute_result"
    }
   ],
   "source": [
    "response[\"messages\"][-1].content"
   ]
  },
  {
   "cell_type": "code",
   "execution_count": 110,
   "id": "9a955f33",
   "metadata": {},
   "outputs": [
    {
     "name": "stdout",
     "output_type": "stream",
     "text": [
      "Output from chatbot Node\n",
      "_______\n",
      "{'messages': [AIMessage(content='Hello Sunny! How can I assist you today?', additional_kwargs={'refusal': None}, response_metadata={'token_usage': {'completion_tokens': 10, 'prompt_tokens': 12, 'total_tokens': 22, 'completion_tokens_details': {'accepted_prediction_tokens': 0, 'audio_tokens': 0, 'reasoning_tokens': 0, 'rejected_prediction_tokens': 0}, 'prompt_tokens_details': {'audio_tokens': 0, 'cached_tokens': 0}}, 'model_name': 'gpt-4o-2024-08-06', 'system_fingerprint': 'fp_3675863d82', 'id': 'chatcmpl-Bue0OIllaMProA1K0gJUpBSS5nEXl', 'service_tier': 'default', 'finish_reason': 'stop', 'logprobs': None}, id='run--d6214e33-6d14-48b4-ba26-fe5c24ae3e0b-0', usage_metadata={'input_tokens': 12, 'output_tokens': 10, 'total_tokens': 22, 'input_token_details': {'audio': 0, 'cache_read': 0}, 'output_token_details': {'audio': 0, 'reasoning': 0}})]}\n",
      "\n",
      "\n"
     ]
    }
   ],
   "source": [
    "for output in app.stream(input):\n",
    "    for key,value in output.items():\n",
    "        print(f\"Output from {key} Node\")\n",
    "        print(\"_______\")\n",
    "        print(value)\n",
    "        print(\"\\n\")"
   ]
  },
  {
   "cell_type": "code",
   "execution_count": 111,
   "id": "9007efa6",
   "metadata": {},
   "outputs": [],
   "source": [
    "@tool\n",
    "def search(query:str):\n",
    "    \"\"\"this is a tool for weather checking\"\"\"\n",
    "    if \"india\" in query.lower() or \"delhi\" in query.lower():\n",
    "        return \"the weather is hotty with some foggy\"\n",
    "    return \"weather is cloudy with some darkness\""
   ]
  },
  {
   "cell_type": "code",
   "execution_count": 112,
   "id": "e3976a85",
   "metadata": {},
   "outputs": [
    {
     "data": {
      "text/plain": [
       "'weather is cloudy with some darkness'"
      ]
     },
     "execution_count": 112,
     "metadata": {},
     "output_type": "execute_result"
    }
   ],
   "source": [
    "search.invoke(\"what is a weather in japan?\")"
   ]
  },
  {
   "cell_type": "code",
   "execution_count": 113,
   "id": "de3f2f61",
   "metadata": {},
   "outputs": [
    {
     "data": {
      "text/plain": [
       "'the weather is hotty with some foggy'"
      ]
     },
     "execution_count": 113,
     "metadata": {},
     "output_type": "execute_result"
    }
   ],
   "source": [
    "search.invoke(\"what is a weather in delhi?\")"
   ]
  },
  {
   "cell_type": "code",
   "execution_count": 114,
   "id": "52d77bc2",
   "metadata": {},
   "outputs": [],
   "source": [
    "tools = [search]"
   ]
  },
  {
   "cell_type": "code",
   "execution_count": 115,
   "id": "2acdcb3f",
   "metadata": {},
   "outputs": [],
   "source": [
    "llm_with_tool = openai_model.bind_tools(tools)"
   ]
  },
  {
   "cell_type": "code",
   "execution_count": 116,
   "id": "68759128",
   "metadata": {},
   "outputs": [],
   "source": [
    "response = llm_with_tool.invoke(\"hi\")"
   ]
  },
  {
   "cell_type": "code",
   "execution_count": 117,
   "id": "0a3c7868",
   "metadata": {},
   "outputs": [
    {
     "data": {
      "text/plain": [
       "'Hello! How can I assist you today?'"
      ]
     },
     "execution_count": 117,
     "metadata": {},
     "output_type": "execute_result"
    }
   ],
   "source": [
    "response.content"
   ]
  },
  {
   "cell_type": "code",
   "execution_count": 118,
   "id": "21f3f5b9",
   "metadata": {},
   "outputs": [
    {
     "data": {
      "text/plain": [
       "[]"
      ]
     },
     "execution_count": 118,
     "metadata": {},
     "output_type": "execute_result"
    }
   ],
   "source": [
    "response.tool_calls"
   ]
  },
  {
   "cell_type": "code",
   "execution_count": 119,
   "id": "8e42ddba",
   "metadata": {},
   "outputs": [],
   "source": [
    "result = llm_with_tool.invoke(\"what is a weather in europ?\")"
   ]
  },
  {
   "cell_type": "code",
   "execution_count": 120,
   "id": "83291f96",
   "metadata": {},
   "outputs": [
    {
     "data": {
      "text/plain": [
       "''"
      ]
     },
     "execution_count": 120,
     "metadata": {},
     "output_type": "execute_result"
    }
   ],
   "source": [
    "result.content"
   ]
  },
  {
   "cell_type": "code",
   "execution_count": 121,
   "id": "e3722e31",
   "metadata": {},
   "outputs": [
    {
     "data": {
      "text/plain": [
       "[{'name': 'search',\n",
       "  'args': {'query': 'current weather in Europe'},\n",
       "  'id': 'call_lQcJKL36gBM3SaTXxxPSGASp',\n",
       "  'type': 'tool_call'}]"
      ]
     },
     "execution_count": 121,
     "metadata": {},
     "output_type": "execute_result"
    }
   ],
   "source": [
    "result.tool_calls"
   ]
  },
  {
   "cell_type": "code",
   "execution_count": 122,
   "id": "d810a7fe",
   "metadata": {},
   "outputs": [],
   "source": [
    "def call_model(state:MessagesState):\n",
    "    question = state[\"messages\"]\n",
    "    response = llm_with_tool.invoke(question)\n",
    "    return {\"messages\":[response]}"
   ]
  },
  {
   "cell_type": "code",
   "execution_count": 123,
   "id": "46448b70",
   "metadata": {},
   "outputs": [],
   "source": [
    "input = {'messages': ['hi my name is sunny']}"
   ]
  },
  {
   "cell_type": "code",
   "execution_count": 124,
   "id": "9bcabdea",
   "metadata": {},
   "outputs": [],
   "source": [
    "response = call_model(input)"
   ]
  },
  {
   "cell_type": "code",
   "execution_count": 125,
   "id": "5ff7c13f",
   "metadata": {},
   "outputs": [],
   "source": [
    "message = response[\"messages\"]"
   ]
  },
  {
   "cell_type": "code",
   "execution_count": 126,
   "id": "9dd08409",
   "metadata": {},
   "outputs": [],
   "source": [
    "last_message=message[-1]"
   ]
  },
  {
   "cell_type": "code",
   "execution_count": 127,
   "id": "726cf236",
   "metadata": {},
   "outputs": [
    {
     "data": {
      "text/plain": [
       "'Hello Sunny! How can I assist you today?'"
      ]
     },
     "execution_count": 127,
     "metadata": {},
     "output_type": "execute_result"
    }
   ],
   "source": [
    "last_message.content"
   ]
  },
  {
   "cell_type": "code",
   "execution_count": 128,
   "id": "1771da82",
   "metadata": {},
   "outputs": [
    {
     "data": {
      "text/plain": [
       "[]"
      ]
     },
     "execution_count": 128,
     "metadata": {},
     "output_type": "execute_result"
    }
   ],
   "source": [
    "last_message.tool_calls"
   ]
  },
  {
   "cell_type": "code",
   "execution_count": 129,
   "id": "8c60e464",
   "metadata": {},
   "outputs": [],
   "source": [
    "input={'messages': ['what is a weather in mumbai?']}"
   ]
  },
  {
   "cell_type": "code",
   "execution_count": 130,
   "id": "09eda53d",
   "metadata": {},
   "outputs": [],
   "source": [
    "def router_function(state: MessagesState):\n",
    "    message = state[\"messages\"]\n",
    "    last_message = message[-1]\n",
    "    if last_message.tool_calls:\n",
    "        return \"tools\"\n",
    "    return END"
   ]
  },
  {
   "cell_type": "code",
   "execution_count": 131,
   "id": "40cf115c",
   "metadata": {},
   "outputs": [
    {
     "data": {
      "text/plain": [
       "[StructuredTool(name='search', description='this is a tool for weather checking', args_schema=<class 'langchain_core.utils.pydantic.search'>, func=<function search at 0x000001EBDF72A520>)]"
      ]
     },
     "execution_count": 131,
     "metadata": {},
     "output_type": "execute_result"
    }
   ],
   "source": [
    "tools"
   ]
  },
  {
   "cell_type": "code",
   "execution_count": 132,
   "id": "cd2caa03",
   "metadata": {},
   "outputs": [],
   "source": [
    "tool_node = ToolNode(tools)"
   ]
  },
  {
   "cell_type": "code",
   "execution_count": 133,
   "id": "0441f048",
   "metadata": {},
   "outputs": [],
   "source": [
    "#StateGraph\n",
    "workflow = StateGraph(MessagesState)\n",
    "#Add the Node\n",
    "workflow.add_node(\"assistant\",call_model)\n",
    "workflow.add_node(\"myweathertool\",tool_node)\n",
    "workflow.add_edge(START, \"assistant\")\n",
    "\n",
    "workflow.add_conditional_edges(\"assistant\",\n",
    "                               router_function,\n",
    "                               {\"tools\": \"myweathertool\", END: END})\n",
    "\n",
    "app = workflow.compile()"
   ]
  },
  {
   "cell_type": "code",
   "execution_count": 134,
   "id": "f1385ee4",
   "metadata": {},
   "outputs": [
    {
     "data": {
      "image/png": "[encoded data removed]",
      "text/plain": [
       "<IPython.core.display.Image object>"
      ]
     },
     "metadata": {},
     "output_type": "display_data"
    }
   ],
   "source": [
    "display(Image(app.get_graph().draw_mermaid_png()))"
   ]
  },
  {
   "cell_type": "code",
   "execution_count": 135,
   "id": "183643c0",
   "metadata": {},
   "outputs": [
    {
     "data": {
      "text/plain": [
       "{'messages': [HumanMessage(content='how are you?', additional_kwargs={}, response_metadata={}, id='1ce604ca-d157-434c-a172-35daeed14342'),\n",
       "  AIMessage(content=\"I'm just a computer program, so I don't have feelings, but thanks for asking! How can I assist you today?\", additional_kwargs={'refusal': None}, response_metadata={'token_usage': {'completion_tokens': 25, 'prompt_tokens': 48, 'total_tokens': 73, 'completion_tokens_details': {'accepted_prediction_tokens': 0, 'audio_tokens': 0, 'reasoning_tokens': 0, 'rejected_prediction_tokens': 0}, 'prompt_tokens_details': {'audio_tokens': 0, 'cached_tokens': 0}}, 'model_name': 'gpt-4o-2024-08-06', 'system_fingerprint': None, 'id': 'chatcmpl-Bue0WgBR7znpKji3S5GvDUxUDAadl', 'service_tier': 'default', 'finish_reason': 'stop', 'logprobs': None}, id='run--92d8c43e-fc40-46f7-b987-241febf9e997-0', usage_metadata={'input_tokens': 48, 'output_tokens': 25, 'total_tokens': 73, 'input_token_details': {'audio': 0, 'cache_read': 0}, 'output_token_details': {'audio': 0, 'reasoning': 0}})]}"
      ]
     },
     "execution_count": 135,
     "metadata": {},
     "output_type": "execute_result"
    }
   ],
   "source": [
    "app.invoke({\"messages\": [\"how are you?\"]})"
   ]
  },
  {
   "cell_type": "code",
   "execution_count": 136,
   "id": "80372ca7",
   "metadata": {},
   "outputs": [
    {
     "data": {
      "text/plain": [
       "{'messages': [HumanMessage(content='what is a weather in delhi?', additional_kwargs={}, response_metadata={}, id='44fa9062-d47d-43be-8d20-5e5463ba92ad'),\n",
       "  AIMessage(content='', additional_kwargs={'tool_calls': [{'id': 'call_DPeys8gEh4FUPvUyIgTMtIXj', 'function': {'arguments': '{\"query\":\"weather in Delhi\"}', 'name': 'search'}, 'type': 'function'}], 'refusal': None}, response_metadata={'token_usage': {'completion_tokens': 15, 'prompt_tokens': 52, 'total_tokens': 67, 'completion_tokens_details': {'accepted_prediction_tokens': 0, 'audio_tokens': 0, 'reasoning_tokens': 0, 'rejected_prediction_tokens': 0}, 'prompt_tokens_details': {'audio_tokens': 0, 'cached_tokens': 0}}, 'model_name': 'gpt-4o-2024-08-06', 'system_fingerprint': None, 'id': 'chatcmpl-Bue0XpQSJ1QXJoFMKNAZmjSN9lhJI', 'service_tier': 'default', 'finish_reason': 'tool_calls', 'logprobs': None}, id='run--773f9e52-570a-4754-a928-553c2f6f01f4-0', tool_calls=[{'name': 'search', 'args': {'query': 'weather in Delhi'}, 'id': 'call_DPeys8gEh4FUPvUyIgTMtIXj', 'type': 'tool_call'}], usage_metadata={'input_tokens': 52, 'output_tokens': 15, 'total_tokens': 67, 'input_token_details': {'audio': 0, 'cache_read': 0}, 'output_token_details': {'audio': 0, 'reasoning': 0}}),\n",
       "  ToolMessage(content='the weather is hotty with some foggy', name='search', id='44625e05-144b-4a4e-b8f2-8ec7ec684007', tool_call_id='call_DPeys8gEh4FUPvUyIgTMtIXj')]}"
      ]
     },
     "execution_count": 136,
     "metadata": {},
     "output_type": "execute_result"
    }
   ],
   "source": [
    "app.invoke({\"messages\": [\"what is a weather in delhi?\"]})"
   ]
  },
  {
   "cell_type": "code",
   "execution_count": null,
   "id": "34260be5",
   "metadata": {},
   "outputs": [
    {
     "name": "stderr",
     "output_type": "stream",
     "text": [
      "Adding an edge to a graph that has already been compiled. This will not be reflected in the compiled graph.\n"
     ]
    },
    {
     "data": {
      "text/plain": [
       "<langgraph.graph.state.StateGraph at 0x1ebdef40980>"
      ]
     },
     "execution_count": 137,
     "metadata": {},
     "output_type": "execute_result"
    }
   ],
   "source": [
    "workflow.add_edge(\"myweathertool\",\"assistant\")\n",
    "app = workflow.compile()"
   ]
  },
  {
   "cell_type": "code",
   "execution_count": 139,
   "id": "f2b75bdf",
   "metadata": {},
   "outputs": [
    {
     "data": {
      "image/png": "[encoded data removed]",
      "text/plain": [
       "<IPython.core.display.Image object>"
      ]
     },
     "metadata": {},
     "output_type": "display_data"
    }
   ],
   "source": [
    "display(Image(app.get_graph().draw_mermaid_png()))"
   ]
  },
  {
   "cell_type": "code",
   "execution_count": 140,
   "id": "10c8747e",
   "metadata": {},
   "outputs": [
    {
     "data": {
      "text/plain": [
       "{'messages': [HumanMessage(content='what is a weather in delhi?', additional_kwargs={}, response_metadata={}, id='7ca6753d-3e38-452d-a310-4cde744eafc4'),\n",
       "  AIMessage(content='', additional_kwargs={'tool_calls': [{'id': 'call_Drq9IrU925u0LP7foAWht9FK', 'function': {'arguments': '{\"query\":\"Delhi weather\"}', 'name': 'search'}, 'type': 'function'}], 'refusal': None}, response_metadata={'token_usage': {'completion_tokens': 14, 'prompt_tokens': 52, 'total_tokens': 66, 'completion_tokens_details': {'accepted_prediction_tokens': 0, 'audio_tokens': 0, 'reasoning_tokens': 0, 'rejected_prediction_tokens': 0}, 'prompt_tokens_details': {'audio_tokens': 0, 'cached_tokens': 0}}, 'model_name': 'gpt-4o-2024-08-06', 'system_fingerprint': None, 'id': 'chatcmpl-Bue0Z4PXo1OfVz199qd0kBrg79BMw', 'service_tier': 'default', 'finish_reason': 'tool_calls', 'logprobs': None}, id='run--a749691e-207a-4a24-b9bb-e2b2c1c68c03-0', tool_calls=[{'name': 'search', 'args': {'query': 'Delhi weather'}, 'id': 'call_Drq9IrU925u0LP7foAWht9FK', 'type': 'tool_call'}], usage_metadata={'input_tokens': 52, 'output_tokens': 14, 'total_tokens': 66, 'input_token_details': {'audio': 0, 'cache_read': 0}, 'output_token_details': {'audio': 0, 'reasoning': 0}}),\n",
       "  ToolMessage(content='the weather is hotty with some foggy', name='search', id='a97b6f7d-f7bb-4656-a5df-9370b42f13e6', tool_call_id='call_Drq9IrU925u0LP7foAWht9FK'),\n",
       "  AIMessage(content='The weather in Delhi is currently hot with some fog.', additional_kwargs={'refusal': None}, response_metadata={'token_usage': {'completion_tokens': 12, 'prompt_tokens': 82, 'total_tokens': 94, 'completion_tokens_details': {'accepted_prediction_tokens': 0, 'audio_tokens': 0, 'reasoning_tokens': 0, 'rejected_prediction_tokens': 0}, 'prompt_tokens_details': {'audio_tokens': 0, 'cached_tokens': 0}}, 'model_name': 'gpt-4o-2024-08-06', 'system_fingerprint': None, 'id': 'chatcmpl-Bue0ZhX5fKWS1pcz9WznFa1IpM6za', 'service_tier': 'default', 'finish_reason': 'stop', 'logprobs': None}, id='run--90e6df59-f0ff-4d01-96d2-37d4a267407a-0', usage_metadata={'input_tokens': 82, 'output_tokens': 12, 'total_tokens': 94, 'input_token_details': {'audio': 0, 'cache_read': 0}, 'output_token_details': {'audio': 0, 'reasoning': 0}})]}"
      ]
     },
     "execution_count": 140,
     "metadata": {},
     "output_type": "execute_result"
    }
   ],
   "source": [
    "app.invoke({\"messages\": [\"what is a weather in delhi?\"]})"
   ]
  },
  {
   "cell_type": "code",
   "execution_count": 141,
   "id": "f2deb276",
   "metadata": {},
   "outputs": [
    {
     "name": "stdout",
     "output_type": "stream",
     "text": [
      "here is output from assistant\n",
      "_______\n",
      "{'messages': [AIMessage(content='', additional_kwargs={'tool_calls': [{'id': 'call_ZSTpmJ4iDu7puwY1OVBtOs7J', 'function': {'arguments': '{\"query\":\"weather in Delhi\"}', 'name': 'search'}, 'type': 'function'}], 'refusal': None}, response_metadata={'token_usage': {'completion_tokens': 15, 'prompt_tokens': 51, 'total_tokens': 66, 'completion_tokens_details': {'accepted_prediction_tokens': 0, 'audio_tokens': 0, 'reasoning_tokens': 0, 'rejected_prediction_tokens': 0}, 'prompt_tokens_details': {'audio_tokens': 0, 'cached_tokens': 0}}, 'model_name': 'gpt-4o-2024-08-06', 'system_fingerprint': None, 'id': 'chatcmpl-Bue0c7rZexkTeqD8rnduvfSzcgMQj', 'service_tier': 'default', 'finish_reason': 'tool_calls', 'logprobs': None}, id='run--24e642b0-a720-4e3a-a619-f064893249af-0', tool_calls=[{'name': 'search', 'args': {'query': 'weather in Delhi'}, 'id': 'call_ZSTpmJ4iDu7puwY1OVBtOs7J', 'type': 'tool_call'}], usage_metadata={'input_tokens': 51, 'output_tokens': 15, 'total_tokens': 66, 'input_token_details': {'audio': 0, 'cache_read': 0}, 'output_token_details': {'audio': 0, 'reasoning': 0}})]}\n",
      "\n",
      "\n",
      "here is output from myweathertool\n",
      "_______\n",
      "{'messages': [ToolMessage(content='the weather is hotty with some foggy', name='search', id='60a496c5-df69-4a40-95c0-f3372b39d54f', tool_call_id='call_ZSTpmJ4iDu7puwY1OVBtOs7J')]}\n",
      "\n",
      "\n",
      "here is output from assistant\n",
      "_______\n",
      "{'messages': [AIMessage(content='Currently, the weather in Delhi is hot with some foggy conditions.', additional_kwargs={'refusal': None}, response_metadata={'token_usage': {'completion_tokens': 15, 'prompt_tokens': 82, 'total_tokens': 97, 'completion_tokens_details': {'accepted_prediction_tokens': 0, 'audio_tokens': 0, 'reasoning_tokens': 0, 'rejected_prediction_tokens': 0}, 'prompt_tokens_details': {'audio_tokens': 0, 'cached_tokens': 0}}, 'model_name': 'gpt-4o-2024-08-06', 'system_fingerprint': None, 'id': 'chatcmpl-Bue0cAR8rPzXvDwJjE3nQsY7PcDME', 'service_tier': 'default', 'finish_reason': 'stop', 'logprobs': None}, id='run--4e1824b1-2a66-4410-9b04-4996eeab69a1-0', usage_metadata={'input_tokens': 82, 'output_tokens': 15, 'total_tokens': 97, 'input_token_details': {'audio': 0, 'cache_read': 0}, 'output_token_details': {'audio': 0, 'reasoning': 0}})]}\n",
      "\n",
      "\n"
     ]
    }
   ],
   "source": [
    "for output in app.stream({\"messages\": [\"what is the weather in delhi\"]}):\n",
    "    for key,value in output.items():\n",
    "        print(f\"here is output from {key}\")\n",
    "        print(\"_______\")\n",
    "        print(value)\n",
    "        print(\"\\n\")"
   ]
  },
  {
   "cell_type": "code",
   "execution_count": null,
   "id": "84a6da14",
   "metadata": {},
   "outputs": [],
   "source": [
    "@tool\n",
    "def multiply(a:int,b:int)->int:\n",
    "    \"\"\"multiply a and b\"\"\"\n",
    "    return a*b\n",
    "\n",
    "@tool\n",
    "def add(a:int,b:int)->int:\n",
    "    \"\"\"adding two numbers a and b\"\"\"\n",
    "    return a+b\n",
    "\n",
    "@tool\n",
    "def divide(a:int,b:int)->int:\n",
    "    \"\"\"dividing two numbers a and b\"\"\"\n",
    "    return a/b\n",
    "\n",
    "@tool\n",
    "def subtract(a:int,b:int)->int:\n",
    "    \"\"\"subtracting two numbers a and b \"\"\"\n",
    "    return a-b\n",
    "\n"
   ]
  },
  {
   "cell_type": "code",
   "execution_count": null,
   "id": "f27fde2f",
   "metadata": {},
   "outputs": [],
   "source": [
    "from langchain_community.tools import DuckDuckGoSearchRun\n",
    "duckduckgo_search = DuckDuckGoSearchRun()\n",
    "duckduckgo_search.invoke(\"who is a current prime minister of USA??\")"
   ]
  },
  {
   "cell_type": "code",
   "execution_count": null,
   "id": "412f68f1",
   "metadata": {},
   "outputs": [],
   "source": [
    "tools = [multiply, add, divide, subtract, duckduckgo_search]\n",
    "llm_with_tools = openai_model.bind_tools(tools)"
   ]
  },
  {
   "cell_type": "code",
   "execution_count": 151,
   "id": "5c733a83",
   "metadata": {},
   "outputs": [
    {
     "data": {
      "text/plain": [
       "RunnableBinding(bound=ChatOpenAI(client=<openai.resources.chat.completions.completions.Completions object at 0x000001EBD72D20C0>, async_client=<openai.resources.chat.completions.completions.AsyncCompletions object at 0x000001EBDF709520>, root_client=<openai.OpenAI object at 0x000001EBD708EFF0>, root_async_client=<openai.AsyncOpenAI object at 0x000001EBDF7093D0>, model_name='gpt-4o', model_kwargs={}, openai_api_key=SecretStr('**********')), kwargs={'tools': [{'type': 'function', 'function': {'name': 'multiply', 'description': 'multiply a and b', 'parameters': {'properties': {'a': {'type': 'integer'}, 'b': {'type': 'integer'}}, 'required': ['a', 'b'], 'type': 'object'}}}, {'type': 'function', 'function': {'name': 'add', 'description': 'adding two numbers a and b', 'parameters': {'properties': {'a': {'type': 'integer'}, 'b': {'type': 'integer'}}, 'required': ['a', 'b'], 'type': 'object'}}}, {'type': 'function', 'function': {'name': 'divide', 'description': 'dividing two numbers a and b', 'parameters': {'properties': {'a': {'type': 'integer'}, 'b': {'type': 'integer'}}, 'required': ['a', 'b'], 'type': 'object'}}}, {'type': 'function', 'function': {'name': 'subtract', 'description': 'subtracting two numbers a and b', 'parameters': {'properties': {'a': {'type': 'integer'}, 'b': {'type': 'integer'}}, 'required': ['a', 'b'], 'type': 'object'}}}, {'type': 'function', 'function': {'name': 'duckduckgo_search', 'description': 'A wrapper around DuckDuckGo Search. Useful for when you need to answer questions about current events. Input should be a search query.', 'parameters': {'properties': {'query': {'description': 'search query to look up', 'type': 'string'}}, 'required': ['query'], 'type': 'object'}}}]}, config={}, config_factories=[])"
      ]
     },
     "execution_count": 151,
     "metadata": {},
     "output_type": "execute_result"
    }
   ],
   "source": [
    "llm_with_tools"
   ]
  },
  {
   "cell_type": "code",
   "execution_count": 152,
   "id": "5c654799",
   "metadata": {},
   "outputs": [
    {
     "data": {
      "text/plain": [
       "[]"
      ]
     },
     "execution_count": 152,
     "metadata": {},
     "output_type": "execute_result"
    }
   ],
   "source": [
    "llm_with_tools.invoke(\"hi\").tool_calls"
   ]
  },
  {
   "cell_type": "code",
   "execution_count": 153,
   "id": "21628b05",
   "metadata": {},
   "outputs": [
    {
     "data": {
      "text/plain": [
       "[{'name': 'add',\n",
       "  'args': {'a': 5, 'b': 40},\n",
       "  'id': 'call_DUBySqKK1VwXkuwvvRHmLhfn',\n",
       "  'type': 'tool_call'}]"
      ]
     },
     "execution_count": 153,
     "metadata": {},
     "output_type": "execute_result"
    }
   ],
   "source": [
    "llm_with_tools.invoke(\"can you add these two number 5 and 40?\").tool_calls"
   ]
  },
  {
   "cell_type": "code",
   "execution_count": 154,
   "id": "42fbff3e",
   "metadata": {},
   "outputs": [
    {
     "data": {
      "text/plain": [
       "[{'name': 'multiply',\n",
       "  'args': {'a': 5, 'b': 40},\n",
       "  'id': 'call_VmsuGocq4JmndlWcZjmqpJiG',\n",
       "  'type': 'tool_call'}]"
      ]
     },
     "execution_count": 154,
     "metadata": {},
     "output_type": "execute_result"
    }
   ],
   "source": [
    "llm_with_tools.invoke(\"can you multiply these two number 5 and 40?\").tool_calls"
   ]
  },
  {
   "cell_type": "code",
   "execution_count": 155,
   "id": "5cfcfa43",
   "metadata": {},
   "outputs": [
    {
     "data": {
      "text/plain": [
       "[{'name': 'divide',\n",
       "  'args': {'a': 5, 'b': 40},\n",
       "  'id': 'call_VLriG0nWfciitjskeLltqBL1',\n",
       "  'type': 'tool_call'}]"
      ]
     },
     "execution_count": 155,
     "metadata": {},
     "output_type": "execute_result"
    }
   ],
   "source": [
    "llm_with_tools.invoke(\"can you divide these two number 5 and 40?\").tool_calls"
   ]
  },
  {
   "cell_type": "code",
   "execution_count": 156,
   "id": "8febcbae",
   "metadata": {},
   "outputs": [
    {
     "data": {
      "text/plain": [
       "[{'name': 'duckduckgo_search',\n",
       "  'args': {'query': 'current GDP of India 2023'},\n",
       "  'id': 'call_SHhFVi30cVNI2yWLTK3YYJyd',\n",
       "  'type': 'tool_call'}]"
      ]
     },
     "execution_count": 156,
     "metadata": {},
     "output_type": "execute_result"
    }
   ],
   "source": [
    "llm_with_tools.invoke(\"what is a current gdp of india with current affaires\").tool_calls"
   ]
  },
  {
   "cell_type": "code",
   "execution_count": null,
   "id": "650a34e4",
   "metadata": {},
   "outputs": [],
   "source": [
    "from langchain_core.messages import HumanMessage, SystemMessage\n",
    "# System message\n",
    "sys_msg = SystemMessage(content =\n",
    "                        \"You are a helpful assistant tasked with using search and performing arithmetic on a set of inputs.\"\n",
    "                        )\n",
    "     "
   ]
  },
  {
   "cell_type": "code",
   "execution_count": 159,
   "id": "a19a024a",
   "metadata": {},
   "outputs": [],
   "source": [
    "def assistant(state:MessagesState):\n",
    "    return {\"messages\":[llm_with_tools.invoke([sys_msg]+state[\"messages\"])]}"
   ]
  },
  {
   "cell_type": "code",
   "execution_count": null,
   "id": "877fa1d5",
   "metadata": {},
   "outputs": [],
   "source": [
    "builder = StateGraph(MessagesState)\n",
    "builder.add_node(\"assistant\",assistant)\n",
    "builder.add_node(\"tools\",ToolNode(tools))\n",
    "builder.add_edge(START,\"assistant\")"
   ]
  },
  {
   "cell_type": "code",
   "execution_count": 164,
   "id": "32722c39",
   "metadata": {},
   "outputs": [],
   "source": [
    "\n",
    "from langgraph.prebuilt import tools_condition"
   ]
  },
  {
   "cell_type": "code",
   "execution_count": 165,
   "id": "34d176f2",
   "metadata": {},
   "outputs": [
    {
     "data": {
      "text/plain": [
       "<langgraph.graph.state.StateGraph at 0x1ebded665a0>"
      ]
     },
     "execution_count": 165,
     "metadata": {},
     "output_type": "execute_result"
    }
   ],
   "source": [
    "builder.add_conditional_edges(\n",
    "    \"assistant\",\n",
    "    tools_condition\n",
    ")"
   ]
  },
  {
   "cell_type": "code",
   "execution_count": null,
   "id": "b8b3e95b",
   "metadata": {},
   "outputs": [],
   "source": [
    "react_app = builder.compile()"
   ]
  },
  {
   "cell_type": "code",
   "execution_count": 167,
   "id": "0f009e31",
   "metadata": {},
   "outputs": [
    {
     "data": {
      "image/png": "[encoded data removed]",
      "text/plain": [
       "<IPython.core.display.Image object>"
      ]
     },
     "metadata": {},
     "output_type": "display_data"
    }
   ],
   "source": [
    "display(Image(react_app.get_graph().draw_mermaid_png()))"
   ]
  },
  {
   "cell_type": "code",
   "execution_count": null,
   "id": "197108a8",
   "metadata": {},
   "outputs": [
    {
     "name": "stderr",
     "output_type": "stream",
     "text": [
      "Adding an edge to a graph that has already been compiled. This will not be reflected in the compiled graph.\n"
     ]
    },
    {
     "data": {
      "text/plain": [
       "<langgraph.graph.state.StateGraph at 0x1ebded665a0>"
      ]
     },
     "execution_count": 168,
     "metadata": {},
     "output_type": "execute_result"
    }
   ],
   "source": [
    "builder.add_edge(\"tools\",\"assistant\")\n",
    "react_app = builder.compile()"
   ]
  },
  {
   "cell_type": "code",
   "execution_count": 170,
   "id": "100c88e5",
   "metadata": {},
   "outputs": [
    {
     "data": {
      "image/png": "[encoded data removed]",
      "text/plain": [
       "<IPython.core.display.Image object>"
      ]
     },
     "metadata": {},
     "output_type": "display_data"
    }
   ],
   "source": [
    "display(Image(react_app.get_graph().draw_mermaid_png()))"
   ]
  },
  {
   "cell_type": "code",
   "execution_count": null,
   "id": "3a4f5fb0",
   "metadata": {},
   "outputs": [],
   "source": [
    "message = [HumanMessage(content  =\n",
    "            \"what is twice of narendra modi's current age?\")]\n",
    "\n",
    "## this below detail is called a agentic flow\n",
    "# first it will come to assistant\n",
    "# then it will search narendra modi age\n",
    "# then it will come to again assistant\n",
    "# then it wil call the multiply tool for getting twice of age\n",
    "# then again it will come to assistant \n",
    "# then it will generate a final answer\n",
    "\n",
    "# REACT->> Reasoning+actions\n",
    "\n",
    "# Thinking, action, observation, thiniking,action, observation---> if everything is going to be full fill\n",
    "# then generating a final ans"
   ]
  },
  {
   "cell_type": "code",
   "execution_count": null,
   "id": "030c2974",
   "metadata": {},
   "outputs": [
    {
     "name": "stderr",
     "output_type": "stream",
     "text": [
      "c:\\MY_Folder\\Git_Folders\\LANGGRAPH-UDEMY\\U_agentic_ai\\Lib\\site-packages\\langchain_community\\utilities\\duckduckgo_search.py:63: RuntimeWarning: This package (`duckduckgo_search`) has been renamed to `ddgs`! Use `pip install ddgs` instead.\n",
      "  with DDGS() as ddgs:\n"
     ]
    }
   ],
   "source": [
    "response = react_app.invoke({\"messages\":message})"
   ]
  },
  {
   "cell_type": "code",
   "execution_count": 173,
   "id": "2a757c13",
   "metadata": {},
   "outputs": [
    {
     "name": "stdout",
     "output_type": "stream",
     "text": [
      "================================\u001b[1m Human Message \u001b[0m=================================\n",
      "\n",
      "what is twice of narendra modi's current age?\n",
      "==================================\u001b[1m Ai Message \u001b[0m==================================\n",
      "Tool Calls:\n",
      "  duckduckgo_search (call_6mt6fwSwFNxFVOBGMlL3UUEQ)\n",
      " Call ID: call_6mt6fwSwFNxFVOBGMlL3UUEQ\n",
      "  Args:\n",
      "    query: Narendra Modi age 2023\n",
      "=================================\u001b[1m Tool Message \u001b[0m=================================\n",
      "Name: duckduckgo_search\n",
      "\n",
      "Sep 16, 2024 · Born as Narendra Damodardas Modi on September 17, 1950 in the nondescript Mehsana town of Gujarat, he served as the state’s CM for three consecutive terms (2001-14) … Sep 17, 2024 · At present, in 2024, Narendra Modi age is 74. Throughout his political career, Modi has been a significant figure, known for his leadership, vision, and constructive policies. His … Jul 11, 2025 · However, Union Home Minister Amit Shah, in May 2023, had dismissed any such age bar, asserting that the BJP’s constitution does not include a retirement clause at 75, and … Sep 17, 2024 · Prime Minister Narendra Modi celebrates his 74th birthday in Odisha by inaugurating welfare schemes including financial aid for poor women and PM Awas houses. Sep 5, 2024 · 75th Year Of PM Narendra Modi Is A Difficult Year Ahead 2024-2025 PM Narendra Modi is entering in 75th year on 17-sep-2024 which will be very difficult for him. I predicted his …\n",
      "==================================\u001b[1m Ai Message \u001b[0m==================================\n",
      "Tool Calls:\n",
      "  multiply (call_yxqshJhU0QohPSur9FmaLxM0)\n",
      " Call ID: call_yxqshJhU0QohPSur9FmaLxM0\n",
      "  Args:\n",
      "    a: 74\n",
      "    b: 2\n",
      "=================================\u001b[1m Tool Message \u001b[0m=================================\n",
      "Name: multiply\n",
      "\n",
      "148\n",
      "==================================\u001b[1m Ai Message \u001b[0m==================================\n",
      "\n",
      "Narendra Modi is currently 74 years old in 2024. Twice his current age would be 148.\n"
     ]
    }
   ],
   "source": [
    "for m in response[\"messages\"]:\n",
    "    m.pretty_print()"
   ]
  },
  {
   "cell_type": "code",
   "execution_count": null,
   "id": "b811ca15",
   "metadata": {},
   "outputs": [],
   "source": [
    "messages = [HumanMessage(content=\"hi hello how are you?\")]\n",
    "response = react_app.invoke({\"messages\":messages})"
   ]
  },
  {
   "cell_type": "code",
   "execution_count": 176,
   "id": "e19b73e2",
   "metadata": {},
   "outputs": [
    {
     "name": "stdout",
     "output_type": "stream",
     "text": [
      "================================\u001b[1m Human Message \u001b[0m=================================\n",
      "\n",
      "hi hello how are you?\n",
      "==================================\u001b[1m Ai Message \u001b[0m==================================\n",
      "\n",
      "Hello! I'm just a virtual assistant, but I'm here to help you. How can I assist you today?\n"
     ]
    }
   ],
   "source": [
    "for m in response[\"messages\"]:\n",
    "    m.pretty_print()"
   ]
  },
  {
   "cell_type": "markdown",
   "id": "ead8d44d",
   "metadata": {},
   "source": [
    "1. humanmessage\n",
    "2. ai mesage:toolcall\n",
    "3. duckcuk\n",
    "4. ai assistant\n",
    "5. sustract\n",
    "6. ai\n",
    "7. final answer"
   ]
  },
  {
   "cell_type": "code",
   "execution_count": 177,
   "id": "5c69e77a",
   "metadata": {},
   "outputs": [],
   "source": [
    "messages=[HumanMessage(content=\"what is current gdp of china and india can you give me difference between them?\")]"
   ]
  },
  {
   "cell_type": "code",
   "execution_count": 178,
   "id": "52ca8147",
   "metadata": {},
   "outputs": [
    {
     "name": "stderr",
     "output_type": "stream",
     "text": [
      "c:\\MY_Folder\\Git_Folders\\LANGGRAPH-UDEMY\\U_agentic_ai\\Lib\\site-packages\\langchain_community\\utilities\\duckduckgo_search.py:63: RuntimeWarning: This package (`duckduckgo_search`) has been renamed to `ddgs`! Use `pip install ddgs` instead.\n",
      "  with DDGS() as ddgs:\n",
      "c:\\MY_Folder\\Git_Folders\\LANGGRAPH-UDEMY\\U_agentic_ai\\Lib\\site-packages\\langchain_community\\utilities\\duckduckgo_search.py:63: RuntimeWarning: This package (`duckduckgo_search`) has been renamed to `ddgs`! Use `pip install ddgs` instead.\n",
      "  with DDGS() as ddgs:\n",
      "c:\\MY_Folder\\Git_Folders\\LANGGRAPH-UDEMY\\U_agentic_ai\\Lib\\site-packages\\langchain_community\\utilities\\duckduckgo_search.py:63: RuntimeWarning: This package (`duckduckgo_search`) has been renamed to `ddgs`! Use `pip install ddgs` instead.\n",
      "  with DDGS() as ddgs:\n"
     ]
    }
   ],
   "source": [
    "response=react_app.invoke({\"messages\":messages})"
   ]
  },
  {
   "cell_type": "code",
   "execution_count": 179,
   "id": "ed95b3be",
   "metadata": {},
   "outputs": [
    {
     "name": "stdout",
     "output_type": "stream",
     "text": [
      "================================\u001b[1m Human Message \u001b[0m=================================\n",
      "\n",
      "what is current gdp of china and india can you give me difference between them?\n",
      "==================================\u001b[1m Ai Message \u001b[0m==================================\n",
      "Tool Calls:\n",
      "  duckduckgo_search (call_O0TTazDaTGqtgR8rLYt9xwqx)\n",
      " Call ID: call_O0TTazDaTGqtgR8rLYt9xwqx\n",
      "  Args:\n",
      "    query: current GDP of China 2023\n",
      "  duckduckgo_search (call_6Muyf7AtekMFnKVQhhBgBPf1)\n",
      " Call ID: call_6Muyf7AtekMFnKVQhhBgBPf1\n",
      "  Args:\n",
      "    query: current GDP of India 2023\n",
      "=================================\u001b[1m Tool Message \u001b[0m=================================\n",
      "Name: duckduckgo_search\n",
      "\n",
      "Oct 27, 2024 · GDP (Nominal), GDP (PPP), GDP (Nominal) per capita, GDP (PPP) per capita, GDP Growth and rank in 2023. Data source is International Monetary Fund World Economic … Dec 26, 2024 · China revised upwards its 2023 gross domestic product (GDP) by 2.7% to 129.4 trillion yuan ($17.73 trillion), a top statistics official said on Thursday, while releasing the fifth … Dec 26, 2024 · China's 2023 gross domestic product (GDP) has been revised to 129.4 trillion yuan (about 18 trillion U.S. dollars), official data showed Thursday. The amount represents an … Oct 1, 2024 · In 2023, China's GDP reached 17.8 trillion dollars, accounting for 16.9 percent of the world's total and solidifying its position as the world's second-largest economy. Dec 26, 2024 · China raised its 2023 gross domestic product by 2.7% to 129.4 trillion yuan, equivalent to $17.730 trillion, the chief of the nation's statistics bureau said in a press …\n",
      "=================================\u001b[1m Tool Message \u001b[0m=================================\n",
      "Name: duckduckgo_search\n",
      "\n",
      "January 16, 2025 The St Helena government tested the feasibility, reliability and adaptability of electric vehicle use on one of the most remote inhabited islands on the planet. January 16, … Oct 14, 2024 · The second edition of Current±’s EV Infrastructure Report offers a deep dive into the key developments and challenges within the EV industry. current、present、recent三个词的区别：意思不同、用法不同、侧重点不同 一、意思不同 1.current意思：adj. 现在的；流通的 2.present意思：adj. 现在的；当前的；存在的 3.recent意 … May 13, 2025 · SSE Thermal and Equinor have been granted planning consent for what they claim will be the UK’s first hydrogen-to-power project. May 9, 2025 · The UK and Norway have penned a new Green Industrial Partnership to bolster renewables, specifically offshore wind, and grid development.\n",
      "==================================\u001b[1m Ai Message \u001b[0m==================================\n",
      "Tool Calls:\n",
      "  duckduckgo_search (call_BOcPzoxcqNHQHUIZqGPPqKjy)\n",
      " Call ID: call_BOcPzoxcqNHQHUIZqGPPqKjy\n",
      "  Args:\n",
      "    query: current GDP of India 2023 in USD\n",
      "=================================\u001b[1m Tool Message \u001b[0m=================================\n",
      "Name: duckduckgo_search\n",
      "\n",
      "May 21, 2025 · The statistic shows GDP in India from 1987 to 2024, with projections up until 2030. In 2024, GDP in India was at around 3.91 trillion U.S. dollars, and it is expected to reach six...The statistic shows GDP in India from …Find statistics, consumer survey results …Find statistics, consumer survey results … Jan 7, 2025 · The growth rate in Real GDP during 2024-25 is estimated at 6.4% as compared to 8.2% in 2023-24. Nominal GDP or GDP at Current Prices is estimated to attain a level of … Jul 9, 2025 · India Real Gross Domestic Product (GDP) in US Dollars is released by the Ministry of Statistics and Programme Implementation (MOSPI). This indicator measures the value of all … 77 rows · Mar 6, 2025 · India shares around 10.0% of the total of Asia's GDP (nominal). Based on PPP, India's economy in 2025 is projected at 17,365 billion international dollars, 3rd highest in … 2 days ago · The National Accounts Statistics 2024 provides comprehensive economic data compiled by the Ministry of Statistics and Programme Implementation, Government of India.\n",
      "==================================\u001b[1m Ai Message \u001b[0m==================================\n",
      "\n",
      "The current GDP of China for 2023 is approximately $17.73 trillion USD. As for India, the most recent data states that its GDP for 2024 was around $3.91 trillion USD, and it might be slightly less for 2023. Therefore, I'll use the most recent approximation available, assuming a slight decrease for 2023 compared to 2024. \n",
      "\n",
      "Based on the data I found, China's GDP is approximately $17.73 trillion USD and India's GDP is approximately $3.91 trillion USD. Let's calculate the difference in GDP between China and India.\n",
      "Tool Calls:\n",
      "  subtract (call_TfI6qwVDgRtrsfe1c9uVzQOp)\n",
      " Call ID: call_TfI6qwVDgRtrsfe1c9uVzQOp\n",
      "  Args:\n",
      "    a: 17730\n",
      "    b: 3910\n",
      "=================================\u001b[1m Tool Message \u001b[0m=================================\n",
      "Name: subtract\n",
      "\n",
      "13820\n",
      "==================================\u001b[1m Ai Message \u001b[0m==================================\n",
      "\n",
      "The difference in GDP between China and India, using the 2023 data, is approximately $13.82 trillion USD, with China's GDP being the larger of the two.\n"
     ]
    }
   ],
   "source": [
    "for m in response[\"messages\"]:\n",
    "    m.pretty_print()"
   ]
  },
  {
   "cell_type": "markdown",
   "id": "4f3f413f",
   "metadata": {},
   "source": [
    "As of 2023, China's GDP is approximately $17.73 trillion, while India's GDP is about $3.9 trillion. The difference in their GDPs is approximately $13.83 trillion, with China's economy being larger than India's by this amount."
   ]
  },
  {
   "cell_type": "code",
   "execution_count": 181,
   "id": "269c4f89",
   "metadata": {},
   "outputs": [],
   "source": [
    "# project:rag,agent,deployment,modularcoding,ci/cd,git\n",
    "\n",
    "# multiagentic collrabtive agent and supoervisor agent\n",
    "\n"
   ]
  },
  {
   "cell_type": "markdown",
   "id": "8da83e52",
   "metadata": {},
   "source": [
    "Reaserch and analsysis react agent: assisgnment\n",
    "1. llm assistant\n",
    "2. take a realtime weather api to check the real time weather detail\n",
    "3. take a realtime api for checking realtime cricket score\n",
    "4. take a tool for analysis the generated data(REPL)python code\n",
    "5. create a report based on the generated data\n",
    "memory\n",
    "human in loop\n",
    "multiagentic flow\n",
    "\n",
    "\n",
    "from next week onwards will implemnt the project"
   ]
  },
  {
   "cell_type": "markdown",
   "id": "c4ec52f0",
   "metadata": {},
   "source": [
    "## 1. langgraph-> memeory saver, human in loop\n",
    "## 2. multiagents"
   ]
  },
  {
   "cell_type": "code",
   "execution_count": 182,
   "id": "f47297f7",
   "metadata": {},
   "outputs": [],
   "source": [
    "\n",
    "from typing import Annotated\n",
    "import operator,json\n",
    "from typing import TypedDict, Annotated, Sequence\n",
    "from typing_extensions import TypedDict\n",
    "from langchain_core.messages import BaseMessage\n",
    "from langgraph.checkpoint.memory import MemorySaver\n",
    "from langgraph.graph import StateGraph,END,START\n",
    "from langgraph.graph.message import add_messages\n",
    "from langgraph.prebuilt import ToolNode, tools_condition\n",
    "from langchain_core.tools import tool\n",
    "from langchain_community.tools.tavily_search import TavilySearchResults"
   ]
  },
  {
   "cell_type": "code",
   "execution_count": 219,
   "id": "1d940360",
   "metadata": {},
   "outputs": [],
   "source": [
    "import os\n",
    "from langchain_community.tools.tavily_search import TavilySearchResults\n",
    "os.environ[\"TAVILY_API_KEY\"] = TAVILY_API_KEY = os.getenv('TAVILY_API_KEY')"
   ]
  },
  {
   "cell_type": "code",
   "execution_count": null,
   "id": "02a8be10",
   "metadata": {},
   "outputs": [],
   "source": [
    "@tool\n",
    "def multiply(first_number:int, second_number:int)->int:\n",
    "    \"\"\"multiply two integer number\"\"\"\n",
    "    return first_number * second_number\n",
    "\n",
    "@tool\n",
    "def search(query:str):\n",
    "    \"\"\"perform the web search on the user query\"\"\"\n",
    "    tavily=TavilySearchResults(tavily_api_key=\"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\")\n",
    "    result=tavily.invoke(query)\n",
    "    return result    "
   ]
  },
  {
   "cell_type": "code",
   "execution_count": 187,
   "id": "7082a82d",
   "metadata": {},
   "outputs": [
    {
     "name": "stderr",
     "output_type": "stream",
     "text": [
      "C:\\Users\\Mohan\\AppData\\Local\\Temp\\ipykernel_12548\\418483333.py:4: LangChainDeprecationWarning: The class `TavilySearchResults` was deprecated in LangChain 0.3.25 and will be removed in 1.0. An updated version of the class exists in the :class:`~langchain-tavily package and should be used instead. To use it run `pip install -U :class:`~langchain-tavily` and import as `from :class:`~langchain_tavily import TavilySearch``.\n",
      "  tavily=TavilySearchResults(tavily_api_key=\"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\")\n"
     ]
    },
    {
     "data": {
      "text/plain": [
       "[{'title': 'List of all Prime Ministers of India (1947-2025) - Jagran Josh',\n",
       "  'url': 'https://www.jagranjosh.com/general-knowledge/list-of-all-prime-ministers-of-india-1473165149-1',\n",
       "  'content': \"They are in charge of forming the cabinet, making important decisions, and representing India in the world. The Prime Minister leads the country’s policies and ensures that the government works smoothly.\\n\\n Currently, Narendra Modi is the Prime Minister of India, having been in office since 2014. He is the 14th Prime Minister of India who had three consecutive terms on the post. He took the Prime Minister's Oath on June 9, 2024. [...] ## List of all the Prime Ministers of India from 1947-2025\\n\\nIndia has been governed by 14 prime ministers over the years. Currently, Narendra Modi is serving his third term as Prime Minister in 2024, continuing his leadership journey that started in 2014.\\n\\nKnown for major reforms like GST, Make in India, and Swachh Bharat, Modi's tenure also included bold actions like Article 370’s revocation and digital advancements.\\n\\nHere is the List of Prime Ministers of India from 1947-2025: [...] 19 March 1998 \\n\\n22 May 2004\\n\\n6 years, 64 days\\n\\nBharatiya Janata Party (NDA)\\n\\n16\\n\\nManmohan Singh (1932-2024)\\n\\n22 May 2004\\n\\n26 May 2014\\n\\n10 years, 4 days\\n\\nIndian National Congress (UPA)\\n\\n17\\n\\nNarendra Modi (born 1950)\\n\\n26 May 2014\\n\\nMay 30, 2019\\n\\n10 years, 192 days\\n\\nBharatiya Janata Party (NDA)\\n\\nMay 30, 2019\\n\\nJune 9, 2024\\n\\nJune 9, 2024\\n\\nIncumbent\\n\\n### List of all the Prime Ministers of India: Important Points\\n\\n### List of all the Prime Ministers of India: Important Facts\",\n",
       "  'score': 0.8646883},\n",
       " {'title': 'Know the PM | Prime Minister of India',\n",
       "  'url': 'https://www.pmindia.gov.in/en/pms-profile/',\n",
       "  'content': 'PMO twitter\\nPMO facebook\\nPMO Youtube\\nPMO narendramodi\\n\\n# PMINDIAPMINDIA\\n\\nPMINDIA\\n\\n#### Know the PM\\n\\nfacebook\\ntwitter\\nlinkedin\\n\\nPM IndiaShri Narendra Modi was sworn-in as India’s Prime Minister for the third time on 9th June 2024, following another decisive victory in the 2024 Parliamentary elections. This victory marked the third consecutive term for Shri Modi, further solidifying his leadership.\\n\\nPM India [...] The first ever Prime Minister to be born after Independence, Shri Modi has previously served as the Prime Minister of India from 2014 to 2019, and from 2019 to 2024. He also has the distinction of being the longest serving Chief Minister of Gujarat with his term spanning from October 2001 to May 2014. [...] Leading international agencies have noted that under the leadership of PM Narendra Modi, India has been eliminating poverty at record pace. According to the findings from NITI Aayog’s latest report ‘Multidimensional Poverty in India since 2005-06’, almost 25 crore people escaped multidimensional poverty in last nine years. The credit for this remarkable achievement goes to significant initiatives of the government to address all dimensions of poverty.',\n",
       "  'score': 0.7944651},\n",
       " {'title': '2025 in India - Wikipedia',\n",
       "  'url': 'https://en.wikipedia.org/wiki/2025_in_India',\n",
       "  'content': '| Position | Name | Image | Since |\\n| --- | --- | --- | --- |\\n| President of India | Droupadi Murmu (Age 67) |  | 25 July 2022 |\\n| Vice-President of India | Jagdeep Dhankhar (Age 74) |  | 11 August 2022 |\\n| Prime Minister of India | Narendra Modi (Age 74) |  | 26 May 2014 |\\n| Chief Justice of India | Bhushan Ramkrishna Gavai (Age 64) |  | 13 May 2025 |\\n| Speaker of the Lok Sabha | Om Birla (Age 62) |  | 19 June 2019 | [...] | Rajasthan | Haribhau Kisanrau Bagde | Bhajan Lal Sharma | BJP | N.D.A. | Manindra Mohan Shrivastava |\\n| Sikkim | Om Prakash Mathur | Prem Singh Tamang | SKM | Biswanath Somadder |\\n| Tamil Nadu | R. N. Ravi | M. K. Stalin | DMK | I.N.D.I.A | Sanjay V. Gangapurwala |\\n| Telangana | Jishnu Dev Verma | Revanth Reddy | INC | Alok Aradhe |\\n| Tripura | N. Indrasena Reddy | Manik Saha | BJP | N.D.A. | Aparesh Kumar Singh |\\n| Uttar Pradesh | Anandiben Patel | Yogi Adityanath | Arun Bhansali | [...] | State | Governor | Chief Minister | Party | Political alliance | Chief Justice |\\n| --- | --- | --- | --- | --- | --- |\\n| Andhra Pradesh | S. Abdul Nazeer | N. Chandrababu Naidu | TDP | N.D.A. | Dhiraj Singh Thakur |\\n| Arunachal Pradesh | Kaiwalya Trivikram Parnaik | Pema Khandu | BJP | Vijay Bishnoi |\\n| Assam | Lakshman Prasad Acharya | Himanta Biswa Sarma | Vijay Bishnoi |\\n| Bihar | Arif Mohammad Khan | Nitish Kumar | JD(U) \"Janata Dal (United)\") | K. Vinod Chandran |',\n",
       "  'score': 0.79041743},\n",
       " {'title': 'List of prime ministers of India - Wikipedia',\n",
       "  'url': 'https://en.wikipedia.org/wiki/List_of_prime_ministers_of_India',\n",
       "  'content': '|  v  t  e  Prime Minister of India | | |\\n| --- | --- | --- |\\n|  List  By previous experience | | |\\n| Prime ministers |  Jawaharlal Nehru  Lal Bahadur Shastri   + Premiership  Indira Gandhi  Morarji Desai   + Premiership  Charan Singh  Rajiv Gandhi  V. P. Singh   + Premiership  Chandra Shekhar  P. V. Narasimha Rao  Atal Bihari Vajpayee   + Premiership  H. D. Deve Gowda  Inder Kumar Gujral  Manmohan Singh  Narendra Modi (Incumbent)   + Premiership | Emblem of India | [...] | Government   President of India   Droupadi Murmu (15th)  ---   Vice President of India   Jagdeep Dhankhar (14th)  ---   Prime Minister of India   Narendra Modi (14th)  ---   Cabinet secretary   T. V. Somanathan  ---   Ministries   + Ministers  Departments   + Secretaries | [...] | Ram Nath Kovind (2017–2022) |\\n| 2019 | Modi II |\\n| Droupadi Murmu (2022–present) |\\n| 2024 | Modi III |',\n",
       "  'score': 0.7785319},\n",
       " {'title': 'Narendra Modi | Biography, Career, & Facts - Britannica',\n",
       "  'url': 'https://www.britannica.com/biography/Narendra-Modi',\n",
       "  'content': 'Encyclopedia Britannica\\nEncyclopedia Britannica\\nNarendra Modi\\nNarendra Modi\\nTwo pie charts showing 2024 Indian Lok Sabha election results. Left: BJP 240, Congress 99, Others 204. Right: NDA 293, UPA/INDIA 234, Others 16.\\nNarendra Modi\\n\\n# Narendra Modi\\n\\nOur editors will review what you’ve submitted and determine whether to revise the article.\\n\\n## News • [...] Narendra Modi (born September 17, 1950, Vadnagar, India) is an Indian politician and government official who rose to become a senior leader of the Bharatiya Janata Party (BJP). In 2014 he led his party to victory in elections to the Lok Sabha (lower chamber of the Indian parliament), after which he was sworn in as prime minister of India. Prior to that he had served (2001–14) as chief minister (head of government) of Gujarat state in western India. The Modi-led BJP (and the BJP-led NDA [...] alliance) won the majority again in the 2019 general election. Although the BJP failed to secure a majority on its own in the 2024 Lok Sabha elections, the BJP-led NDA alliance won 293 of the 543 seats in the Lok Sabha, paving the way for Modi to become the country’s prime minister for a third consecutive term.',\n",
       "  'score': 0.6133529}]"
      ]
     },
     "execution_count": 187,
     "metadata": {},
     "output_type": "execute_result"
    }
   ],
   "source": [
    "search.invoke(\"who is a current PM in india?\")"
   ]
  },
  {
   "cell_type": "code",
   "execution_count": null,
   "id": "205e5ebb",
   "metadata": {},
   "outputs": [],
   "source": [
    "tools = [search,multiply]\n",
    "model_with_tools = openai_model.bind_tools(tools)"
   ]
  },
  {
   "cell_type": "code",
   "execution_count": 190,
   "id": "51c7ef4f",
   "metadata": {},
   "outputs": [
    {
     "data": {
      "text/plain": [
       "AIMessage(content='', additional_kwargs={'tool_calls': [{'id': 'call_CMIS6wyhqK6oYR2FVlEzxgzw', 'function': {'arguments': '{\"query\":\"Current Prime Minister of Japan October 2023\"}', 'name': 'search'}, 'type': 'function'}], 'refusal': None}, response_metadata={'token_usage': {'completion_tokens': 21, 'prompt_tokens': 78, 'total_tokens': 99, 'completion_tokens_details': {'accepted_prediction_tokens': 0, 'audio_tokens': 0, 'reasoning_tokens': 0, 'rejected_prediction_tokens': 0}, 'prompt_tokens_details': {'audio_tokens': 0, 'cached_tokens': 0}}, 'model_name': 'gpt-4o-2024-08-06', 'system_fingerprint': 'fp_a288987b44', 'id': 'chatcmpl-Bue4esshUBemlgGCaWhCE74yYkTiO', 'service_tier': 'default', 'finish_reason': 'tool_calls', 'logprobs': None}, id='run--cd249a40-f342-48a1-a9fd-3003f6c2d1c8-0', tool_calls=[{'name': 'search', 'args': {'query': 'Current Prime Minister of Japan October 2023'}, 'id': 'call_CMIS6wyhqK6oYR2FVlEzxgzw', 'type': 'tool_call'}], usage_metadata={'input_tokens': 78, 'output_tokens': 21, 'total_tokens': 99, 'input_token_details': {'audio': 0, 'cache_read': 0}, 'output_token_details': {'audio': 0, 'reasoning': 0}})"
      ]
     },
     "execution_count": 190,
     "metadata": {},
     "output_type": "execute_result"
    }
   ],
   "source": [
    "model_with_tools.invoke(\"who is a cuurent pm of japan?\")"
   ]
  },
  {
   "cell_type": "code",
   "execution_count": 191,
   "id": "777ae390",
   "metadata": {},
   "outputs": [
    {
     "data": {
      "text/plain": [
       "[{'name': 'search',\n",
       "  'args': {'query': 'current Prime Minister of Japan 2023'},\n",
       "  'id': 'call_TnwhZJstau87hsi9BhOhDUZu',\n",
       "  'type': 'tool_call'}]"
      ]
     },
     "execution_count": 191,
     "metadata": {},
     "output_type": "execute_result"
    }
   ],
   "source": [
    "model_with_tools.invoke(\"who is a cuurent pm of japan?\").tool_calls"
   ]
  },
  {
   "cell_type": "code",
   "execution_count": null,
   "id": "da9237f0",
   "metadata": {},
   "outputs": [],
   "source": [
    "tool_mapping = {tool.name: tool for tool in tools}"
   ]
  },
  {
   "cell_type": "code",
   "execution_count": 193,
   "id": "c5148ea5",
   "metadata": {},
   "outputs": [
    {
     "data": {
      "text/plain": [
       "{'search': StructuredTool(name='search', description='perform the web search on the user query', args_schema=<class 'langchain_core.utils.pydantic.search'>, func=<function search at 0x000001EBDF1F7240>),\n",
       " 'multiply': StructuredTool(name='multiply', description='multiply two integer number', args_schema=<class 'langchain_core.utils.pydantic.multiply'>, func=<function multiply at 0x000001EBD229FA60>)}"
      ]
     },
     "execution_count": 193,
     "metadata": {},
     "output_type": "execute_result"
    }
   ],
   "source": [
    "tool_mapping"
   ]
  },
  {
   "cell_type": "code",
   "execution_count": null,
   "id": "8ed66455",
   "metadata": {},
   "outputs": [],
   "source": [
    "response = model_with_tools.invoke(\"who is a current president of uk?\")"
   ]
  },
  {
   "cell_type": "code",
   "execution_count": 195,
   "id": "128d5625",
   "metadata": {},
   "outputs": [
    {
     "data": {
      "text/plain": [
       "AIMessage(content='', additional_kwargs={'tool_calls': [{'id': 'call_j4IRBe4wz4OLNTH7nk0TdHYX', 'function': {'arguments': '{\"query\":\"current President of the UK 2023\"}', 'name': 'search'}, 'type': 'function'}], 'refusal': None}, response_metadata={'token_usage': {'completion_tokens': 20, 'prompt_tokens': 77, 'total_tokens': 97, 'completion_tokens_details': {'accepted_prediction_tokens': 0, 'audio_tokens': 0, 'reasoning_tokens': 0, 'rejected_prediction_tokens': 0}, 'prompt_tokens_details': {'audio_tokens': 0, 'cached_tokens': 0}}, 'model_name': 'gpt-4o-2024-08-06', 'system_fingerprint': 'fp_a288987b44', 'id': 'chatcmpl-Bue4gcT00Ih0yn1zP3xtoJkXpBZ8g', 'service_tier': 'default', 'finish_reason': 'tool_calls', 'logprobs': None}, id='run--1dd2f176-a211-42fc-b40e-8db3859889b6-0', tool_calls=[{'name': 'search', 'args': {'query': 'current President of the UK 2023'}, 'id': 'call_j4IRBe4wz4OLNTH7nk0TdHYX', 'type': 'tool_call'}], usage_metadata={'input_tokens': 77, 'output_tokens': 20, 'total_tokens': 97, 'input_token_details': {'audio': 0, 'cache_read': 0}, 'output_token_details': {'audio': 0, 'reasoning': 0}})"
      ]
     },
     "execution_count": 195,
     "metadata": {},
     "output_type": "execute_result"
    }
   ],
   "source": [
    "response"
   ]
  },
  {
   "cell_type": "code",
   "execution_count": null,
   "id": "8c1b8f8e",
   "metadata": {},
   "outputs": [],
   "source": [
    "tool_details =  response.additional_kwargs"
   ]
  },
  {
   "cell_type": "code",
   "execution_count": 197,
   "id": "b7366adb",
   "metadata": {},
   "outputs": [
    {
     "data": {
      "text/plain": [
       "{'tool_calls': [{'id': 'call_j4IRBe4wz4OLNTH7nk0TdHYX',\n",
       "   'function': {'arguments': '{\"query\":\"current President of the UK 2023\"}',\n",
       "    'name': 'search'},\n",
       "   'type': 'function'}],\n",
       " 'refusal': None}"
      ]
     },
     "execution_count": 197,
     "metadata": {},
     "output_type": "execute_result"
    }
   ],
   "source": [
    "tool_details"
   ]
  },
  {
   "cell_type": "code",
   "execution_count": null,
   "id": "e4b5ceb3",
   "metadata": {},
   "outputs": [],
   "source": [
    "tool_details = tool_details.get(\"tool_calls\")"
   ]
  },
  {
   "cell_type": "code",
   "execution_count": 199,
   "id": "18945983",
   "metadata": {},
   "outputs": [
    {
     "data": {
      "text/plain": [
       "'search'"
      ]
     },
     "execution_count": 199,
     "metadata": {},
     "output_type": "execute_result"
    }
   ],
   "source": [
    "tool_details[0][\"function\"][\"name\"]"
   ]
  },
  {
   "cell_type": "code",
   "execution_count": 200,
   "id": "b51c797a",
   "metadata": {},
   "outputs": [
    {
     "data": {
      "text/plain": [
       "'{\"query\":\"current President of the UK 2023\"}'"
      ]
     },
     "execution_count": 200,
     "metadata": {},
     "output_type": "execute_result"
    }
   ],
   "source": [
    "tool_details[0][\"function\"][\"arguments\"]"
   ]
  },
  {
   "cell_type": "code",
   "execution_count": 201,
   "id": "e1a8a102",
   "metadata": {},
   "outputs": [
    {
     "data": {
      "text/plain": [
       "{'query': 'current President of the UK 2023'}"
      ]
     },
     "execution_count": 201,
     "metadata": {},
     "output_type": "execute_result"
    }
   ],
   "source": [
    "json.loads(tool_details[0][\"function\"][\"arguments\"])"
   ]
  },
  {
   "cell_type": "code",
   "execution_count": 202,
   "id": "ecb1eee2",
   "metadata": {},
   "outputs": [
    {
     "data": {
      "text/plain": [
       "[{'title': 'Rishi Sunak | Biography, Wife, Politics, & Net Worth - Britannica',\n",
       "  'url': 'https://www.britannica.com/biography/Rishi-Sunak',\n",
       "  'content': 'In March 2023 Sunak held off a Tory rebellion and passed the so-called Windsor Framework, a post-Brexit deal to regulate trade between Northern Ireland, the rest of the United Kingdom, and the European Union. During his campaign to drum up support for the bill, Sunak stressed the “privileged access, not just to the U.K. home market, which is enormous, but also the EU single market” that Northern Ireland would enjoy under the framework. Critics were quick to observe that, prior to Brexit, the [...] In November 2023 Sunak sacked controversial home secretary Suella Braverman as part of a broader cabinet reshuffle that saw the stunning return to government of former prime minister David Cameron as foreign secretary. Cameron, who was elevated to the House of Lords and created Lord Cameron of Chipping Norton in order to take his seat in the cabinet, seemed an unusual choice, as Sunak had previously endeavored to characterize his government as a break with the past. The return of Cameron to [...] This time around, 100 nominations from Conservative MPs were required for candidate eligibility. Because there were 357 Conservative MPs, at most only three candidates could advance for consideration. Again the two finalists were then to be put to a vote by the party membership. Sunak, who still enjoyed broad support among MPs, was the early favorite. House of Commons leader Penny Mordaunt was the first to declare her candidacy, but support for her was limited. Defense Secretary Ben Wallace',\n",
       "  'score': 0.29813412},\n",
       " {'title': \"Keir Starmer confirmed as Britain's new prime minister after Labour ...\",\n",
       "  'url': 'https://www.nbcnews.com/news/world/live-blog/uk-general-election-live-results-britain-starmer-win-labour-rcna160339',\n",
       "  'content': 'David Lammy, who has represented Tottenham since 2000, is likely to serve as foreign secretary after being appointed to Starmer\\'s then-shadow Cabinet in 2021. Earlier this year, the long-term MP walked back historical remarks calling Donald Trump \"a neo-Nazi sympathizer,\" promising to find \"common cause\" with the former president if he wins re-election. [...] Smaller parties such as Reform UK performed much better than expected, with the party of Donald Trump ally Nigel Farage claiming more than 14% of the vote, while the Liberal Democrats took 12% and the Greens received 7%.\\n\\nDivisions among British voters appear to reflect the widespread disillusionment many across the country felt in the lead-up to the election, both with the country’s Conservative leadership and with the alternatives. [...] Allie Raffa\\n\\nReporting from Washington D.C.\\n\\nPresident Joe Biden is planning to call Starmer today \"to congratulate him on his victory,\" a source familiar with the president\\'s schedule told NBC News today.\\n\\nsocial share icon trigger\\n\\n## Starmer\\'s inner circle: Who will run the U.K.?\\n\\nChantal Da Silva\\n\\nReporting from London\\n\\nLabout Election Win',\n",
       "  'score': 0.22725531},\n",
       " {'title': 'Secretary of State (United Kingdom) - Wikipedia',\n",
       "  'url': 'https://en.wikipedia.org/wiki/Secretary_of_State_(United_Kingdom)',\n",
       "  'content': '| 2021 | Secretary of State for Levelling Up, Housing and Communities (2021–2024) |\\n| 2023 | Secretary of State for Business and Trade (2023–present) | | Secretary of State for Science, Innovation and Technology (2023–present) | Secretary of State for Energy Security and Net Zero (2023–present) | |\\n| 2024 | Secretary of State for Housing, Communities and Local Government (2024–present) | [...] | Secretary of State for Science, Innovation and Technology | 7 February 2023 |  Secretary of State for Business, Energy and Industrial Strategy  Secretary of State for Digital, Culture, Media and Sport |  |  |  |\\n| Secretary of State for Business and Trade | 7 February 2023 |  Secretary of State for Business, Energy and Industrial Strategy  Secretary of State for International Trade |  |  |  | [...] | 4 September 2012 | Secretary of State for Culture, Olympics, Media and Sport | 3 July 2017 | Secretary of State for Digital, Culture, Media and Sport |  |\\n| 7 February 2023 | Secretary of State for Digital, Culture, Media and Sport |  |  |  |\\n| Secretary of State for Work and Pensions | 8 June 2001 | Secretary of State for Social Security |  |  |  |\\n| Secretary of State for Justice | 9 May 2007 | Secretary of State for Constitutional Affairs |  |  |  |',\n",
       "  'score': 0.16668928},\n",
       " {'title': 'Prime Minister - GOV.UK',\n",
       "  'url': 'https://www.gov.uk/government/ministers/prime-minister',\n",
       "  'content': 'The Prime Minister is the leader of His Majesty’s Government and is ultimately responsible for the policy and decisions of the government.\\n\\nAs leader of the UK government the Prime Minister also:\\n\\n## Current role holder\\n\\n### The Rt Hon Sir Keir Starmer KCB KC MP\\n\\nSir Keir Starmer became Prime Minister on 5 July 2024.\\n\\n## Education [...] Keir attended Reigate Grammar School, before studying Law at the University of Leeds. He went on to do postgraduate studies at the University of Oxford, receiving a Bachelor of Civil Law (BCL) degree.\\n\\n## Political Career\\n\\nKeir was elected a Member of Parliament for Holborn and St Pancras in May 2015. He was elected leader of the Labour Party in April 2020.\\n\\n## Career before politics [...] ## Government activity\\n\\n## Support links',\n",
       "  'score': 0.15598944},\n",
       " {'title': 'Heads of State (2025) - IMDb',\n",
       "  'url': 'https://www.imdb.com/title/tt13357520/',\n",
       "  'content': \"When the U.K. Prime Minister and U.S. President become the targets of a foreign adversary, they're forced to rely on one another to thwart a global conspiracy.When the U.K. Prime Minister and U.S. President become the targets of a foreign adversary, they're forced to rely on one another to thwart a global conspiracy.When the U.K. Prime Minister and U.S. President become the targets of a foreign adversary, they're forced to rely on one another to thwart a global conspiracy.\\n\\n### Videos13 [...] # Heads of State\\n\\nIdris Elba, John Cena, and Priyanka Chopra Jonas in Heads of State (2025)\\nWhen the UK Prime Minister and US President become the targets of a foreign adversary, they're forced to rely on one another to thwart a global conspiracy. [...] Idris Elba\\nJohn Cena\\nPriyanka Chopra Jonas\\nPaddy Considine\\nCarla Gugino\\nStephen Root\\nJack Quaid\\nSarah Niles\\nRichard Coyle\\nAlexander Kuznetsov\\nKatrina Durden\\nWade Briggs\\nClare Foster\\nAdrian Lukis\\nIngeborga Dapkunaite\\nSharlto Copley\\nSteven Cree\\n\\n### User reviews292\\n\\n### Featured reviews\\n\\n### Commander in Cheek\\n\\n### Don't compare with others.. just enjoy it..\\n\\n### Silly but fun\\n\\n### This one's a keeper!\\n\\n### Never Knew I Needed This\\n\\n## 'Heads of State' Stars Take Our Big Bad Buddies Quiz\",\n",
       "  'score': 0.0778607}]"
      ]
     },
     "execution_count": 202,
     "metadata": {},
     "output_type": "execute_result"
    }
   ],
   "source": [
    "tool_mapping[tool_details[0][\"function\"][\"name\"]].invoke(json.loads(tool_details[0][\"function\"][\"arguments\"]))"
   ]
  },
  {
   "cell_type": "code",
   "execution_count": 203,
   "id": "b26fc42e",
   "metadata": {},
   "outputs": [],
   "source": [
    "tool_mapping={tool.name: tool for tool in tools}"
   ]
  },
  {
   "cell_type": "code",
   "execution_count": 204,
   "id": "797007d5",
   "metadata": {},
   "outputs": [
    {
     "data": {
      "text/plain": [
       "{'search': StructuredTool(name='search', description='perform the web search on the user query', args_schema=<class 'langchain_core.utils.pydantic.search'>, func=<function search at 0x000001EBDF1F7240>),\n",
       " 'multiply': StructuredTool(name='multiply', description='multiply two integer number', args_schema=<class 'langchain_core.utils.pydantic.multiply'>, func=<function multiply at 0x000001EBD229FA60>)}"
      ]
     },
     "execution_count": 204,
     "metadata": {},
     "output_type": "execute_result"
    }
   ],
   "source": [
    "tool_mapping"
   ]
  },
  {
   "cell_type": "code",
   "execution_count": 225,
   "id": "15d895f9",
   "metadata": {},
   "outputs": [],
   "source": [
    "class AgentState(TypedDict):\n",
    "    messages:Annotated[Sequence[BaseMessage], operator.add]"
   ]
  },
  {
   "cell_type": "code",
   "execution_count": 226,
   "id": "1bdcca11",
   "metadata": {},
   "outputs": [],
   "source": [
    "def invoke_model(state:AgentState):\n",
    "    messages = state['messages']\n",
    "    question = messages[-1]   ## Fetching the user question\n",
    "    return {\"messages\":[model_with_tools.invoke(question)]}"
   ]
  },
  {
   "cell_type": "code",
   "execution_count": 227,
   "id": "dff3f8fb",
   "metadata": {},
   "outputs": [],
   "source": [
    "def invoke_tool(state:AgentState):\n",
    "    print(\"****my state*****\")\n",
    "    print(state['messages'][-1])\n",
    "    tool_details= state['messages'][-1].additional_kwargs.get(\"tool_calls\", [])[0]\n",
    "    \n",
    "    if tool_details is None:\n",
    "        raise Exception(\"no tool call found\")\n",
    "    \n",
    "    print(f'Selected tool: {tool_details.get(\"function\").get(\"name\")}')\n",
    "    \n",
    "    if tool_details.get(\"function\").get(\"name\")==\"search\":\n",
    "        print(\"**********tool detils****\")\n",
    "        print(tool_details)\n",
    "        response = input(prompt=f\"[y/n] continue with expensive web search?\")\n",
    "        if response == \"n\":\n",
    "            raise Exception(\"web search discard\")\n",
    "        \n",
    "    response = tool_mapping[tool_details['function']['name']].invoke(json.loads(tool_details.get(\"function\").get(\"arguments\")))\n",
    "    return {\"messages\" : [response]}\n",
    "     "
   ]
  },
  {
   "cell_type": "code",
   "execution_count": 228,
   "id": "1e925346",
   "metadata": {},
   "outputs": [],
   "source": [
    "def router(state:AgentState):\n",
    "    tool_calls = state['messages'][-1].additional_kwargs.get(\"tool_calls\", [])\n",
    "    if len(tool_calls):\n",
    "        return \"tool\"\n",
    "    else:\n",
    "        return \"end\"\n",
    "     "
   ]
  },
  {
   "cell_type": "code",
   "execution_count": 229,
   "id": "9975bbaf",
   "metadata": {},
   "outputs": [],
   "source": [
    "graph = StateGraph(AgentState)\n",
    "graph.add_node(\"ai_assistant\",invoke_model)\n",
    "graph.add_node(\"tool\",invoke_tool)\n",
    "graph.add_conditional_edges(\"ai_assistant\",\n",
    "                            router,\n",
    "                            {\"tool\":\"tool\",\n",
    "                             \"end\":END})\n",
    "graph.add_edge(\"tool\", END)\n",
    "\n",
    "# graph.add_edge(\"tool\", \"ai_assistant\")\n",
    "\n",
    "graph.set_entry_point(\"ai_assistant\")\n",
    "## Compile the Graph\n",
    "app = graph.compile()\n"
   ]
  },
  {
   "cell_type": "code",
   "execution_count": 230,
   "id": "7810dff3",
   "metadata": {},
   "outputs": [
    {
     "data": {
      "image/png": "[encoded data removed]",
      "text/plain": [
       "<IPython.core.display.Image object>"
      ]
     },
     "metadata": {},
     "output_type": "display_data"
    }
   ],
   "source": [
    "from IPython.display import Image, display\n",
    "display(Image(app.get_graph().draw_mermaid_png()))"
   ]
  },
  {
   "cell_type": "code",
   "execution_count": 231,
   "id": "537fd9cf",
   "metadata": {},
   "outputs": [
    {
     "name": "stdout",
     "output_type": "stream",
     "text": [
      "****my state*****\n",
      "content='' additional_kwargs={'tool_calls': [{'id': 'call_MJtQrYkLNx83b5pYVYNeKOpD', 'function': {'arguments': '{\"query\":\"upcoming president of USA 2024\"}', 'name': 'search'}, 'type': 'function'}], 'refusal': None} response_metadata={'token_usage': {'completion_tokens': 20, 'prompt_tokens': 76, 'total_tokens': 96, 'completion_tokens_details': {'accepted_prediction_tokens': 0, 'audio_tokens': 0, 'reasoning_tokens': 0, 'rejected_prediction_tokens': 0}, 'prompt_tokens_details': {'audio_tokens': 0, 'cached_tokens': 0}}, 'model_name': 'gpt-4o-2024-08-06', 'system_fingerprint': 'fp_a288987b44', 'id': 'chatcmpl-Bue8v6WQXTXf9ydSNQLUM8NygPtwD', 'service_tier': 'default', 'finish_reason': 'tool_calls', 'logprobs': None} id='run--3f8772dc-c9c7-4a40-ad55-2b113485a9a6-0' tool_calls=[{'name': 'search', 'args': {'query': 'upcoming president of USA 2024'}, 'id': 'call_MJtQrYkLNx83b5pYVYNeKOpD', 'type': 'tool_call'}] usage_metadata={'input_tokens': 76, 'output_tokens': 20, 'total_tokens': 96, 'input_token_details': {'audio': 0, 'cache_read': 0}, 'output_token_details': {'audio': 0, 'reasoning': 0}}\n",
      "Selected tool: search\n",
      "**********tool detils****\n",
      "{'id': 'call_MJtQrYkLNx83b5pYVYNeKOpD', 'function': {'arguments': '{\"query\":\"upcoming president of USA 2024\"}', 'name': 'search'}, 'type': 'function'}\n"
     ]
    },
    {
     "ename": "TypeError",
     "evalue": "'dict' object is not callable",
     "output_type": "error",
     "traceback": [
      "\u001b[31m---------------------------------------------------------------------------\u001b[39m",
      "\u001b[31mTypeError\u001b[39m                                 Traceback (most recent call last)",
      "\u001b[36mCell\u001b[39m\u001b[36m \u001b[39m\u001b[32mIn[231]\u001b[39m\u001b[32m, line 1\u001b[39m\n\u001b[32m----> \u001b[39m\u001b[32m1\u001b[39m \u001b[43mapp\u001b[49m\u001b[43m.\u001b[49m\u001b[43minvoke\u001b[49m\u001b[43m(\u001b[49m\u001b[43m{\u001b[49m\u001b[33;43m\"\u001b[39;49m\u001b[33;43mmessages\u001b[39;49m\u001b[33;43m\"\u001b[39;49m\u001b[43m:\u001b[49m\u001b[43m \u001b[49m\u001b[43m[\u001b[49m\u001b[33;43m\"\u001b[39;49m\u001b[33;43mwho is upcoming president of USA?\u001b[39;49m\u001b[33;43m\"\u001b[39;49m\u001b[43m]\u001b[49m\u001b[43m}\u001b[49m\u001b[43m)\u001b[49m\n",
      "\u001b[36mFile \u001b[39m\u001b[32mc:\\MY_Folder\\Git_Folders\\LANGGRAPH-UDEMY\\U_agentic_ai\\Lib\\site-packages\\langgraph\\pregel\\__init__.py:2719\u001b[39m, in \u001b[36mPregel.invoke\u001b[39m\u001b[34m(self, input, config, stream_mode, output_keys, interrupt_before, interrupt_after, checkpoint_during, debug, **kwargs)\u001b[39m\n\u001b[32m   2716\u001b[39m chunks: \u001b[38;5;28mlist\u001b[39m[Union[\u001b[38;5;28mdict\u001b[39m[\u001b[38;5;28mstr\u001b[39m, Any], Any]] = []\n\u001b[32m   2717\u001b[39m interrupts: \u001b[38;5;28mlist\u001b[39m[Interrupt] = []\n\u001b[32m-> \u001b[39m\u001b[32m2719\u001b[39m \u001b[43m\u001b[49m\u001b[38;5;28;43;01mfor\u001b[39;49;00m\u001b[43m \u001b[49m\u001b[43mchunk\u001b[49m\u001b[43m \u001b[49m\u001b[38;5;129;43;01min\u001b[39;49;00m\u001b[43m \u001b[49m\u001b[38;5;28;43mself\u001b[39;49m\u001b[43m.\u001b[49m\u001b[43mstream\u001b[49m\u001b[43m(\u001b[49m\n\u001b[32m   2720\u001b[39m \u001b[43m    \u001b[49m\u001b[38;5;28;43minput\u001b[39;49m\u001b[43m,\u001b[49m\n\u001b[32m   2721\u001b[39m \u001b[43m    \u001b[49m\u001b[43mconfig\u001b[49m\u001b[43m,\u001b[49m\n\u001b[32m   2722\u001b[39m \u001b[43m    \u001b[49m\u001b[43mstream_mode\u001b[49m\u001b[43m=\u001b[49m\u001b[43mstream_mode\u001b[49m\u001b[43m,\u001b[49m\n\u001b[32m   2723\u001b[39m \u001b[43m    \u001b[49m\u001b[43moutput_keys\u001b[49m\u001b[43m=\u001b[49m\u001b[43moutput_keys\u001b[49m\u001b[43m,\u001b[49m\n\u001b[32m   2724\u001b[39m \u001b[43m    \u001b[49m\u001b[43minterrupt_before\u001b[49m\u001b[43m=\u001b[49m\u001b[43minterrupt_before\u001b[49m\u001b[43m,\u001b[49m\n\u001b[32m   2725\u001b[39m \u001b[43m    \u001b[49m\u001b[43minterrupt_after\u001b[49m\u001b[43m=\u001b[49m\u001b[43minterrupt_after\u001b[49m\u001b[43m,\u001b[49m\n\u001b[32m   2726\u001b[39m \u001b[43m    \u001b[49m\u001b[43mcheckpoint_during\u001b[49m\u001b[43m=\u001b[49m\u001b[43mcheckpoint_during\u001b[49m\u001b[43m,\u001b[49m\n\u001b[32m   2727\u001b[39m \u001b[43m    \u001b[49m\u001b[43mdebug\u001b[49m\u001b[43m=\u001b[49m\u001b[43mdebug\u001b[49m\u001b[43m,\u001b[49m\n\u001b[32m   2728\u001b[39m \u001b[43m    \u001b[49m\u001b[43m*\u001b[49m\u001b[43m*\u001b[49m\u001b[43mkwargs\u001b[49m\u001b[43m,\u001b[49m\n\u001b[32m   2729\u001b[39m \u001b[43m\u001b[49m\u001b[43m)\u001b[49m\u001b[43m:\u001b[49m\n\u001b[32m   2730\u001b[39m \u001b[43m    \u001b[49m\u001b[38;5;28;43;01mif\u001b[39;49;00m\u001b[43m \u001b[49m\u001b[43mstream_mode\u001b[49m\u001b[43m \u001b[49m\u001b[43m==\u001b[49m\u001b[43m \u001b[49m\u001b[33;43m\"\u001b[39;49m\u001b[33;43mvalues\u001b[39;49m\u001b[33;43m\"\u001b[39;49m\u001b[43m:\u001b[49m\n\u001b[32m   2731\u001b[39m \u001b[43m        \u001b[49m\u001b[38;5;28;43;01mif\u001b[39;49;00m\u001b[43m \u001b[49m\u001b[43m(\u001b[49m\n\u001b[32m   2732\u001b[39m \u001b[43m            \u001b[49m\u001b[38;5;28;43misinstance\u001b[39;49m\u001b[43m(\u001b[49m\u001b[43mchunk\u001b[49m\u001b[43m,\u001b[49m\u001b[43m \u001b[49m\u001b[38;5;28;43mdict\u001b[39;49m\u001b[43m)\u001b[49m\n\u001b[32m   2733\u001b[39m \u001b[43m            \u001b[49m\u001b[38;5;129;43;01mand\u001b[39;49;00m\u001b[43m \u001b[49m\u001b[43m(\u001b[49m\u001b[43mints\u001b[49m\u001b[43m \u001b[49m\u001b[43m:=\u001b[49m\u001b[43m \u001b[49m\u001b[43mchunk\u001b[49m\u001b[43m.\u001b[49m\u001b[43mget\u001b[49m\u001b[43m(\u001b[49m\u001b[43mINTERRUPT\u001b[49m\u001b[43m)\u001b[49m\u001b[43m)\u001b[49m\u001b[43m \u001b[49m\u001b[38;5;129;43;01mis\u001b[39;49;00m\u001b[43m \u001b[49m\u001b[38;5;129;43;01mnot\u001b[39;49;00m\u001b[43m \u001b[49m\u001b[38;5;28;43;01mNone\u001b[39;49;00m\n\u001b[32m   2734\u001b[39m \u001b[43m        \u001b[49m\u001b[43m)\u001b[49m\u001b[43m:\u001b[49m\n",
      "\u001b[36mFile \u001b[39m\u001b[32mc:\\MY_Folder\\Git_Folders\\LANGGRAPH-UDEMY\\U_agentic_ai\\Lib\\site-packages\\langgraph\\pregel\\__init__.py:2436\u001b[39m, in \u001b[36mPregel.stream\u001b[39m\u001b[34m(self, input, config, stream_mode, output_keys, interrupt_before, interrupt_after, checkpoint_during, debug, subgraphs)\u001b[39m\n\u001b[32m   2434\u001b[39m         \u001b[38;5;28;01mfor\u001b[39;00m task \u001b[38;5;129;01min\u001b[39;00m loop.match_cached_writes():\n\u001b[32m   2435\u001b[39m             loop.output_writes(task.id, task.writes, cached=\u001b[38;5;28;01mTrue\u001b[39;00m)\n\u001b[32m-> \u001b[39m\u001b[32m2436\u001b[39m \u001b[43m        \u001b[49m\u001b[38;5;28;43;01mfor\u001b[39;49;00m\u001b[43m \u001b[49m\u001b[43m_\u001b[49m\u001b[43m \u001b[49m\u001b[38;5;129;43;01min\u001b[39;49;00m\u001b[43m \u001b[49m\u001b[43mrunner\u001b[49m\u001b[43m.\u001b[49m\u001b[43mtick\u001b[49m\u001b[43m(\u001b[49m\n\u001b[32m   2437\u001b[39m \u001b[43m            \u001b[49m\u001b[43m[\u001b[49m\u001b[43mt\u001b[49m\u001b[43m \u001b[49m\u001b[38;5;28;43;01mfor\u001b[39;49;00m\u001b[43m \u001b[49m\u001b[43mt\u001b[49m\u001b[43m \u001b[49m\u001b[38;5;129;43;01min\u001b[39;49;00m\u001b[43m \u001b[49m\u001b[43mloop\u001b[49m\u001b[43m.\u001b[49m\u001b[43mtasks\u001b[49m\u001b[43m.\u001b[49m\u001b[43mvalues\u001b[49m\u001b[43m(\u001b[49m\u001b[43m)\u001b[49m\u001b[43m \u001b[49m\u001b[38;5;28;43;01mif\u001b[39;49;00m\u001b[43m \u001b[49m\u001b[38;5;129;43;01mnot\u001b[39;49;00m\u001b[43m \u001b[49m\u001b[43mt\u001b[49m\u001b[43m.\u001b[49m\u001b[43mwrites\u001b[49m\u001b[43m]\u001b[49m\u001b[43m,\u001b[49m\n\u001b[32m   2438\u001b[39m \u001b[43m            \u001b[49m\u001b[43mtimeout\u001b[49m\u001b[43m=\u001b[49m\u001b[38;5;28;43mself\u001b[39;49m\u001b[43m.\u001b[49m\u001b[43mstep_timeout\u001b[49m\u001b[43m,\u001b[49m\n\u001b[32m   2439\u001b[39m \u001b[43m            \u001b[49m\u001b[43mget_waiter\u001b[49m\u001b[43m=\u001b[49m\u001b[43mget_waiter\u001b[49m\u001b[43m,\u001b[49m\n\u001b[32m   2440\u001b[39m \u001b[43m            \u001b[49m\u001b[43mschedule_task\u001b[49m\u001b[43m=\u001b[49m\u001b[43mloop\u001b[49m\u001b[43m.\u001b[49m\u001b[43maccept_push\u001b[49m\u001b[43m,\u001b[49m\n\u001b[32m   2441\u001b[39m \u001b[43m        \u001b[49m\u001b[43m)\u001b[49m\u001b[43m:\u001b[49m\n\u001b[32m   2442\u001b[39m \u001b[43m            \u001b[49m\u001b[38;5;66;43;03m# emit output\u001b[39;49;00m\n\u001b[32m   2443\u001b[39m \u001b[43m            \u001b[49m\u001b[38;5;28;43;01myield from\u001b[39;49;00m\u001b[43m \u001b[49m\u001b[43moutput\u001b[49m\u001b[43m(\u001b[49m\u001b[43m)\u001b[49m\n\u001b[32m   2444\u001b[39m \u001b[38;5;66;03m# emit output\u001b[39;00m\n",
      "\u001b[36mFile \u001b[39m\u001b[32mc:\\MY_Folder\\Git_Folders\\LANGGRAPH-UDEMY\\U_agentic_ai\\Lib\\site-packages\\langgraph\\pregel\\runner.py:161\u001b[39m, in \u001b[36mPregelRunner.tick\u001b[39m\u001b[34m(self, tasks, reraise, timeout, retry_policy, get_waiter, schedule_task)\u001b[39m\n\u001b[32m    159\u001b[39m t = tasks[\u001b[32m0\u001b[39m]\n\u001b[32m    160\u001b[39m \u001b[38;5;28;01mtry\u001b[39;00m:\n\u001b[32m--> \u001b[39m\u001b[32m161\u001b[39m     \u001b[43mrun_with_retry\u001b[49m\u001b[43m(\u001b[49m\n\u001b[32m    162\u001b[39m \u001b[43m        \u001b[49m\u001b[43mt\u001b[49m\u001b[43m,\u001b[49m\n\u001b[32m    163\u001b[39m \u001b[43m        \u001b[49m\u001b[43mretry_policy\u001b[49m\u001b[43m,\u001b[49m\n\u001b[32m    164\u001b[39m \u001b[43m        \u001b[49m\u001b[43mconfigurable\u001b[49m\u001b[43m=\u001b[49m\u001b[43m{\u001b[49m\n\u001b[32m    165\u001b[39m \u001b[43m            \u001b[49m\u001b[43mCONFIG_KEY_CALL\u001b[49m\u001b[43m:\u001b[49m\u001b[43m \u001b[49m\u001b[43mpartial\u001b[49m\u001b[43m(\u001b[49m\n\u001b[32m    166\u001b[39m \u001b[43m                \u001b[49m\u001b[43m_call\u001b[49m\u001b[43m,\u001b[49m\n\u001b[32m    167\u001b[39m \u001b[43m                \u001b[49m\u001b[43mweakref\u001b[49m\u001b[43m.\u001b[49m\u001b[43mref\u001b[49m\u001b[43m(\u001b[49m\u001b[43mt\u001b[49m\u001b[43m)\u001b[49m\u001b[43m,\u001b[49m\n\u001b[32m    168\u001b[39m \u001b[43m                \u001b[49m\u001b[43mretry\u001b[49m\u001b[43m=\u001b[49m\u001b[43mretry_policy\u001b[49m\u001b[43m,\u001b[49m\n\u001b[32m    169\u001b[39m \u001b[43m                \u001b[49m\u001b[43mfutures\u001b[49m\u001b[43m=\u001b[49m\u001b[43mweakref\u001b[49m\u001b[43m.\u001b[49m\u001b[43mref\u001b[49m\u001b[43m(\u001b[49m\u001b[43mfutures\u001b[49m\u001b[43m)\u001b[49m\u001b[43m,\u001b[49m\n\u001b[32m    170\u001b[39m \u001b[43m                \u001b[49m\u001b[43mschedule_task\u001b[49m\u001b[43m=\u001b[49m\u001b[43mschedule_task\u001b[49m\u001b[43m,\u001b[49m\n\u001b[32m    171\u001b[39m \u001b[43m                \u001b[49m\u001b[43msubmit\u001b[49m\u001b[43m=\u001b[49m\u001b[38;5;28;43mself\u001b[39;49m\u001b[43m.\u001b[49m\u001b[43msubmit\u001b[49m\u001b[43m,\u001b[49m\n\u001b[32m    172\u001b[39m \u001b[43m            \u001b[49m\u001b[43m)\u001b[49m\u001b[43m,\u001b[49m\n\u001b[32m    173\u001b[39m \u001b[43m        \u001b[49m\u001b[43m}\u001b[49m\u001b[43m,\u001b[49m\n\u001b[32m    174\u001b[39m \u001b[43m    \u001b[49m\u001b[43m)\u001b[49m\n\u001b[32m    175\u001b[39m     \u001b[38;5;28mself\u001b[39m.commit(t, \u001b[38;5;28;01mNone\u001b[39;00m)\n\u001b[32m    176\u001b[39m \u001b[38;5;28;01mexcept\u001b[39;00m \u001b[38;5;167;01mException\u001b[39;00m \u001b[38;5;28;01mas\u001b[39;00m exc:\n",
      "\u001b[36mFile \u001b[39m\u001b[32mc:\\MY_Folder\\Git_Folders\\LANGGRAPH-UDEMY\\U_agentic_ai\\Lib\\site-packages\\langgraph\\pregel\\retry.py:40\u001b[39m, in \u001b[36mrun_with_retry\u001b[39m\u001b[34m(task, retry_policy, configurable)\u001b[39m\n\u001b[32m     38\u001b[39m     task.writes.clear()\n\u001b[32m     39\u001b[39m     \u001b[38;5;66;03m# run the task\u001b[39;00m\n\u001b[32m---> \u001b[39m\u001b[32m40\u001b[39m     \u001b[38;5;28;01mreturn\u001b[39;00m \u001b[43mtask\u001b[49m\u001b[43m.\u001b[49m\u001b[43mproc\u001b[49m\u001b[43m.\u001b[49m\u001b[43minvoke\u001b[49m\u001b[43m(\u001b[49m\u001b[43mtask\u001b[49m\u001b[43m.\u001b[49m\u001b[43minput\u001b[49m\u001b[43m,\u001b[49m\u001b[43m \u001b[49m\u001b[43mconfig\u001b[49m\u001b[43m)\u001b[49m\n\u001b[32m     41\u001b[39m \u001b[38;5;28;01mexcept\u001b[39;00m ParentCommand \u001b[38;5;28;01mas\u001b[39;00m exc:\n\u001b[32m     42\u001b[39m     ns: \u001b[38;5;28mstr\u001b[39m = config[CONF][CONFIG_KEY_CHECKPOINT_NS]\n",
      "\u001b[36mFile \u001b[39m\u001b[32mc:\\MY_Folder\\Git_Folders\\LANGGRAPH-UDEMY\\U_agentic_ai\\Lib\\site-packages\\langgraph\\utils\\runnable.py:623\u001b[39m, in \u001b[36mRunnableSeq.invoke\u001b[39m\u001b[34m(self, input, config, **kwargs)\u001b[39m\n\u001b[32m    621\u001b[39m     \u001b[38;5;66;03m# run in context\u001b[39;00m\n\u001b[32m    622\u001b[39m     \u001b[38;5;28;01mwith\u001b[39;00m set_config_context(config, run) \u001b[38;5;28;01mas\u001b[39;00m context:\n\u001b[32m--> \u001b[39m\u001b[32m623\u001b[39m         \u001b[38;5;28minput\u001b[39m = \u001b[43mcontext\u001b[49m\u001b[43m.\u001b[49m\u001b[43mrun\u001b[49m\u001b[43m(\u001b[49m\u001b[43mstep\u001b[49m\u001b[43m.\u001b[49m\u001b[43minvoke\u001b[49m\u001b[43m,\u001b[49m\u001b[43m \u001b[49m\u001b[38;5;28;43minput\u001b[39;49m\u001b[43m,\u001b[49m\u001b[43m \u001b[49m\u001b[43mconfig\u001b[49m\u001b[43m,\u001b[49m\u001b[43m \u001b[49m\u001b[43m*\u001b[49m\u001b[43m*\u001b[49m\u001b[43mkwargs\u001b[49m\u001b[43m)\u001b[49m\n\u001b[32m    624\u001b[39m \u001b[38;5;28;01melse\u001b[39;00m:\n\u001b[32m    625\u001b[39m     \u001b[38;5;28minput\u001b[39m = step.invoke(\u001b[38;5;28minput\u001b[39m, config)\n",
      "\u001b[36mFile \u001b[39m\u001b[32mc:\\MY_Folder\\Git_Folders\\LANGGRAPH-UDEMY\\U_agentic_ai\\Lib\\site-packages\\langgraph\\utils\\runnable.py:377\u001b[39m, in \u001b[36mRunnableCallable.invoke\u001b[39m\u001b[34m(self, input, config, **kwargs)\u001b[39m\n\u001b[32m    375\u001b[39m         run_manager.on_chain_end(ret)\n\u001b[32m    376\u001b[39m \u001b[38;5;28;01melse\u001b[39;00m:\n\u001b[32m--> \u001b[39m\u001b[32m377\u001b[39m     ret = \u001b[38;5;28;43mself\u001b[39;49m\u001b[43m.\u001b[49m\u001b[43mfunc\u001b[49m\u001b[43m(\u001b[49m\u001b[43m*\u001b[49m\u001b[43margs\u001b[49m\u001b[43m,\u001b[49m\u001b[43m \u001b[49m\u001b[43m*\u001b[49m\u001b[43m*\u001b[49m\u001b[43mkwargs\u001b[49m\u001b[43m)\u001b[49m\n\u001b[32m    378\u001b[39m \u001b[38;5;28;01mif\u001b[39;00m \u001b[38;5;28mself\u001b[39m.recurse \u001b[38;5;129;01mand\u001b[39;00m \u001b[38;5;28misinstance\u001b[39m(ret, Runnable):\n\u001b[32m    379\u001b[39m     \u001b[38;5;28;01mreturn\u001b[39;00m ret.invoke(\u001b[38;5;28minput\u001b[39m, config)\n",
      "\u001b[36mCell\u001b[39m\u001b[36m \u001b[39m\u001b[32mIn[227]\u001b[39m\u001b[32m, line 14\u001b[39m, in \u001b[36minvoke_tool\u001b[39m\u001b[34m(state)\u001b[39m\n\u001b[32m     12\u001b[39m \u001b[38;5;28mprint\u001b[39m(\u001b[33m\"\u001b[39m\u001b[33m**********tool detils****\u001b[39m\u001b[33m\"\u001b[39m)\n\u001b[32m     13\u001b[39m \u001b[38;5;28mprint\u001b[39m(tool_details)\n\u001b[32m---> \u001b[39m\u001b[32m14\u001b[39m response = \u001b[38;5;28;43minput\u001b[39;49m\u001b[43m(\u001b[49m\u001b[43mprompt\u001b[49m\u001b[43m=\u001b[49m\u001b[33;43mf\u001b[39;49m\u001b[33;43m\"\u001b[39;49m\u001b[33;43m[y/n] continue with expensive web search?\u001b[39;49m\u001b[33;43m\"\u001b[39;49m\u001b[43m)\u001b[49m\n\u001b[32m     15\u001b[39m \u001b[38;5;28;01mif\u001b[39;00m response == \u001b[33m\"\u001b[39m\u001b[33mn\u001b[39m\u001b[33m\"\u001b[39m:\n\u001b[32m     16\u001b[39m     \u001b[38;5;28;01mraise\u001b[39;00m \u001b[38;5;167;01mException\u001b[39;00m(\u001b[33m\"\u001b[39m\u001b[33mweb search discard\u001b[39m\u001b[33m\"\u001b[39m)\n",
      "\u001b[31mTypeError\u001b[39m: 'dict' object is not callable",
      "During task with name 'tool' and id 'fcb00379-3b9a-0108-ebd3-6c7792546c36'"
     ]
    }
   ],
   "source": [
    "app.invoke({\"messages\": [\"who is upcoming president of USA?\"]})"
   ]
  },
  {
   "cell_type": "code",
   "execution_count": null,
   "id": "d1addde7",
   "metadata": {},
   "outputs": [
    {
     "name": "stdout",
     "output_type": "stream",
     "text": [
      "{'messages': [AIMessage(content='', additional_kwargs={'tool_calls': [{'id': 'call_w1GRDpV3kS2tQNclIQia2NwY', 'function': {'arguments': '{\"query\":\"upcoming president of USA 2024\"}', 'name': 'search'}, 'type': 'function'}], 'refusal': None}, response_metadata={'token_usage': {'completion_tokens': 20, 'prompt_tokens': 76, 'total_tokens': 96, 'completion_tokens_details': {'accepted_prediction_tokens': 0, 'audio_tokens': 0, 'reasoning_tokens': 0, 'rejected_prediction_tokens': 0}, 'prompt_tokens_details': {'audio_tokens': 0, 'cached_tokens': 0}}, 'model_name': 'gpt-4o-2024-08-06', 'system_fingerprint': 'fp_a288987b44', 'id': 'chatcmpl-Bue7ragAXve5oxfldPQ3diAbapUur', 'service_tier': 'default', 'finish_reason': 'tool_calls', 'logprobs': None}, id='run--4781e01d-1cc0-45a6-9dc5-1a17b603e239-0', tool_calls=[{'name': 'search', 'args': {'query': 'upcoming president of USA 2024'}, 'id': 'call_w1GRDpV3kS2tQNclIQia2NwY', 'type': 'tool_call'}], usage_metadata={'input_tokens': 76, 'output_tokens': 20, 'total_tokens': 96, 'input_token_details': {'audio': 0, 'cache_read': 0}, 'output_token_details': {'audio': 0, 'reasoning': 0}})]}\n",
      "----\n",
      "****my state*****\n",
      "content='' additional_kwargs={'tool_calls': [{'id': 'call_w1GRDpV3kS2tQNclIQia2NwY', 'function': {'arguments': '{\"query\":\"upcoming president of USA 2024\"}', 'name': 'search'}, 'type': 'function'}], 'refusal': None} response_metadata={'token_usage': {'completion_tokens': 20, 'prompt_tokens': 76, 'total_tokens': 96, 'completion_tokens_details': {'accepted_prediction_tokens': 0, 'audio_tokens': 0, 'reasoning_tokens': 0, 'rejected_prediction_tokens': 0}, 'prompt_tokens_details': {'audio_tokens': 0, 'cached_tokens': 0}}, 'model_name': 'gpt-4o-2024-08-06', 'system_fingerprint': 'fp_a288987b44', 'id': 'chatcmpl-Bue7ragAXve5oxfldPQ3diAbapUur', 'service_tier': 'default', 'finish_reason': 'tool_calls', 'logprobs': None} id='run--4781e01d-1cc0-45a6-9dc5-1a17b603e239-0' tool_calls=[{'name': 'search', 'args': {'query': 'upcoming president of USA 2024'}, 'id': 'call_w1GRDpV3kS2tQNclIQia2NwY', 'type': 'tool_call'}] usage_metadata={'input_tokens': 76, 'output_tokens': 20, 'total_tokens': 96, 'input_token_details': {'audio': 0, 'cache_read': 0}, 'output_token_details': {'audio': 0, 'reasoning': 0}}\n",
      "Selected tool: search\n",
      "**********tool detils****\n",
      "{'id': 'call_w1GRDpV3kS2tQNclIQia2NwY', 'function': {'arguments': '{\"query\":\"upcoming president of USA 2024\"}', 'name': 'search'}, 'type': 'function'}\n"
     ]
    },
    {
     "ename": "TypeError",
     "evalue": "'dict' object is not callable",
     "output_type": "error",
     "traceback": [
      "\u001b[31m---------------------------------------------------------------------------\u001b[39m",
      "\u001b[31mTypeError\u001b[39m                                 Traceback (most recent call last)",
      "\u001b[36mCell\u001b[39m\u001b[36m \u001b[39m\u001b[32mIn[223]\u001b[39m\u001b[32m, line 1\u001b[39m\n\u001b[32m----> \u001b[39m\u001b[32m1\u001b[39m \u001b[38;5;28;43;01mfor\u001b[39;49;00m\u001b[43m \u001b[49m\u001b[43ms\u001b[49m\u001b[43m \u001b[49m\u001b[38;5;129;43;01min\u001b[39;49;00m\u001b[43m \u001b[49m\u001b[43mapp\u001b[49m\u001b[43m.\u001b[49m\u001b[43mstream\u001b[49m\u001b[43m(\u001b[49m\u001b[43m{\u001b[49m\u001b[33;43m\"\u001b[39;49m\u001b[33;43mmessages\u001b[39;49m\u001b[33;43m\"\u001b[39;49m\u001b[43m:\u001b[49m\u001b[43m \u001b[49m\u001b[43m[\u001b[49m\u001b[33;43m\"\u001b[39;49m\u001b[33;43mwho is upcoming president of USA?\u001b[39;49m\u001b[33;43m\"\u001b[39;49m\u001b[43m]\u001b[49m\u001b[43m}\u001b[49m\u001b[43m)\u001b[49m\u001b[43m:\u001b[49m\n\u001b[32m      2\u001b[39m \u001b[43m    \u001b[49m\u001b[38;5;28;43mprint\u001b[39;49m\u001b[43m(\u001b[49m\u001b[38;5;28;43mlist\u001b[39;49m\u001b[43m(\u001b[49m\u001b[43ms\u001b[49m\u001b[43m.\u001b[49m\u001b[43mvalues\u001b[49m\u001b[43m(\u001b[49m\u001b[43m)\u001b[49m\u001b[43m)\u001b[49m\u001b[43m[\u001b[49m\u001b[32;43m0\u001b[39;49m\u001b[43m]\u001b[49m\u001b[43m)\u001b[49m\n\u001b[32m      3\u001b[39m \u001b[43m    \u001b[49m\u001b[38;5;28;43mprint\u001b[39;49m\u001b[43m(\u001b[49m\u001b[33;43m\"\u001b[39;49m\u001b[33;43m----\u001b[39;49m\u001b[33;43m\"\u001b[39;49m\u001b[43m)\u001b[49m\n",
      "\u001b[36mFile \u001b[39m\u001b[32mc:\\MY_Folder\\Git_Folders\\LANGGRAPH-UDEMY\\U_agentic_ai\\Lib\\site-packages\\langgraph\\pregel\\__init__.py:2436\u001b[39m, in \u001b[36mPregel.stream\u001b[39m\u001b[34m(self, input, config, stream_mode, output_keys, interrupt_before, interrupt_after, checkpoint_during, debug, subgraphs)\u001b[39m\n\u001b[32m   2434\u001b[39m         \u001b[38;5;28;01mfor\u001b[39;00m task \u001b[38;5;129;01min\u001b[39;00m loop.match_cached_writes():\n\u001b[32m   2435\u001b[39m             loop.output_writes(task.id, task.writes, cached=\u001b[38;5;28;01mTrue\u001b[39;00m)\n\u001b[32m-> \u001b[39m\u001b[32m2436\u001b[39m \u001b[43m        \u001b[49m\u001b[38;5;28;43;01mfor\u001b[39;49;00m\u001b[43m \u001b[49m\u001b[43m_\u001b[49m\u001b[43m \u001b[49m\u001b[38;5;129;43;01min\u001b[39;49;00m\u001b[43m \u001b[49m\u001b[43mrunner\u001b[49m\u001b[43m.\u001b[49m\u001b[43mtick\u001b[49m\u001b[43m(\u001b[49m\n\u001b[32m   2437\u001b[39m \u001b[43m            \u001b[49m\u001b[43m[\u001b[49m\u001b[43mt\u001b[49m\u001b[43m \u001b[49m\u001b[38;5;28;43;01mfor\u001b[39;49;00m\u001b[43m \u001b[49m\u001b[43mt\u001b[49m\u001b[43m \u001b[49m\u001b[38;5;129;43;01min\u001b[39;49;00m\u001b[43m \u001b[49m\u001b[43mloop\u001b[49m\u001b[43m.\u001b[49m\u001b[43mtasks\u001b[49m\u001b[43m.\u001b[49m\u001b[43mvalues\u001b[49m\u001b[43m(\u001b[49m\u001b[43m)\u001b[49m\u001b[43m \u001b[49m\u001b[38;5;28;43;01mif\u001b[39;49;00m\u001b[43m \u001b[49m\u001b[38;5;129;43;01mnot\u001b[39;49;00m\u001b[43m \u001b[49m\u001b[43mt\u001b[49m\u001b[43m.\u001b[49m\u001b[43mwrites\u001b[49m\u001b[43m]\u001b[49m\u001b[43m,\u001b[49m\n\u001b[32m   2438\u001b[39m \u001b[43m            \u001b[49m\u001b[43mtimeout\u001b[49m\u001b[43m=\u001b[49m\u001b[38;5;28;43mself\u001b[39;49m\u001b[43m.\u001b[49m\u001b[43mstep_timeout\u001b[49m\u001b[43m,\u001b[49m\n\u001b[32m   2439\u001b[39m \u001b[43m            \u001b[49m\u001b[43mget_waiter\u001b[49m\u001b[43m=\u001b[49m\u001b[43mget_waiter\u001b[49m\u001b[43m,\u001b[49m\n\u001b[32m   2440\u001b[39m \u001b[43m            \u001b[49m\u001b[43mschedule_task\u001b[49m\u001b[43m=\u001b[49m\u001b[43mloop\u001b[49m\u001b[43m.\u001b[49m\u001b[43maccept_push\u001b[49m\u001b[43m,\u001b[49m\n\u001b[32m   2441\u001b[39m \u001b[43m        \u001b[49m\u001b[43m)\u001b[49m\u001b[43m:\u001b[49m\n\u001b[32m   2442\u001b[39m \u001b[43m            \u001b[49m\u001b[38;5;66;43;03m# emit output\u001b[39;49;00m\n\u001b[32m   2443\u001b[39m \u001b[43m            \u001b[49m\u001b[38;5;28;43;01myield from\u001b[39;49;00m\u001b[43m \u001b[49m\u001b[43moutput\u001b[49m\u001b[43m(\u001b[49m\u001b[43m)\u001b[49m\n\u001b[32m   2444\u001b[39m \u001b[38;5;66;03m# emit output\u001b[39;00m\n",
      "\u001b[36mFile \u001b[39m\u001b[32mc:\\MY_Folder\\Git_Folders\\LANGGRAPH-UDEMY\\U_agentic_ai\\Lib\\site-packages\\langgraph\\pregel\\runner.py:161\u001b[39m, in \u001b[36mPregelRunner.tick\u001b[39m\u001b[34m(self, tasks, reraise, timeout, retry_policy, get_waiter, schedule_task)\u001b[39m\n\u001b[32m    159\u001b[39m t = tasks[\u001b[32m0\u001b[39m]\n\u001b[32m    160\u001b[39m \u001b[38;5;28;01mtry\u001b[39;00m:\n\u001b[32m--> \u001b[39m\u001b[32m161\u001b[39m     \u001b[43mrun_with_retry\u001b[49m\u001b[43m(\u001b[49m\n\u001b[32m    162\u001b[39m \u001b[43m        \u001b[49m\u001b[43mt\u001b[49m\u001b[43m,\u001b[49m\n\u001b[32m    163\u001b[39m \u001b[43m        \u001b[49m\u001b[43mretry_policy\u001b[49m\u001b[43m,\u001b[49m\n\u001b[32m    164\u001b[39m \u001b[43m        \u001b[49m\u001b[43mconfigurable\u001b[49m\u001b[43m=\u001b[49m\u001b[43m{\u001b[49m\n\u001b[32m    165\u001b[39m \u001b[43m            \u001b[49m\u001b[43mCONFIG_KEY_CALL\u001b[49m\u001b[43m:\u001b[49m\u001b[43m \u001b[49m\u001b[43mpartial\u001b[49m\u001b[43m(\u001b[49m\n\u001b[32m    166\u001b[39m \u001b[43m                \u001b[49m\u001b[43m_call\u001b[49m\u001b[43m,\u001b[49m\n\u001b[32m    167\u001b[39m \u001b[43m                \u001b[49m\u001b[43mweakref\u001b[49m\u001b[43m.\u001b[49m\u001b[43mref\u001b[49m\u001b[43m(\u001b[49m\u001b[43mt\u001b[49m\u001b[43m)\u001b[49m\u001b[43m,\u001b[49m\n\u001b[32m    168\u001b[39m \u001b[43m                \u001b[49m\u001b[43mretry\u001b[49m\u001b[43m=\u001b[49m\u001b[43mretry_policy\u001b[49m\u001b[43m,\u001b[49m\n\u001b[32m    169\u001b[39m \u001b[43m                \u001b[49m\u001b[43mfutures\u001b[49m\u001b[43m=\u001b[49m\u001b[43mweakref\u001b[49m\u001b[43m.\u001b[49m\u001b[43mref\u001b[49m\u001b[43m(\u001b[49m\u001b[43mfutures\u001b[49m\u001b[43m)\u001b[49m\u001b[43m,\u001b[49m\n\u001b[32m    170\u001b[39m \u001b[43m                \u001b[49m\u001b[43mschedule_task\u001b[49m\u001b[43m=\u001b[49m\u001b[43mschedule_task\u001b[49m\u001b[43m,\u001b[49m\n\u001b[32m    171\u001b[39m \u001b[43m                \u001b[49m\u001b[43msubmit\u001b[49m\u001b[43m=\u001b[49m\u001b[38;5;28;43mself\u001b[39;49m\u001b[43m.\u001b[49m\u001b[43msubmit\u001b[49m\u001b[43m,\u001b[49m\n\u001b[32m    172\u001b[39m \u001b[43m            \u001b[49m\u001b[43m)\u001b[49m\u001b[43m,\u001b[49m\n\u001b[32m    173\u001b[39m \u001b[43m        \u001b[49m\u001b[43m}\u001b[49m\u001b[43m,\u001b[49m\n\u001b[32m    174\u001b[39m \u001b[43m    \u001b[49m\u001b[43m)\u001b[49m\n\u001b[32m    175\u001b[39m     \u001b[38;5;28mself\u001b[39m.commit(t, \u001b[38;5;28;01mNone\u001b[39;00m)\n\u001b[32m    176\u001b[39m \u001b[38;5;28;01mexcept\u001b[39;00m \u001b[38;5;167;01mException\u001b[39;00m \u001b[38;5;28;01mas\u001b[39;00m exc:\n",
      "\u001b[36mFile \u001b[39m\u001b[32mc:\\MY_Folder\\Git_Folders\\LANGGRAPH-UDEMY\\U_agentic_ai\\Lib\\site-packages\\langgraph\\pregel\\retry.py:40\u001b[39m, in \u001b[36mrun_with_retry\u001b[39m\u001b[34m(task, retry_policy, configurable)\u001b[39m\n\u001b[32m     38\u001b[39m     task.writes.clear()\n\u001b[32m     39\u001b[39m     \u001b[38;5;66;03m# run the task\u001b[39;00m\n\u001b[32m---> \u001b[39m\u001b[32m40\u001b[39m     \u001b[38;5;28;01mreturn\u001b[39;00m \u001b[43mtask\u001b[49m\u001b[43m.\u001b[49m\u001b[43mproc\u001b[49m\u001b[43m.\u001b[49m\u001b[43minvoke\u001b[49m\u001b[43m(\u001b[49m\u001b[43mtask\u001b[49m\u001b[43m.\u001b[49m\u001b[43minput\u001b[49m\u001b[43m,\u001b[49m\u001b[43m \u001b[49m\u001b[43mconfig\u001b[49m\u001b[43m)\u001b[49m\n\u001b[32m     41\u001b[39m \u001b[38;5;28;01mexcept\u001b[39;00m ParentCommand \u001b[38;5;28;01mas\u001b[39;00m exc:\n\u001b[32m     42\u001b[39m     ns: \u001b[38;5;28mstr\u001b[39m = config[CONF][CONFIG_KEY_CHECKPOINT_NS]\n",
      "\u001b[36mFile \u001b[39m\u001b[32mc:\\MY_Folder\\Git_Folders\\LANGGRAPH-UDEMY\\U_agentic_ai\\Lib\\site-packages\\langgraph\\utils\\runnable.py:623\u001b[39m, in \u001b[36mRunnableSeq.invoke\u001b[39m\u001b[34m(self, input, config, **kwargs)\u001b[39m\n\u001b[32m    621\u001b[39m     \u001b[38;5;66;03m# run in context\u001b[39;00m\n\u001b[32m    622\u001b[39m     \u001b[38;5;28;01mwith\u001b[39;00m set_config_context(config, run) \u001b[38;5;28;01mas\u001b[39;00m context:\n\u001b[32m--> \u001b[39m\u001b[32m623\u001b[39m         \u001b[38;5;28minput\u001b[39m = \u001b[43mcontext\u001b[49m\u001b[43m.\u001b[49m\u001b[43mrun\u001b[49m\u001b[43m(\u001b[49m\u001b[43mstep\u001b[49m\u001b[43m.\u001b[49m\u001b[43minvoke\u001b[49m\u001b[43m,\u001b[49m\u001b[43m \u001b[49m\u001b[38;5;28;43minput\u001b[39;49m\u001b[43m,\u001b[49m\u001b[43m \u001b[49m\u001b[43mconfig\u001b[49m\u001b[43m,\u001b[49m\u001b[43m \u001b[49m\u001b[43m*\u001b[49m\u001b[43m*\u001b[49m\u001b[43mkwargs\u001b[49m\u001b[43m)\u001b[49m\n\u001b[32m    624\u001b[39m \u001b[38;5;28;01melse\u001b[39;00m:\n\u001b[32m    625\u001b[39m     \u001b[38;5;28minput\u001b[39m = step.invoke(\u001b[38;5;28minput\u001b[39m, config)\n",
      "\u001b[36mFile \u001b[39m\u001b[32mc:\\MY_Folder\\Git_Folders\\LANGGRAPH-UDEMY\\U_agentic_ai\\Lib\\site-packages\\langgraph\\utils\\runnable.py:377\u001b[39m, in \u001b[36mRunnableCallable.invoke\u001b[39m\u001b[34m(self, input, config, **kwargs)\u001b[39m\n\u001b[32m    375\u001b[39m         run_manager.on_chain_end(ret)\n\u001b[32m    376\u001b[39m \u001b[38;5;28;01melse\u001b[39;00m:\n\u001b[32m--> \u001b[39m\u001b[32m377\u001b[39m     ret = \u001b[38;5;28;43mself\u001b[39;49m\u001b[43m.\u001b[49m\u001b[43mfunc\u001b[49m\u001b[43m(\u001b[49m\u001b[43m*\u001b[49m\u001b[43margs\u001b[49m\u001b[43m,\u001b[49m\u001b[43m \u001b[49m\u001b[43m*\u001b[49m\u001b[43m*\u001b[49m\u001b[43mkwargs\u001b[49m\u001b[43m)\u001b[49m\n\u001b[32m    378\u001b[39m \u001b[38;5;28;01mif\u001b[39;00m \u001b[38;5;28mself\u001b[39m.recurse \u001b[38;5;129;01mand\u001b[39;00m \u001b[38;5;28misinstance\u001b[39m(ret, Runnable):\n\u001b[32m    379\u001b[39m     \u001b[38;5;28;01mreturn\u001b[39;00m ret.invoke(\u001b[38;5;28minput\u001b[39m, config)\n",
      "\u001b[36mCell\u001b[39m\u001b[36m \u001b[39m\u001b[32mIn[207]\u001b[39m\u001b[32m, line 14\u001b[39m, in \u001b[36minvoke_tool\u001b[39m\u001b[34m(state)\u001b[39m\n\u001b[32m     12\u001b[39m \u001b[38;5;28mprint\u001b[39m(\u001b[33m\"\u001b[39m\u001b[33m**********tool detils****\u001b[39m\u001b[33m\"\u001b[39m)\n\u001b[32m     13\u001b[39m \u001b[38;5;28mprint\u001b[39m(tool_details)\n\u001b[32m---> \u001b[39m\u001b[32m14\u001b[39m response = \u001b[38;5;28;43minput\u001b[39;49m\u001b[43m(\u001b[49m\u001b[43mprompt\u001b[49m\u001b[43m=\u001b[49m\u001b[33;43mf\u001b[39;49m\u001b[33;43m\"\u001b[39;49m\u001b[33;43m[y/n] continue with expensive web search?\u001b[39;49m\u001b[33;43m\"\u001b[39;49m\u001b[43m)\u001b[49m\n\u001b[32m     15\u001b[39m \u001b[38;5;28;01mif\u001b[39;00m response == \u001b[33m\"\u001b[39m\u001b[33mn\u001b[39m\u001b[33m\"\u001b[39m:\n\u001b[32m     16\u001b[39m     \u001b[38;5;28;01mraise\u001b[39;00m \u001b[38;5;167;01mException\u001b[39;00m(\u001b[33m\"\u001b[39m\u001b[33mweb search discard\u001b[39m\u001b[33m\"\u001b[39m)\n",
      "\u001b[31mTypeError\u001b[39m: 'dict' object is not callable",
      "During task with name 'tool' and id 'cdd666e2-108c-69b4-a0bd-2d7f4d1f5865'"
     ]
    }
   ],
   "source": [
    "for s in app.stream({\"messages\": [\"who is upcoming president of USA?\"]}):\n",
    "    print(list(s.values())[0])\n",
    "    print(\"----\")"
   ]
  },
  {
   "cell_type": "code",
   "execution_count": null,
   "id": "4679352d",
   "metadata": {},
   "outputs": [
    {
     "name": "stdout",
     "output_type": "stream",
     "text": [
      "****my state*****\n",
      "content='' additional_kwargs={'tool_calls': [{'id': 'call_nR3ZuRvEX6nAdQul1NSm7pJH', 'function': {'arguments': '{\"first_number\":23,\"second_number\":46}', 'name': 'multiply'}, 'type': 'function'}], 'refusal': None} response_metadata={'token_usage': {'completion_tokens': 20, 'prompt_tokens': 79, 'total_tokens': 99, 'completion_tokens_details': {'accepted_prediction_tokens': 0, 'audio_tokens': 0, 'reasoning_tokens': 0, 'rejected_prediction_tokens': 0}, 'prompt_tokens_details': {'audio_tokens': 0, 'cached_tokens': 0}}, 'model_name': 'gpt-4o-2024-08-06', 'system_fingerprint': 'fp_22890b9c0a', 'finish_reason': 'tool_calls', 'logprobs': None} id='run-4b20b0f0-5c68-4616-bb58-9b24e97fdaa9-0' tool_calls=[{'name': 'multiply', 'args': {'first_number': 23, 'second_number': 46}, 'id': 'call_nR3ZuRvEX6nAdQul1NSm7pJH', 'type': 'tool_call'}] usage_metadata={'input_tokens': 79, 'output_tokens': 20, 'total_tokens': 99, 'input_token_details': {'audio': 0, 'cache_read': 0}, 'output_token_details': {'audio': 0, 'reasoning': 0}}\n",
      "Selected tool: multiply\n"
     ]
    },
    {
     "data": {
      "text/plain": [
       "{'messages': ['what is multiplication of 23 and 46?',\n",
       "  AIMessage(content='', additional_kwargs={'tool_calls': [{'id': 'call_nR3ZuRvEX6nAdQul1NSm7pJH', 'function': {'arguments': '{\"first_number\":23,\"second_number\":46}', 'name': 'multiply'}, 'type': 'function'}], 'refusal': None}, response_metadata={'token_usage': {'completion_tokens': 20, 'prompt_tokens': 79, 'total_tokens': 99, 'completion_tokens_details': {'accepted_prediction_tokens': 0, 'audio_tokens': 0, 'reasoning_tokens': 0, 'rejected_prediction_tokens': 0}, 'prompt_tokens_details': {'audio_tokens': 0, 'cached_tokens': 0}}, 'model_name': 'gpt-4o-2024-08-06', 'system_fingerprint': 'fp_22890b9c0a', 'finish_reason': 'tool_calls', 'logprobs': None}, id='run-4b20b0f0-5c68-4616-bb58-9b24e97fdaa9-0', tool_calls=[{'name': 'multiply', 'args': {'first_number': 23, 'second_number': 46}, 'id': 'call_nR3ZuRvEX6nAdQul1NSm7pJH', 'type': 'tool_call'}], usage_metadata={'input_tokens': 79, 'output_tokens': 20, 'total_tokens': 99, 'input_token_details': {'audio': 0, 'cache_read': 0}, 'output_token_details': {'audio': 0, 'reasoning': 0}}),\n",
       "  1058]}"
      ]
     },
     "execution_count": 62,
     "metadata": {},
     "output_type": "execute_result"
    }
   ],
   "source": [
    "app.invoke({\"messages\": [\"what is multiplication of 23 and 46?\"]})"
   ]
  },
  {
   "cell_type": "code",
   "execution_count": null,
   "id": "c4567be5",
   "metadata": {},
   "outputs": [
    {
     "name": "stdout",
     "output_type": "stream",
     "text": [
      "****my state*****\n",
      "content='' additional_kwargs={'tool_calls': [{'id': 'call_v3doO6lnvRtS3MM1B9v2viGT', 'function': {'arguments': '{\"query\":\"today\\'s match score\"}', 'name': 'search'}, 'type': 'function'}], 'refusal': None} response_metadata={'token_usage': {'completion_tokens': 17, 'prompt_tokens': 75, 'total_tokens': 92, 'completion_tokens_details': {'accepted_prediction_tokens': 0, 'audio_tokens': 0, 'reasoning_tokens': 0, 'rejected_prediction_tokens': 0}, 'prompt_tokens_details': {'audio_tokens': 0, 'cached_tokens': 0}}, 'model_name': 'gpt-4o-2024-08-06', 'system_fingerprint': 'fp_22890b9c0a', 'finish_reason': 'tool_calls', 'logprobs': None} id='run-9ed12faa-1174-4f85-b9ef-e39c73836080-0' tool_calls=[{'name': 'search', 'args': {'query': \"today's match score\"}, 'id': 'call_v3doO6lnvRtS3MM1B9v2viGT', 'type': 'tool_call'}] usage_metadata={'input_tokens': 75, 'output_tokens': 17, 'total_tokens': 92, 'input_token_details': {'audio': 0, 'cache_read': 0}, 'output_token_details': {'audio': 0, 'reasoning': 0}}\n",
      "Selected tool: search\n",
      "**********tool detils****\n",
      "{'id': 'call_v3doO6lnvRtS3MM1B9v2viGT', 'function': {'arguments': '{\"query\":\"today\\'s match score\"}', 'name': 'search'}, 'type': 'function'}\n"
     ]
    },
    {
     "data": {
      "text/plain": [
       "{'messages': [\"what is today's match score?\",\n",
       "  AIMessage(content='', additional_kwargs={'tool_calls': [{'id': 'call_v3doO6lnvRtS3MM1B9v2viGT', 'function': {'arguments': '{\"query\":\"today\\'s match score\"}', 'name': 'search'}, 'type': 'function'}], 'refusal': None}, response_metadata={'token_usage': {'completion_tokens': 17, 'prompt_tokens': 75, 'total_tokens': 92, 'completion_tokens_details': {'accepted_prediction_tokens': 0, 'audio_tokens': 0, 'reasoning_tokens': 0, 'rejected_prediction_tokens': 0}, 'prompt_tokens_details': {'audio_tokens': 0, 'cached_tokens': 0}}, 'model_name': 'gpt-4o-2024-08-06', 'system_fingerprint': 'fp_22890b9c0a', 'finish_reason': 'tool_calls', 'logprobs': None}, id='run-9ed12faa-1174-4f85-b9ef-e39c73836080-0', tool_calls=[{'name': 'search', 'args': {'query': \"today's match score\"}, 'id': 'call_v3doO6lnvRtS3MM1B9v2viGT', 'type': 'tool_call'}], usage_metadata={'input_tokens': 75, 'output_tokens': 17, 'total_tokens': 92, 'input_token_details': {'audio': 0, 'cache_read': 0}, 'output_token_details': {'audio': 0, 'reasoning': 0}}),\n",
       "  [{'title': \"Live Cricket Score | Today's Cricket Match Scorecard & Commentary\",\n",
       "    'url': 'https://www.espncricinfo.com/live-cricket-score',\n",
       "    'content': \"Match delayed\\n49th Match, Al Amerat, February 08, 2025, ICC Men's Cricket World Cup League 2\\nUnited States of America\\nNamibia\\nNamibia chose to field.\\nLive ScoreSeries\\n\\n\\n\\n\\nStumps • Starts 11:30 PM\\n19th Match, Hobart, February 08 - 11, 2025, Sheffield Shield\\nTasmania\\n236\\nVictoria\\n(7 ov) 5/0\\nDay 1 - Victoria trail by 231 runs.\\nLive ScoreSeries [...] Live Cricket Score | Today's Cricket Match Scorecard & Commentary\\n\\nLive Scores\\nSeries\\nTeams\\nNews\\nFeatures\\nVideos\\nStats\\n\\nEdition US\\nHome\\nLive Cricket Score\\nLive Cricket Score ==================\\nCricket Schedule\\nMatch Results\\nReset\\nInt’lT20sODIsTestsMenWomenDomesticFCYouthList AOthers\\nLive Cricket Matches\\n\\n\\n\\n\\nLive\\n2nd Test, Galle, February 06 - 10, 2025, Australia tour of Sri Lanka\\nSri Lanka\\n(6.3 ov) 257\\xa0&\\xa024/1\\nAustralia\\n414\\nDay 3 - Session 2: Sri Lanka trail by 133 runs.\\nLive ScoreSeries [...] Stumps • Starts 8:00 AM\\nOnly Test, Bulawayo, February 06 - 10, 2025, Ireland tour of Zimbabwe\\nIreland\\n(21 ov) 260\\xa0&\\xa083/1\\nZimbabwe\\n267\\nDay 2 - Ireland lead by 76 runs.\\nLive ScoreSeries\\n\\n\\n\\n\\nToday, 9:00 AM\\n1st Match (D/N), Lahore, February 08, 2025, Pakistan Tri-Nation Series\\nPakistan\\nNew Zealand\\nMatch starts in 1 hr 27 mins\\nPreviewNews\\n\\n\\n\\n\\nToday, 3:30 PM\\nFinal (D/N), Johannesburg, February 08, 2025, SA20\\nMI Cape Town\\nSunrisers Eastern Cape\\nMatch yet to begin\\nPreviewNews\",\n",
       "    'score': 0.62633044},\n",
       "   {'title': 'IPL 2025 Live Cricket Score | Scorecard - Cricbuzz.com',\n",
       "    'url': 'https://www.cricbuzz.com/cricket-match/live-scores',\n",
       "    'content': 'Western Australia vs South Australia,\\n21st Match\\nToday - Today \\xa0•\\xa0 at Perth, W.A.C.A. Ground\\nWA 120 SAUS 116-7 Day 1: 3rd Session - South Australia trail by 4 runs\\nLive Score Scorecard Full Commentary News\\nTasmania vs Victoria,\\n19th Match\\nToday - Today \\xa0•\\xa0 at Hobart, Bellerive Oval\\nTAS 236 VIC 5-0 Day 1: Stumps - Victoria trail by 231 runs\\nLive Score Scorecard Full Commentary News\\nQueensland vs New South Wales,\\n20th Match\\nToday - Today \\xa0•\\xa0 at Brisbane, The Gabba\\nQL 307-5 NSW Day 1: Stumps [...] United States of America vs Namibia,\\n49th Match\\nToday \\xa0•\\xa0 at Al Amerat, Al Amerat Cricket Ground (Ministry Turf 1)\\nUSA 153-2 (26.5 Ovs) NAM Match reduced to 43 overs due to Wet outfield\\nLive Score Scorecard Full Commentary News\\nRANJI TROPHY ELITE 2024-25 [...] Ireland vs Zimbabwe,\\nOnly Test\\nToday - Today \\xa0•\\xa0 at Bulawayo, Queens Sports Club\\nIRE 260 & 124-2 ZIM 267 Day 3: 1st Session - Ireland lead by 117 runs\\nLive Score Scorecard Full Commentary News\\nAUSTRALIA TOUR OF SRI LANKA, 2025\\n\\nSri Lanka vs Australia,\\n2nd Test\\nToday - Today \\xa0•\\xa0 at Galle, Galle International Stadium\\nSL 257 & 98-4 AUS 414 Day 3: Tea Break - Sri Lanka trail by 59 runs\\nLive Score Scorecard Full Commentary News\\nICC CRICKET WORLD CUP LEAGUE TWO 2023-27',\n",
       "    'score': 0.5798055},\n",
       "   {'title': \"ESPNcricinfo: Today's Cricket Match | Cricket Update | Cricket News\",\n",
       "    'url': 'https://www.espncricinfo.com/',\n",
       "    'content': \"Today's Cricket Match | Cricket Update | Cricket News | ESPNcricinfo\\nMatches (18)\\nSri Lanka vs Australia (1)\\nWCL 2 (1)\\nTri-Nation (1)\\nZimbabwe vs Ireland (1)\\nSheffield Shield (3)\\nRanji Trophy (4)\\nSA20 (1)\\nWI 4-Day (4)\\nILT20 (1)\\nBPL (1)\\nPrevious\\n\\n\\nStumps • Starts 4:30 AM • 2nd TEST • Galle SL (62.1 ov) 257 & 211/8 AUS 414 Day 3 - Sri Lanka lead by 54 runs.\\nScheduleReportSeries [...] Stumps • Starts 11:30 PM • 19th Match • Sheffield Shield • FC • Hobart TAS 236 VIC (7 ov) 5/0 Day 1 - Victoria trail by 231 runs.\\nScheduleTableReportSeries\\n\\n\\nStumps • Starts 12:00 AM • 20th Match • Sheffield Shield • FC • Brisbane QLD (91 ov) 307/5 NSW Day 1 - NSW chose to field.\\nScheduleTableReportSeries\\n\\n\\nStumps • Starts 2:30 AM • 21st Match • Sheffield Shield • FC • W.A.C.A WA 120 SOA (40.2 ov) 124 Day 1 - South Aust lead by 4 runs.\\nScheduleTableReportSeries [...] Live • 49th Match • WCL 2 • ODI • Al Amerat USA (43/43 ov) 293/8 NAM (34.2/43 ov, T:294) 154/8 Namibia need 140 runs in 52 balls.\\nScheduleTableSeries\\n\\n\\nInnings break • 1st Match • Tri-Nation • ODI • Lahore NZ (50 ov) 330/6 PAK New Zealand chose to bat.\\nScheduleTableReportSeries\\n\\n\\nLive • Only TEST • Bulawayo IRE (84.1 ov) 260 & 266/7 ZIM 267 Day 3 - Session 3: Ireland lead by 259 runs.\\nScheduleReportSeries\",\n",
       "    'score': 0.5634506},\n",
       "   {'title': 'Live Cricket Score: Check Today IPL Live Score - Hindustan Times',\n",
       "    'url': 'https://www.hindustantimes.com/cricket/live-score',\n",
       "    'content': 'In the evening match (7:30 PM IST), it’s a capital showdown as Delhi Capitals (DC) face off against Mumbai Indians (MI) at the Arun Jaitley Stadium. DC remain unbeaten this season and will bank on KL Rahul and Tristan Stubbs to maintain their winning streak. Meanwhile, MI—led by Hardik Pandya—will need to fire on all cylinders to pull off an upset and reignite their campaign. [...] In IPL match today, the afternoon clash (3:30 PM IST) kicks off in Jaipur, where Rajasthan Royals (RR) take on Royal Challengers Bengaluru (RCB). With Sanju Samson and Shimron Hetmyer in the spotlight for RR and Virat Kohli and Rajat Patidar firing for RCB, this promises to be a fiercely contested battle. Can RR bounce back on home turf, or will RCB continue their resurgence?',\n",
       "    'score': 0.47110215},\n",
       "   {'title': 'Cricket Live Score ball by ball commentary - NDTV Sports',\n",
       "    'url': 'https://sports.ndtv.com/cricket/live-scores',\n",
       "    'content': 'Recent Hong Kong, China vs Uganda Match 26,ICC CWC Challenge League B, 2024-26 Hong Kong, China vs Uganda 2025-02-13T06:30+05:30 2025-02-13T06:30+05:30 Kowloon Cricket Club, KowloonMatch 26, ICC CWC Challenge League B, 2024-26 Thu, 13 Feb, 06:30 AM  Hong Kong, China 200 (46.3)  Uganda 276 (49.5) Uganda beat Hong Kong, China by 76 runs\\nFull Scorecard\\nEnglish हिंदी',\n",
       "    'score': 0.43323857}]]}"
      ]
     },
     "execution_count": 64,
     "metadata": {},
     "output_type": "execute_result"
    }
   ],
   "source": [
    "app.invoke({\"messages\": [\"what is today's match score?\"]})"
   ]
  },
  {
   "cell_type": "code",
   "execution_count": null,
   "id": "396645b2",
   "metadata": {},
   "outputs": [],
   "source": []
  }
 ],
 "metadata": {
  "kernelspec": {
   "display_name": "Python 3",
   "language": "python",
   "name": "python3"
  },
  "language_info": {
   "codemirror_mode": {
    "name": "ipython",
    "version": 3
   },
   "file_extension": ".py",
   "mimetype": "text/x-python",
   "name": "python",
   "nbconvert_exporter": "python",
   "pygments_lexer": "ipython3",
   "version": "3.12.11"
  }
 },
 "nbformat": 4,
 "nbformat_minor": 5
}
